{
 "cells": [
  {
   "cell_type": "markdown",
   "metadata": {},
   "source": [
    "## Relation $\\mathcal{M}_p = f(M_p)$"
   ]
  },
  {
   "cell_type": "code",
   "execution_count": 1,
   "metadata": {},
   "outputs": [],
   "source": [
    "%matplotlib qt\n",
    "\n",
    "import pandas as pd\n",
    "import numpy as np\n",
    "from star import Star\n",
    "from planet import Planet\n",
    "from dynamo_region import DynamoRegion\n",
    "from magnetic_moment import MagneticMoment,Reiners_Christensen\n",
    "from stellar_wind import StellarWind\n",
    "from target import Target\n",
    "import matplotlib.pyplot as plt"
   ]
  },
  {
   "cell_type": "code",
   "execution_count": 2,
   "metadata": {},
   "outputs": [],
   "source": [
    "MJ = 1.8986e27 #kg\n",
    "\n",
    "names=[str(i) for i in range(10000)]\n",
    "masses=np.logspace(np.log10(0.0006), np.log10(20), 10000) ; radius=[np.nan] * 10000\n",
    "orbital_period=[np.nan] * 10000 ; mass_sini = [np.nan] * 10000\n",
    "smaxis = [5.2] * 10000  ; ecc = [0.0] * 10000\n",
    "stardist = [145.0] * 10000 ; star_age = [4.6] * 10000\n",
    "star_mass = [1.0] * 10000 ; star_radius = [1.0] * 10000\n",
    "detection_type = ['rien'] * 10000"
   ]
  },
  {
   "cell_type": "code",
   "execution_count": 20,
   "metadata": {},
   "outputs": [
    {
     "name": "stdout",
     "output_type": "stream",
     "text": [
      "Rmean :  1.0234886174297004\n"
     ]
    }
   ],
   "source": [
    "R=Planet._calculate_radius(models=['radius_original'],mass= 1.0)"
   ]
  },
  {
   "cell_type": "code",
   "execution_count": 3,
   "metadata": {},
   "outputs": [],
   "source": [
    "data_test=pd.DataFrame({ 'name' : names, 'mass' : masses, 'radius' : radius, 'orbital_period' : orbital_period,\n",
    "    'semi_major_axis' : smaxis, 'eccentricity' : ecc, 'star_distance' : stardist, 'star_mass' : star_mass,\n",
    "    'star_radius' : star_radius, 'mass_sini' : mass_sini, 'star_age' : star_age, 'detection_type' : detection_type})\n",
    "\n",
    "data_test.to_csv(r'/Users/emauduit/Documents/These/Articles/Proceeding PRE/M_VS_Mmag.csv', sep=\",\")"
   ]
  },
  {
   "cell_type": "code",
   "execution_count": 4,
   "metadata": {},
   "outputs": [],
   "source": [
    "data2_RC=pd.read_csv(r'/Users/emauduit/Documents/These/Sélection des cibles/Programmes/M_VS_Mmag_result_RC.csv', delimiter=';', index_col=0)\n",
    "data2_MSB=pd.read_csv(r'/Users/emauduit/Documents/These/Sélection des cibles/Programmes/MvsMmag_MSB_result.csv', delimiter=';', index_col=0)"
   ]
  },
  {
   "cell_type": "code",
   "execution_count": 13,
   "metadata": {},
   "outputs": [
    {
     "data": {
      "text/plain": [
       "Index(['planet_mass', 'planet_radius', 'star_planet_distance',\n",
       "       'planet_rotation_rate', 'planet_orbital_period', 'star_mass',\n",
       "       'star_radius', 'star_age', 'earth_distance', 'star_magfield',\n",
       "       'star_rotperiod', 'star_luminosity', 'dynamo_density', 'dynamo_radius',\n",
       "       'magnetic_moment', 'standoff_distance', 'sw_density', 'sw_velocity',\n",
       "       'coronal_temperature', 'sw_magfield', 'magnetic_field', 'freq_max',\n",
       "       'pow_emission_kinetic', 'pow_emission_magnetic', 'flux kinetic au',\n",
       "       'flux magnetic au', 'pow_received_kinetic', 'pow_received_magnetic',\n",
       "       'star_magnetic_field', 'freq_max_star'],\n",
       "      dtype='object')"
      ]
     },
     "execution_count": 13,
     "metadata": {},
     "output_type": "execute_result"
    }
   ],
   "source": [
    "data2_RC.keys()"
   ]
  },
  {
   "cell_type": "code",
   "execution_count": 14,
   "metadata": {},
   "outputs": [],
   "source": [
    "radius_RC=data2_RC['planet_radius'] ; radius_MSB = data2_MSB['planet_radius']"
   ]
  },
  {
   "cell_type": "code",
   "execution_count": 7,
   "metadata": {},
   "outputs": [],
   "source": [
    "mass_to_plot=data2_MSB['planet_mass']\n",
    "MagMom_MSB=data2_MSB['magnetic_moment']\n",
    "MagMom_RC=data2_RC['magnetic_moment']"
   ]
  },
  {
   "cell_type": "code",
   "execution_count": 21,
   "metadata": {},
   "outputs": [],
   "source": [
    "plt.plot(figsize=(25,10))\n",
    "plt.subplot(121)\n",
    "plt.plot(mass_to_plot,MagMom_MSB, label='MSB')\n",
    "#plt.plot(mass_to_plot,MagMom_RC, label='RC')\n",
    "plt.xlabel('Mass [MJ]')\n",
    "plt.ylabel('Magnetic Moment [mJ]')\n",
    "plt.grid()\n",
    "plt.legend()\n",
    "plt.show()"
   ]
  },
  {
   "cell_type": "code",
   "execution_count": 10,
   "metadata": {},
   "outputs": [],
   "source": [
    "plt.figure(figsize=(25,10))\n",
    "plt.subplot(121)\n",
    "plt.plot(mass_to_plot, MagMom_MSB, linestyle='dotted', marker='+', label='Models = M-S-B')\n",
    "plt.plot(mass_to_plot, MagMom_RC, linestyle='dotted', marker='+', label='Model = RC')\n",
    "plt.plot([1,1],[-0.1,10],linestyle='dotted',color='black')\n",
    "plt.plot([-0.1,20],[1,1],linestyle='dotted',color='black')\n",
    "plt.xlabel('Mass in [$M_J$]', fontsize=20)\n",
    "plt.ylabel('Magnetic moment in [$\\mathcal{M}_J$]', fontsize=20)\n",
    "plt.text(19.25,0.1,'a)',fontsize=24, color='black',fontweight='bold')\n",
    "plt.xlim(0,20)\n",
    "plt.ylim(0,10)\n",
    "plt.xticks(fontsize=18)\n",
    "plt.yticks(fontsize=18)\n",
    "plt.legend(fontsize=16)\n",
    "plt.grid()\n",
    "plt.subplot(122)\n",
    "plt.plot(mass_to_plot, MagMom_MSB, linestyle='dotted', marker='+', label='Models = M-S-B')\n",
    "plt.plot(mass_to_plot, MagMom_RC, linestyle='dotted', marker='+', label='Model = RC')\n",
    "plt.plot([1,1],[-0.1,10],linestyle='dotted',color='black')\n",
    "plt.plot([-0.1,20],[1,1],linestyle='dotted',color='black')\n",
    "plt.text(1.92,-0.08,'b)',fontsize=24, color='black',fontweight='bold')\n",
    "plt.xlabel('Mass in [$M_J$]', fontsize=20)\n",
    "plt.xticks(fontsize=18)\n",
    "plt.yticks(fontsize=18)\n",
    "plt.ylabel('Magnetic moment in [$\\mathcal{M}_J$]', fontsize=20)\n",
    "plt.xlim(-0.1,2)\n",
    "plt.ylim(-0.1,2)\n",
    "plt.legend(fontsize=16)\n",
    "plt.grid()\n",
    "plt.tight_layout()\n",
    "plt.savefig(r'/Users/emauduit/Documents/These/Sélection des cibles/Proceeding PRE/M_VS_Mmag.pdf',dpi=150)\n",
    "plt.show()"
   ]
  },
  {
   "cell_type": "code",
   "execution_count": 27,
   "metadata": {},
   "outputs": [],
   "source": [
    "plt.figure(figsize=(25,10))\n",
    "plt.subplot(121)\n",
    "plt.plot(mass_to_plot, MagMom_MSB, linestyle='dotted', marker='+', label='Models = M-S-B')\n",
    "plt.plot(mass_to_plot, MagMom_RC, linestyle='dotted', marker='+', label='Model = RC')\n",
    "plt.plot([1,1],[-0.1,10],linestyle='dotted',color='black')\n",
    "plt.plot([-0.1,20],[1,1],linestyle='dotted',color='black')\n",
    "plt.xlabel('Mass in [$M_J$]', fontsize=20)\n",
    "plt.ylabel('Magnetic moment in [$\\mathcal{M}_J$]', fontsize=20)\n",
    "plt.yscale('log')\n",
    "plt.xticks(fontsize=18)\n",
    "plt.yticks(fontsize=18)\n",
    "plt.legend(fontsize=16)\n",
    "plt.grid()\n",
    "plt.subplot(122)\n",
    "plt.plot(mass_to_plot, MagMom_MSB, linestyle='dotted', marker='+', label='Models = M-S-B')\n",
    "plt.plot(mass_to_plot, MagMom_RC, linestyle='dotted', marker='+', label='Model = RC')\n",
    "plt.plot([1,1],[-0.1,10],linestyle='dotted',color='black')\n",
    "plt.plot([-0.1,20],[1,1],linestyle='dotted',color='black')\n",
    "plt.xlabel('Mass in [$M_J$]', fontsize=20)\n",
    "plt.xticks(fontsize=18)\n",
    "plt.yticks(fontsize=18)\n",
    "plt.xlim(0.1,10)\n",
    "plt.ylim(0.001,5)\n",
    "plt.xscale('log')\n",
    "plt.yscale('log')\n",
    "plt.ylabel('Magnetic moment in [$\\mathcal{M}_J$]', fontsize=20)\n",
    "plt.legend(fontsize=16)\n",
    "plt.grid()\n",
    "plt.tight_layout()\n",
    "plt.savefig(r'/Users/emauduit/Documents/These/Sélection des cibles/Proceeding PRE/M_VS_Mmag_log.pdf',dpi=150)\n",
    "plt.show()\n"
   ]
  },
  {
   "cell_type": "code",
   "execution_count": 22,
   "metadata": {},
   "outputs": [],
   "source": [
    "data_JMG=np.loadtxt('/Users/emauduit/Downloads/magmoment-mass-jupiter.txt')\n",
    "mass_JMG=data_JMG[:,0]\n",
    "Mmag_JMG=data_JMG[:,1]"
   ]
  },
  {
   "cell_type": "code",
   "execution_count": 23,
   "metadata": {},
   "outputs": [],
   "source": [
    "plt.figure()\n",
    "plt.plot(mass_to_plot, MagMom_MSB, linestyle='dotted', marker='+', label='Models = M-S-B')\n",
    "plt.plot(mass_JMG, Mmag_JMG, linestyle='dotted', marker='+', label='Model = JMG')\n",
    "plt.plot([1,1],[-0.1,10],linestyle='dotted',color='black')\n",
    "plt.plot([-0.1,20],[1,1],linestyle='dotted',color='black')\n",
    "plt.xlabel('Mass in [$M_J$]', fontsize=20)\n",
    "plt.xticks(fontsize=18)\n",
    "plt.yticks(fontsize=18)\n",
    "plt.xlim(0.0001,100)\n",
    "plt.ylim(0.00001,10)\n",
    "plt.xscale('log')\n",
    "plt.yscale('log')\n",
    "plt.ylabel('Magnetic moment in [$\\mathcal{M}_J$]', fontsize=20)\n",
    "plt.legend(fontsize=16)\n",
    "plt.grid()\n",
    "plt.show()"
   ]
  }
 ],
 "metadata": {
  "interpreter": {
   "hash": "570da124061f1229a43935d4392bd1ada54c3a2c5a88c928d628cf03c12cbe2f"
  },
  "kernelspec": {
   "display_name": "Python 3.8.8 ('python_these')",
   "language": "python",
   "name": "python3"
  },
  "language_info": {
   "codemirror_mode": {
    "name": "ipython",
    "version": 3
   },
   "file_extension": ".py",
   "mimetype": "text/x-python",
   "name": "python",
   "nbconvert_exporter": "python",
   "pygments_lexer": "ipython3",
   "version": "3.8.8"
  },
  "orig_nbformat": 4
 },
 "nbformat": 4,
 "nbformat_minor": 2
}
