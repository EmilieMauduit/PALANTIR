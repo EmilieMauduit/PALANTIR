{
 "cells": [
  {
   "cell_type": "markdown",
   "metadata": {},
   "source": [
    "TESTS ON THE SOLAR WIND PART OF THE CODE."
   ]
  },
  {
   "cell_type": "code",
   "execution_count": 1,
   "metadata": {},
   "outputs": [],
   "source": [
    "import os\n",
    "import scipy.io as sio\n",
    "from scipy.io import readsav\n",
    "from scipy.optimize import curve_fit\n",
    "from scipy import optimize\n",
    "import numpy as np\n",
    "from math import *\n",
    "import pandas as pd\n",
    "import matplotlib.pyplot as plt\n",
    "from matplotlib.ticker import MaxNLocator\n",
    "%matplotlib qt \n",
    "\n",
    "from star import Star \n",
    "from planet import Planet \n",
    "from dynamo_region import DynamoRegion\n",
    "from magnetic_moment import MagneticMoment\n",
    "from stellar_wind import StellarWind\n",
    "from target_selection import Config"
   ]
  },
  {
   "cell_type": "code",
   "execution_count": 2,
   "metadata": {},
   "outputs": [],
   "source": [
    "config_param = Config()"
   ]
  },
  {
   "cell_type": "markdown",
   "metadata": {},
   "source": [
    "Constants for Jupiter and the Sun"
   ]
  },
  {
   "cell_type": "code",
   "execution_count": 3,
   "metadata": {},
   "outputs": [],
   "source": [
    "MS=1.989e30 #kg\n",
    "RS=6.96342e8 #m\n",
    "AS=4.6e9 #yo\n",
    "BS= 1.435e-4 #T\n",
    "LS=3.826e26 #W\n",
    "\n",
    "MJ=1.8986e27 #kg\n",
    "#RJ=69911e3   #m\n",
    "RJ=71492e3\n",
    "wJ=1.77e-4   #s-1\n",
    "LJ_norm=1.31e-9\n",
    "dJ=5.2*149597870700\n",
    "\n",
    "sun = Star(\n",
    "    name=\"Sun\",\n",
    "    mass=1.0,\n",
    "    radius={\"models\": config_param.star_radius_models, \"radius\": 1.0},\n",
    "    age=AS,\n",
    "    obs_dist=1.0,\n",
    "    sp_type ='V',\n",
    "    )\n",
    "jup = Planet(\n",
    "    name=\"Jupiter\",\n",
    "    mass=1.0,\n",
    "    radius={\"models\": config_param.planet_radius_models, \"radius\": 1.0},\n",
    "    distance=5.2,\n",
    "    worb={\"star_mass\": MS, \"worb\": 1.0},\n",
    "    luminosity={\n",
    "        \"models\": config_param.planet_luminosity_models,\n",
    "        \"luminosity\": np.nan,\n",
    "        \"star_age\": 4.6,\n",
    "    },\n",
    "    wrot=1.0,\n",
    ")"
   ]
  },
  {
   "cell_type": "code",
   "execution_count": 4,
   "metadata": {},
   "outputs": [],
   "source": [
    "jup.tidal_locking(age=4.6e9, star_mass=1.0)\n",
    "sun.compute_effective_temperature(np.nan)"
   ]
  },
  {
   "cell_type": "code",
   "execution_count": 5,
   "metadata": {},
   "outputs": [
    {
     "name": "stdout",
     "output_type": "stream",
     "text": [
      "planet dist > 1UA\n",
      "522686.64156545105\n"
     ]
    }
   ],
   "source": [
    "dyn_region_jup = DynamoRegion.from_planet(planet=jup, rhocrit=config_param.rho_crit)\n",
    "dyn_region_jup.magnetic_field(planet=jup,rc_dyn=config_param.rc_dyn, jup=True)\n",
    "mag_moment_jup = MagneticMoment(models=config_param.magnetic_moment_models, Mm=1.56e27, Rs=1.0)\n",
    "vjup, vejup, nejup, Tjup = StellarWind._Parker(star=sun, planet=jup, T=0.81e6)\n",
    "print(vjup)\n",
    "sun.compute_magnetic_field(value= {'model': config_param.star_magfield_models, 'mag_field' : 1.435})"
   ]
  },
  {
   "cell_type": "code",
   "execution_count": 24,
   "metadata": {},
   "outputs": [
    {
     "data": {
      "text/plain": [
       "0.00014350000000000002"
      ]
     },
     "execution_count": 24,
     "metadata": {},
     "output_type": "execute_result"
    }
   ],
   "source": [
    "sun.magfield"
   ]
  },
  {
   "cell_type": "code",
   "execution_count": 6,
   "metadata": {},
   "outputs": [
    {
     "ename": "TypeError",
     "evalue": "_calc_Bimf() missing 3 required positional arguments: 'R_star', 'vsw', and 'rotperiod'",
     "output_type": "error",
     "traceback": [
      "\u001b[0;31m---------------------------------------------------------------------------\u001b[0m",
      "\u001b[0;31mTypeError\u001b[0m                                 Traceback (most recent call last)",
      "Input \u001b[0;32mIn [6]\u001b[0m, in \u001b[0;36m<module>\u001b[0;34m\u001b[0m\n\u001b[1;32m      4\u001b[0m vorb \u001b[38;5;241m=\u001b[39m sqrt(\n\u001b[1;32m      5\u001b[0m     G \u001b[38;5;241m*\u001b[39m MS \u001b[38;5;241m/\u001b[39m (\u001b[38;5;241m5.2\u001b[39m \u001b[38;5;241m*\u001b[39m dua)\n\u001b[1;32m      6\u001b[0m )\n\u001b[1;32m      7\u001b[0m beta \u001b[38;5;241m=\u001b[39m atan(vorb \u001b[38;5;241m/\u001b[39m vjup)\n\u001b[0;32m----> 9\u001b[0m Bimf_r, Bimf_p \u001b[38;5;241m=\u001b[39m \u001b[43mStellarWind\u001b[49m\u001b[38;5;241;43m.\u001b[39;49m\u001b[43m_calc_Bimf\u001b[49m\u001b[43m(\u001b[49m\u001b[43mstardist\u001b[49m\u001b[38;5;241;43m=\u001b[39;49m\u001b[38;5;241;43m5.2\u001b[39;49m\u001b[43m,\u001b[49m\u001b[43mmagfield_surf\u001b[49m\u001b[43m \u001b[49m\u001b[38;5;241;43m=\u001b[39;49m\u001b[43m \u001b[49m\u001b[43mBS\u001b[49m\u001b[43m)\u001b[49m\n\u001b[1;32m     10\u001b[0m Bimf_r0, Bimf_p0 \u001b[38;5;241m=\u001b[39m StellarWind\u001b[38;5;241m.\u001b[39m_calc_Bimf(stardist\u001b[38;5;241m=\u001b[39m\u001b[38;5;241m5.2\u001b[39m,magfield_surf \u001b[38;5;241m=\u001b[39m \u001b[38;5;28;01mNone\u001b[39;00m)\n\u001b[1;32m     11\u001b[0m \u001b[38;5;28mprint\u001b[39m(Bimf_r,Bimf_p)\n",
      "\u001b[0;31mTypeError\u001b[0m: _calc_Bimf() missing 3 required positional arguments: 'R_star', 'vsw', and 'rotperiod'"
     ]
    }
   ],
   "source": [
    "G = 6.6725985e-11  # N.m^2/kg^2\n",
    "dua = 1.49597870700e11  # m\n",
    "Psun = 25.5  # days\n",
    "vorb = sqrt(\n",
    "    G * MS / (5.2 * dua)\n",
    ")\n",
    "beta = atan(vorb / vjup)\n",
    "\n",
    "Bimf_r, Bimf_p = StellarWind._calc_Bimf(stardist=5.2,magfield_surf = BS)\n",
    "Bimf_r0, Bimf_p0 = StellarWind._calc_Bimf(stardist=5.2,magfield_surf = None)\n",
    "print(Bimf_r,Bimf_p)\n",
    "print(Bimf_r0,Bimf_p0)\n",
    "\n",
    "alpha = atan(Bimf_p / Bimf_r)\n",
    "alpha0 = atan(Bimf_p0 / Bimf_r0)\n",
    "\n",
    "Bsw = sqrt(Bimf_r**2 + Bimf_p**2) * abs(sin(alpha - beta))\n",
    "Bsw0 = sqrt(Bimf_r0**2 + Bimf_p0**2) * abs(sin(alpha0 - beta))\n",
    "print(Bsw,Bsw0)"
   ]
  },
  {
   "cell_type": "markdown",
   "metadata": {},
   "source": [
    "In order to estimate the power of the emissions, we need to estimate the velocity and the density of stellar wind at the planet, then derive the intensity of the magnetic field carried by the SW."
   ]
  },
  {
   "cell_type": "markdown",
   "metadata": {},
   "source": [
    "We test the Parker model for the solar wind velocity for several type of stars with the following parameters : \n",
    "- G-type star : M=Msun, R=Rsun ;\n",
    "- K/M-type star : M=0.5*Msun, R=0.46*Rsun\n",
    "\n",
    "We computed the values of the velocity and the density for several distances and ages of the stars always adjusting the corona temperature such as that 1UA, v=425km/s.\n",
    "We find Tcorona=0.81e6 K for G-type stars and Tcorona= for K/M-type stars."
   ]
  },
  {
   "cell_type": "markdown",
   "metadata": {},
   "source": [
    "- G-type star, \n",
    "- - t=4.6 Gyr, Tcorona = 0.81e6 K\n",
    "- - t=1 Gyr, Tcorona= 2.09e6 K\n",
    "- - t=0.7 Gyr, Tcorona= 2.61e6 K"
   ]
  },
  {
   "cell_type": "code",
   "execution_count": null,
   "metadata": {},
   "outputs": [],
   "source": [
    "(1e6*4.6e9)/(4.6e9+1e9)"
   ]
  },
  {
   "cell_type": "code",
   "execution_count": 7,
   "metadata": {},
   "outputs": [
    {
     "name": "stdout",
     "output_type": "stream",
     "text": [
      "164.19481567631007 211.43139798013246 9.444952726739055e-14 0.8108571428571428\n"
     ]
    },
    {
     "name": "stderr",
     "output_type": "stream",
     "text": [
      "WARNING: BlankResponseWarning: Warning: The script line number 3 raised an error (recorded in the `errors` attribute of the result table): 'star test': No known catalog could be found [astroquery.simbad.core]\n"
     ]
    }
   ],
   "source": [
    "vo=3397e3 #m/s \n",
    "no=1.6e10 #m-3\n",
    "dua=1.49597870700e11 #m\n",
    "G=6.6725985e-11 #N.m^2/kg^2\n",
    "\n",
    "\n",
    "test_planet = Planet(\n",
    "    name='planet_test',\n",
    "    mass=1.0,\n",
    "    radius={\"models\": config_param.planet_radius_models, \"radius\": 1.0},\n",
    "    distance=0.05,\n",
    "    worb={\"star_mass\": 1.0, \"worb\": 1.0},\n",
    "    luminosity={\n",
    "        \"models\": config_param.planet_luminosity_models,\n",
    "        \"luminosity\": np.nan,\n",
    "        \"star_age\": 4.6,\n",
    "    },\n",
    "    detection_method='VR',\n",
    "    wrot=1.0,\n",
    ")\n",
    "star_test = Star(\n",
    "    name='star_test',\n",
    "    mass=1.0,\n",
    "    radius={\"models\": config_param.star_radius_models, \"radius\": 1.0},\n",
    "    age=4.6,\n",
    "    obs_dist=1.0,\n",
    "    sp_type = str('V'),\n",
    "    )\n",
    "\n",
    "\n",
    "v,veff,n,Tcor=StellarWind._Parker(star_test,test_planet)\n",
    "vorb=sqrt(G*star_test.mass/(0.05*dua))\n",
    "print(v/1e3, veff/1e3, vorb/1e3, Tcor/1e6)"
   ]
  },
  {
   "cell_type": "markdown",
   "metadata": {},
   "source": [
    "- - v(d), n(d) à t=4.6 Gyr"
   ]
  },
  {
   "cell_type": "code",
   "execution_count": 8,
   "metadata": {},
   "outputs": [
    {
     "name": "stdout",
     "output_type": "stream",
     "text": [
      "planet dist > 1UA\n",
      "planet dist > 1UA\n",
      "planet dist > 1UA\n",
      "planet dist > 1UA\n"
     ]
    }
   ],
   "source": [
    "list_dist=np.linspace(0.01,1,100)\n",
    "list_age = np.array([0.7,1,3,6])\n",
    "vd=np.zeros(shape=(4,100)) ; nd=np.zeros(shape=(4,100)) \n",
    "veffd=np.zeros(shape=(4,100)) ; vorb=np.zeros(shape=(4,100)) ; Tcor=np.zeros(shape=(4,100))\n",
    "\n",
    "for k in range(4):\n",
    "    for i in range(0,len(list_dist)):\n",
    "        test_planet = Planet(\n",
    "            name='planet_test',\n",
    "            mass=1.0,\n",
    "            radius={\"models\": config_param.planet_radius_models, \"radius\": 1.0},\n",
    "            distance=list_dist[i],\n",
    "            worb={\"star_mass\": 1.0, \"worb\": 1.0},\n",
    "            luminosity={\n",
    "                \"models\": config_param.planet_luminosity_models,\n",
    "                \"luminosity\": np.nan,\n",
    "                \"star_age\": list_age[k],\n",
    "            },\n",
    "            detection_method='VR',\n",
    "            wrot=1.0,\n",
    "        )\n",
    "\n",
    "        star_test = Star(\n",
    "            name='HD 189733',\n",
    "            mass=1.0,\n",
    "            radius={\"models\": config_param.star_radius_models, \"radius\": 1.0},\n",
    "            age=list_age[k],\n",
    "            obs_dist=1.0,\n",
    "            sp_type = str('V'),\n",
    "            )\n",
    "        \n",
    "        vd[k,i],veffd[k,i],nd[k,i],Tcor[k,i]=StellarWind._Parker(star_test,test_planet)\n",
    "        vorb[k,i]=sqrt(G*star_test.unnormalize_mass()/(list_dist[i]*dua))\n",
    "\n",
    "\n"
   ]
  },
  {
   "cell_type": "code",
   "execution_count": 10,
   "metadata": {},
   "outputs": [],
   "source": [
    "plt.figure(figsize=(10,7))\n",
    "#plt.plot(list_age,vd/1e3, label='v')\n",
    "for k in range(4):\n",
    "    plt.plot(list_dist,veffd[k,:]/1e3,label='$t_*$ = {} Gyrs'.format(list_age[k]))\n",
    "#plt.plot(list_age, vorb/1e3, label='vorb')\n",
    "#plt.title(\"v(d)\")\n",
    "plt.xlabel('$d_{*-p}$ [UA]', fontsize=18)\n",
    "plt.ylabel(\"$v_{eff}$ [km/s]\", fontsize =18)\n",
    "plt.xticks(fontsize=14)\n",
    "plt.yticks(fontsize=14)\n",
    "plt.legend()\n",
    "plt.grid()\n",
    "plt.savefig('/Users/emauduit/Documents/These/phd-manuscript/ch3/fig/plot_veff_dist.png', transparent=True, bbox_inches='tight' ,dpi=150 )\n",
    "plt.show()"
   ]
  },
  {
   "cell_type": "code",
   "execution_count": 11,
   "metadata": {},
   "outputs": [],
   "source": [
    "plt.figure(figsize=(10,7))\n",
    "#plt.plot(list_age,vd/1e3, label='v')\n",
    "for k in range(4):\n",
    "    plt.plot(list_dist,nd[k,:]/1e3,label='$t_*$ = {} Gyrs'.format(list_age[k]))\n",
    "#plt.plot(list_age, vorb/1e3, label='vorb')\n",
    "#plt.title(\"v(d)\")\n",
    "plt.xlabel('$d_{*-p}$ [UA]', fontsize=18)\n",
    "plt.ylabel(\"$n_e$ [m$^{-3}$]\", fontsize =18)\n",
    "plt.xscale('log')\n",
    "plt.yscale('log')\n",
    "plt.xticks(fontsize=14)\n",
    "plt.yticks(fontsize=14)\n",
    "plt.legend()\n",
    "plt.grid()\n",
    "plt.savefig('/Users/emauduit/Documents/These/phd-manuscript/ch3/fig/plot_ne_dist.png', transparent=True, bbox_inches='tight',dpi=150 )\n",
    "plt.show()\n"
   ]
  },
  {
   "cell_type": "markdown",
   "metadata": {},
   "source": [
    "- - v(t) and n(t) at 1 UA"
   ]
  },
  {
   "cell_type": "code",
   "execution_count": null,
   "metadata": {},
   "outputs": [],
   "source": [
    "list_time=np.linspace(0.7, 6, 100)*1e9\n",
    "vt=np.zeros(100) ; nt=np.zeros(100)\n",
    "tau=2.56e7 #yr\n",
    "\n",
    "for i in range(0,100):\n",
    "    vt[i]=vo/pow((1+(list_time[i]/tau)),0.4)\n",
    "    nt[i]=no/pow((1+(list_time[i]/tau)),1.5)\n",
    "\n",
    "plt.figure()\n",
    "plt.plot(list_time/1e9,vt/1e3)\n",
    "plt.xlabel('t [Gyr]')\n",
    "plt.ylabel( 'v[km/s]')\n",
    "plt.title('v(t)')\n",
    "plt.grid()\n"
   ]
  },
  {
   "cell_type": "code",
   "execution_count": null,
   "metadata": {},
   "outputs": [],
   "source": [
    "plt.figure()\n",
    "plt.plot(list_time/1e9,nt)\n",
    "plt.xlabel('t [Gyr]')\n",
    "plt.ylabel( ' n[/m3')\n",
    "plt.title('n(t)')\n",
    "plt.yscale('log')\n",
    "plt.grid()"
   ]
  },
  {
   "cell_type": "code",
   "execution_count": null,
   "metadata": {},
   "outputs": [],
   "source": [
    "print(vt[6],vt[0],vt[73])\n",
    "print(nt[6],nt[0],nt[73])"
   ]
  },
  {
   "cell_type": "markdown",
   "metadata": {},
   "source": [
    "- K/M-type stars : \n",
    "- - t=4.6 Gyr, Tcorona=0.695e6 K\n",
    "- - t=1 Gyr, Tcorona=1.84e6 K\n",
    "- - t=0.7 Gyr, Tcorona=2.31e6 K"
   ]
  },
  {
   "cell_type": "code",
   "execution_count": null,
   "metadata": {},
   "outputs": [],
   "source": [
    "vo=3397e3 #m/s \n",
    "no=1.6e10 #m-3\n",
    "dua=1.49597870700e11 #m\n",
    "\n",
    "test_planet=Planet('planet_test',1.0,1.0,1.0,1.0,1.0,0.05*dua)\n",
    "star_test=Star('star_test', 0.5*1.989e30,0.46,1e9,1.0,1.0)\n",
    "v,veff,n,Tcor=parker(test_planet,star_test)\n",
    "\n",
    "print(v,veff,n)\n"
   ]
  },
  {
   "cell_type": "markdown",
   "metadata": {},
   "source": [
    "- Test of the function computing the appropriate Tcorona for any case. We adjust the temperature by steps of 0.005e6 K until the velocity is in the range of vsun +/- 2 km/s. Then we adjust the temperature more precisely by steps of 0.001e6 K until the velocity is in the range Vsun +/- 0.5 km/s. We note that it takes about 50s to compute 10000 values. "
   ]
  },
  {
   "cell_type": "code",
   "execution_count": null,
   "metadata": {},
   "outputs": [],
   "source": [
    "list_time=np.linspace(0.7, 6, 100)*1e9\n",
    "list_mass=np.linspace(0.1,2,100)*1.989e30\n",
    "T=np.zeros(shape=[100,100])\n",
    "\n",
    "for i in range(0,100):\n",
    "    for j in range(0,100):\n",
    "        T[j][i]=calc_temperature(list_mass[j],list_time[i])"
   ]
  },
  {
   "cell_type": "code",
   "execution_count": null,
   "metadata": {},
   "outputs": [],
   "source": [
    "plt.figure()\n",
    "ax1=plt.gca()\n",
    "im1=ax1.imshow(T,origin='lower',aspect='auto', extent=[list_time[0]/1e9,list_time[99]/1e9,list_mass[0]/1.989e30,list_mass[99]/1.989e30],cmap='viridis')\n",
    "plt.xlabel('Age [Gyr]')\n",
    "plt.ylabel('Mass [M$_{sol}$]')\n",
    "plt.title('T$_{corona}$ as a function of stellar age and mass')\n",
    "cb1=plt.colorbar(im1, ax=ax1)\n",
    "plt.tight_layout()\n",
    "plt.show()"
   ]
  },
  {
   "cell_type": "markdown",
   "metadata": {},
   "source": [
    "- Test of the Parker model for the velocity."
   ]
  },
  {
   "cell_type": "markdown",
   "metadata": {},
   "source": [
    "- - As a function of stellar age and mass, R=1Rsol and d=1UA."
   ]
  },
  {
   "cell_type": "code",
   "execution_count": null,
   "metadata": {},
   "outputs": [],
   "source": [
    "list_time=np.linspace(0.7, 6, 100)*1e9\n",
    "list_mass=np.linspace(0.1,2,100)*1.989e30\n",
    "v1=np.zeros(shape=[100,100])\n",
    "veff1=np.zeros(shape=[100,100])\n",
    "n1=np.zeros(shape=[100,100])\n",
    "T1=np.zeros(shape=[100,100])\n",
    "\n",
    "for i in range(0,100):\n",
    "    for j in range(0,100):\n",
    "        planet1=Planet('pla_test',1.0,1.0,1.0,1.0,1.0,dua)\n",
    "        star1=Star('star_test',list_mass[j],1.0,list_time[i],1.0,1.0)\n",
    "        v1[j][i],veff1[j][i],n1[j][i],T1[j][i]=parker(planet1,star1)"
   ]
  },
  {
   "cell_type": "code",
   "execution_count": null,
   "metadata": {},
   "outputs": [],
   "source": [
    "plt.figure()\n",
    "ax1=plt.gca()\n",
    "im1=ax1.imshow(v1/1e3,origin='lower',aspect='auto', extent=[list_time[0]/1e9,list_time[99]/1e9,list_mass[0]/1.989e30,list_mass[99]/1.989e30],cmap='viridis')\n",
    "plt.xlabel('Age [Gyr]')\n",
    "plt.ylabel('Mass [M$_{sol}$]')\n",
    "plt.title('V as a function of stellar age and mass')\n",
    "cb1=plt.colorbar(im1, ax=ax1)\n",
    "cb1.set_label('km.s$^{-1}$')\n",
    "plt.tight_layout()\n",
    "plt.show()\n",
    "\n",
    "plt.figure()\n",
    "ax2=plt.gca()\n",
    "im2=ax2.imshow(veff1/1e3,origin='lower',aspect='auto', extent=[list_time[0]/1e9,list_time[99]/1e9,list_mass[0]/1.989e30,list_mass[99]/1.989e30],cmap='viridis')\n",
    "plt.xlabel('Age [Gyr]')\n",
    "plt.ylabel('Mass [M$_{sol}$]')\n",
    "plt.title('V$_{eff}$ as a function of stellar age and mass')\n",
    "cb2=plt.colorbar(im2, ax=ax2)\n",
    "cb2.set_label('km.s$^{-1}$')\n",
    "plt.tight_layout()\n",
    "plt.show()\n",
    "\n",
    "plt.figure()\n",
    "ax3=plt.gca()\n",
    "im3=ax3.imshow(n1,origin='lower',aspect='auto', extent=[list_time[0]/1e9,list_time[99]/1e9,list_mass[0]/1.989e30,list_mass[99]/1.989e30],cmap='viridis')\n",
    "plt.xlabel('Age [Gyr]')\n",
    "plt.ylabel('Mass [M$_{sol}$]')\n",
    "plt.title('n as a function of stellar age and mass')\n",
    "cb3=plt.colorbar(im3, ax=ax3)\n",
    "cb3.set_label('m$^{-3}$')\n",
    "plt.tight_layout()\n",
    "plt.show()"
   ]
  },
  {
   "cell_type": "markdown",
   "metadata": {},
   "source": [
    "- - As a function of stellar age and star-planet distance, R=1Rsol, M=1Msol"
   ]
  },
  {
   "cell_type": "code",
   "execution_count": null,
   "metadata": {},
   "outputs": [],
   "source": [
    "list_time=np.linspace(0.7, 6, 100)*1e9\n",
    "list_dist=np.linspace(0.01,1,100)\n",
    "v2=np.zeros(shape=[100,100])\n",
    "veff2=np.zeros(shape=[100,100])\n",
    "n2=np.zeros(shape=[100,100])\n",
    "T2=np.zeros(shape=[100,100])\n",
    "\n",
    "for i in range(0,100):\n",
    "    for j in range(0,100):\n",
    "        planet1=Planet('pla_test',1.0,1.0,1.0,1.0,1.0,list_dist[j]*dua)\n",
    "        star1=Star('star_test',1.989e30,1.0,list_time[i],1.0,1.0)\n",
    "        v2[j][i],veff2[j][i],n2[j][i],T2[j][i]=parker(planet1,star1)"
   ]
  },
  {
   "cell_type": "code",
   "execution_count": null,
   "metadata": {},
   "outputs": [],
   "source": [
    "plt.figure()\n",
    "ax1=plt.gca()\n",
    "im1=ax1.imshow(v2/1e3,origin='lower',aspect='auto', extent=[list_time[0]/1e9,list_time[99]/1e9,list_dist[0],list_dist[99]],cmap='viridis')\n",
    "plt.xlabel('Age [Gyr]')\n",
    "plt.ylabel('d$_{*-p}$ [AU]')\n",
    "plt.title('V as a function of stellar age and d$_{*-p}$')\n",
    "cb1=plt.colorbar(im1, ax=ax1)\n",
    "cb1.set_label('km.s$^{-1}$')\n",
    "plt.tight_layout()\n",
    "plt.show()\n",
    "\n",
    "plt.figure()\n",
    "ax2=plt.gca()\n",
    "im2=ax2.imshow(veff2/1e3,origin='lower',aspect='auto', extent=[list_time[0]/1e9,list_time[99]/1e9,list_dist[0],list_dist[99]],cmap='viridis')\n",
    "plt.xlabel('Age [Gyr]')\n",
    "plt.ylabel('d$_{*-p}$ [AU]')\n",
    "plt.title('V$_{eff}$ as a function of stellar age and d$_{*-p}$')\n",
    "cb2=plt.colorbar(im2, ax=ax2)\n",
    "cb2.set_label('km.s$^{-1}$')\n",
    "plt.tight_layout()\n",
    "plt.show()\n",
    "\n",
    "plt.figure()\n",
    "ax3=plt.gca()\n",
    "im3=ax3.imshow(n2,origin='lower',aspect='auto', extent=[list_time[0]/1e9,list_time[99]/1e9,list_dist[0],list_dist[99]],cmap='viridis')\n",
    "plt.xlabel('Age [Gyr]')\n",
    "plt.ylabel('d$_{*-p}$ [AU]')\n",
    "plt.title('n as a function of stellar age and d$_{*-p}$')\n",
    "cb3=plt.colorbar(im3, ax=ax3)\n",
    "cb3.set_label('m$^{-3}$')\n",
    "plt.tight_layout()\n",
    "plt.show()"
   ]
  },
  {
   "cell_type": "markdown",
   "metadata": {},
   "source": [
    "- Taking into account the coronal mass ejection (CME) contribution to the stelar wind.\n",
    "We can expect CME collisions for close-in exoplanets. See Khodachenko et al,2006 :  they made an estimation of the dependence of the average n_cme and v_cme with respect to the substellar distance. They also show that individual CME's have very different speed but the average CME velocity is almost independant of the substellar distance : v_cme=5.26e5 m/s.\n"
   ]
  },
  {
   "cell_type": "code",
   "execution_count": null,
   "metadata": {},
   "outputs": [],
   "source": [
    "vo=3397e3 #m/s \n",
    "no=1.6e10 #m-3\n",
    "dua=1.49597870700e11 #m\n",
    "G=6.6725985e-11 #N.m^2/kg^2\n",
    "\n",
    "test_planet=Planet('planet_test',1.0,1.0,1.0,1.0,1.0,1*dua)\n",
    "star_test=Star('star_test', 1.989e30,1.0,4.6e9,1.0,1.0)\n",
    "v,veff,n,Tcor=parker(test_planet,star_test)\n",
    "vcme,veff_cme,ns_cme, T_cme=CME(star_test,test_planet)\n",
    "vorb=sqrt(G*star_test.mass/(0.2*dua))\n",
    "print(v/1e3, veff/1e3, n,Tcor/1e6)\n",
    "print(vcme/1e3, veff_cme/1e3, ns_cme, T_cme/1e6)"
   ]
  },
  {
   "cell_type": "markdown",
   "metadata": {},
   "source": [
    "    Test nouvelle méthode calcul de v_sw"
   ]
  },
  {
   "cell_type": "code",
   "execution_count": null,
   "metadata": {},
   "outputs": [],
   "source": [
    "dua = 1.49597870700e11  # m\n",
    "kb = 1.380658e-23  # J/K\n",
    "mp = 1.660540210e-27  # kg\n",
    "G = 6.6725985e-11  # N.m^2/kg^2\n",
    "M = 1.989e30  # kg\n",
    "T=812428.5714285715 # K\n",
    "d = 0.03 # UA\n",
    "vc = sqrt(2 * kb * T / mp)\n",
    "rc = mp * G * M / (4 * kb * T)\n",
    "vorb = sqrt(G * M / (d * dua))\n",
    "\n",
    "d_temp=1.0 \n",
    "v_temp_ini = optimize.newton(\n",
    "    parker_velocity, 350.0e3,\n",
    "    parker_velocity_p, args=(d_temp * dua,rc,vc),\n",
    "    maxiter=50,\n",
    "    )\n",
    "print(optimize.newton(\n",
    "    parker_velocity, 50.0e3,\n",
    "    parker_velocity_p, args=(d * dua,rc,vc),\n",
    "    maxiter=50,\n",
    "    ))\n",
    "while ((abs(d_temp - d ) >= 1e-5)):\n",
    "    d_temp = (9*d_temp + d)/10.0\n",
    "    v_temp = optimize.newton(\n",
    "        parker_velocity, v_temp_ini,\n",
    "        parker_velocity_p, args=(d_temp * dua,rc,vc),\n",
    "        maxiter=50,\n",
    "        )\n",
    "    if (v_temp/vc > 1.0) and (d_temp/(rc/dua) <= 1.) :\n",
    "        v_temp = optimize.newton(\n",
    "        parker_velocity, 0.9*v_temp_ini,\n",
    "        parker_velocity_p, args=(d_temp * dua,rc,vc),\n",
    "        maxiter=50,\n",
    "        )\n",
    "    \n",
    "    v_temp_ini=v_temp\n",
    "\n",
    "    #print(v_temp/vc)\n",
    "\n",
    "print('1 ',d_temp)\n",
    "print('2 ',v_temp)\n",
    "print('3 ', v_temp_ini)\n"
   ]
  },
  {
   "cell_type": "code",
   "execution_count": null,
   "metadata": {},
   "outputs": [],
   "source": [
    "print(rc / dua)"
   ]
  },
  {
   "cell_type": "code",
   "execution_count": null,
   "metadata": {},
   "outputs": [],
   "source": [
    "print(d /(rc / dua))\n",
    "print(v_temp / vc)"
   ]
  },
  {
   "cell_type": "code",
   "execution_count": null,
   "metadata": {},
   "outputs": [],
   "source": [
    "veff = sqrt((v_temp**2) + (vorb**2))\n",
    "print(veff)\n"
   ]
  },
  {
   "cell_type": "code",
   "execution_count": null,
   "metadata": {},
   "outputs": [],
   "source": [
    "sun = Star(\n",
    "    name=\"Soleil\",\n",
    "    mass=1.0,\n",
    "    radius={\"models\": star_radius_models, \"radius\": 1.0},\n",
    "    age=AS,\n",
    "    obs_dist=1.0,\n",
    "    magfield=BSsw,\n",
    ")\n",
    "# sol.talk(talk=talk)\n",
    "jup = Planet(\n",
    "    name=\"Jupiter\",\n",
    "    mass=1.0,\n",
    "    radius={\"models\": planet_radius_models, \"radius\": 1.0},\n",
    "    distance=1.0,\n",
    "    worb={\"star_mass\": MS, \"worb\": 1.0},\n",
    "    wrot=1.0,\n",
    ")"
   ]
  }
 ],
 "metadata": {
  "interpreter": {
   "hash": "570da124061f1229a43935d4392bd1ada54c3a2c5a88c928d628cf03c12cbe2f"
  },
  "kernelspec": {
   "display_name": "Python 3.8.8 ('python_these')",
   "language": "python",
   "name": "python3"
  },
  "language_info": {
   "codemirror_mode": {
    "name": "ipython",
    "version": 3
   },
   "file_extension": ".py",
   "mimetype": "text/x-python",
   "name": "python",
   "nbconvert_exporter": "python",
   "pygments_lexer": "ipython3",
   "version": "3.8.8"
  },
  "orig_nbformat": 4
 },
 "nbformat": 4,
 "nbformat_minor": 2
}
