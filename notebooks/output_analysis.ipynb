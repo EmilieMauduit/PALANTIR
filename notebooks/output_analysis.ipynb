{
 "cells": [
  {
   "cell_type": "markdown",
   "metadata": {},
   "source": [
    "# Various plots for output data"
   ]
  },
  {
   "cell_type": "code",
   "execution_count": 1,
   "metadata": {},
   "outputs": [],
   "source": [
    "import numpy as np\n",
    "import pandas as pd\n",
    "import matplotlib.pyplot as plt\n",
    "\n",
    "import astropy.units as u\n",
    "from importlib_resources import files"
   ]
  },
  {
   "cell_type": "code",
   "execution_count": null,
   "metadata": {},
   "outputs": [],
   "source": [
    "catalog_Bstar = pd.read_csv('crossmatch_mag_exo.csv', delimiter=',')\n",
    "crossmatch = catalog_Bstar[catalog_Bstar['Simbad_ID']=='G 139-21']\n",
    "if crossmatch.size > 0 :\n",
    "    mag_field = np.array(crossmatch['Bestim_G'])[0] * 1e-4\n",
    "else :\n",
    "    mag_field = np.nan\n",
    "print(mag_field)"
   ]
  },
  {
   "cell_type": "code",
   "execution_count": null,
   "metadata": {},
   "outputs": [],
   "source": [
    "maps_dir = files(\"palantir.scripts.input_files\")\n",
    "catalog_Bstar = pd.read_csv(maps_dir / 'Bstar_catalog.csv', delimiter=';')\n",
    "crossmatch = catalog_Bstar[catalog_Bstar['Planet_Name']==\"TOI-5473 b\"]\n",
    "\n",
    "if (crossmatch.size <1) or (True and not np.asarray(crossmatch['True_pred'])[0]):\n",
    "    print('Error')\n",
    "\n",
    "mag_field = np.asarray(crossmatch['B_G'])[0]\n",
    "print(mag_field)\n"
   ]
  },
  {
   "cell_type": "markdown",
   "metadata": {},
   "source": [
    "### NenuFAR sensitivity"
   ]
  },
  {
   "cell_type": "code",
   "execution_count": null,
   "metadata": {},
   "outputs": [],
   "source": [
    "from nenupy.instru.interferometer import ObservingMode\n",
    "from nenupy.instru import NenuFAR\n",
    "import astropy.units as u\n",
    "\n",
    "NenuFAR_sensitivity = []\n",
    "frequencies = np.linspace(10,80,100)\n",
    "nenufar = NenuFAR()\n",
    "\n",
    "\n",
    "NenuFAR_sensitivity = nenufar.sensitivity( \n",
    "    frequency=frequencies*u.MHz,\n",
    "    mode=ObservingMode.BEAMFORMING,\n",
    "    dt=10*60*u.s,\n",
    "    df=2*u.MHz,\n",
    "    elevation=90*u.deg,\n",
    "    efficiency=1.,\n",
    "    decoherence=1.,\n",
    "    lna_filter=0)\n"
   ]
  },
  {
   "cell_type": "code",
   "execution_count": null,
   "metadata": {},
   "outputs": [],
   "source": [
    "nenufar._antenna_names"
   ]
  },
  {
   "cell_type": "code",
   "execution_count": null,
   "metadata": {},
   "outputs": [],
   "source": [
    "plt.figure()\n",
    "plt.plot(frequencies,NenuFAR_sensitivity)\n",
    "plt.xlabel('Frequencies [MHz]')\n",
    "plt.ylabel('Sensitivity [Jy]')\n",
    "plt.title('NenuFAR sensitivity with frequencies')\n",
    "plt.grid()\n",
    "plt.show()"
   ]
  },
  {
   "cell_type": "markdown",
   "metadata": {},
   "source": [
    "## Loading output data"
   ]
  },
  {
   "cell_type": "markdown",
   "metadata": {},
   "source": [
    "### MSB"
   ]
  },
  {
   "cell_type": "code",
   "execution_count": null,
   "metadata": {},
   "outputs": [],
   "source": [
    "data_msb = pd.read_csv(r\"/Users/emauduit/Documents/These/target_selection/Runs/2025-06-04T10h42/main_output.csv\", delimiter=';')"
   ]
  },
  {
   "cell_type": "code",
   "execution_count": null,
   "metadata": {},
   "outputs": [],
   "source": [
    "data_msb.keys()"
   ]
  },
  {
   "cell_type": "code",
   "execution_count": null,
   "metadata": {},
   "outputs": [],
   "source": [
    "target_name = np.array(data_msb['name'][1:],dtype='str')\n",
    "Pkin_msb = np.array(data_msb['pow_received_kinetic'][1:],dtype='float')\n",
    "Pmag_msb = np.array(data_msb['pow_received_magnetic'][1:],dtype='float')\n",
    "Pspi_msb = np.array(data_msb['pow_received_spi'][1:],dtype='float')\n",
    "\n",
    "fmax_planet_msb = np.array(data_msb['freq_max_planet'][1:],dtype='float')\n",
    "fmax_star_msb = np.array(data_msb['freq_max_star'][1:],dtype='float')\n",
    "\n",
    "star_age_msb = np.array(data_msb['star_age'][1:], dtype='float')\n",
    "Mp_msb = np.array(data_msb['planet_mass'][1:], dtype='float')\n",
    "Rp_msb = np.array(data_msb['planet_radius'][1:], dtype='float')\n",
    "s_msb = np.array(data_msb['earth_distance'][1:], dtype='float')\n",
    "d_msb = np.array(data_msb['star_planet_distance'][1:], dtype='float')\n",
    "sp_type_msb = np.array(data_msb['spectral_type'][1:], dtype='str')\n",
    "\n",
    "\n",
    "mask_age = star_age_msb != 5.2e9"
   ]
  },
  {
   "cell_type": "code",
   "execution_count": null,
   "metadata": {},
   "outputs": [],
   "source": [
    "output_msb = pd.DataFrame({'name' : target_name,\n",
    "                'planet_mass' : Mp_msb,\n",
    "                'planet_radius': Rp_msb,\n",
    "                'star_planet_distance' : d_msb,\n",
    "                'star_age' : star_age_msb,\n",
    "                'spectral_type' : sp_type_msb,\n",
    "                'earth_distance' : s_msb,\n",
    "                'pow_received_kinetic' : Pkin_msb, \n",
    "                'pow_received_magnetic' : Pmag_msb, \n",
    "                'freq_max_planet':fmax_planet_msb,\n",
    "                'pow_received_spi' : Pspi_msb,  \n",
    "                'freq_max_star' : fmax_star_msb})"
   ]
  },
  {
   "cell_type": "code",
   "execution_count": null,
   "metadata": {},
   "outputs": [],
   "source": [
    "output_msb[:10]"
   ]
  },
  {
   "cell_type": "markdown",
   "metadata": {},
   "source": [
    "- Pkin"
   ]
  },
  {
   "cell_type": "code",
   "execution_count": null,
   "metadata": {},
   "outputs": [],
   "source": [
    "plt.figure(figsize=(10,7))\n",
    "plt.scatter(fmax_planet_msb[~np.isnan(Pkin_msb)],Pkin_msb[~np.isnan(Pkin_msb)], marker='+', color ='tab:blue', label='P_kin')\n",
    "plt.plot([10,10],[np.min(Pkin_msb[~np.isnan(Pkin_msb)]),np.max(Pkin_msb[~np.isnan(Pkin_msb)])],linestyle='dashed', color='black')\n",
    "plt.xlabel('Maximum frequency emission [MHz]')\n",
    "plt.ylabel('Expected kinetic flux at Earth [mJy]')\n",
    "plt.title('Predicted radio flux with respect to maximum frequency.')\n",
    "plt.xscale('log')\n",
    "plt.yscale('log')\n",
    "plt.grid()\n",
    "plt.legend()\n",
    "plt.savefig('/Users/emauduit/Documents/These/target_selection/Runs/2025-06-04T10h42/Pkin_vs_fmax.png', transparent=True, bbox_inches='tight', dpi=150)\n",
    "plt.show()"
   ]
  },
  {
   "cell_type": "markdown",
   "metadata": {},
   "source": [
    "- Pmag"
   ]
  },
  {
   "cell_type": "code",
   "execution_count": null,
   "metadata": {},
   "outputs": [],
   "source": [
    "fig,ax = plt.subplots(figsize=(10,7))\n",
    "ax.scatter(fmax_planet_msb[~np.isnan(Pmag_msb)], Pmag_msb[~np.isnan(Pmag_msb)], marker='+', color='tab:blue')\n",
    "#telescopes\n",
    "ax.plot(frequencies,NenuFAR_sensitivity*1e3, color='tab:red', label='NenuFAR')\n",
    "#ax.text(40,8,'NenuFAR', color='tab:red', fontsize=14)\n",
    "ax.plot([14,19,30,60,75],[2.5e2,1e2,4e1,2e1,5e1], color = 'goldenrod', label='LOFAR')\n",
    "ax.plot([130,160,190,200,250],[1,9e-1,1,2,6], color = 'goldenrod')\n",
    "#ax.text(115,80, 'LOFAR', color='goldenrod', fontsize=14)\n",
    "ax.plot([10,30],[1e1,1e1], color='forestgreen', label='UTR-2')\n",
    "#ax.text(15,5, 'UTR-2', color='forestgreen', fontsize=14)\n",
    "ax.plot([50,90,200,350],[5e-1,3e-1,1.5e-1,6e-2], color='purple', label='SKA 1 low')\n",
    "#ax.text(350,8e-2,'SKA 1 low', color='purple', fontsize=14)\n",
    "ax.plot([50,90,200,350],[5e-2,3e-2,1.5e-2,6e-3], color='purple', linestyle='dashed', label = 'SKA 2 low')\n",
    "#ax.text(350,8e-3,'SKA 2 low', color='purple', fontsize=14)\n",
    "ax.plot([70,80],[9e1,9e1], linewidth=5, color='darkcyan', label='VLA')\n",
    "#ax.text(70,1e2, 'VLA', color='darkcyan',fontsize=14)\n",
    "ax.scatter(150,3, color='y', label='GMRT')\n",
    "#ax.text(140,4, 'GMRT', color='y', fontsize=14)\n",
    "\n",
    "ax.plot([10.0,10.0],[1e-9,1e10], linestyle = 'dashed', color='black',label='coupure\\nionosphérique')\n",
    "rect = plt.Rectangle((1e-2,1e-9),10-1e-2,1e19,facecolor='black',alpha=0.1)\n",
    "ax.add_patch(rect)\n",
    "ax.set_xlabel('$f_{c,p}^{max}$  [MHz]', fontsize=18)\n",
    "ax.set_ylabel('$\\Phi_{radio}^{mag}$  [mJy]', fontsize=18)\n",
    "ax.tick_params(axis='both',labelsize=14)\n",
    "ax.set_xlim(1e-2,3e4)\n",
    "ax.set_ylim(1e-9,1e6)\n",
    "ax.set_xscale('log')\n",
    "ax.set_yscale('log')\n",
    "ax.set_title('MSB')\n",
    "plt.grid()\n",
    "plt.legend(fontsize=12)\n",
    "plt.tight_layout()\n",
    "plt.savefig('/Users/emauduit/Documents/These/target_selection/Runs/2025-06-04T10h42/plot_Pmag_fp_MSB.png',transparent=True,bbox_inches='tight', dpi=150 )\n",
    "plt.show()\n",
    "\n"
   ]
  },
  {
   "cell_type": "code",
   "execution_count": null,
   "metadata": {},
   "outputs": [],
   "source": [
    "plt.figure(figsize=(10,7))\n",
    "plt.scatter(fmax_planet_msb[~np.isnan(Pmag_msb)], Pmag_msb[~np.isnan(Pmag_msb)], marker='+', color='tab:red',label='P_mag')\n",
    "plt.plot([10,10],[np.min(Pmag_msb[~np.isnan(Pmag_msb)]),np.max(Pmag_msb[~np.isnan(Pmag_msb)])],linestyle='dashed', color='black')\n",
    "plt.xlabel('Maximum frequency emission [MHz]')\n",
    "plt.ylabel('Expected magnetic flux at Earth [mJy]')\n",
    "plt.title('Predicted radio flux with respect to maximum frequency.')\n",
    "plt.xscale('log')\n",
    "plt.yscale('log')\n",
    "plt.grid()\n",
    "plt.legend()\n",
    "plt.savefig('/Users/emauduit/Documents/These/target_selection/Runs/2025-06-04T10h42/Pmag_vs_fmax_msb.png', transparent=True, bbox_inches='tight', dpi=150)\n",
    "plt.show()"
   ]
  },
  {
   "cell_type": "markdown",
   "metadata": {},
   "source": [
    "- Pspi"
   ]
  },
  {
   "cell_type": "code",
   "execution_count": null,
   "metadata": {},
   "outputs": [],
   "source": [
    "fig,ax = plt.subplots(figsize=(10,7))\n",
    "ax.scatter(fmax_star_msb[~np.isnan(Pspi_msb)], Pspi_msb[~np.isnan(Pspi_msb)], marker='+', color='tab:blue')#,label='$\\Phi_{radio}^{SPI}$')\n",
    "#telescopes\n",
    "ax.plot(frequencies,NenuFAR_sensitivity*1e3, color='tab:red', label='NenuFAR')\n",
    "#ax.text(40,8,'NenuFAR', color='tab:red', fontsize=14)\n",
    "ax.plot([14,19,30,60,75],[2.5e2,1e2,4e1,2e1,5e1], color = 'goldenrod', label='LOFAR')\n",
    "ax.plot([130,160,190,200,250],[1,9e-1,1,2,6], color = 'goldenrod')\n",
    "#ax.text(115,80, 'LOFAR', color='goldenrod', fontsize=14)\n",
    "ax.plot([10,30],[1e1,1e1], color='forestgreen', label='UTR-2')\n",
    "#ax.text(15,5, 'UTR-2', color='forestgreen', fontsize=14)\n",
    "ax.plot([50,90,200,350],[5e-1,3e-1,1.5e-1,6e-2], color='purple', label='SKA 1 low')\n",
    "#ax.text(350,8e-2,'SKA 1 low', color='purple', fontsize=14)\n",
    "ax.plot([50,90,200,350],[5e-2,3e-2,1.5e-2,6e-3], color='purple', linestyle='dashed', label = 'SKA 2 low')\n",
    "#ax.text(350,8e-3,'SKA 2 low', color='purple', fontsize=14)\n",
    "ax.plot([70,80],[9e1,9e1], linewidth=5, color='darkcyan', label='VLA')\n",
    "#ax.text(70,1e2, 'VLA', color='darkcyan',fontsize=14)\n",
    "ax.scatter(150,3, color='y', label='GMRT')\n",
    "#ax.text(140,4, 'GMRT', color='y', fontsize=14)\n",
    "\n",
    "ax.plot([10.0,10.0],[1e-9,1e10], linestyle = 'dashed', color='black')\n",
    "rect = plt.Rectangle((1e-2,1e-9),10-1e-2,1e19,facecolor='black',alpha=0.1,label='coupure\\nionosphérique')\n",
    "ax.add_patch(rect)\n",
    "ax.set_xlabel('$f_{c,*}^{max}$  [MHz]', fontsize=18)\n",
    "ax.set_ylabel('$\\Phi_{radio}^{SPI}$  [mJy]', fontsize=18)\n",
    "ax.tick_params(axis='both',labelsize=14)\n",
    "ax.set_xlim(1e-2,3e4)\n",
    "ax.set_ylim(1e-9,1e6)\n",
    "ax.set_xscale('log')\n",
    "ax.set_yscale('log')\n",
    "ax.set_title('MSB')\n",
    "plt.grid()\n",
    "plt.legend(fontsize=12)\n",
    "plt.tight_layout()\n",
    "plt.savefig('/Users/emauduit/Documents/These/target_selection/Runs/2025-06-04T10h42/plot_Pspi_fstar_MSB.png', transparent=True, bbox_inches='tight', dpi=150 )\n",
    "plt.show()"
   ]
  },
  {
   "cell_type": "code",
   "execution_count": null,
   "metadata": {},
   "outputs": [],
   "source": [
    "plt.figure(figsize=(10,7))\n",
    "plt.scatter(fmax_star_msb[~np.isnan(Pspi_msb) & mask_age],Pspi_msb[~np.isnan(Pspi_msb) & mask_age ],marker='+', color='tab:green', label='P_spi')\n",
    "plt.plot([10,10],[np.min(Pspi_msb[~np.isnan(Pspi_msb) & mask_age ]),np.max(Pspi_msb[~np.isnan(Pspi_msb) & mask_age])],linestyle='dashed', color='black')\n",
    "plt.xlabel('Maximum frequency emission [MHz]')\n",
    "plt.ylabel('Expected SPI flux at Earth [mJy]')\n",
    "plt.title('Predicted radio flux with respect to maximum frequency.')\n",
    "plt.xscale('log')\n",
    "plt.yscale('log')\n",
    "plt.grid()\n",
    "plt.legend()\n",
    "plt.savefig('/Users/emauduit/Documents/These/target_selection/Runs/2025-06-04T10h42/Pspi_vs_fmax.png', transparent=True, bbox_inches='tight', dpi=150)\n",
    "plt.show()"
   ]
  },
  {
   "cell_type": "markdown",
   "metadata": {},
   "source": [
    "- all"
   ]
  },
  {
   "cell_type": "code",
   "execution_count": null,
   "metadata": {},
   "outputs": [],
   "source": [
    "plt.figure(figsize=(10,7))\n",
    "#plt.scatter(fmax_planet[~np.isnan(Pkin)],Pkin[~np.isnan(Pkin)], marker='+', color ='tab:blue', label='P_kin')\n",
    "plt.scatter(fmax_planet_msb[~np.isnan(Pmag_msb)], Pmag_msb[~np.isnan(Pmag_msb)], marker='x', color='tab:blue',label='P_mag')\n",
    "plt.scatter(fmax_star_msb[~np.isnan(Pspi_msb) & mask_age],Pspi_msb[~np.isnan(Pspi_msb) & mask_age],marker='x', color='tab:orange', label='P_spi')\n",
    "plt.plot(frequencies,NenuFAR_sensitivity*1e3, linestyle='dashed', color='black', label='NenuFAR sensitivity')\n",
    "plt.plot([10,10],[np.min(Pmag_msb[~np.isnan(Pmag_msb)]),np.max(Pmag_msb[~np.isnan(Pmag_msb)])], color='black', label='Ionospheric cut off')\n",
    "plt.xlabel('Maximum frequency emission [MHz]')\n",
    "plt.ylabel('Expected flux at Earth [mJy]')\n",
    "plt.title('Predicted radio flux with respect to maximum frequency.')\n",
    "plt.xscale('log')\n",
    "plt.yscale('log')\n",
    "plt.grid()\n",
    "plt.legend()\n",
    "plt.savefig('/Users/emauduit/Documents/These/target_selection/Runs/2025-06-03T18h07/P_vs_fmax.png', transparent=True, bbox_inches='tight', dpi=150)\n",
    "plt.show()"
   ]
  },
  {
   "cell_type": "markdown",
   "metadata": {},
   "source": [
    "Pic à 3.6 MHz en SPI :\n",
    "Vient du forçage de t*=5.2 Gyr si on ne connait pas l'âge de l'étoile"
   ]
  },
  {
   "cell_type": "code",
   "execution_count": null,
   "metadata": {},
   "outputs": [],
   "source": [
    "tau = 2.56e7  # yr\n",
    "K = 0.6709505359255223\n",
    "rotperiod = K * pow(1 + (5.2e9 / tau), 0.7)\n",
    "print(rotperiod)\n",
    "Psun = 25.5  # days\n",
    "Bsun = 1.435e-4  # T\n",
    "magfield = Bsun * Psun / rotperiod\n",
    "\n",
    "me = 9.1093897e-31  # kg\n",
    "e = 1.60217733e-19  # C\n",
    "freq = e * magfield / (2 * np.pi * me)\n",
    "print(freq/1e6)"
   ]
  },
  {
   "cell_type": "markdown",
   "metadata": {},
   "source": [
    "### RC"
   ]
  },
  {
   "cell_type": "code",
   "execution_count": null,
   "metadata": {},
   "outputs": [],
   "source": [
    "data_rc = pd.read_csv(r'/Users/emauduit/Documents/These/target_selection/Runs/2025-06-04T10h40/main_output.csv',delimiter=';')\n",
    "#'/Users/emauduit/Documents/These/target_selection/Runs/2024-07-04T23h08/main_output.csv',delimiter=';')"
   ]
  },
  {
   "cell_type": "code",
   "execution_count": null,
   "metadata": {},
   "outputs": [],
   "source": [
    "target_name = np.array(data_rc['name'][1:],dtype='str')\n",
    "Pkin_rc = np.array(data_rc['pow_received_kinetic'][1:],dtype='float')\n",
    "Pmag_rc = np.array(data_rc['pow_received_magnetic'][1:],dtype='float')\n",
    "Pspi_rc = np.array(data_rc['pow_received_spi'][1:],dtype='float')\n",
    "\n",
    "fmax_planet_rc = np.array(data_rc['freq_max_planet'][1:],dtype='float')\n",
    "fmax_star_rc = np.array(data_rc['freq_max_star'][1:],dtype='float')\n",
    "\n",
    "star_age_rc = np.array(data_rc['star_age'][1:], dtype='float')\n",
    "Mp_rc = np.array(data_rc['planet_mass'][1:], dtype='float')\n",
    "Rp_rc = np.array(data_rc['planet_radius'][1:], dtype='float')\n",
    "s_rc = np.array(data_rc['earth_distance'][1:], dtype='float')\n",
    "d_rc = np.array(data_rc['star_planet_distance'][1:], dtype='float')\n",
    "sp_type_rc = np.array(data_rc['spectral_type'][1:], dtype='str')\n",
    "\n",
    "mask_age_rc = star_age_rc != 5.2e9"
   ]
  },
  {
   "cell_type": "code",
   "execution_count": null,
   "metadata": {},
   "outputs": [],
   "source": [
    "output_rc = pd.DataFrame({'name' : target_name,\n",
    "                'planet_mass' : Mp_rc,\n",
    "                'planet_radius': Rp_rc,\n",
    "                'star_planet_distance' : d_rc,\n",
    "                'star_age' : star_age_rc,\n",
    "                'spectral_type' : sp_type_rc,\n",
    "                'earth_distance' : s_rc,\n",
    "                'pow_received_kinetic' : Pkin_rc, \n",
    "                'pow_received_magnetic' : Pmag_rc, \n",
    "                'freq_max_planet':fmax_planet_rc,\n",
    "                'pow_received_spi' : Pspi_rc,  \n",
    "                'freq_max_star' : fmax_star_rc})"
   ]
  },
  {
   "cell_type": "code",
   "execution_count": null,
   "metadata": {},
   "outputs": [],
   "source": [
    "fig,ax = plt.subplots(figsize=(10,7))\n",
    "ax.scatter(fmax_planet_rc[~np.isnan(Pmag_rc)], Pmag_rc[~np.isnan(Pmag_rc)], marker='+', color='tab:blue')#,label='$\\Phi_{radio}^{mag}$')\n",
    "#telescopes\n",
    "ax.plot(frequencies,NenuFAR_sensitivity*1e3, color='tab:red', label='NenuFAR')\n",
    "#ax.text(40,8,'NenuFAR', color='tab:red', fontsize=14)\n",
    "ax.plot([14,19,30,60,75],[2.5e2,1e2,4e1,2e1,5e1], color = 'goldenrod', label='LOFAR')\n",
    "ax.plot([130,160,190,200,250],[1,9e-1,1,2,6], color = 'goldenrod')\n",
    "#ax.text(115,80, 'LOFAR', color='goldenrod', fontsize=14)\n",
    "ax.plot([10,30],[1e1,1e1], color='forestgreen', label='UTR-2')\n",
    "#ax.text(15,5, 'UTR-2', color='forestgreen', fontsize=14)\n",
    "ax.plot([50,90,200,350],[5e-1,3e-1,1.5e-1,6e-2], color='purple', label='SKA 1 low')\n",
    "#ax.text(350,8e-2,'SKA 1 low', color='purple', fontsize=14)\n",
    "ax.plot([50,90,200,350],[5e-2,3e-2,1.5e-2,6e-3], color='purple', linestyle='dashed', label = 'SKA 2 low')\n",
    "#ax.text(350,8e-3,'SKA 2 low', color='purple', fontsize=14)\n",
    "ax.plot([70,80],[9e1,9e1], linewidth=5, color='darkcyan', label='VLA')\n",
    "#ax.text(70,1e2, 'VLA', color='darkcyan',fontsize=14)\n",
    "ax.scatter(150,3, color='y', label='GMRT')\n",
    "#ax.text(140,4, 'GMRT', color='y', fontsize=14)\n",
    "\n",
    "ax.plot([10.0,10.0],[1e-9,1e10], linestyle = 'dashed', color='black',label='coupure\\nionosphérique')\n",
    "rect = plt.Rectangle((1e-2,1e-9),10-1e-2,1e19,facecolor='black',alpha=0.1)\n",
    "ax.add_patch(rect)\n",
    "ax.set_xlabel('$f_{c,p}^{max}$  [MHz]', fontsize=18)\n",
    "ax.set_ylabel('$\\Phi_{radio}^{mag}$  [mJy]', fontsize=18)\n",
    "ax.tick_params(axis='both',labelsize=14)\n",
    "ax.set_xlim(1e-2,3e4)\n",
    "ax.set_ylim(1e-9,1e6)\n",
    "ax.set_xscale('log')\n",
    "ax.set_yscale('log')\n",
    "ax.set_title('RC')\n",
    "plt.grid()\n",
    "plt.legend(fontsize=12)\n",
    "plt.tight_layout()\n",
    "plt.savefig('/Users/emauduit/Documents/These/target_selection/Runs/2025-06-04T10h40/plot_Pmag_fp_RC.png',transparent=True,bbox_inches='tight', dpi=150 )\n",
    "plt.show()"
   ]
  },
  {
   "cell_type": "code",
   "execution_count": null,
   "metadata": {},
   "outputs": [],
   "source": [
    "fig,ax = plt.subplots(figsize=(10,7))\n",
    "ax.scatter(fmax_star_rc[~np.isnan(Pspi_rc)], Pspi_rc[~np.isnan(Pspi_rc)], marker='+', color='tab:blue')#,label='$\\Phi_{radio}^{SPI}$')\n",
    "#telescopes\n",
    "ax.plot(frequencies,NenuFAR_sensitivity*1e3, color='tab:red', label='NenuFAR')\n",
    "#ax.text(40,8,'NenuFAR', color='tab:red', fontsize=14)\n",
    "ax.plot([14,19,30,60,75],[2.5e2,1e2,4e1,2e1,5e1], color = 'goldenrod', label='LOFAR')\n",
    "ax.plot([130,160,190,200,250],[1,9e-1,1,2,6], color = 'goldenrod')\n",
    "#ax.text(115,80, 'LOFAR', color='goldenrod', fontsize=14)\n",
    "ax.plot([10,30],[1e1,1e1], color='forestgreen', label='UTR-2')\n",
    "#ax.text(15,5, 'UTR-2', color='forestgreen', fontsize=14)\n",
    "ax.plot([50,90,200,350],[5e-1,3e-1,1.5e-1,6e-2], color='purple', label='SKA 1 low')\n",
    "#ax.text(350,8e-2,'SKA 1 low', color='purple', fontsize=14)\n",
    "ax.plot([50,90,200,350],[5e-2,3e-2,1.5e-2,6e-3], color='purple', linestyle='dashed', label = 'SKA 2 low')\n",
    "#ax.text(350,8e-3,'SKA 2 low', color='purple', fontsize=14)\n",
    "ax.plot([70,80],[9e1,9e1], linewidth=5, color='darkcyan', label='VLA')\n",
    "#ax.text(70,1e2, 'VLA', color='darkcyan',fontsize=14)\n",
    "ax.scatter(150,3, color='y', label='GMRT')\n",
    "#ax.text(140,4, 'GMRT', color='y', fontsize=14)\n",
    "\n",
    "ax.plot([10.0,10.0],[1e-9,1e11], linestyle = 'dashed', color='black', label='coupure\\nionosphérique')\n",
    "rect = plt.Rectangle((1e-2,1e-9),10-1e-2,1e19,facecolor='black',alpha=0.1)\n",
    "ax.add_patch(rect)\n",
    "ax.set_xlabel('$f_{c,*}^{max}$ [MHz]', fontsize=18)\n",
    "ax.set_ylabel('$\\Phi_{radio}^{SPI}$ [mJy]', fontsize=18)\n",
    "ax.tick_params(axis='both',labelsize=14)\n",
    "ax.set_xlim(1e-2,3e4)\n",
    "ax.set_ylim(1e-9,1e6)\n",
    "ax.set_xscale('log')\n",
    "ax.set_yscale('log')\n",
    "ax.set_title('RC')\n",
    "plt.grid()\n",
    "plt.legend(fontsize=12)\n",
    "plt.tight_layout()\n",
    "plt.savefig('/Users/emauduit/Documents/These/target_selection/Runs/2025-06-04T10h40/plot_Pspi_fstar_RC.png',transparent=True,bbox_inches='tight', dpi=150 )\n",
    "plt.show()"
   ]
  },
  {
   "cell_type": "markdown",
   "metadata": {},
   "source": [
    "## Sélection de cibles"
   ]
  },
  {
   "cell_type": "code",
   "execution_count": null,
   "metadata": {},
   "outputs": [],
   "source": [
    "data_msb_mag_sorted=output_msb.sort_values(by = [\"pow_received_magnetic\"], ascending=[False])\n",
    "data_msb_mag_small=data_msb_mag_sorted[data_msb_mag_sorted['freq_max_planet'] >= 4.99].iloc[0:100]\n",
    "data_msb_spi_sorted=output_msb.sort_values(by = [\"pow_received_spi\"], ascending=[False])\n",
    "data_msb_spi_small=data_msb_spi_sorted[data_msb_spi_sorted['freq_max_star'] >= 4.99].iloc[0:100]"
   ]
  },
  {
   "cell_type": "code",
   "execution_count": null,
   "metadata": {},
   "outputs": [],
   "source": [
    "data_msb_mag_small.keys()"
   ]
  },
  {
   "cell_type": "code",
   "execution_count": null,
   "metadata": {},
   "outputs": [],
   "source": [
    "data_msb_mag_small.to_csv('data_msb_mag_top100_new.csv')\n",
    "data_msb_spi_small.to_csv('data_msb_spi_top100_new.csv')"
   ]
  },
  {
   "cell_type": "code",
   "execution_count": null,
   "metadata": {},
   "outputs": [],
   "source": [
    "data_rc_mag_sorted=output_rc.sort_values(by = [\"pow_received_magnetic\"], ascending=[False])\n",
    "data_rc_mag_small=data_rc_mag_sorted[data_rc_mag_sorted['freq_max_planet'] >= 4.99].iloc[0:100]\n",
    "data_rc_spi_sorted=output_rc.sort_values(by = [\"pow_received_spi\"], ascending=[False])\n",
    "data_rc_spi_small=data_rc_spi_sorted[data_rc_spi_sorted['freq_max_star'] >= 4.99].iloc[0:100]"
   ]
  },
  {
   "cell_type": "code",
   "execution_count": null,
   "metadata": {},
   "outputs": [],
   "source": [
    "data_rc_mag_small.to_csv('data_rc_mag_top100_new.csv')\n",
    "data_rc_spi_small.to_csv('data_rc_spi_top100_new.csv')"
   ]
  },
  {
   "cell_type": "code",
   "execution_count": null,
   "metadata": {},
   "outputs": [],
   "source": [
    "names_msb_mag = np.array(data_msb_mag_small.index, dtype='str')\n",
    "names_msb_spi = np.array(data_msb_spi_small.index, dtype='str')"
   ]
  },
  {
   "cell_type": "code",
   "execution_count": null,
   "metadata": {},
   "outputs": [],
   "source": [
    "df_msb = pd.concat([data_msb_mag_small,data_msb_spi_small])\n",
    "df_msb_uniq = df_msb.drop_duplicates(subset='name')\n",
    "df_msb_uniq.to_csv('data_msb_top100_new.csv')"
   ]
  },
  {
   "cell_type": "code",
   "execution_count": null,
   "metadata": {},
   "outputs": [],
   "source": [
    "df_rc = pd.concat([data_rc_mag_small,data_rc_spi_small])\n",
    "df_rc_uniq = df_rc.drop_duplicates(subset='name')\n",
    "df_rc_uniq.to_csv('data_rc_top100_new.csv')"
   ]
  },
  {
   "cell_type": "code",
   "execution_count": null,
   "metadata": {},
   "outputs": [],
   "source": [
    "df_msb_uniq = pd.read_csv('data_msb_top100_new.csv', delimiter=',',index_col=1)\n",
    "df_rc_uniq = pd.read_csv('data_rc_top100_new.csv',delimiter=',',index_col=1)"
   ]
  },
  {
   "cell_type": "code",
   "execution_count": null,
   "metadata": {},
   "outputs": [],
   "source": [
    "df_msb_uniq =  df_msb_uniq.rename(columns={'pow_received_kinetic' : 'P_kin_msb',\n",
    "                    'pow_received_magnetic' : 'P_mag_msb', 'freq_max_planet' : 'f_p_msb', 'pow_received_spi' : 'P_spi_msb',\n",
    "                    'freq_max_star' : 'fstar_msb'})\n",
    "\n",
    "df_rc_uniq =  df_rc_uniq.rename(columns={'pow_received_kinetic' : 'P_kin_rc',\n",
    "                    'pow_received_magnetic' : 'P_mag_rc', 'freq_max_planet' : 'f_p_rc', 'pow_received_spi' : 'P_spi_rc',\n",
    "                    'freq_max_star' : 'fstar_rc'})"
   ]
  },
  {
   "cell_type": "code",
   "execution_count": null,
   "metadata": {},
   "outputs": [],
   "source": [
    "df_rc_uniq.keys()"
   ]
  },
  {
   "cell_type": "code",
   "execution_count": null,
   "metadata": {},
   "outputs": [],
   "source": [
    "names_msb=np.array(df_msb_uniq.index)\n",
    "names_rc=np.array(df_rc_uniq.index)"
   ]
  },
  {
   "cell_type": "code",
   "execution_count": null,
   "metadata": {},
   "outputs": [],
   "source": [
    "data_cross_MSB=df_msb_uniq.loc[:, ['planet_mass', 'planet_radius', 'star_planet_distance','star_age', 'spectral_type', 'earth_distance']]\n",
    "data_cross_RC=df_rc_uniq.loc[:, ['planet_mass', 'planet_radius', 'star_planet_distance','star_age', 'spectral_type', 'earth_distance']]"
   ]
  },
  {
   "cell_type": "code",
   "execution_count": null,
   "metadata": {},
   "outputs": [],
   "source": [
    "data_cross_RC=data_cross_RC[~data_cross_RC.index.isin(names_msb)]\n",
    "data_cross=pd.concat([data_cross_MSB,data_cross_RC])"
   ]
  },
  {
   "cell_type": "code",
   "execution_count": null,
   "metadata": {},
   "outputs": [],
   "source": [
    "data_cross['planet_mass'][0:10]"
   ]
  },
  {
   "cell_type": "code",
   "execution_count": null,
   "metadata": {},
   "outputs": [],
   "source": [
    "data_param_MSB=df_msb_uniq.loc[:, ['P_kin_msb', 'P_mag_msb','f_p_msb', 'P_spi_msb', 'fstar_msb']]\n",
    "data_param_RC=df_rc_uniq.loc[:,['P_kin_rc', 'P_mag_rc','f_p_rc', 'P_spi_rc', 'fstar_rc']]"
   ]
  },
  {
   "cell_type": "code",
   "execution_count": null,
   "metadata": {},
   "outputs": [],
   "source": [
    "data_param=data_param_MSB.join(data_param_RC,how='outer')"
   ]
  },
  {
   "cell_type": "code",
   "execution_count": null,
   "metadata": {},
   "outputs": [],
   "source": [
    "data_cross=data_cross.join(data_param,how='outer')"
   ]
  },
  {
   "cell_type": "code",
   "execution_count": null,
   "metadata": {},
   "outputs": [],
   "source": [
    "data_cross.to_csv('data_all_top100_new.csv')"
   ]
  },
  {
   "cell_type": "code",
   "execution_count": null,
   "metadata": {},
   "outputs": [],
   "source": []
  },
  {
   "cell_type": "markdown",
   "metadata": {},
   "source": [
    "# Data manipulation"
   ]
  },
  {
   "cell_type": "code",
   "execution_count": 1,
   "metadata": {},
   "outputs": [],
   "source": [
    "from palantir.output_analysis import DataManipulation"
   ]
  },
  {
   "cell_type": "code",
   "execution_count": 2,
   "metadata": {},
   "outputs": [],
   "source": [
    "data_MSB = DataManipulation.from_file(filename='/Users/emauduit/Documents/These/target_selection/Runs/2025-06-04T10h42/main_output.csv',\n",
    "instrument_name='NenuFAR')"
   ]
  },
  {
   "cell_type": "code",
   "execution_count": null,
   "metadata": {},
   "outputs": [],
   "source": [
    "data_MSB.plot_frequency_flux(\n",
    "    interaction='MS', \n",
    "    instruments = ['NenuFAR', 'LOFAR low', 'LOFAR high','SKA1 low','SKA2 low','GMRT','VLA','UTR-2'],\n",
    "    figname = '/Users/emauduit/Documents/These/target_selection/Runs/2025-06-04T10h42/Plot_Pmag_fp_MSB.png', \n",
    "    xmin =1e-2, xmax = 3e4, \n",
    "    ymin = 1e-9, ymax = 1e6)\n"
   ]
  },
  {
   "cell_type": "code",
   "execution_count": null,
   "metadata": {},
   "outputs": [],
   "source": [
    "data_MSB.plot_frequency_flux(\n",
    "    interaction='SPI', \n",
    "    instruments = ['NenuFAR', 'LOFAR low', 'LOFAR high','SKA1 low','SKA2 low','GMRT','VLA','UTR-2'],\n",
    "    figname = '/Users/emauduit/Documents/These/target_selection/Runs/2025-06-04T10h42/Plot_Pspi_fstar_RC.png', \n",
    "    xmin =1e-2, xmax = 3e4, \n",
    "    ymin = 1e-9, ymax = 1e6)"
   ]
  },
  {
   "cell_type": "code",
   "execution_count": 3,
   "metadata": {},
   "outputs": [],
   "source": [
    "data_RC = DataManipulation.from_file(filename='/Users/emauduit/Documents/These/target_selection/Runs/2025-06-04T10h40/main_output.csv',\n",
    "instrument_name='NenuFAR')"
   ]
  },
  {
   "cell_type": "code",
   "execution_count": null,
   "metadata": {},
   "outputs": [],
   "source": [
    "data_RC.plot_frequency_flux(\n",
    "    interaction='MS', \n",
    "    instruments = ['NenuFAR', 'LOFAR low', 'LOFAR high','SKA1 low','SKA2 low','GMRT','VLA','UTR-2'],\n",
    "    figname = '/Users/emauduit/Documents/These/target_selection/Runs/2025-06-04T10h40/Plot_Pmag_fp_RC.png', \n",
    "    xmin =1e-2, xmax = 3e4, \n",
    "    ymin = 1e-9, ymax = 1e6)"
   ]
  },
  {
   "cell_type": "code",
   "execution_count": null,
   "metadata": {},
   "outputs": [],
   "source": [
    "data_RC.plot_frequency_flux(\n",
    "    interaction='SPI', \n",
    "    instruments = ['NenuFAR', 'LOFAR low', 'LOFAR high','SKA1 low','SKA2 low','GMRT','VLA','UTR-2'],\n",
    "    figname = '/Users/emauduit/Documents/These/target_selection/Runs/2025-06-04T10h40/Plot_Pspi_fstar_RC.png', \n",
    "    xmin =1e-2, xmax = 3e4, \n",
    "    ymin = 1e-9, ymax = 1e6)"
   ]
  },
  {
   "cell_type": "code",
   "execution_count": null,
   "metadata": {},
   "outputs": [],
   "source": [
    "data_RC.data_base.keys()"
   ]
  },
  {
   "cell_type": "code",
   "execution_count": null,
   "metadata": {},
   "outputs": [],
   "source": [
    "data_RC.plot_quantities(x='star_age', y='star_mass', z='star_magfield', zmin = 0, zmax = 1e-3)"
   ]
  },
  {
   "cell_type": "code",
   "execution_count": 4,
   "metadata": {},
   "outputs": [
    {
     "data": {
      "text/plain": [
       "<palantir.output_analysis.data_manipulation.DataManipulation at 0x7fd293416640>"
      ]
     },
     "execution_count": 4,
     "metadata": {},
     "output_type": "execute_result"
    }
   ],
   "source": [
    "data_RC.target_selection()"
   ]
  },
  {
   "cell_type": "code",
   "execution_count": null,
   "metadata": {},
   "outputs": [],
   "source": []
  }
 ],
 "metadata": {
  "interpreter": {
   "hash": "570da124061f1229a43935d4392bd1ada54c3a2c5a88c928d628cf03c12cbe2f"
  },
  "kernelspec": {
   "display_name": "Python 3.8.8 ('python_these')",
   "language": "python",
   "name": "python3"
  },
  "language_info": {
   "codemirror_mode": {
    "name": "ipython",
    "version": 3
   },
   "file_extension": ".py",
   "mimetype": "text/x-python",
   "name": "python",
   "nbconvert_exporter": "python",
   "pygments_lexer": "ipython3",
   "version": "3.8.8"
  },
  "orig_nbformat": 4
 },
 "nbformat": 4,
 "nbformat_minor": 2
}
