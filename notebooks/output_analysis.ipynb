{
 "cells": [
  {
   "cell_type": "markdown",
   "metadata": {},
   "source": [
    "# Various plots for output data"
   ]
  },
  {
   "cell_type": "code",
   "execution_count": 1,
   "metadata": {},
   "outputs": [],
   "source": [
    "import numpy as np\n",
    "import pandas as pd\n",
    "import matplotlib.pyplot as plt\n",
    "\n",
    "%matplotlib qt \n",
    "\n",
    "import astropy.units as u"
   ]
  },
  {
   "cell_type": "code",
   "execution_count": 2,
   "metadata": {},
   "outputs": [
    {
     "name": "stdout",
     "output_type": "stream",
     "text": [
      "0.0327536231884058\n"
     ]
    }
   ],
   "source": [
    "catalog_Bstar = pd.read_csv('crossmatch_mag_exo.csv', delimiter=',')\n",
    "crossmatch = catalog_Bstar[catalog_Bstar['Simbad_ID']=='G 139-21']\n",
    "if crossmatch.size > 0 :\n",
    "    mag_field = np.array(crossmatch['Bestim_G'])[0] * 1e-4\n",
    "else :\n",
    "    mag_field = np.nan\n",
    "print(mag_field)"
   ]
  },
  {
   "cell_type": "markdown",
   "metadata": {},
   "source": [
    "### NenuFAR sensitivity"
   ]
  },
  {
   "cell_type": "code",
   "execution_count": 3,
   "metadata": {},
   "outputs": [],
   "source": [
    "from nenupy.instru.interferometer import ObservingMode\n",
    "from nenupy.instru import NenuFAR\n",
    "import astropy.units as u\n",
    "\n",
    "NenuFAR_sensitivity = []\n",
    "frequencies = np.linspace(10,80,100)\n",
    "nenufar = NenuFAR()\n",
    "\n",
    "\n",
    "NenuFAR_sensitivity = nenufar.sensitivity( \n",
    "    frequency=frequencies*u.MHz,\n",
    "    mode=ObservingMode.BEAMFORMING,\n",
    "    dt=10*60*u.s,\n",
    "    df=2*u.MHz,\n",
    "    elevation=90*u.deg,\n",
    "    efficiency=1.,\n",
    "    decoherence=1.,\n",
    "    lna_filter=0)\n"
   ]
  },
  {
   "cell_type": "code",
   "execution_count": 19,
   "metadata": {},
   "outputs": [
    {
     "data": {
      "text/plain": [
       "array(['MA000', 'MA001', 'MA002', 'MA003', 'MA004', 'MA005', 'MA006',\n",
       "       'MA007', 'MA008', 'MA009', 'MA010', 'MA011', 'MA012', 'MA013',\n",
       "       'MA014', 'MA015', 'MA016', 'MA017', 'MA018', 'MA019', 'MA020',\n",
       "       'MA021', 'MA022', 'MA023', 'MA024', 'MA025', 'MA026', 'MA027',\n",
       "       'MA028', 'MA029', 'MA030', 'MA031', 'MA032', 'MA033', 'MA034',\n",
       "       'MA035', 'MA036', 'MA037', 'MA038', 'MA039', 'MA040', 'MA041',\n",
       "       'MA042', 'MA043', 'MA044', 'MA045', 'MA046', 'MA047', 'MA048',\n",
       "       'MA049', 'MA050', 'MA051', 'MA052', 'MA053', 'MA054', 'MA055',\n",
       "       'MA056', 'MA057', 'MA058', 'MA059', 'MA060', 'MA061', 'MA062',\n",
       "       'MA063', 'MA064', 'MA065', 'MA066', 'MA067', 'MA068', 'MA069',\n",
       "       'MA070', 'MA071', 'MA072', 'MA073', 'MA074', 'MA075', 'MA076',\n",
       "       'MA077', 'MA078', 'MA079', 'MA080', 'MA081', 'MA082', 'MA083',\n",
       "       'MA084', 'MA085', 'MA086', 'MA087', 'MA088', 'MA089', 'MA090',\n",
       "       'MA091', 'MA092', 'MA093', 'MA094', 'MA095'], dtype='<U5')"
      ]
     },
     "execution_count": 19,
     "metadata": {},
     "output_type": "execute_result"
    }
   ],
   "source": [
    "nenufar._antenna_names"
   ]
  },
  {
   "cell_type": "code",
   "execution_count": 21,
   "metadata": {},
   "outputs": [],
   "source": [
    "plt.figure()\n",
    "plt.plot(frequencies,NenuFAR_sensitivity)\n",
    "plt.xlabel('Frequencies [MHz]')\n",
    "plt.ylabel('Sensitivity [Jy]')\n",
    "plt.title('NenuFAR sensitivity with frequencies')\n",
    "plt.grid()\n",
    "plt.show()"
   ]
  },
  {
   "cell_type": "markdown",
   "metadata": {},
   "source": [
    "## Loading output data"
   ]
  },
  {
   "cell_type": "markdown",
   "metadata": {},
   "source": [
    "### MSB"
   ]
  },
  {
   "cell_type": "code",
   "execution_count": 4,
   "metadata": {},
   "outputs": [],
   "source": [
    "data_msb = pd.read_csv(r\"/Users/emauduit/Documents/These/target_selection/Runs/2024-09-03T18h11/main_output.csv\", delimiter=';')\n",
    "#'/Users/emauduit/Documents/These/target_selection/Runs/2024-07-04T23h06/main_output.csv',delimiter=';') V1 manuscrit"
   ]
  },
  {
   "cell_type": "code",
   "execution_count": 9,
   "metadata": {},
   "outputs": [
    {
     "data": {
      "text/plain": [
       "Index(['name', 'planet_mass', 'planet_radius', 'planet_luminosity',\n",
       "       'star_planet_distance', 'planet_rotation_rate', 'planet_orbital_period',\n",
       "       'star_simbad_id', 'star_mass', 'star_radius', 'star_age',\n",
       "       'earth_distance', 'star_magfield', 'star_rotperiod', 'star_luminosity',\n",
       "       'spectral_type', 'spectral_type_code', 'star_effective_temp',\n",
       "       'dynamo_density', 'dynamo_radius', 'B_dyn', 'B_eq', 'magnetic_moment',\n",
       "       'standoff_distance', 'sw_density', 'sw_velocity', 'coronal_temperature',\n",
       "       'sw_magfield', 'alfven_velocity', 'magnetic_field_planet',\n",
       "       'freq_max_planet', 'pow_emission_kinetic', 'pow_emission_magnetic',\n",
       "       'pow_emission_spi', 'flux_kinetic_au', 'flux_magnetic_au',\n",
       "       'flux_spi_au', 'pow_received_kinetic', 'pow_received_magnetic',\n",
       "       'pow_received_spi', 'freq_max_star'],\n",
       "      dtype='object')"
      ]
     },
     "execution_count": 9,
     "metadata": {},
     "output_type": "execute_result"
    }
   ],
   "source": [
    "data_msb.keys()"
   ]
  },
  {
   "cell_type": "code",
   "execution_count": 5,
   "metadata": {},
   "outputs": [],
   "source": [
    "target_name = np.array(data_msb['name'][1:],dtype='str')\n",
    "Pkin_msb = np.array(data_msb['pow_received_kinetic'][1:],dtype='float')\n",
    "Pmag_msb = np.array(data_msb['pow_received_magnetic'][1:],dtype='float')\n",
    "Pspi_msb = np.array(data_msb['pow_received_spi'][1:],dtype='float')\n",
    "\n",
    "fmax_planet_msb = np.array(data_msb['freq_max_planet'][1:],dtype='float')\n",
    "fmax_star_msb = np.array(data_msb['freq_max_star'][1:],dtype='float')\n",
    "\n",
    "star_age_msb = np.array(data_msb['star_age'][1:], dtype='float')\n",
    "Mp_msb = np.array(data_msb['planet_mass'][1:], dtype='float')\n",
    "Rp_msb = np.array(data_msb['planet_radius'][1:], dtype='float')\n",
    "s_msb = np.array(data_msb['earth_distance'][1:], dtype='float')\n",
    "d_msb = np.array(data_msb['star_planet_distance'][1:], dtype='float')\n",
    "sp_type_msb = np.array(data_msb['spectral_type'][1:], dtype='str')\n",
    "\n",
    "\n",
    "mask_age = star_age_msb != 5.2e9"
   ]
  },
  {
   "cell_type": "code",
   "execution_count": 6,
   "metadata": {},
   "outputs": [],
   "source": [
    "output_msb = pd.DataFrame({'name' : target_name,\n",
    "                'planet_mass' : Mp_msb,\n",
    "                'planet_radius': Rp_msb,\n",
    "                'star_planet_distance' : d_msb,\n",
    "                'star_age' : star_age_msb,\n",
    "                'spectral_type' : sp_type_msb,\n",
    "                'earth_distance' : s_msb,\n",
    "                'pow_received_kinetic' : Pkin_msb, \n",
    "                'pow_received_magnetic' : Pmag_msb, \n",
    "                'freq_max_planet':fmax_planet_msb,\n",
    "                'pow_received_spi' : Pspi_msb,  \n",
    "                'freq_max_star' : fmax_star_msb})"
   ]
  },
  {
   "cell_type": "code",
   "execution_count": null,
   "metadata": {},
   "outputs": [],
   "source": [
    "output_msb[:10]"
   ]
  },
  {
   "cell_type": "markdown",
   "metadata": {},
   "source": [
    "- Pkin"
   ]
  },
  {
   "cell_type": "code",
   "execution_count": 13,
   "metadata": {},
   "outputs": [],
   "source": [
    "plt.figure(figsize=(10,7))\n",
    "plt.scatter(fmax_planet_msb[~np.isnan(Pkin_msb)],Pkin_msb[~np.isnan(Pkin_msb)], marker='+', color ='tab:blue', label='P_kin')\n",
    "plt.plot([10,10],[np.min(Pkin_msb[~np.isnan(Pkin_msb)]),np.max(Pkin_msb[~np.isnan(Pkin_msb)])],linestyle='dashed', color='black')\n",
    "plt.xlabel('Maximum frequency emission [MHz]')\n",
    "plt.ylabel('Expected kinetic flux at Earth [mJy]')\n",
    "plt.title('Predicted radio flux with respect to maximum frequency.')\n",
    "plt.xscale('log')\n",
    "plt.yscale('log')\n",
    "plt.grid()\n",
    "plt.legend()\n",
    "plt.savefig('/Users/emauduit/Documents/These/target_selection/Etudes/emission/Pkin_vs_fmax.png', transparent=True, bbox_inches='tight', dpi=150)\n",
    "plt.show()"
   ]
  },
  {
   "cell_type": "markdown",
   "metadata": {},
   "source": [
    "- Pmag"
   ]
  },
  {
   "cell_type": "code",
   "execution_count": 9,
   "metadata": {},
   "outputs": [],
   "source": [
    "fig,ax = plt.subplots(figsize=(10,7))\n",
    "ax.scatter(fmax_planet_msb[~np.isnan(Pmag_msb)], Pmag_msb[~np.isnan(Pmag_msb)], marker='+', color='tab:blue')\n",
    "#telescopes\n",
    "ax.plot(frequencies,NenuFAR_sensitivity*1e3, color='tab:red', label='NenuFAR')\n",
    "#ax.text(40,8,'NenuFAR', color='tab:red', fontsize=14)\n",
    "ax.plot([14,19,30,60,75],[2.5e2,1e2,4e1,2e1,5e1], color = 'goldenrod', label='LOFAR')\n",
    "ax.plot([130,160,190,200,250],[1,9e-1,1,2,6], color = 'goldenrod')\n",
    "#ax.text(115,80, 'LOFAR', color='goldenrod', fontsize=14)\n",
    "ax.plot([10,30],[1e1,1e1], color='forestgreen', label='UTR-2')\n",
    "#ax.text(15,5, 'UTR-2', color='forestgreen', fontsize=14)\n",
    "ax.plot([50,90,200,350],[5e-1,3e-1,1.5e-1,6e-2], color='purple', label='SKA 1 low')\n",
    "#ax.text(350,8e-2,'SKA 1 low', color='purple', fontsize=14)\n",
    "ax.plot([50,90,200,350],[5e-2,3e-2,1.5e-2,6e-3], color='purple', linestyle='dashed', label = 'SKA 2 low')\n",
    "#ax.text(350,8e-3,'SKA 2 low', color='purple', fontsize=14)\n",
    "ax.plot([70,80],[9e1,9e1], linewidth=5, color='darkcyan', label='VLA')\n",
    "#ax.text(70,1e2, 'VLA', color='darkcyan',fontsize=14)\n",
    "ax.scatter(150,3, color='y', label='GMRT')\n",
    "#ax.text(140,4, 'GMRT', color='y', fontsize=14)\n",
    "\n",
    "ax.plot([10.0,10.0],[1e-9,1e10], linestyle = 'dashed', color='black',label='coupure\\nionosphérique')\n",
    "rect = plt.Rectangle((1e-2,1e-9),10-1e-2,1e19,facecolor='black',alpha=0.1)\n",
    "ax.add_patch(rect)\n",
    "ax.set_xlabel('$f_{c,p}^{max}$  [MHz]', fontsize=18)\n",
    "ax.set_ylabel('$\\Phi_{radio}^{mag}$  [mJy]', fontsize=18)\n",
    "ax.tick_params(axis='both',labelsize=14)\n",
    "ax.set_xlim(1e-2,3e4)\n",
    "ax.set_ylim(1e-9,1e6)\n",
    "ax.set_xscale('log')\n",
    "ax.set_yscale('log')\n",
    "ax.set_title('MSB')\n",
    "plt.grid()\n",
    "plt.legend(fontsize=12)\n",
    "plt.tight_layout()\n",
    "plt.savefig('/Users/emauduit/Documents/These/phd-manuscript/ch4/fig/plot_Pmag_fp_MSB.png',transparent=True,bbox_inches='tight', dpi=150 )\n",
    "plt.show()\n",
    "\n"
   ]
  },
  {
   "cell_type": "code",
   "execution_count": 19,
   "metadata": {},
   "outputs": [],
   "source": [
    "plt.figure(figsize=(10,7))\n",
    "plt.scatter(fmax_planet_msb[~np.isnan(Pmag_msb)], Pmag_msb[~np.isnan(Pmag_msb)], marker='+', color='tab:red',label='P_mag')\n",
    "plt.plot([10,10],[np.min(Pmag_msb[~np.isnan(Pmag_msb)]),np.max(Pmag_msb[~np.isnan(Pmag_msb)])],linestyle='dashed', color='black')\n",
    "plt.xlabel('Maximum frequency emission [MHz]')\n",
    "plt.ylabel('Expected magnetic flux at Earth [mJy]')\n",
    "plt.title('Predicted radio flux with respect to maximum frequency.')\n",
    "plt.xscale('log')\n",
    "plt.yscale('log')\n",
    "plt.grid()\n",
    "plt.legend()\n",
    "plt.savefig('/Users/emauduit/Documents/These/target_selection/Etudes/emission/Pmag_vs_fmax_msb.png', transparent=True, bbox_inches='tight', dpi=150)\n",
    "plt.show()"
   ]
  },
  {
   "cell_type": "markdown",
   "metadata": {},
   "source": [
    "- Pspi"
   ]
  },
  {
   "cell_type": "code",
   "execution_count": 8,
   "metadata": {},
   "outputs": [],
   "source": [
    "fig,ax = plt.subplots(figsize=(10,7))\n",
    "ax.scatter(fmax_star_msb[~np.isnan(Pspi_msb)], Pspi_msb[~np.isnan(Pspi_msb)], marker='+', color='tab:blue')#,label='$\\Phi_{radio}^{SPI}$')\n",
    "#telescopes\n",
    "ax.plot(frequencies,NenuFAR_sensitivity*1e3, color='tab:red', label='NenuFAR')\n",
    "#ax.text(40,8,'NenuFAR', color='tab:red', fontsize=14)\n",
    "ax.plot([14,19,30,60,75],[2.5e2,1e2,4e1,2e1,5e1], color = 'goldenrod', label='LOFAR')\n",
    "ax.plot([130,160,190,200,250],[1,9e-1,1,2,6], color = 'goldenrod')\n",
    "#ax.text(115,80, 'LOFAR', color='goldenrod', fontsize=14)\n",
    "ax.plot([10,30],[1e1,1e1], color='forestgreen', label='UTR-2')\n",
    "#ax.text(15,5, 'UTR-2', color='forestgreen', fontsize=14)\n",
    "ax.plot([50,90,200,350],[5e-1,3e-1,1.5e-1,6e-2], color='purple', label='SKA 1 low')\n",
    "#ax.text(350,8e-2,'SKA 1 low', color='purple', fontsize=14)\n",
    "ax.plot([50,90,200,350],[5e-2,3e-2,1.5e-2,6e-3], color='purple', linestyle='dashed', label = 'SKA 2 low')\n",
    "#ax.text(350,8e-3,'SKA 2 low', color='purple', fontsize=14)\n",
    "ax.plot([70,80],[9e1,9e1], linewidth=5, color='darkcyan', label='VLA')\n",
    "#ax.text(70,1e2, 'VLA', color='darkcyan',fontsize=14)\n",
    "ax.scatter(150,3, color='y', label='GMRT')\n",
    "#ax.text(140,4, 'GMRT', color='y', fontsize=14)\n",
    "\n",
    "ax.plot([10.0,10.0],[1e-9,1e10], linestyle = 'dashed', color='black')\n",
    "rect = plt.Rectangle((1e-2,1e-9),10-1e-2,1e19,facecolor='black',alpha=0.1,label='coupure\\nionosphérique')\n",
    "ax.add_patch(rect)\n",
    "ax.set_xlabel('$f_{c,*}^{max}$  [MHz]', fontsize=18)\n",
    "ax.set_ylabel('$\\Phi_{radio}^{SPI}$  [mJy]', fontsize=18)\n",
    "ax.tick_params(axis='both',labelsize=14)\n",
    "ax.set_xlim(1e-2,3e4)\n",
    "ax.set_ylim(1e-9,1e6)\n",
    "ax.set_xscale('log')\n",
    "ax.set_yscale('log')\n",
    "ax.set_title('MSB')\n",
    "plt.grid()\n",
    "plt.legend(fontsize=12)\n",
    "plt.tight_layout()\n",
    "plt.savefig('/Users/emauduit/Documents/These/phd-manuscript/ch4/fig/plot_Pspi_fstar_MSB.png', transparent=True, bbox_inches='tight', dpi=150 )\n",
    "plt.show()"
   ]
  },
  {
   "cell_type": "code",
   "execution_count": 45,
   "metadata": {},
   "outputs": [],
   "source": [
    "plt.figure(figsize=(10,7))\n",
    "plt.scatter(fmax_star_msb[~np.isnan(Pspi_msb) & mask_age],Pspi_msb[~np.isnan(Pspi_msb) & mask_age ],marker='+', color='tab:green', label='P_spi')\n",
    "plt.plot([10,10],[np.min(Pspi_msb[~np.isnan(Pspi_msb) & mask_age ]),np.max(Pspi_msb[~np.isnan(Pspi_msb) & mask_age])],linestyle='dashed', color='black')\n",
    "plt.xlabel('Maximum frequency emission [MHz]')\n",
    "plt.ylabel('Expected SPI flux at Earth [mJy]')\n",
    "plt.title('Predicted radio flux with respect to maximum frequency.')\n",
    "plt.xscale('log')\n",
    "plt.yscale('log')\n",
    "plt.grid()\n",
    "plt.legend()\n",
    "plt.savefig('/Users/emauduit/Documents/These/target_selection/Etudes/emission/Pspi_vs_fmax.png', transparent=True, bbox_inches='tight', dpi=150)\n",
    "plt.show()"
   ]
  },
  {
   "cell_type": "markdown",
   "metadata": {},
   "source": [
    "- all"
   ]
  },
  {
   "cell_type": "code",
   "execution_count": 46,
   "metadata": {},
   "outputs": [],
   "source": [
    "plt.figure(figsize=(10,7))\n",
    "#plt.scatter(fmax_planet[~np.isnan(Pkin)],Pkin[~np.isnan(Pkin)], marker='+', color ='tab:blue', label='P_kin')\n",
    "plt.scatter(fmax_planet_msb[~np.isnan(Pmag_msb)], Pmag_msb[~np.isnan(Pmag_msb)], marker='x', color='tab:blue',label='P_mag')\n",
    "plt.scatter(fmax_star_msb[~np.isnan(Pspi_msb) & mask_age],Pspi_msb[~np.isnan(Pspi_msb) & mask_age],marker='x', color='tab:orange', label='P_spi')\n",
    "plt.plot(frequencies,NenuFAR_sensitivity*1e3, linestyle='dashed', color='black', label='NenuFAR sensitivity')\n",
    "plt.plot([10,10],[np.min(Pmag_msb[~np.isnan(Pmag_msb)]),np.max(Pmag_msb[~np.isnan(Pmag_msb)])], color='black', label='Ionospheric cut off')\n",
    "plt.xlabel('Maximum frequency emission [MHz]')\n",
    "plt.ylabel('Expected flux at Earth [mJy]')\n",
    "plt.title('Predicted radio flux with respect to maximum frequency.')\n",
    "plt.xscale('log')\n",
    "plt.yscale('log')\n",
    "plt.grid()\n",
    "plt.legend()\n",
    "plt.savefig('/Users/emauduit/Documents/These/target_selection/Etudes/emission/P_vs_fmax.png', transparent=True, bbox_inches='tight', dpi=150)\n",
    "plt.show()"
   ]
  },
  {
   "cell_type": "markdown",
   "metadata": {},
   "source": [
    "Pic à 3.6 MHz en SPI :\n",
    "Vient du forçage de t*=5.2 Gyr si on ne connait pas l'âge de l'étoile"
   ]
  },
  {
   "cell_type": "code",
   "execution_count": null,
   "metadata": {},
   "outputs": [],
   "source": [
    "tau = 2.56e7  # yr\n",
    "K = 0.6709505359255223\n",
    "rotperiod = K * pow(1 + (5.2e9 / tau), 0.7)\n",
    "print(rotperiod)\n",
    "Psun = 25.5  # days\n",
    "Bsun = 1.435e-4  # T\n",
    "magfield = Bsun * Psun / rotperiod\n",
    "\n",
    "me = 9.1093897e-31  # kg\n",
    "e = 1.60217733e-19  # C\n",
    "freq = e * magfield / (2 * np.pi * me)\n",
    "print(freq/1e6)"
   ]
  },
  {
   "cell_type": "markdown",
   "metadata": {},
   "source": [
    "### RC"
   ]
  },
  {
   "cell_type": "code",
   "execution_count": 10,
   "metadata": {},
   "outputs": [],
   "source": [
    "data_rc = pd.read_csv(r'/Users/emauduit/Documents/These/target_selection/Runs/2024-09-03T18h18/main_output.csv',delimiter=';')\n",
    "#'/Users/emauduit/Documents/These/target_selection/Runs/2024-07-04T23h08/main_output.csv',delimiter=';')"
   ]
  },
  {
   "cell_type": "code",
   "execution_count": 11,
   "metadata": {},
   "outputs": [],
   "source": [
    "target_name = np.array(data_rc['name'][1:],dtype='str')\n",
    "Pkin_rc = np.array(data_rc['pow_received_kinetic'][1:],dtype='float')\n",
    "Pmag_rc = np.array(data_rc['pow_received_magnetic'][1:],dtype='float')\n",
    "Pspi_rc = np.array(data_rc['pow_received_spi'][1:],dtype='float')\n",
    "\n",
    "fmax_planet_rc = np.array(data_rc['freq_max_planet'][1:],dtype='float')\n",
    "fmax_star_rc = np.array(data_rc['freq_max_star'][1:],dtype='float')\n",
    "\n",
    "star_age_rc = np.array(data_rc['star_age'][1:], dtype='float')\n",
    "Mp_rc = np.array(data_rc['planet_mass'][1:], dtype='float')\n",
    "Rp_rc = np.array(data_rc['planet_radius'][1:], dtype='float')\n",
    "s_rc = np.array(data_rc['earth_distance'][1:], dtype='float')\n",
    "d_rc = np.array(data_rc['star_planet_distance'][1:], dtype='float')\n",
    "sp_type_rc = np.array(data_rc['spectral_type'][1:], dtype='str')\n",
    "\n",
    "mask_age_rc = star_age_rc != 5.2e9"
   ]
  },
  {
   "cell_type": "code",
   "execution_count": 12,
   "metadata": {},
   "outputs": [],
   "source": [
    "output_rc = pd.DataFrame({'name' : target_name,\n",
    "                'planet_mass' : Mp_rc,\n",
    "                'planet_radius': Rp_rc,\n",
    "                'star_planet_distance' : d_rc,\n",
    "                'star_age' : star_age_rc,\n",
    "                'spectral_type' : sp_type_rc,\n",
    "                'earth_distance' : s_rc,\n",
    "                'pow_received_kinetic' : Pkin_rc, \n",
    "                'pow_received_magnetic' : Pmag_rc, \n",
    "                'freq_max_planet':fmax_planet_rc,\n",
    "                'pow_received_spi' : Pspi_rc,  \n",
    "                'freq_max_star' : fmax_star_rc})"
   ]
  },
  {
   "cell_type": "code",
   "execution_count": 13,
   "metadata": {},
   "outputs": [],
   "source": [
    "fig,ax = plt.subplots(figsize=(10,7))\n",
    "ax.scatter(fmax_planet_rc[~np.isnan(Pmag_rc)], Pmag_rc[~np.isnan(Pmag_rc)], marker='+', color='tab:blue')#,label='$\\Phi_{radio}^{mag}$')\n",
    "#telescopes\n",
    "ax.plot(frequencies,NenuFAR_sensitivity*1e3, color='tab:red', label='NenuFAR')\n",
    "#ax.text(40,8,'NenuFAR', color='tab:red', fontsize=14)\n",
    "ax.plot([14,19,30,60,75],[2.5e2,1e2,4e1,2e1,5e1], color = 'goldenrod', label='LOFAR')\n",
    "ax.plot([130,160,190,200,250],[1,9e-1,1,2,6], color = 'goldenrod')\n",
    "#ax.text(115,80, 'LOFAR', color='goldenrod', fontsize=14)\n",
    "ax.plot([10,30],[1e1,1e1], color='forestgreen', label='UTR-2')\n",
    "#ax.text(15,5, 'UTR-2', color='forestgreen', fontsize=14)\n",
    "ax.plot([50,90,200,350],[5e-1,3e-1,1.5e-1,6e-2], color='purple', label='SKA 1 low')\n",
    "#ax.text(350,8e-2,'SKA 1 low', color='purple', fontsize=14)\n",
    "ax.plot([50,90,200,350],[5e-2,3e-2,1.5e-2,6e-3], color='purple', linestyle='dashed', label = 'SKA 2 low')\n",
    "#ax.text(350,8e-3,'SKA 2 low', color='purple', fontsize=14)\n",
    "ax.plot([70,80],[9e1,9e1], linewidth=5, color='darkcyan', label='VLA')\n",
    "#ax.text(70,1e2, 'VLA', color='darkcyan',fontsize=14)\n",
    "ax.scatter(150,3, color='y', label='GMRT')\n",
    "#ax.text(140,4, 'GMRT', color='y', fontsize=14)\n",
    "\n",
    "ax.plot([10.0,10.0],[1e-9,1e10], linestyle = 'dashed', color='black',label='coupure\\nionosphérique')\n",
    "rect = plt.Rectangle((1e-2,1e-9),10-1e-2,1e19,facecolor='black',alpha=0.1)\n",
    "ax.add_patch(rect)\n",
    "ax.set_xlabel('$f_{c,p}^{max}$  [MHz]', fontsize=18)\n",
    "ax.set_ylabel('$\\Phi_{radio}^{mag}$  [mJy]', fontsize=18)\n",
    "ax.tick_params(axis='both',labelsize=14)\n",
    "ax.set_xlim(1e-2,3e4)\n",
    "ax.set_ylim(1e-9,1e6)\n",
    "ax.set_xscale('log')\n",
    "ax.set_yscale('log')\n",
    "ax.set_title('RC')\n",
    "plt.grid()\n",
    "plt.legend(fontsize=12)\n",
    "plt.tight_layout()\n",
    "plt.savefig('/Users/emauduit/Documents/These/phd-manuscript/ch4/fig/plot_Pmag_fp_RC.png',transparent=True,bbox_inches='tight', dpi=150 )\n",
    "plt.show()"
   ]
  },
  {
   "cell_type": "code",
   "execution_count": 14,
   "metadata": {},
   "outputs": [],
   "source": [
    "fig,ax = plt.subplots(figsize=(10,7))\n",
    "ax.scatter(fmax_star_rc[~np.isnan(Pspi_rc)], Pspi_rc[~np.isnan(Pspi_rc)], marker='+', color='tab:blue')#,label='$\\Phi_{radio}^{SPI}$')\n",
    "#telescopes\n",
    "ax.plot(frequencies,NenuFAR_sensitivity*1e3, color='tab:red', label='NenuFAR')\n",
    "#ax.text(40,8,'NenuFAR', color='tab:red', fontsize=14)\n",
    "ax.plot([14,19,30,60,75],[2.5e2,1e2,4e1,2e1,5e1], color = 'goldenrod', label='LOFAR')\n",
    "ax.plot([130,160,190,200,250],[1,9e-1,1,2,6], color = 'goldenrod')\n",
    "#ax.text(115,80, 'LOFAR', color='goldenrod', fontsize=14)\n",
    "ax.plot([10,30],[1e1,1e1], color='forestgreen', label='UTR-2')\n",
    "#ax.text(15,5, 'UTR-2', color='forestgreen', fontsize=14)\n",
    "ax.plot([50,90,200,350],[5e-1,3e-1,1.5e-1,6e-2], color='purple', label='SKA 1 low')\n",
    "#ax.text(350,8e-2,'SKA 1 low', color='purple', fontsize=14)\n",
    "ax.plot([50,90,200,350],[5e-2,3e-2,1.5e-2,6e-3], color='purple', linestyle='dashed', label = 'SKA 2 low')\n",
    "#ax.text(350,8e-3,'SKA 2 low', color='purple', fontsize=14)\n",
    "ax.plot([70,80],[9e1,9e1], linewidth=5, color='darkcyan', label='VLA')\n",
    "#ax.text(70,1e2, 'VLA', color='darkcyan',fontsize=14)\n",
    "ax.scatter(150,3, color='y', label='GMRT')\n",
    "#ax.text(140,4, 'GMRT', color='y', fontsize=14)\n",
    "\n",
    "ax.plot([10.0,10.0],[1e-9,1e11], linestyle = 'dashed', color='black', label='coupure\\nionosphérique')\n",
    "rect = plt.Rectangle((1e-2,1e-9),10-1e-2,1e19,facecolor='black',alpha=0.1)\n",
    "ax.add_patch(rect)\n",
    "ax.set_xlabel('$f_{c,*}^{max}$ [MHz]', fontsize=18)\n",
    "ax.set_ylabel('$\\Phi_{radio}^{SPI}$ [mJy]', fontsize=18)\n",
    "ax.tick_params(axis='both',labelsize=14)\n",
    "ax.set_xlim(1e-2,3e4)\n",
    "ax.set_ylim(1e-9,1e6)\n",
    "ax.set_xscale('log')\n",
    "ax.set_yscale('log')\n",
    "ax.set_title('RC')\n",
    "plt.grid()\n",
    "plt.legend(fontsize=12)\n",
    "plt.tight_layout()\n",
    "plt.savefig('/Users/emauduit/Documents/These/phd-manuscript/ch4/fig/plot_Pspi_fstar_RC.png',transparent=True,bbox_inches='tight', dpi=150 )\n",
    "plt.show()"
   ]
  },
  {
   "cell_type": "markdown",
   "metadata": {},
   "source": [
    "## Sélection de cibles"
   ]
  },
  {
   "cell_type": "code",
   "execution_count": 66,
   "metadata": {},
   "outputs": [],
   "source": [
    "data_msb_mag_sorted=output_msb.sort_values(by = [\"pow_received_magnetic\"], ascending=[False])\n",
    "data_msb_mag_small=data_msb_mag_sorted[data_msb_mag_sorted['freq_max_planet'] >= 4.99].iloc[0:100]\n",
    "data_msb_spi_sorted=output_msb.sort_values(by = [\"pow_received_spi\"], ascending=[False])\n",
    "data_msb_spi_small=data_msb_spi_sorted[data_msb_spi_sorted['freq_max_star'] >= 4.99].iloc[0:100]"
   ]
  },
  {
   "cell_type": "code",
   "execution_count": 67,
   "metadata": {},
   "outputs": [
    {
     "data": {
      "text/plain": [
       "Index(['name', 'planet_mass', 'planet_radius', 'star_planet_distance',\n",
       "       'star_age', 'spectral_type', 'earth_distance', 'pow_received_kinetic',\n",
       "       'pow_received_magnetic', 'freq_max_planet', 'pow_received_spi',\n",
       "       'freq_max_star'],\n",
       "      dtype='object')"
      ]
     },
     "execution_count": 67,
     "metadata": {},
     "output_type": "execute_result"
    }
   ],
   "source": [
    "data_msb_mag_small.keys()"
   ]
  },
  {
   "cell_type": "code",
   "execution_count": 68,
   "metadata": {},
   "outputs": [],
   "source": [
    "data_msb_mag_small.to_csv('data_msb_mag_top100_new.csv')\n",
    "data_msb_spi_small.to_csv('data_msb_spi_top100_new.csv')"
   ]
  },
  {
   "cell_type": "code",
   "execution_count": 69,
   "metadata": {},
   "outputs": [],
   "source": [
    "data_rc_mag_sorted=output_rc.sort_values(by = [\"pow_received_magnetic\"], ascending=[False])\n",
    "data_rc_mag_small=data_rc_mag_sorted[data_rc_mag_sorted['freq_max_planet'] >= 4.99].iloc[0:100]\n",
    "data_rc_spi_sorted=output_rc.sort_values(by = [\"pow_received_spi\"], ascending=[False])\n",
    "data_rc_spi_small=data_rc_spi_sorted[data_rc_spi_sorted['freq_max_star'] >= 4.99].iloc[0:100]"
   ]
  },
  {
   "cell_type": "code",
   "execution_count": 70,
   "metadata": {},
   "outputs": [],
   "source": [
    "data_rc_mag_small.to_csv('data_rc_mag_top100_new.csv')\n",
    "data_rc_spi_small.to_csv('data_rc_spi_top100_new.csv')"
   ]
  },
  {
   "cell_type": "code",
   "execution_count": 71,
   "metadata": {},
   "outputs": [],
   "source": [
    "names_msb_mag = np.array(data_msb_mag_small.index, dtype='str')\n",
    "names_msb_spi = np.array(data_msb_spi_small.index, dtype='str')"
   ]
  },
  {
   "cell_type": "code",
   "execution_count": 72,
   "metadata": {},
   "outputs": [],
   "source": [
    "df_msb = pd.concat([data_msb_mag_small,data_msb_spi_small])\n",
    "df_msb_uniq = df_msb.drop_duplicates(subset='name')\n",
    "df_msb_uniq.to_csv('data_msb_top100_new.csv')"
   ]
  },
  {
   "cell_type": "code",
   "execution_count": 73,
   "metadata": {},
   "outputs": [],
   "source": [
    "df_rc = pd.concat([data_rc_mag_small,data_rc_spi_small])\n",
    "df_rc_uniq = df_rc.drop_duplicates(subset='name')\n",
    "df_rc_uniq.to_csv('data_rc_top100_new.csv')"
   ]
  },
  {
   "cell_type": "code",
   "execution_count": 75,
   "metadata": {},
   "outputs": [],
   "source": [
    "df_msb_uniq = pd.read_csv('data_msb_top100_new.csv', delimiter=',',index_col=1)\n",
    "df_rc_uniq = pd.read_csv('data_rc_top100_new.csv',delimiter=',',index_col=1)"
   ]
  },
  {
   "cell_type": "code",
   "execution_count": 76,
   "metadata": {},
   "outputs": [],
   "source": [
    "df_msb_uniq =  df_msb_uniq.rename(columns={'pow_received_kinetic' : 'P_kin_msb',\n",
    "                    'pow_received_magnetic' : 'P_mag_msb', 'freq_max_planet' : 'f_p_msb', 'pow_received_spi' : 'P_spi_msb',\n",
    "                    'freq_max_star' : 'fstar_msb'})\n",
    "\n",
    "df_rc_uniq =  df_rc_uniq.rename(columns={'pow_received_kinetic' : 'P_kin_rc',\n",
    "                    'pow_received_magnetic' : 'P_mag_rc', 'freq_max_planet' : 'f_p_rc', 'pow_received_spi' : 'P_spi_rc',\n",
    "                    'freq_max_star' : 'fstar_rc'})"
   ]
  },
  {
   "cell_type": "code",
   "execution_count": 77,
   "metadata": {},
   "outputs": [
    {
     "data": {
      "text/plain": [
       "Index(['Unnamed: 0', 'planet_mass', 'planet_radius', 'star_planet_distance',\n",
       "       'star_age', 'spectral_type', 'earth_distance', 'P_kin_rc', 'P_mag_rc',\n",
       "       'f_p_rc', 'P_spi_rc', 'fstar_rc'],\n",
       "      dtype='object')"
      ]
     },
     "execution_count": 77,
     "metadata": {},
     "output_type": "execute_result"
    }
   ],
   "source": [
    "df_rc_uniq.keys()"
   ]
  },
  {
   "cell_type": "code",
   "execution_count": 78,
   "metadata": {},
   "outputs": [],
   "source": [
    "names_msb=np.array(df_msb_uniq.index)\n",
    "names_rc=np.array(df_rc_uniq.index)"
   ]
  },
  {
   "cell_type": "code",
   "execution_count": 79,
   "metadata": {},
   "outputs": [],
   "source": [
    "data_cross_MSB=df_msb_uniq.loc[:, ['planet_mass', 'planet_radius', 'star_planet_distance','star_age', 'spectral_type', 'earth_distance']]\n",
    "data_cross_RC=df_rc_uniq.loc[:, ['planet_mass', 'planet_radius', 'star_planet_distance','star_age', 'spectral_type', 'earth_distance']]"
   ]
  },
  {
   "cell_type": "code",
   "execution_count": 80,
   "metadata": {},
   "outputs": [],
   "source": [
    "data_cross_RC=data_cross_RC[~data_cross_RC.index.isin(names_msb)]\n",
    "data_cross=pd.concat([data_cross_MSB,data_cross_RC])"
   ]
  },
  {
   "cell_type": "code",
   "execution_count": 81,
   "metadata": {},
   "outputs": [
    {
     "data": {
      "text/plain": [
       "name\n",
       "GJ 1214 b     0.025710\n",
       "GJ 724 b      0.033820\n",
       "YZ Cet b      0.002200\n",
       "YZ Cet c      0.003590\n",
       "GJ 486 b      0.008870\n",
       "TOI-4481 b    0.006000\n",
       "GJ 367  b     0.001718\n",
       "GJ 1061 b     0.004530\n",
       "TOI-1685 b    0.009880\n",
       "TOI-732 b     0.007740\n",
       "Name: planet_mass, dtype: float64"
      ]
     },
     "execution_count": 81,
     "metadata": {},
     "output_type": "execute_result"
    }
   ],
   "source": [
    "data_cross['planet_mass'][0:10]"
   ]
  },
  {
   "cell_type": "code",
   "execution_count": 82,
   "metadata": {},
   "outputs": [],
   "source": [
    "data_param_MSB=df_msb_uniq.loc[:, ['P_kin_msb', 'P_mag_msb','f_p_msb', 'P_spi_msb', 'fstar_msb']]\n",
    "data_param_RC=df_rc_uniq.loc[:,['P_kin_rc', 'P_mag_rc','f_p_rc', 'P_spi_rc', 'fstar_rc']]"
   ]
  },
  {
   "cell_type": "code",
   "execution_count": 83,
   "metadata": {},
   "outputs": [],
   "source": [
    "data_param=data_param_MSB.join(data_param_RC,how='outer')"
   ]
  },
  {
   "cell_type": "code",
   "execution_count": 84,
   "metadata": {},
   "outputs": [],
   "source": [
    "data_cross=data_cross.join(data_param,how='outer')"
   ]
  },
  {
   "cell_type": "code",
   "execution_count": 85,
   "metadata": {},
   "outputs": [],
   "source": [
    "data_cross.to_csv('data_all_top100_new.csv')"
   ]
  },
  {
   "cell_type": "code",
   "execution_count": null,
   "metadata": {},
   "outputs": [],
   "source": []
  }
 ],
 "metadata": {
  "interpreter": {
   "hash": "570da124061f1229a43935d4392bd1ada54c3a2c5a88c928d628cf03c12cbe2f"
  },
  "kernelspec": {
   "display_name": "Python 3.8.8 ('python_these')",
   "language": "python",
   "name": "python3"
  },
  "language_info": {
   "codemirror_mode": {
    "name": "ipython",
    "version": 3
   },
   "file_extension": ".py",
   "mimetype": "text/x-python",
   "name": "python",
   "nbconvert_exporter": "python",
   "pygments_lexer": "ipython3",
   "version": "3.8.8"
  },
  "orig_nbformat": 4
 },
 "nbformat": 4,
 "nbformat_minor": 2
}
