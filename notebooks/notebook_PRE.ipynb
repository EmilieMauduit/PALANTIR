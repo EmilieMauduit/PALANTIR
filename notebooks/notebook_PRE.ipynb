{
 "cells": [
  {
   "cell_type": "code",
   "execution_count": 1,
   "metadata": {},
   "outputs": [],
   "source": [
    "%matplotlib qt"
   ]
  },
  {
   "cell_type": "code",
   "execution_count": 2,
   "metadata": {},
   "outputs": [],
   "source": [
    "import pandas as pd\n",
    "import numpy as np\n",
    "from star import Star\n",
    "from planet import Planet\n",
    "from dynamo_region import DynamoRegion\n",
    "from magnetic_moment import MagneticMoment,Reiners_Christensen\n",
    "from stellar_wind import StellarWind\n",
    "from target import Target\n",
    "import matplotlib.pyplot as plt"
   ]
  },
  {
   "cell_type": "markdown",
   "metadata": {},
   "source": [
    "## Comparison with Lynch 2018 or Griessmeier 2017"
   ]
  },
  {
   "cell_type": "code",
   "execution_count": null,
   "metadata": {},
   "outputs": [],
   "source": [
    "data =pd.read_csv(r'/Users/emauduit/Documents/Thèse/Sélection des cibles/Programmes/exoplanet.eu_catalog_all.csv') \n",
    "\n"
   ]
  },
  {
   "cell_type": "code",
   "execution_count": null,
   "metadata": {},
   "outputs": [],
   "source": [
    ",skiprows=105,names=['pl_name','star_name','default_flag','detection_type','disc_year', 'pl_refname','orbital_period','orbital_period_error_min', \n",
    "    'orbital_period_error_max', 'pl_orbperlim', 'semi_major_axis','semi_major_axis_error_min','semi_major_axis_error_max', 'pl_orbsmaxlim',\n",
    "    'radius', 'radius_error_min', 'radius_error_max', 'radius_lim', 'mass','mass_error_min','mass_error_max','pl_bmassjlim', 'mass_sini',\n",
    "    'mass_sini_error_min','mass_sini_error_max', 'pl_msinijlim','pl_bmassprov','eccentricity','eccentricity_error_min','eccentricity_error_max',\n",
    "    'pl_orbeccenlim','inclination', 'inclination_error_min', 'inclination_error_max', 'inclination_error_lim', 'ttv_flag', 'pl_imppar', \n",
    "    'pl_impparerr1', 'pl_impparerr2', 'pl_impparlim', 'st_refname', 'star_sp_type', 'star_teff', 'star_teff_error_min', 'star_teff_error_max', \n",
    "    'st_tefflim', 'star_radius', 'star_radius_error_min', 'star_radius_error_max', 'star_radius_error_lim', 'star_mass', 'star_mass_error_min', \n",
    "    'star_mass_error_max', 'star_mass_error_lim', 'star_metallicity', 'star_metallicity_error_min', 'star_metallicity_error_max', \n",
    "    'star_metallicity_error_lim', 'st_metratio', 'st_lum', 'st_lumerr1', 'st_lumerr2', 'st_lumlim', 'st_logg', 'st_loggerr1', 'st_loggerr2', \n",
    "    'st_logglim', 'star_age', 'star_age_error_min', 'star_age_error_max', 'star_age_error_lim', 'st_vsin', 'st_vsinerr1', 'st_vsinerr2',\n",
    "    'st_vsinlim', 'st_rotp', 'st_rotperr1', 'st_rotperr2', 'st_rotplim', 'sy_refname', 'rastr', 'ra', 'decstr', 'dec', 'star_distance', \n",
    "    'star_distance_error_min', 'star_distance_error_max', 'mag_v','sy_vmagerr1', 'sy_vmagerr2', 'mag_k', 'sy_kmagerr1', 'sy_kmagerr2', \n",
    "    'sy_gaiamag', 'sy_gaiamagerr1','sy_gaiamagerr2', 'rowupdate', 'pl_pubdate', 'releasedate'],header=0)"
   ]
  },
  {
   "cell_type": "code",
   "execution_count": null,
   "metadata": {},
   "outputs": [],
   "source": [
    "data.keys()"
   ]
  },
  {
   "cell_type": "code",
   "execution_count": null,
   "metadata": {},
   "outputs": [],
   "source": [
    "data1=data.reset_index()"
   ]
  },
  {
   "cell_type": "code",
   "execution_count": null,
   "metadata": {},
   "outputs": [],
   "source": [
    "list_target=['BD+20 1790 b', 'GJ 876 b','HATS-24 b', 'HD 130322 b','HD 210702 b', 'HD 5891 b', \n",
    "    'HD 73256 b', 'OGLE2-TR-L9 b', 'Pr 0211 b', 'TAP 26 b', 'tau Boo A b', 'V830 Tau b', 'WASP-14 b',\n",
    "    'WASP-140 b', 'WASP-167 b', 'WASP-18 b', 'WASP-43 b', 'WASP-77 A b']"
   ]
  },
  {
   "cell_type": "code",
   "execution_count": null,
   "metadata": {},
   "outputs": [],
   "source": [
    "list_target=['GJ 1214 b', 'HD 41004 B b','HATS-24 b', 'CVSO 30 b', 'GJ 436 b','HD 189733 b','Kepler-42 c',\n",
    "    'GJ 1132 b', '55 Cnc e','HD 73256 b', 'tau Boo A b', 'WASP-18 b', 'V830 Tau b', 'WASP-33 b', \n",
    "    'ups And b', 'HD 179949 b', 'HD 20782 b', 'HD 102195 b', 'eps Eridani b', '55 Cnc b','PTFO 8-8695 b',\n",
    "    ]"
   ]
  },
  {
   "cell_type": "code",
   "execution_count": null,
   "metadata": {},
   "outputs": [],
   "source": [
    "i = 0\n",
    "\n",
    "for target in data1.itertuples():\n",
    "    if target.Index in list_target :\n",
    "        print(target.star_distance)\n",
    "\n",
    "data_to_save=data1[data1['# name'].isin(list_target)]\n",
    "data_to_save=data_to_save.set_index('# name')\n",
    "data_to_save.to_csv(r'/Users/emauduit/Documents/Thèse/Sélection des cibles/Programmes/exoplanet.eu_catalog2.csv', sep=\",\")\n",
    "data_to_save.keys()"
   ]
  },
  {
   "cell_type": "markdown",
   "metadata": {},
   "source": [
    "## Creating list of 20 best candidates from RC and BSM models combined"
   ]
  },
  {
   "cell_type": "code",
   "execution_count": null,
   "metadata": {},
   "outputs": [],
   "source": [
    "data_MSB=pd.read_csv(\"/Users/emauduit/Documents/Thèse/Sélection des cibles/Programmes/main_MSB_top50.csv\",delimiter=';', index_col=0)\n",
    "data_RC=pd.read_csv(\"/Users/emauduit/Documents/Thèse/Sélection des cibles/Programmes/main_RC_top50.csv\",delimiter=';',index_col=0)"
   ]
  },
  {
   "cell_type": "code",
   "execution_count": null,
   "metadata": {},
   "outputs": [],
   "source": [
    "data_MSB.keys()"
   ]
  },
  {
   "cell_type": "code",
   "execution_count": null,
   "metadata": {},
   "outputs": [],
   "source": [
    "data_RC=data_RC.rename(columns={'magnetic_field':'B_RC' ,'magnetic_moment' : 'Mm_RC', 'freq_max' : 'fmax_RC','pow_received_magnetic' : 'Prad_RC' })\n",
    "data_MSB=data_MSB.rename(columns={'magnetic_field':'B_MSB' ,'magnetic_moment' : 'Mm_MSB', 'freq_max' : 'fmax_MSB','pow_received_magnetic' : 'Prad_MSB' })"
   ]
  },
  {
   "cell_type": "code",
   "execution_count": null,
   "metadata": {},
   "outputs": [],
   "source": [
    "names_RC=np.array(data_RC.index)\n",
    "names_MSB=np.array(data_MSB.index)"
   ]
  },
  {
   "cell_type": "code",
   "execution_count": null,
   "metadata": {},
   "outputs": [],
   "source": [
    "data_cross_MSB=data_MSB.loc[:, ['planet_mass', 'planet_radius', 'star_planet_distance','star_age', 'earth_distance']]\n",
    "data_cross_RC=data_RC.loc[:, ['planet_mass', 'planet_radius', 'star_planet_distance','star_age', 'earth_distance']]"
   ]
  },
  {
   "cell_type": "code",
   "execution_count": null,
   "metadata": {},
   "outputs": [],
   "source": [
    "data_cross_RC=data_cross_RC[~data_cross_RC.index.isin(names_MSB)]\n",
    "data_cross=pd.concat([data_cross_MSB,data_cross_RC])"
   ]
  },
  {
   "cell_type": "code",
   "execution_count": null,
   "metadata": {},
   "outputs": [],
   "source": [
    "data_cross"
   ]
  },
  {
   "cell_type": "code",
   "execution_count": null,
   "metadata": {},
   "outputs": [],
   "source": [
    "data_cross['planet_mass'][0:10]"
   ]
  },
  {
   "cell_type": "code",
   "execution_count": null,
   "metadata": {},
   "outputs": [],
   "source": [
    "data_param_MSB=data_MSB.loc[:, ['B_MSB','Mm_MSB', 'fmax_MSB','Prad_MSB']]\n",
    "data_param_RC=data_RC.loc[:,['B_RC','Mm_RC', 'fmax_RC','Prad_RC']]"
   ]
  },
  {
   "cell_type": "code",
   "execution_count": null,
   "metadata": {},
   "outputs": [],
   "source": [
    "data_param=data_param_MSB.join(data_param_RC,how='outer')"
   ]
  },
  {
   "cell_type": "code",
   "execution_count": null,
   "metadata": {},
   "outputs": [],
   "source": [
    "data_param"
   ]
  },
  {
   "cell_type": "markdown",
   "metadata": {},
   "source": [
    "    Créer un tableau pour le proceeding avec Mp, Rp, a, d, t*, Mm_RC, Mm_MSB, f_RC, f_MSB, P_RC,P_MSB"
   ]
  },
  {
   "cell_type": "code",
   "execution_count": null,
   "metadata": {},
   "outputs": [],
   "source": [
    "data_cross=data_cross.join(data_param,how='outer')"
   ]
  },
  {
   "cell_type": "code",
   "execution_count": null,
   "metadata": {},
   "outputs": [],
   "source": [
    "data_cross"
   ]
  },
  {
   "cell_type": "code",
   "execution_count": null,
   "metadata": {},
   "outputs": [],
   "source": [
    "data_cross_sorted=data_cross.sort_values(by = [\"Prad_MSB\"], ascending=[False])\n",
    "data_cross_sorted.to_csv(r'/Users/emauduit/Documents/Thèse/Sélection des cibles/Proceeding PRE/target_list.csv', sep=\",\")"
   ]
  },
  {
   "cell_type": "markdown",
   "metadata": {},
   "source": [
    "## Comparison with PRE2017"
   ]
  },
  {
   "cell_type": "code",
   "execution_count": null,
   "metadata": {},
   "outputs": [],
   "source": [
    "data_MSB17=pd.read_csv('/Users/emauduit/Documents/Thèse/Sélection des cibles/Proceeding PRE/comp_PRE2017_MSB.csv',delimiter=';', index_col=0)\n",
    "data_RC17=pd.read_csv('/Users/emauduit/Documents/Thèse/Sélection des cibles/Proceeding PRE/comp_PRE2017_RC.csv',delimiter=';', index_col=0)"
   ]
  },
  {
   "cell_type": "code",
   "execution_count": null,
   "metadata": {},
   "outputs": [],
   "source": [
    "data_RC17=data_RC17.rename(columns={'magnetic_moment' : 'Mm_RC', 'freq_max' : 'fmax_RC','pow_received_magnetic' : 'Prad_RC' })\n",
    "data_MSB17=data_MSB17.rename(columns={'magnetic_moment' : 'Mm_MSB', 'freq_max' : 'fmax_MSB','pow_received_magnetic' : 'Prad_MSB' })"
   ]
  },
  {
   "cell_type": "code",
   "execution_count": null,
   "metadata": {},
   "outputs": [],
   "source": [
    "data_param_MSB17=data_MSB17.loc[:, ['fmax_MSB','Prad_MSB']]\n",
    "data_param_RC17=data_RC17.loc[:,['fmax_RC','Prad_RC']]"
   ]
  },
  {
   "cell_type": "code",
   "execution_count": null,
   "metadata": {},
   "outputs": [],
   "source": [
    "data_param17=data_param_MSB17.join(data_param_RC17,how='outer')"
   ]
  },
  {
   "cell_type": "code",
   "execution_count": null,
   "metadata": {},
   "outputs": [],
   "source": [
    "data_param17.to_csv(r'/Users/emauduit/Documents/Thèse/Sélection des cibles/Proceeding PRE/comp_PRE2017.csv', sep=\",\")"
   ]
  },
  {
   "cell_type": "markdown",
   "metadata": {},
   "source": [
    "## Figure relation between $t_*$, $B_p$ and $\\mathcal{M}_p$"
   ]
  },
  {
   "cell_type": "code",
   "execution_count": null,
   "metadata": {},
   "outputs": [],
   "source": [
    "table_1MJ = pd.read_csv(r\"/Users/emauduit/Documents/Thèse/Sélection des cibles/Programmes/1MJ_log.csv\",delimiter=\";\")\n",
    "table_5MJ = pd.read_csv(r\"/Users/emauduit/Documents/Thèse/Sélection des cibles/Programmes/5MJ_log.csv\",delimiter=\";\")\n",
    "table_10MJ = pd.read_csv(r\"/Users/emauduit/Documents/Thèse/Sélection des cibles/Programmes/10MJ_log.csv\",delimiter=\";\")\n",
    "mag_moment_jup = 1.56e27  # A.m-2"
   ]
  },
  {
   "cell_type": "code",
   "execution_count": null,
   "metadata": {},
   "outputs": [],
   "source": [
    "stellar_ages=np.linspace(0.002,10,100)\n",
    "moment_magnetic=[]\n",
    "magnetic_field=[]\n",
    "\n",
    "f=open(\"RC_Lynch_2010.txt\",\"w\")\n",
    "f.write('age[Gyr],M_mag[MJ],B_planet[T]\\n')\n",
    "for i in range(100):\n",
    "    planet = Planet(\n",
    "            name=str(i),\n",
    "            mass=1.0,\n",
    "            radius={\"models\": ['radius_original'], \"radius\": 1.0},\n",
    "            distance=5.2,\n",
    "            worb={\"star_mass\": 1.0 , \"worb\": np.nan},\n",
    "            wrot=1.0,\n",
    "        )\n",
    "    star = Star(\n",
    "            name=str(i),\n",
    "            mass=1.0,\n",
    "            radius={\"models\": ['Tout'], \"radius\": 1.0},\n",
    "            age=stellar_ages[i],\n",
    "            obs_dist=2.4e-5,\n",
    "        )\n",
    "    planet.tidal_locking(age=star.age, star_mass=star.mass)\n",
    "    Mmag=Reiners_Christensen(planet,star,table_1MJ, table_5MJ, table_10MJ)\n",
    "    moment_magnetic.append(Mmag)\n",
    "    Bmag=1e-7 * 2 * Mmag * mag_moment_jup / pow(planet.unnormalize_radius(), 3)\n",
    "    magnetic_field.append(Bmag)\n",
    "    f.write(str(stellar_ages[i]) + ',' + str(Mmag) + ',' + str(Bmag) +'\\n')\n",
    "\n",
    "f.close()"
   ]
  },
  {
   "cell_type": "markdown",
   "metadata": {},
   "source": [
    "# Diagramme $\\Phi_{mag}$=f($f_c^{max}$)"
   ]
  },
  {
   "cell_type": "code",
   "execution_count": 3,
   "metadata": {},
   "outputs": [],
   "source": [
    "data_plot = pd.read_csv('/Users/emauduit/Documents/These/Articles/Proceeding PRE/data_fig1.txt',sep=';')\n",
    "data_plot = data_plot.set_index('Target')"
   ]
  },
  {
   "cell_type": "code",
   "execution_count": 22,
   "metadata": {},
   "outputs": [],
   "source": [
    "freq_MSB = data_plot['f_msb'] ; phi_MSB = data_plot['phi_msb']\n",
    "freq_RC = data_plot['f_rc'] ; phi_RC = data_plot['phi_rc']\n",
    "n_planet = np.linspace(1,25,25) "
   ]
  },
  {
   "cell_type": "code",
   "execution_count": 23,
   "metadata": {},
   "outputs": [],
   "source": [
    "fig,ax = plt.subplots(figsize=(10,7))\n",
    "ax.scatter(freq_MSB,phi_MSB,marker='^',color='tab:blue', label = 'MSB model', s=50)\n",
    "ax.scatter(freq_RC,phi_RC, marker='x', color='tab:orange',label='RC model', s=50)\n",
    "ax.plot([10.0,10.0],[0.8*np.min(phi_RC),1.1*np.max(phi_MSB)], linestyle = 'dashed', color='black')\n",
    "\n",
    "for i, txt in enumerate(n_planet) :\n",
    "    ax.annotate(str(int(txt)), (freq_MSB[i],phi_MSB[i]))\n",
    "    ax.annotate(str(int(txt)), (freq_RC[i],phi_RC[i]))\n",
    "\n",
    "rect = plt.Rectangle((4.0,0.8*np.min(phi_RC)),6,1.1*np.max(phi_MSB)-0.8*np.min(phi_RC),facecolor='black',alpha=0.1,label='Below ionospheric cut-off')\n",
    "ax.add_patch(rect)\n",
    "ax.set_xlabel('$f_c^{max}$ in [MHz]', fontsize=14)\n",
    "ax.set_ylabel('$\\Phi_{mag}$ in [mJy]', fontsize=14)\n",
    "ax.tick_params(axis='both',labelsize=12)\n",
    "ax.set_xlim(4,3000)\n",
    "ax.set_ylim(0.8*np.min(phi_RC),1.1*np.max(phi_MSB))\n",
    "ax.set_xscale('log')\n",
    "ax.set_yscale('log')\n",
    "plt.grid()\n",
    "plt.legend(fontsize=14)\n",
    "plt.tight_layout()\n",
    "plt.savefig('/Users/emauduit/Documents/These/Articles/Proceeding PRE/Figure_1.png', dpi=150)\n",
    "plt.show()\n"
   ]
  },
  {
   "cell_type": "code",
   "execution_count": null,
   "metadata": {},
   "outputs": [],
   "source": []
  }
 ],
 "metadata": {
  "interpreter": {
   "hash": "570da124061f1229a43935d4392bd1ada54c3a2c5a88c928d628cf03c12cbe2f"
  },
  "kernelspec": {
   "display_name": "Python 3.8.8 ('python_these')",
   "language": "python",
   "name": "python3"
  },
  "language_info": {
   "codemirror_mode": {
    "name": "ipython",
    "version": 3
   },
   "file_extension": ".py",
   "mimetype": "text/x-python",
   "name": "python",
   "nbconvert_exporter": "python",
   "pygments_lexer": "ipython3",
   "version": "3.8.8"
  },
  "orig_nbformat": 4
 },
 "nbformat": 4,
 "nbformat_minor": 2
}
