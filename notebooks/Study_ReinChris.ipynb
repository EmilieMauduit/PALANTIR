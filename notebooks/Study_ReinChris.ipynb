{
 "cells": [
  {
   "cell_type": "markdown",
   "metadata": {},
   "source": [
    "# Study of Reiners-Christensen model : comparison with Lynch, 2018"
   ]
  },
  {
   "cell_type": "code",
   "execution_count": 1,
   "metadata": {},
   "outputs": [],
   "source": [
    "#%matplotlib qt\n",
    "\n",
    "import pandas as pd\n",
    "import numpy as np\n",
    "import matplotlib.pyplot as plt"
   ]
  },
  {
   "cell_type": "code",
   "execution_count": 2,
   "metadata": {},
   "outputs": [],
   "source": [
    "from star import Star\n",
    "from planet import Planet\n",
    "from dynamo_region import DynamoRegion\n",
    "from magnetic_moment import MagneticMoment\n",
    "from stellar_wind import StellarWind\n",
    "from emission import Emission"
   ]
  },
  {
   "cell_type": "markdown",
   "metadata": {},
   "source": [
    "## Test avec les différentes tables"
   ]
  },
  {
   "cell_type": "code",
   "execution_count": 3,
   "metadata": {},
   "outputs": [],
   "source": [
    "MJ = 1.8986e27 #kg\n",
    "\n",
    "names=[str(i) for i in range(10000)]\n",
    "masses=np.logspace(np.log10(0.0006), np.log10(20), 10000) ; radius=[1.] * 10000\n",
    "orbital_period=[np.nan] * 10000 ; mass_sini = [np.nan] * 10000\n",
    "smaxis = [5.2] * 10000  ; ecc = [0.0] * 10000\n",
    "stardist = [145.0] * 10000 ; star_age = [4.6] * 10000\n",
    "star_mass = [1.0] * 10000 ; star_radius = [1.0] * 10000\n",
    "detection_type = ['rien'] * 10000\n",
    "coeff_rc = 1 - (0.17/masses)"
   ]
  },
  {
   "cell_type": "code",
   "execution_count": null,
   "metadata": {},
   "outputs": [],
   "source": [
    "data_test=pd.DataFrame({ 'pl_name' : names, 'mass' : masses, 'radius' : radius, 'orbital_period' : orbital_period,\n",
    "    'semi_major_axis' : smaxis, 'eccentricity' : ecc, 'star_distance' : stardist, 'star_mass' : star_mass,\n",
    "    'star_radius' : star_radius, 'mass_sini' : mass_sini, 'star_age' : star_age, 'detection_type' : detection_type})\n",
    "\n",
    "data_test.to_csv(r'/Users/emauduit/Documents/These/Sélection des cibles/Programmes/data_M_VS_Mmag_R1.csv', sep=\",\")"
   ]
  },
  {
   "cell_type": "markdown",
   "metadata": {},
   "source": [
    " - Burrows et al, 1997 : limite pas en dessous de 1MJ"
   ]
  },
  {
   "cell_type": "code",
   "execution_count": 4,
   "metadata": {},
   "outputs": [],
   "source": [
    "data_Burrows = pd.read_csv(r'/Users/emauduit/Documents/These/target_selection/Programmes/M_VS_Mmag_RC_Burrows.csv', delimiter=';', index_col=0)"
   ]
  },
  {
   "cell_type": "code",
   "execution_count": 5,
   "metadata": {},
   "outputs": [],
   "source": [
    "mass_to_plot=data_Burrows['planet_mass']\n",
    "Lum_Burrows=data_Burrows['planet_luminosity']\n",
    "Mmag_Burrows=data_Burrows['magnetic_moment']"
   ]
  },
  {
   "cell_type": "markdown",
   "metadata": {},
   "source": [
    "- Baraffe et al, 2008 : limites âge s'arrête à 7Gyr"
   ]
  },
  {
   "cell_type": "code",
   "execution_count": 6,
   "metadata": {},
   "outputs": [],
   "source": [
    "#data_Baraffe_irrad = pd.read_csv(r'/Users/emauduit/Documents/These/Sélection des cibles/Programmes/M_VS_Mmag_RC_Baraffe_irrad.csv', delimiter=';', index_col=0)\n",
    "data_Baraffe_noirrad = pd.read_csv(r'/Users/emauduit/Documents/These/target_selection/Programmes/M_VS_Mmag_RC_Baraffe_noirrad.csv', delimiter=';', index_col=0)"
   ]
  },
  {
   "cell_type": "code",
   "execution_count": 7,
   "metadata": {},
   "outputs": [],
   "source": [
    "barraffe_noirrad=pd.read_csv(r\"Baraffe_no_irrad.csv\", delimiter=\";\")\n",
    "#barraffe_irrad=pd.read_csv(r\"Baraffe_irrad.csv\", delimiter=\";\")\n",
    "MJ = 1.8986e27\n",
    "ME = 6e24\n",
    "age_dict = [\n",
    "    \"t=0.01_log(L/Ls)\",\n",
    "    \"t=0.05_log(L/Ls)\",\n",
    "    \"t=0.10_log(L/Ls)\",\n",
    "    \"t=0.50_log(L/Ls)\",\n",
    "    \"t=1.00_log(L/Ls)\",\n",
    "    \"t=3.00_log(L/Ls)\",\n",
    "    \"t=5.00_log(L/Ls)\",\n",
    "    \"t=7.00_log(L/Ls)\",\n",
    "    ]"
   ]
  },
  {
   "cell_type": "code",
   "execution_count": 8,
   "metadata": {},
   "outputs": [],
   "source": [
    "burrows = pd.read_csv(r\"Burrows.csv\", delimiter=\";\")\n",
    "mass_dict = [\"M=1MJ_\", \"M=5MJ_\", \"M=10MJ_\", \"M=20MJ_\"]\n",
    "luminosities = [\n",
    "    10 ** np.interp(\n",
    "        np.log10(4.6),\n",
    "        burrows[mass + \"log(t) (Gyr)\"],\n",
    "        burrows[mass + \"log(L/Ls)\"],\n",
    "    )\n",
    "    for mass in mass_dict\n",
    "]"
   ]
  },
  {
   "cell_type": "code",
   "execution_count": 9,
   "metadata": {},
   "outputs": [],
   "source": [
    "Lum_Baraffe_noirrad=data_Baraffe_noirrad['planet_luminosity']\n",
    "Mmag_Baraffe_noirrad=data_Baraffe_noirrad['magnetic_moment']"
   ]
  },
  {
   "cell_type": "code",
   "execution_count": null,
   "metadata": {},
   "outputs": [],
   "source": [
    "Lum_Baraffe_irrad=data_Baraffe_irrad['planet_luminosity']\n",
    "Mmag_Baraffe_irrad=data_Baraffe_irrad['magnetic_moment']"
   ]
  },
  {
   "cell_type": "code",
   "execution_count": 10,
   "metadata": {},
   "outputs": [],
   "source": [
    "color_dict = ['tab:green','tab:red','tab:purple','tab:brown','tab:pink','tab:gray', 'tab:olive','tab:cyan']"
   ]
  },
  {
   "cell_type": "code",
   "execution_count": null,
   "metadata": {},
   "outputs": [],
   "source": [
    "fig, ax1 = plt.subplots()\n",
    "\n",
    "#ax1.plot(mass_to_plot,Lum_Burrows,color='tab:blue',label='Burrows')\n",
    "#ax1.plot([1.0, 5.0, 10.0, 20.0],luminosities,linestyle='dotted', marker='o', label='Table Burrows')\n",
    "ax1.set_xlabel('Mass in [M$_J$]')\n",
    "ax1.set_ylabel('Luminosity in [L$_{sun}$]')\n",
    "ax1.set_yscale('log')\n",
    "ax1.set_xscale(\"log\")\n",
    "ax1.set_xlim(1e-2)\n",
    "ax1.plot(mass_to_plot,Lum_Baraffe_noirrad,color='tab:orange',label='Baraffe_noirrad, ^')\n",
    "ax1.plot(mass_to_plot,Lum_Baraffe_irrad,color='tab:blue',label='Baraffe_irrad, +')\n",
    "for age,color in zip(age_dict,color_dict) :\n",
    "    ax1.plot(barraffe_irrad[\"M/M_E\"]*ME/MJ,10**barraffe_irrad[age],linestyle='dotted', marker='+', label=age, color =color)\n",
    "    ax1.plot(barraffe_noirrad[\"M/M_E\"]*ME/MJ,10**barraffe_noirrad[age],linestyle='dotted', marker='^', label=age, color =color)\n",
    "ax1.set_title('Mass-luminosity relation')\n",
    "ax1.legend(ncol=2)\n",
    "plt.grid()\n",
    "plt.show()"
   ]
  },
  {
   "cell_type": "markdown",
   "metadata": {},
   "source": [
    "### Rapport entre irradié/non-irradié"
   ]
  },
  {
   "cell_type": "code",
   "execution_count": null,
   "metadata": {},
   "outputs": [],
   "source": [
    "fig, ax1 = plt.subplots()\n",
    "\n",
    "ax1.set_xlabel('Mass in [M$_J$]')\n",
    "ax1.set_ylabel('Luminosity in [L$_{sun}$]')\n",
    "#ax1.set_yscale('log')\n",
    "ax1.set_xscale(\"log\")\n",
    "ax1.set_xlim(1e-2)\n",
    "ax1.plot(mass_to_plot,Lum_Baraffe_irrad/Lum_Baraffe_noirrad,label='Baraffe_irrad/Baraffe_noirrad')\n",
    "for age,color in zip(age_dict,color_dict) :\n",
    "    a = 10**np.array(barraffe_irrad[age]) ; b = 10**np.array(barraffe_noirrad[age][1:])\n",
    "    ax1.plot(barraffe_irrad[\"M/M_E\"]*ME/MJ,a/b,linestyle='dotted', marker='*', label=age, color=color)\n",
    "ax1.set_title('Mass-luminosity relation - Ratio Irrad/No_irrad')\n",
    "ax1.legend(ncol=2)\n",
    "plt.grid()\n",
    "plt.show()"
   ]
  },
  {
   "cell_type": "markdown",
   "metadata": {},
   "source": [
    "## Extrapolation des modèles"
   ]
  },
  {
   "cell_type": "markdown",
   "metadata": {},
   "source": [
    "- ### Par rapport à la masse pour chaque âge :"
   ]
  },
  {
   "cell_type": "code",
   "execution_count": 11,
   "metadata": {},
   "outputs": [],
   "source": [
    "from scipy.interpolate import interp1d"
   ]
  },
  {
   "cell_type": "code",
   "execution_count": 12,
   "metadata": {},
   "outputs": [],
   "source": [
    "barraffe_noirrad=pd.read_csv(r\"Baraffe_no_irrad.csv\", delimiter=\";\")\n",
    "barraffe_irrad=pd.read_csv(r\"Baraffe_irrad.csv\", delimiter=\";\")\n",
    "masses=np.logspace(np.log10(0.0006), np.log10(100), 10000)\n",
    "MJ = 1.8986e27\n",
    "ME = 6e24\n",
    "age_dict = [\n",
    "    \"t=0.01_log(L/Ls)\",\n",
    "    \"t=0.05_log(L/Ls)\",\n",
    "    \"t=0.10_log(L/Ls)\",\n",
    "    \"t=0.50_log(L/Ls)\",\n",
    "    \"t=1.00_log(L/Ls)\",\n",
    "    \"t=3.00_log(L/Ls)\",\n",
    "    \"t=5.00_log(L/Ls)\",\n",
    "    \"t=7.00_log(L/Ls)\",\n",
    "    ]"
   ]
  },
  {
   "cell_type": "code",
   "execution_count": null,
   "metadata": {},
   "outputs": [],
   "source": [
    "np.max(masses)"
   ]
  },
  {
   "cell_type": "code",
   "execution_count": null,
   "metadata": {},
   "outputs": [],
   "source": [
    "f = interp1d(np.log10(barraffe_noirrad[\"M/M_E\"]),barraffe_noirrad[age],fill_value='extrapolate')\n",
    "plt.figure()\n",
    "plt.plot(np.log10(barraffe_noirrad[\"M/M_E\"]),barraffe_noirrad[age])\n",
    "plt.plot(np.log10(np.arange(1,4000)),f(np.log10(np.arange(1,4000))))\n",
    "plt.grid()\n",
    "plt.show()"
   ]
  },
  {
   "cell_type": "code",
   "execution_count": 13,
   "metadata": {},
   "outputs": [
    {
     "data": {
      "image/png": "[encoded data removed]",
      "text/plain": [
       "<Figure size 720x504 with 1 Axes>"
      ]
     },
     "metadata": {
      "needs_background": "light"
     },
     "output_type": "display_data"
    }
   ],
   "source": [
    "fig, ax = plt.subplots(figsize=(10,7))\n",
    "\n",
    "ax.set_xlabel('$M_p$ [M$_J$]',fontsize=18)\n",
    "ax.set_ylabel('$L_p$ [L$_{sun}$]',fontsize=18)\n",
    "ax.set_yscale('log')\n",
    "ax.set_xscale(\"log\")\n",
    "ax.set_xlim(0.0005,30)\n",
    "plt.xticks(fontsize=14)\n",
    "plt.yticks(fontsize=14)\n",
    "ax.plot(mass_to_plot,Lum_Baraffe_noirrad,color='tab:orange',label='$t_*$ = 4.56 Gyr')\n",
    "#ax.plot(mass_to_plot,Lum_Baraffe_irrad,color='tab:blue',label='Baraffe_irrad, +')\n",
    "for age,color in zip(age_dict,color_dict) :\n",
    "    #ax.plot(barraffe_irrad[\"M/M_E\"]*ME/MJ,10**barraffe_irrad[age],linestyle='dotted', marker='+', label=age, color =color)\n",
    "    f_noirrad = interp1d(np.log10(barraffe_noirrad[\"M/M_E\"]),barraffe_noirrad[age],kind='linear',fill_value='extrapolate')\n",
    "    ax.scatter(barraffe_noirrad[\"M/M_E\"]*ME/MJ,10**barraffe_noirrad[age], marker='^', label=age[:6]+' Gyr', color =color)\n",
    "    ax.plot(masses,10**f_noirrad(np.log10(masses*MJ/ME)), color =color, linestyle='dashed')\n",
    "#ax.set_title('Mass-luminosity relation - Extrapolation for masses')\n",
    "ax.legend(ncol=2)\n",
    "plt.grid()\n",
    "plt.savefig('/Users/emauduit/Documents/These/phd-manuscript/ch3/fig/plot_Lp_Mp.png',transparent=True, bbox_inches='tight', dpi=150 )\n",
    "plt.show()"
   ]
  },
  {
   "cell_type": "markdown",
   "metadata": {},
   "source": [
    "- ### Par rapport à l'âge pour chaque masse :"
   ]
  },
  {
   "cell_type": "code",
   "execution_count": null,
   "metadata": {},
   "outputs": [],
   "source": [
    "ages = np.array([0.01,0.05,0.1,0.5,1.0,3.0,5.0,7.0])\n",
    "mass_dict = np.array(barraffe_irrad['M/M_E']*ME/MJ,dtype=str)\n",
    "mass_dict = np.array([mass_dict[i][:4] for i in range(len(mass_dict))])\n",
    "\n",
    "barraffe_noirrad_mass = barraffe_noirrad.set_index('M/M_E')"
   ]
  },
  {
   "cell_type": "code",
   "execution_count": null,
   "metadata": {},
   "outputs": [],
   "source": [
    "fig, ax = plt.subplots()\n",
    "ax.set_xlabel('Age in [Gyr]')\n",
    "ax.set_ylabel('Luminosity in [L$_{sun}$]')\n",
    "ax.set_yscale('log')\n",
    "ax.set_xscale(\"log\")\n",
    "ax.set_xlim(1e-2,1e2)\n",
    "ax.plot(mass_to_plot,Lum_Baraffe_noirrad,color='tab:orange',label='Baraffe_noirrad, ^')\n",
    "for i,color in enumerate(color_dict) :\n",
    "    L=np.array(barraffe_noirrad_mass.iloc[i])\n",
    "    f_noirrad = interp1d(np.log10(barraffe_noirrad[\"M/M_E\"],),kind='linear',fill_value='extrapolate')\n",
    "    ax.plot(barraffe_noirrad[\"M/M_E\"]*ME/MJ,10**L,linestyle='dotted', marker='^', label=mass_dict[i], color =color)\n",
    "    ax.plot(masses,10**f_noirrad(np.log10(masses*MJ/ME)), color =color)\n",
    "ax.set_title('Mass-luminosity relation - Extrapolation for masses')\n",
    "ax.legend(ncol=2)\n",
    "plt.grid()\n",
    "plt.show()"
   ]
  },
  {
   "cell_type": "markdown",
   "metadata": {},
   "source": [
    "# Comparaison taille région dynamo et coeff de RC"
   ]
  },
  {
   "cell_type": "code",
   "execution_count": null,
   "metadata": {},
   "outputs": [],
   "source": [
    "data_rcdyn_R1_noexp = pd.read_csv(r'/Users/emauduit/Documents/These/Sélection des cibles/Programmes/Test_RC/MvsMmag_rcdyn_R1_noexp.csv', delimiter=';') \n",
    "data_rcdyn_R1_exp = pd.read_csv(r'/Users/emauduit/Documents/These/Sélection des cibles/Programmes/Test_RC/MvsMmag_rcdyn_R1_exp.csv', delimiter=';') \n",
    "data_rcdyn_noexp = pd.read_csv(r'/Users/emauduit/Documents/These/Sélection des cibles/Programmes/Test_RC/MvsMmag_rcdyn_noexp.csv', delimiter=';') \n",
    "data_rcdyn_exp = pd.read_csv(r'/Users/emauduit/Documents/These/Sélection des cibles/Programmes/Test_RC/MvsMmag_rcdyn_exp.csv', delimiter=';') \n",
    "\n",
    "data_rccoeff_exp = pd.read_csv(r'/Users/emauduit/Documents/These/Sélection des cibles/Programmes/Test_RC/MvsMmag_rccoeff_exp.csv', delimiter=';') \n",
    "data_rccoeff_noexp = pd.read_csv(r'/Users/emauduit/Documents/These/Sélection des cibles/Programmes/Test_RC/MvsMmag_rccoeff_exp.csv', delimiter=';') \n",
    "data_rccoeff_R1_noexp = pd.read_csv(r'/Users/emauduit/Documents/These/Sélection des cibles/Programmes/Test_RC/MvsMmag_rccoeff_R1_noexp.csv', delimiter=';') \n",
    "data_rccoeff_R1_exp = pd.read_csv(r'/Users/emauduit/Documents/These/Sélection des cibles/Programmes/Test_RC/MvsMmag_rccoeff_R1_exp.csv', delimiter=';') "
   ]
  },
  {
   "cell_type": "code",
   "execution_count": null,
   "metadata": {},
   "outputs": [],
   "source": [
    "rcJ = 0.8487819514093978 #Rj\n",
    "rcjup_calc = 0.8484297414500909 #en Rjcalc\n",
    "rc_dyn_exp = data_rcdyn_exp['dynamo_radius']*rcJ ; Mmag_dyn_exp = data_rcdyn_exp['magnetic_moment']\n",
    "rc_dyn_noexp = data_rcdyn_noexp['dynamo_radius']*rcjup_calc/(data_rcdyn_noexp['planet_radius']) ; Mmag_dyn_noexp = data_rcdyn_noexp['magnetic_moment']\n",
    "rc_dyn_R1_exp = data_rcdyn_R1_exp['dynamo_radius']*rcJ ; Mmag_dyn_R1_exp = data_rcdyn_R1_exp['magnetic_moment']\n",
    "rc_dyn_R1_noexp = data_rcdyn_R1_noexp['dynamo_radius']*rcJ/(data_rcdyn_R1_noexp['planet_radius']) ; Mmag_dyn_R1_noexp = data_rcdyn_R1_noexp['magnetic_moment']\n",
    "\n",
    "rc_coeff_exp = data_rccoeff_exp['dynamo_radius']*0.83 ; Mmag_coeff_exp = data_rccoeff_exp['magnetic_moment']\n",
    "rc_coeff_noexp = data_rccoeff_noexp['dynamo_radius']*0.83 ; Mmag_coeff_noexp = data_rccoeff_noexp['magnetic_moment']\n",
    "rc_coeff_R1_exp = data_rccoeff_R1_exp['dynamo_radius']*0.83 ; Mmag_coeff_R1_exp = data_rccoeff_R1_exp['magnetic_moment']\n",
    "rc_coeff_R1_noexp = data_rccoeff_R1_noexp['dynamo_radius']*0.83 ; Mmag_coeff_R1_noexp = data_rccoeff_R1_noexp['magnetic_moment']"
   ]
  },
  {
   "cell_type": "code",
   "execution_count": null,
   "metadata": {},
   "outputs": [],
   "source": [
    "print('rc en Rp :', rcJ* 1.0138097809420443, 'pour R=-1')\n",
    "print('rc en Rp :', rcJ* 1.0000446662180407, 'pour R=1')\n",
    "print(coeff_rc[7123])"
   ]
  },
  {
   "cell_type": "code",
   "execution_count": null,
   "metadata": {},
   "outputs": [],
   "source": [
    "plt.figure()\n",
    "plt.plot(masses[rc_dyn_exp >0],data_rcdyn_exp['planet_radius'][rc_dyn_exp >0], label='Rp=-1.')\n",
    "plt.xlabel('Masses [Mj]')\n",
    "plt.ylabel('Radius[Rj]')\n",
    "plt.grid()\n",
    "plt.xscale('log')\n",
    "plt.show()"
   ]
  },
  {
   "cell_type": "code",
   "execution_count": null,
   "metadata": {},
   "outputs": [],
   "source": [
    "plt.figure()\n",
    "plt.plot(masses[rc_dyn_exp >0],data_rcdyn_exp['planet_radius'][rc_dyn_exp >0], label='Rp=-1. , with expansion', color='tab:blue')\n",
    "plt.plot(masses[rc_dyn_noexp >0],data_rcdyn_noexp['planet_radius'][rc_dyn_noexp >0], label='Rp=-1. , without expansion', color='tab:blue', linestyle='dashed')\n",
    "plt.plot(masses[rc_dyn_R1_exp >0],data_rcdyn_R1_exp['planet_radius'][rc_dyn_R1_exp >0], label='Rp=1. , with expansion', color='tab:red')\n",
    "plt.plot(masses[rc_dyn_R1_noexp >0],data_rcdyn_R1_noexp['planet_radius'][rc_dyn_R1_noexp >0], label='Rp=1. , without expansion', color='tab:red',linestyle='dashed')\n",
    "plt.plot(masses, coeff_rc, label='Coeff in RC paper', color='tab:green')\n",
    "plt.xscale('log')\n",
    "plt.yscale('log')\n",
    "plt.xlabel('Masses in Mj')\n",
    "plt.ylabel('Rp en RJ')\n",
    "plt.title('R(M)')\n",
    "plt.ylim(bottom = 0.01)\n",
    "plt.grid()\n",
    "plt.legend()\n",
    "plt.show()"
   ]
  },
  {
   "cell_type": "code",
   "execution_count": null,
   "metadata": {},
   "outputs": [],
   "source": [
    "plt.figure()\n",
    "#plt.plot(masses[rc_dyn_exp >0],rc_dyn_exp[rc_dyn_exp >0], label='Rp=-1. , with expansion', color='tab:blue')\n",
    "plt.plot(masses[rc_dyn_noexp >0],rc_dyn_noexp[rc_dyn_noexp >0], label='Rp=-1. , without expansion', color='tab:blue', linestyle='dashed')\n",
    "#plt.plot(masses[rc_dyn_R1_exp >0],rc_dyn_R1_exp[rc_dyn_R1_exp >0], label='Rp=1. , with expansion', color='tab:red')\n",
    "plt.plot(masses[rc_dyn_R1_noexp >0],rc_dyn_R1_noexp[rc_dyn_R1_noexp >0], label='Rp=1. , without expansion', color='tab:red',linestyle='dashed')\n",
    "plt.plot(masses, coeff_rc, label='Coeff in RC paper', color='tab:green')\n",
    "plt.xscale('log')\n",
    "plt.yscale('log')\n",
    "plt.xlabel('Masses in Mj')\n",
    "plt.ylabel('rc in Rp')\n",
    "plt.title('rc(M)')\n",
    "plt.ylim(bottom = 0.01)\n",
    "plt.grid()\n",
    "plt.legend()\n",
    "plt.show()"
   ]
  },
  {
   "cell_type": "code",
   "execution_count": null,
   "metadata": {},
   "outputs": [],
   "source": [
    "plt.figure()\n",
    "plt.plot(masses[rc_dyn_exp >0], Mmag_dyn_exp[rc_dyn_exp>0], label ='Magnetic moment RC+, Rp=-1, with expansion')\n",
    "plt.plot(masses[rc_dyn_R1_exp >0], Mmag_dyn_R1_exp[rc_dyn_R1_exp>0], label ='Magnetic moment RC+, Rp=1, with expansion')\n",
    "plt.plot(masses[rc_coeff >0], Mmag_dyn_coeff[rc_coeff>0], label ='Magnetic moment RC, Rp=-1')\n",
    "plt.plot(masses[rc_coeff_R1 >0], Mmag_dyn_coeff_R1[rc_coeff_R1 >0], label ='Magnetic moment RC, Rp=1')\n",
    "plt.xscale('log')\n",
    "plt.yscale('log')\n",
    "plt.xlabel('Masses in Mj')\n",
    "plt.ylabel('rc in Rp')\n",
    "plt.title('Mmag(M) with R=-1')\n",
    "plt.ylim(bottom = 0.01)\n",
    "plt.grid()\n",
    "plt.legend()\n",
    "plt.show()"
   ]
  },
  {
   "cell_type": "code",
   "execution_count": null,
   "metadata": {},
   "outputs": [],
   "source": [
    "def rho(r):\n",
    "    MJ = 1.8986e27  # kg\n",
    "    RJ = 69911e3  # m\n",
    "    a = np.pi*MJ/(4*(RJ**3))\n",
    "    b = np.pi*r/RJ\n",
    "    return a * np.sin(b)/b\n",
    "\n",
    "r = np.linspace(0,4 * 69911e3, 500)\n",
    "\n",
    "plt.figure()\n",
    "plt.plot(r/69911e3,rho(r))\n",
    "plt.plot(r/69911e3,[700]*500)\n",
    "plt.xlabel('Rayon en m')\n",
    "plt.ylabel('Densité (kg/m3)')\n",
    "plt.grid()\n",
    "plt.show()"
   ]
  },
  {
   "cell_type": "code",
   "execution_count": null,
   "metadata": {},
   "outputs": [],
   "source": [
    "from dynamo_region import LaneEmden, rhodyn\n",
    "\n",
    "MJ = 1.8986e27  # kg\n",
    "RJ = 69911e3  # m\n",
    "\n",
    "rcjup = LaneEmden(MJ,RJ,700)\n",
    "rhojup = rhodyn(MJ,RJ,rcjup)\n",
    "print('rc(RJ) : ', rcjup/RJ, 'densite :',rhojup)\n",
    "\n",
    "Mmax = 3.16 * 1.8986e27  # kg\n",
    "rho0 = 394  # kg.m-3\n",
    "RJ = 69911e3\n",
    "RJ_calc = pow((4 / 3) * np.pi * rho0, -1.0 / 3) * pow(1 * 1.8986e27, 1.0 / 3)/ (1 + pow(1 * 1.8986e27 / Mmax, 2.0 / 3))\n",
    "\n",
    "rcjup_calc = LaneEmden(MJ,RJ_calc,700)\n",
    "rhojup_calc = rhodyn(MJ,RJ_calc,rcjup_calc)\n",
    "\n",
    "print('RJ_calc:',RJ_calc)\n",
    "print('Rc_estime/RcJ: ',rcjup_calc/RJ_calc)\n",
    "print('Rho_estime/RhoJ: ',rhojup_calc/rhojup)"
   ]
  },
  {
   "cell_type": "markdown",
   "metadata": {},
   "source": [
    "## Comparaison avec Lynch, 2018"
   ]
  },
  {
   "cell_type": "code",
   "execution_count": null,
   "metadata": {},
   "outputs": [],
   "source": [
    "data =pd.read_csv(r'/Users/emauduit/Documents/These/Sélection des cibles/Programmes/exoplanet.eu_catalog_all.csv') \n"
   ]
  },
  {
   "cell_type": "markdown",
   "metadata": {},
   "source": [
    ",skiprows=105,names=['pl_name','star_name','default_flag','detection_type','disc_year', 'pl_refname','orbital_period','orbital_period_error_min', \n",
    "    'orbital_period_error_max', 'pl_orbperlim', 'semi_major_axis','semi_major_axis_error_min','semi_major_axis_error_max', 'pl_orbsmaxlim',\n",
    "    'radius', 'radius_error_min', 'radius_error_max', 'radius_lim', 'mass','mass_error_min','mass_error_max','pl_bmassjlim', 'mass_sini',\n",
    "    'mass_sini_error_min','mass_sini_error_max', 'pl_msinijlim','pl_bmassprov','eccentricity','eccentricity_error_min','eccentricity_error_max',\n",
    "    'pl_orbeccenlim','inclination', 'inclination_error_min', 'inclination_error_max', 'inclination_error_lim', 'ttv_flag', 'pl_imppar', \n",
    "    'pl_impparerr1', 'pl_impparerr2', 'pl_impparlim', 'st_refname', 'star_sp_type', 'star_teff', 'star_teff_error_min', 'star_teff_error_max', \n",
    "    'st_tefflim', 'star_radius', 'star_radius_error_min', 'star_radius_error_max', 'star_radius_error_lim', 'star_mass', 'star_mass_error_min', \n",
    "    'star_mass_error_max', 'star_mass_error_lim', 'star_metallicity', 'star_metallicity_error_min', 'star_metallicity_error_max', \n",
    "    'star_metallicity_error_lim', 'st_metratio', 'st_lum', 'st_lumerr1', 'st_lumerr2', 'st_lumlim', 'st_logg', 'st_loggerr1', 'st_loggerr2', \n",
    "    'st_logglim', 'star_age', 'star_age_error_min', 'star_age_error_max', 'star_age_error_lim', 'st_vsin', 'st_vsinerr1', 'st_vsinerr2',\n",
    "    'st_vsinlim', 'st_rotp', 'st_rotperr1', 'st_rotperr2', 'st_rotplim', 'sy_refname', 'rastr', 'ra', 'decstr', 'dec', 'star_distance', \n",
    "    'star_distance_error_min', 'star_distance_error_max', 'mag_v','sy_vmagerr1', 'sy_vmagerr2', 'mag_k', 'sy_kmagerr1', 'sy_kmagerr2', \n",
    "    'sy_gaiamag', 'sy_gaiamagerr1','sy_gaiamagerr2', 'rowupdate', 'pl_pubdate', 'releasedate'],header=0)"
   ]
  },
  {
   "cell_type": "code",
   "execution_count": null,
   "metadata": {},
   "outputs": [],
   "source": [
    "data.keys()"
   ]
  },
  {
   "cell_type": "code",
   "execution_count": null,
   "metadata": {},
   "outputs": [],
   "source": [
    "data1=data.reset_index()"
   ]
  },
  {
   "cell_type": "code",
   "execution_count": null,
   "metadata": {},
   "outputs": [],
   "source": [
    "list_target=['BD+20 1790 b', 'GJ 876 b','HATS-24 b', 'HD 130322 b','HD 210702 b', 'HD 5891 b', \n",
    "    'HD 73256 b', 'OGLE2-TR-L9 b', 'Pr 0211 b', 'TAP 26 b', 'tau Boo A b', 'V830 Tau b', 'WASP-14 b',\n",
    "    'WASP-140 b', 'WASP-167 b', 'WASP-18 b', 'WASP-43 b', 'WASP-77 A b']"
   ]
  },
  {
   "cell_type": "code",
   "execution_count": null,
   "metadata": {},
   "outputs": [],
   "source": [
    "i = 0\n",
    "\n",
    "for target in data1.itertuples():\n",
    "    if target.Index in list_target :\n",
    "        print(target.star_distance)\n",
    "\n",
    "data_to_save=data1[data1['# name'].isin(list_target)]\n",
    "data_to_save=data_to_save.set_index('# name')\n",
    "data_to_save.to_csv(r'/Users/emauduit/Documents/Thèse/Sélection des cibles/Programmes/exoplanet.eu_catalog2.csv', sep=\",\")\n",
    "data_to_save.keys()"
   ]
  },
  {
   "cell_type": "code",
   "execution_count": null,
   "metadata": {},
   "outputs": [],
   "source": []
  }
 ],
 "metadata": {
  "interpreter": {
   "hash": "570da124061f1229a43935d4392bd1ada54c3a2c5a88c928d628cf03c12cbe2f"
  },
  "kernelspec": {
   "display_name": "Python 3.8.8 ('python_these')",
   "language": "python",
   "name": "python3"
  },
  "language_info": {
   "codemirror_mode": {
    "name": "ipython",
    "version": 3
   },
   "file_extension": ".py",
   "mimetype": "text/x-python",
   "name": "python",
   "nbconvert_exporter": "python",
   "pygments_lexer": "ipython3",
   "version": "3.8.8"
  },
  "orig_nbformat": 4
 },
 "nbformat": 4,
 "nbformat_minor": 2
}
