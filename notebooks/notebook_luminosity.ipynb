{
 "cells": [
  {
   "cell_type": "code",
   "execution_count": 1,
   "metadata": {},
   "outputs": [],
   "source": [
    "import numpy as np\n",
    "import pandas as pd\n",
    "import matplotlib.pyplot as plt\n",
    "%matplotlib qt "
   ]
  },
  {
   "cell_type": "markdown",
   "metadata": {},
   "source": [
    "### Old"
   ]
  },
  {
   "cell_type": "markdown",
   "metadata": {},
   "source": [
    "Test for luminosity computing with tables from Burrows, 1997, data retreived in logarithmic scale converted into linear scale."
   ]
  },
  {
   "cell_type": "code",
   "execution_count": null,
   "metadata": {},
   "outputs": [],
   "source": [
    "table_1MJ=pd.read_csv(r'/Users/emauduit/Documents/These/target_selection/Programmes/1MJ.csv', delimiter=';')\n",
    "table_5MJ=pd.read_csv(r'/Users/emauduit/Documents/These/target_selection/Programmes/5MJ.csv', delimiter=';')\n",
    "table_10MJ=pd.read_csv(r'/Users/emauduit/Documents/These/target_selection/Programmes/10MJ.csv', delimiter=';')\n",
    "\n",
    "table_10MJ.info()\n",
    "#t=np.array(10**table_10MJ['log(t) (Gyr)'])\n",
    "#L=np.array(10**table_10MJ['log(L/Ls)'])\n",
    "#R=np.array(table_10MJ['R(10^9 cm)']*1e7)\n",
    "\n",
    "#table_10MJ_lin=pd.DataFrame({'t_Gyr' : t, 'L_Ls' : L, 'R_m' : R})\n",
    "\n",
    "#table_10MJ_lin.to_csv('10MJ.csv', sep=';')\n"
   ]
  },
  {
   "cell_type": "markdown",
   "metadata": {},
   "source": [
    "Curvefit of L/Ls(t) and R(t), to better estimate the value of L. --> not working"
   ]
  },
  {
   "cell_type": "code",
   "execution_count": null,
   "metadata": {},
   "outputs": [],
   "source": [
    "def fit_luminosity(x,a,b):\n",
    "    return(a*np.power(x,b))\n",
    "\n",
    "popt1, pcov1 = curve_fit(fit_luminosity,table_1MJ['t_Gyr'], table_1MJ['L_Ls'],p0=[95,-1.12])\n",
    "popt5, pcov5 = curve_fit(fit_luminosity,table_5MJ['t_Gyr'], table_5MJ['L_Ls'],p0=[5200,-1.19])\n",
    "popt10, pcov10 = curve_fit(fit_luminosity,table_10MJ['t_Gyr'], table_10MJ['L_Ls'],p0=[34500,-1.2])\n",
    "\n",
    "print(popt1)\n",
    "print(pcov1)"
   ]
  },
  {
   "cell_type": "code",
   "execution_count": null,
   "metadata": {},
   "outputs": [],
   "source": [
    "plt.figure()\n",
    "plt.plot(table_1MJ['t_Gyr'],table_1MJ['L_Ls'],'+-', label='1MJ')\n",
    "plt.plot(table_5MJ['t_Gyr'],table_1MJ['L_Ls'], '+-', label='5MJ')\n",
    "plt.plot(table_10MJ['t_Gyr'],table_10MJ['L_Ls'], '+-', label='10MJ')\n",
    "plt.plot(table_1MJ['t_Gyr'],fit_luminosity(table_1MJ['t_Gyr'],*popt1),'--')\n",
    "plt.plot(table_5MJ['t_Gyr'],fit_luminosity(table_5MJ['t_Gyr'],*popt5),'--')\n",
    "plt.plot(table_10MJ['t_Gyr'],fit_luminosity(table_10MJ['t_Gyr'],*popt10),'--')\n",
    "plt.xlabel('t [Gyr]')\n",
    "plt.ylabel('L/L_s')\n",
    "plt.xscale('log')\n",
    "plt.yscale('log')\n",
    "plt.title(\"Evolution de la luminosité en fonction de l'âge de la planète\")\n",
    "plt.grid()\n",
    "plt.legend()\n",
    "plt.show()\n",
    "\n",
    "plt.figure()\n",
    "plt.plot(table_1MJ['t_Gyr'],table_1MJ['R_m'],'+', label='1MJ')\n",
    "plt.plot(table_5MJ['t_Gyr'],table_1MJ['R_m'],'+', label='5MJ')\n",
    "plt.plot(table_10MJ['t_Gyr'],table_10MJ['R_m'],'+', label='10MJ')\n",
    "plt.xlabel('t [Gyr]')\n",
    "plt.ylabel('R [m]')\n",
    "#plt.xscale('log')\n",
    "#plt.yscale('log')\n",
    "plt.title(\"Evolution du rayon en fonction de l'âge de la planète\")\n",
    "plt.grid()\n",
    "plt.legend()\n",
    "plt.show()\n"
   ]
  },
  {
   "cell_type": "code",
   "execution_count": null,
   "metadata": {},
   "outputs": [],
   "source": [
    "LJ_norm=jup.calculate_luminosity(sol.age,table_1MJ,table_5MJ, table_10MJ)\n",
    "jup.affiche()"
   ]
  },
  {
   "cell_type": "markdown",
   "metadata": {},
   "source": [
    "### New"
   ]
  },
  {
   "cell_type": "code",
   "execution_count": null,
   "metadata": {},
   "outputs": [],
   "source": [
    "table1=pd.read_csv(r\"/Users/emauduit/Documents/These/Selection des cibles/Programmes/1MJ_log.csv\",delimiter=';')\n",
    "table2=pd.read_csv(r\"/Users/emauduit/Documents/These/Selection des cibles/Programmes/5MJ_log.csv\",delimiter=';')\n",
    "table3=pd.read_csv(r\"/Users/emauduit/Documents/These/Selection des cibles/Programmes/10MJ_log.csv\",delimiter=';')"
   ]
  },
  {
   "cell_type": "code",
   "execution_count": null,
   "metadata": {},
   "outputs": [],
   "source": [
    "ages=np.log10(np.linspace(0.001,10,10000))\n",
    "L1=[] ; L2=[] ; L3=[]\n",
    "for i in range(10000):\n",
    "    L1.append(np.interp(ages[i],table1['log(t) (Gyr)'],table1['log(L/Ls)']))\n",
    "    L2.append(np.interp(ages[i],table2['log(t) (Gyr)'],table2['log(L/Ls)']))\n",
    "    L3.append(np.interp(ages[i],table3['log(t) (Gyr)'],table3['log(L/Ls)']))"
   ]
  },
  {
   "cell_type": "code",
   "execution_count": null,
   "metadata": {},
   "outputs": [],
   "source": [
    "plt.figure()\n",
    "plt.scatter(table1['log(t) (Gyr)'],table1['log(L/Ls)'],color='red')\n",
    "plt.plot(ages,L1, 'r+',label='1MJ')\n",
    "plt.scatter(table2['log(t) (Gyr)'],table2['log(L/Ls)'],color='blue')\n",
    "plt.plot(ages,L2, 'b+', label='5MJ')\n",
    "plt.scatter(table3['log(t) (Gyr)'],table3['log(L/Ls)'],color='green')\n",
    "plt.plot(ages,L3, 'g+', label='10MJ')\n",
    "plt.xlabel('log(age) Gyr')\n",
    "plt.ylabel('log(L/Ls)')\n",
    "plt.legend()\n",
    "plt.show()\n",
    "\n",
    "\n"
   ]
  },
  {
   "cell_type": "code",
   "execution_count": null,
   "metadata": {},
   "outputs": [],
   "source": [
    "masses=np.log10(np.linspace(0.001,10,10000))\n",
    "masses_log=np.log10([1.0,5.0,10.0])\n",
    "L_mass=np.zeros(shape=(20,10000))\n",
    "for i in range(20):\n",
    "    for j in range(10000):\n",
    "        L_mass[i][j]=np.interp(masses[j],masses_log,[table1['log(L/Ls)'][i],table2['log(L/Ls)'][i],table3['log(L/Ls)'][i]])\n",
    "\n",
    "        "
   ]
  },
  {
   "cell_type": "code",
   "execution_count": null,
   "metadata": {},
   "outputs": [],
   "source": [
    "plt.figure()\n",
    "for i in range(20):\n",
    "    plt.scatter(masses,L_mass[i][:], marker='+',color='lightblue')\n",
    "    #,label='log(t)= {:.3}'.format(table1['log(t) (Gyr)'][i]))\n",
    "\n",
    "plt.scatter(np.log10(1.)*np.ones(20),table1['log(L/Ls)'], color='red',label='1MJ')\n",
    "plt.scatter(np.log10(5.)*np.ones(20),table2['log(L/Ls)'], color='green',label='5MJ')\n",
    "plt.scatter(np.log10(10.)*np.ones(20),table3['log(L/Ls)'], color='orange',label='10MJ')\n",
    "plt.xlabel('log(M/Mj)')\n",
    "plt.ylabel('log(L/Ls)')\n",
    "plt.show()"
   ]
  },
  {
   "cell_type": "code",
   "execution_count": 2,
   "metadata": {},
   "outputs": [],
   "source": [
    "from scipy.interpolate import interp1d\n",
    "def calc_luminosity(planet_mass,star_age, table):\n",
    "    MJ = 1.8986e27\n",
    "    ME = 6e24\n",
    "    M = planet_mass\n",
    "    L = []\n",
    "    age_dict = [\n",
    "        \"t=0.01_log(L/Ls)\",\n",
    "        \"t=0.05_log(L/Ls)\",\n",
    "        \"t=0.10_log(L/Ls)\",\n",
    "        \"t=0.50_log(L/Ls)\",\n",
    "        \"t=1.00_log(L/Ls)\",\n",
    "        \"t=3.00_log(L/Ls)\",\n",
    "        \"t=5.00_log(L/Ls)\",\n",
    "        \"t=7.00_log(L/Ls)\",\n",
    "    ]\n",
    "    luminosities = []\n",
    "    for age in age_dict :\n",
    "        f_noirrad = interp1d(np.log10(table[\"M/M_E\"]),table[age],kind='linear',fill_value='extrapolate')\n",
    "        luminosities.append(f_noirrad(np.log10(M * MJ / ME)))\n",
    "    #print(\"luminosities : \", luminosities)\n",
    "    ages = np.array([0.01, 0.05, 0.10, 0.50, 1.0, 3.0, 5.0, 7.0])\n",
    "    f_ages = interp1d(np.log10(ages),luminosities,kind='linear',fill_value='extrapolate')\n",
    "    L.append(10 ** f_ages(np.log10(star_age)))\n",
    "    return pow(np.prod(L), 1 / len(L))\n"
   ]
  },
  {
   "cell_type": "code",
   "execution_count": 3,
   "metadata": {},
   "outputs": [],
   "source": [
    "table_data = pd.read_csv(r\"Baraffe_no_irrad.csv\", delimiter=\";\")\n",
    "\n",
    "MJ = 1.8986e27 ; ME = 6e24\n",
    "masses_data = table_data['M/M_E'] * ME/MJ\n",
    "age_dict = {\n",
    "        \"t=0.01_log(L/Ls)\" : 0.01,\n",
    "        \"t=0.05_log(L/Ls)\" : 0.05,\n",
    "        \"t=0.10_log(L/Ls)\" : 0.1,\n",
    "        \"t=0.50_log(L/Ls)\" : 0.5,\n",
    "        \"t=1.00_log(L/Ls)\" : 1.,\n",
    "        \"t=3.00_log(L/Ls)\" : 3.0,\n",
    "        \"t=5.00_log(L/Ls)\" : 5.,\n",
    "        \"t=7.00_log(L/Ls)\" : 7.,\n",
    "}"
   ]
  },
  {
   "cell_type": "code",
   "execution_count": 10,
   "metadata": {},
   "outputs": [],
   "source": [
    "ages=np.logspace(0.001,10,10000)\n",
    "masses=np.linspace(0.001,10,10000)\n",
    "L_mass = np.zeros((8,10000))\n",
    "\n",
    "for star_age in age_dict.values():\n",
    "    k=0\n",
    "    for i in range(10000):\n",
    "        L_mass[k,i]=calc_luminosity(masses[i],star_age,table_data)\n",
    "    k += 1\n"
   ]
  },
  {
   "cell_type": "code",
   "execution_count": 13,
   "metadata": {},
   "outputs": [],
   "source": [
    "color_dict = ['tab:green','tab:red','tab:purple','tab:brown','tab:pink','tab:gray', 'tab:olive','tab:cyan']\n",
    "plt.figure(figsize=(10,7))\n",
    "i=0\n",
    "for key,star_age in age_dict.items():\n",
    "    plt.scatter(masses_data,10**table_data[key], marker='x',color=color_dict[i], label='$t_*$ = {} Gyr'.format(star_age))\n",
    "    plt.scatter(masses,L_mass[i,:], marker='o',color=color_dict[i])\n",
    "    i+=1\n",
    "plt.xlabel('$M_p$ [$M_J$]')\n",
    "plt.ylabel('$L_*$ [$L_{sun}$]')\n",
    "plt.yscale('log')\n",
    "plt.grid()\n",
    "plt.legend()\n",
    "plt.show()"
   ]
  },
  {
   "cell_type": "code",
   "execution_count": null,
   "metadata": {},
   "outputs": [],
   "source": []
  }
 ],
 "metadata": {
  "interpreter": {
   "hash": "570da124061f1229a43935d4392bd1ada54c3a2c5a88c928d628cf03c12cbe2f"
  },
  "kernelspec": {
   "display_name": "Python 3.8.8 ('python_these')",
   "language": "python",
   "name": "python3"
  },
  "language_info": {
   "codemirror_mode": {
    "name": "ipython",
    "version": 3
   },
   "file_extension": ".py",
   "mimetype": "text/x-python",
   "name": "python",
   "nbconvert_exporter": "python",
   "pygments_lexer": "ipython3",
   "version": "3.8.8"
  },
  "orig_nbformat": 4
 },
 "nbformat": 4,
 "nbformat_minor": 2
}
