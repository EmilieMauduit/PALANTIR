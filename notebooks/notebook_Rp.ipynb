{
 "cells": [
  {
   "cell_type": "markdown",
   "metadata": {},
   "source": [
    "# Testing accuracy of planetary radius predictions"
   ]
  },
  {
   "cell_type": "markdown",
   "metadata": {},
   "source": [
    "- Useful imports:"
   ]
  },
  {
   "cell_type": "code",
   "execution_count": 1,
   "metadata": {},
   "outputs": [],
   "source": [
    "import pandas as pd\n",
    "import numpy as np\n",
    "import matplotlib.pyplot as plt\n",
    "from scipy.stats import pearsonr, chi2\n",
    "from mpl_toolkits.axes_grid1.inset_locator import inset_axes\n",
    "\n",
    "%matplotlib qt \n",
    "\n",
    "from planet import Planet\n",
    "from star import Star\n",
    "from target_selection import Config"
   ]
  },
  {
   "cell_type": "markdown",
   "metadata": {},
   "source": [
    "- Useful constants :"
   ]
  },
  {
   "cell_type": "code",
   "execution_count": 2,
   "metadata": {},
   "outputs": [],
   "source": [
    "MS = 1.989e30  # kg\n",
    "RS = 6.96342e8  # m\n",
    "AS = 4.6  # yo\n",
    "BSsw = 1  # T\n",
    "LS = 3.826e26  # W\n",
    "\n",
    "MJ = 1.8986e27  # kg\n",
    "RJ = 69911e3  # m\n",
    "wJ = 1.77e-4  # s-1"
   ]
  },
  {
   "cell_type": "markdown",
   "metadata": {},
   "source": [
    "- Retrieving dataset :"
   ]
  },
  {
   "cell_type": "code",
   "execution_count": 3,
   "metadata": {},
   "outputs": [],
   "source": [
    "config_param = Config()\n",
    "data =pd.read_csv(r'exoplanet.eu_catalog.csv')\n",
    "data = config_param.param_names(data=data)"
   ]
  },
  {
   "cell_type": "markdown",
   "metadata": {},
   "source": [
    "- Initializing Jupiter and the Sun:"
   ]
  },
  {
   "cell_type": "code",
   "execution_count": 4,
   "metadata": {},
   "outputs": [
    {
     "name": "stdout",
     "output_type": "stream",
     "text": [
      "0.6977165691451518\n"
     ]
    },
    {
     "name": "stderr",
     "output_type": "stream",
     "text": [
      "WARNING: BlankResponseWarning: Warning: The script line number 3 raised an error (recorded in the `errors` attribute of the result table): 'Soleil': No known catalog could be found [astroquery.simbad.core]\n"
     ]
    }
   ],
   "source": [
    "jup = Planet(\n",
    "    name=\"Jupiter\",\n",
    "    mass=1.0,\n",
    "    radius={\"models\": config_param.planet_radius_models, \"radius\": 1.0},\n",
    "    distance=5.2,\n",
    "    worb={\"star_mass\": MS, \"worb\": 1.0},\n",
    "    luminosity={\n",
    "        \"models\": config_param.planet_luminosity_models,\n",
    "        \"luminosity\": np.nan,\n",
    "        \"star_age\": 4.6,\n",
    "    },\n",
    "    wrot=1.0,\n",
    ")\n",
    "\n",
    "sun = Star(\n",
    "    name=\"Soleil\",\n",
    "    mass=1.0,\n",
    "    radius={\"models\": config_param.star_radius_models, \"radius\": 1.0},\n",
    "    age=AS,\n",
    "    obs_dist=1.0,\n",
    "    sp_type = 'V'\n",
    ")\n",
    "print(sun.luminosity)"
   ]
  },
  {
   "cell_type": "markdown",
   "metadata": {},
   "source": [
    "- Empty lists for computed/not computed radius and with/without radius expansion : "
   ]
  },
  {
   "cell_type": "code",
   "execution_count": 5,
   "metadata": {},
   "outputs": [],
   "source": [
    "radius_data = [] ; mass_data = []\n",
    "radius_estimate = []\n",
    "radius_estimate_expansion = []\n",
    "star_distance = []\n",
    "temp_eq = []"
   ]
  },
  {
   "cell_type": "markdown",
   "metadata": {},
   "source": [
    "- Computing :"
   ]
  },
  {
   "cell_type": "code",
   "execution_count": 6,
   "metadata": {},
   "outputs": [
    {
     "name": "stderr",
     "output_type": "stream",
     "text": [
      "WARNING: BlankResponseWarning: Warning: The script line number 3 raised an error (recorded in the `errors` attribute of the result table): '1RXS 1609' this identifier has an incorrect format for catalog: \t1RXS : 1st ROSAT X Survey [astroquery.simbad.core]\n",
      "WARNING: BlankResponseWarning: Warning: The script line number 3 raised an error (recorded in the `errors` attribute of the result table): '1SWASP J1407' this identifier has an incorrect format for catalog: \t1SWASP : Super Wide Angle Search for Planets [astroquery.simbad.core]\n",
      "WARNING: BlankResponseWarning: Warning: The script line number 3 raised an error (recorded in the `errors` attribute of the result table): '2M 0103-55 (AB)': No known catalog could be found [astroquery.simbad.core]\n",
      "WARNING: BlankResponseWarning: Warning: The script line number 3 raised an error (recorded in the `errors` attribute of the result table): '2M 0219-39': No known catalog could be found [astroquery.simbad.core]\n",
      "WARNING: BlankResponseWarning: Warning: The script line number 3 raised an error (recorded in the `errors` attribute of the result table): '2M0437': No known catalog could be found [astroquery.simbad.core]\n",
      "WARNING: BlankResponseWarning: Warning: The script line number 3 raised an error (recorded in the `errors` attribute of the result table): '2M 0441+23': No known catalog could be found [astroquery.simbad.core]\n",
      "WARNING: BlankResponseWarning: Warning: The script line number 3 raised an error (recorded in the `errors` attribute of the result table): '2M1059-21': No known catalog could be found [astroquery.simbad.core]\n",
      "WARNING: BlankResponseWarning: Warning: The script line number 3 raised an error (recorded in the `errors` attribute of the result table): '2M 2140+16': No known catalog could be found [astroquery.simbad.core]\n",
      "WARNING: BlankResponseWarning: Warning: The script line number 3 raised an error (recorded in the `errors` attribute of the result table): '2M 2206-20': No known catalog could be found [astroquery.simbad.core]\n",
      "WARNING: BlankResponseWarning: Warning: The script line number 3 raised an error (recorded in the `errors` attribute of the result table): '2M 2236+4751': No known catalog could be found [astroquery.simbad.core]\n",
      "WARNING: BlankResponseWarning: Warning: The script line number 3 raised an error (recorded in the `errors` attribute of the result table): '2MASS 0359+2009' this identifier has an incorrect format for catalog: \t2MASS : 2 Micron Sky Survey, Point Sources [astroquery.simbad.core]\n",
      "WARNING: BlankResponseWarning: Warning: The script line number 3 raised an error (recorded in the `errors` attribute of the result table): '2MASS J0021-4514' this identifier has an incorrect format for catalog: \t2MASS : 2 Micron Sky Survey, Point Sources [astroquery.simbad.core]\n",
      "WARNING: BlankResponseWarning: Warning: The script line number 3 raised an error (recorded in the `errors` attribute of the result table): '2MASS J0953-5055' this identifier has an incorrect format for catalog: \t2MASS : 2 Micron Sky Survey, Point Sources [astroquery.simbad.core]\n",
      "WARNING: BlankResponseWarning: Warning: The script line number 3 raised an error (recorded in the `errors` attribute of the result table): '2MASS J1450-7841 B' this identifier has an incorrect format for catalog: \t2MASS : 2 Micron Sky Survey, Point Sources [astroquery.simbad.core]\n",
      "WARNING: BlankResponseWarning: Warning: The script line number 3 raised an error (recorded in the `errors` attribute of the result table): '2MASS J1450-7841 A' this identifier has an incorrect format for catalog: \t2MASS : 2 Micron Sky Survey, Point Sources [astroquery.simbad.core]\n",
      "WARNING: BlankResponseWarning: Warning: The script line number 3 raised an error (recorded in the `errors` attribute of the result table): '2MASS J1554-3154' this identifier has an incorrect format for catalog: \t2MASS : 2 Micron Sky Survey, Point Sources [astroquery.simbad.core]\n",
      "WARNING: BlankResponseWarning: Warning: The script line number 3 raised an error (recorded in the `errors` attribute of the result table): '2MASS J1617-3828' this identifier has an incorrect format for catalog: \t2MASS : 2 Micron Sky Survey, Point Sources [astroquery.simbad.core]\n",
      "WARNING: BlankResponseWarning: Warning: The script line number 3 raised an error (recorded in the `errors` attribute of the result table): '2MASS J2250+2325' this identifier has an incorrect format for catalog: \t2MASS : 2 Micron Sky Survey, Point Sources [astroquery.simbad.core]\n",
      "WARNING: BlankResponseWarning: Warning: The script line number 3 raised an error (recorded in the `errors` attribute of the result table): Identifier not found in the database : *  55 Cnc A [astroquery.simbad.core]\n",
      "WARNING: BlankResponseWarning: Warning: The script line number 3 raised an error (recorded in the `errors` attribute of the result table): Identifier not found in the database : *  55 Cnc A [astroquery.simbad.core]\n",
      "WARNING: BlankResponseWarning: Warning: The script line number 3 raised an error (recorded in the `errors` attribute of the result table): Identifier not found in the database : *  55 Cnc A [astroquery.simbad.core]\n",
      "WARNING: BlankResponseWarning: Warning: The script line number 3 raised an error (recorded in the `errors` attribute of the result table): Identifier not found in the database : *  55 Cnc A [astroquery.simbad.core]\n",
      "WARNING: BlankResponseWarning: Warning: The script line number 3 raised an error (recorded in the `errors` attribute of the result table): Identifier not found in the database : *  55 Cnc A [astroquery.simbad.core]\n",
      "WARNING: BlankResponseWarning: Warning: The script line number 3 raised an error (recorded in the `errors` attribute of the result table): Identifier not found in the database : *  79 Cet A [astroquery.simbad.core]\n",
      "WARNING: BlankResponseWarning: Warning: The script line number 3 raised an error (recorded in the `errors` attribute of the result table): Identifier not found in the database : *  94 Cet A [astroquery.simbad.core]\n",
      "WARNING: BlankResponseWarning: Warning: The script line number 3 raised an error (recorded in the `errors` attribute of the result table): 'AB Dor C' this identifier has an incorrect format for catalog: \tAB : catalogue AB [astroquery.simbad.core]\n",
      "WARNING: BlankResponseWarning: Warning: The script line number 3 raised an error (recorded in the `errors` attribute of the result table): ' [astroquery.simbad.core]\n",
      "WARNING: BlankResponseWarning: Warning: The script line number 3 raised an error (recorded in the `errors` attribute of the result table): 'Cha Ha 8' this identifier has an incorrect format for catalogs: \tCha ( [astroquery.simbad.core]\n",
      "WARNING: BlankResponseWarning: Warning: The script line number 3 raised an error (recorded in the `errors` attribute of the result table): 'CWISE 0146-0508A' this identifier has an incorrect format for catalog: \tCWISE : CatWISE Catalog [astroquery.simbad.core]\n",
      "WARNING: BlankResponseWarning: Warning: The script line number 3 raised an error (recorded in the `errors` attribute of the result table): Identifier not found in the database : CWISE J061959.56+344631.3 [astroquery.simbad.core]\n",
      "WARNING: BlankResponseWarning: Warning: The script line number 3 raised an error (recorded in the `errors` attribute of the result table): Identifier not found in the database : CWISE J062911.12+395632.8 [astroquery.simbad.core]\n",
      "WARNING: BlankResponseWarning: Warning: The script line number 3 raised an error (recorded in the `errors` attribute of the result table): Identifier not found in the database : CWISE J101533.05-111501.0 [astroquery.simbad.core]\n",
      "WARNING: BlankResponseWarning: Warning: The script line number 3 raised an error (recorded in the `errors` attribute of the result table): Identifier not found in the database : CWISE J133211.59-374953.3 [astroquery.simbad.core]\n",
      "WARNING: BlankResponseWarning: Warning: The script line number 3 raised an error (recorded in the `errors` attribute of the result table): Identifier not found in the database : CWISE J143951.66+255944.8 [astroquery.simbad.core]\n",
      "WARNING: BlankResponseWarning: Warning: The script line number 3 raised an error (recorded in the `errors` attribute of the result table): Identifier not found in the database : CWISE J144058.48+380422.1 [astroquery.simbad.core]\n",
      "WARNING: BlankResponseWarning: Warning: The script line number 3 raised an error (recorded in the `errors` attribute of the result table): Identifier not found in the database : CWISE J160653.16-103210.6 [astroquery.simbad.core]\n",
      "WARNING: BlankResponseWarning: Warning: The script line number 3 raised an error (recorded in the `errors` attribute of the result table): Identifier not found in the database : CWISE J165141.67+695306.6 [astroquery.simbad.core]\n",
      "WARNING: BlankResponseWarning: Warning: The script line number 3 raised an error (recorded in the `errors` attribute of the result table): 'DE0823-49': No known catalog could be found [astroquery.simbad.core]\n",
      "WARNING: BlankResponseWarning: Warning: The script line number 3 raised an error (recorded in the `errors` attribute of the result table): 'DoAr 21 (AB)' this identifier has an incorrect format for catalogs: \tDoAr : Dolidze + Arakelian \tDo : Dearborn Obs. [astroquery.simbad.core]\n",
      "WARNING: BlankResponseWarning: Warning: The script line number 3 raised an error (recorded in the `errors` attribute of the result table): 'DoAr 21 (AB)' this identifier has an incorrect format for catalogs: \tDoAr : Dolidze + Arakelian \tDo : Dearborn Obs. [astroquery.simbad.core]\n",
      "WARNING: BlankResponseWarning: Warning: The script line number 3 raised an error (recorded in the `errors` attribute of the result table): 'DP Leo (AB)' this identifier has an incorrect format for catalog: \tDP : De Marchi + Paresce [astroquery.simbad.core]\n",
      "WARNING: BlankResponseWarning: Warning: The script line number 3 raised an error (recorded in the `errors` attribute of the result table): 'DS Tuc A': No known catalog could be found [astroquery.simbad.core]\n",
      "WARNING: BlankResponseWarning: Warning: The script line number 3 raised an error (recorded in the `errors` attribute of the result table): 'EPIC 203868608 (AB)' this identifier has an incorrect format for catalog: \tEPIC : Ecliptic Plane Input Catalog [astroquery.simbad.core]\n",
      "WARNING: BlankResponseWarning: Warning: The script line number 3 raised an error (recorded in the `errors` attribute of the result table): Identifier not found in the database : * eps Ind A [astroquery.simbad.core]\n",
      "WARNING: BlankResponseWarning: Warning: The script line number 3 raised an error (recorded in the `errors` attribute of the result table): Identifier not found in the database : * eps Ret A [astroquery.simbad.core]\n",
      "WARNING: BlankResponseWarning: Warning: The script line number 3 raised an error (recorded in the `errors` attribute of the result table): 'gamma 1 Leo': No known catalog could be found [astroquery.simbad.core]\n",
      "WARNING: BlankResponseWarning: Warning: The script line number 3 raised an error (recorded in the `errors` attribute of the result table): Identifier not found in the database : GJ 3222 A [astroquery.simbad.core]\n",
      "WARNING: BlankResponseWarning: Warning: The script line number 3 raised an error (recorded in the `errors` attribute of the result table): Identifier not found in the database : GJ 3222 A [astroquery.simbad.core]\n",
      "WARNING: BlankResponseWarning: Warning: The script line number 3 raised an error (recorded in the `errors` attribute of the result table): 'GJ 570 ABC' this identifier has an incorrect format for catalog: \tGJ : Gliese - Jahreiss [astroquery.simbad.core]\n",
      "WARNING: BlankResponseWarning: Warning: The script line number 3 raised an error (recorded in the `errors` attribute of the result table): Identifier not found in the database : GJ 9714 A [astroquery.simbad.core]\n",
      "WARNING: BlankResponseWarning: Warning: The script line number 3 raised an error (recorded in the `errors` attribute of the result table): Identifier not found in the database : GJ 49 A [astroquery.simbad.core]\n",
      "WARNING: BlankResponseWarning: Warning: The script line number 3 raised an error (recorded in the `errors` attribute of the result table): Identifier not found in the database : HAT-P-10a [astroquery.simbad.core]\n",
      "WARNING: BlankResponseWarning: Warning: The script line number 3 raised an error (recorded in the `errors` attribute of the result table): Identifier not found in the database : HATS-37A [astroquery.simbad.core]\n",
      "WARNING: BlankResponseWarning: Warning: The script line number 3 raised an error (recorded in the `errors` attribute of the result table): Identifier not found in the database : HATS-71A [astroquery.simbad.core]\n",
      "WARNING: BlankResponseWarning: Warning: The script line number 3 raised an error (recorded in the `errors` attribute of the result table): Identifier not found in the database : HD 102365A [astroquery.simbad.core]\n",
      "WARNING: BlankResponseWarning: Warning: The script line number 3 raised an error (recorded in the `errors` attribute of the result table): Identifier not found in the database : HD 103774A [astroquery.simbad.core]\n",
      "WARNING: BlankResponseWarning: Warning: The script line number 3 raised an error (recorded in the `errors` attribute of the result table): 'HD 106906 (AB)' this identifier has an incorrect format for catalog: \tHD : Henry Draper [astroquery.simbad.core]\n",
      "WARNING: BlankResponseWarning: Warning: The script line number 3 raised an error (recorded in the `errors` attribute of the result table): Identifier not found in the database : HD 108341A [astroquery.simbad.core]\n",
      "WARNING: BlankResponseWarning: Warning: The script line number 3 raised an error (recorded in the `errors` attribute of the result table): Identifier not found in the database : HD 112758A [astroquery.simbad.core]\n",
      "WARNING: BlankResponseWarning: Warning: The script line number 3 raised an error (recorded in the `errors` attribute of the result table): Identifier not found in the database : HD 114729A [astroquery.simbad.core]\n",
      "WARNING: BlankResponseWarning: Warning: The script line number 3 raised an error (recorded in the `errors` attribute of the result table): Identifier not found in the database : HD  11505A [astroquery.simbad.core]\n",
      "WARNING: BlankResponseWarning: Warning: The script line number 3 raised an error (recorded in the `errors` attribute of the result table): Identifier not found in the database : HD 116029A [astroquery.simbad.core]\n",
      "WARNING: BlankResponseWarning: Warning: The script line number 3 raised an error (recorded in the `errors` attribute of the result table): Identifier not found in the database : HD 126053A [astroquery.simbad.core]\n",
      "WARNING: BlankResponseWarning: Warning: The script line number 3 raised an error (recorded in the `errors` attribute of the result table): Identifier not found in the database : HD 142245A [astroquery.simbad.core]\n",
      "WARNING: BlankResponseWarning: Warning: The script line number 3 raised an error (recorded in the `errors` attribute of the result table): Identifier not found in the database : HD 144899A [astroquery.simbad.core]\n",
      "WARNING: BlankResponseWarning: Warning: The script line number 3 raised an error (recorded in the `errors` attribute of the result table): Identifier not found in the database : HD 145934A [astroquery.simbad.core]\n",
      "WARNING: BlankResponseWarning: Warning: The script line number 3 raised an error (recorded in the `errors` attribute of the result table): Identifier not found in the database : HD  14651A [astroquery.simbad.core]\n",
      "WARNING: BlankResponseWarning: Warning: The script line number 3 raised an error (recorded in the `errors` attribute of the result table): Identifier not found in the database : HD 148193A [astroquery.simbad.core]\n",
      "WARNING: BlankResponseWarning: Warning: The script line number 3 raised an error (recorded in the `errors` attribute of the result table): Identifier not found in the database : HD 177830A [astroquery.simbad.core]\n",
      "WARNING: BlankResponseWarning: Warning: The script line number 3 raised an error (recorded in the `errors` attribute of the result table): Identifier not found in the database : HD 177830A [astroquery.simbad.core]\n",
      "WARNING: BlankResponseWarning: Warning: The script line number 3 raised an error (recorded in the `errors` attribute of the result table): Identifier not found in the database : HD 185269A [astroquery.simbad.core]\n",
      "WARNING: BlankResponseWarning: Warning: The script line number 3 raised an error (recorded in the `errors` attribute of the result table): Identifier not found in the database : HD  18757A [astroquery.simbad.core]\n",
      "WARNING: BlankResponseWarning: Warning: The script line number 3 raised an error (recorded in the `errors` attribute of the result table): Identifier not found in the database : HD 197037A [astroquery.simbad.core]\n",
      "WARNING: BlankResponseWarning: Warning: The script line number 3 raised an error (recorded in the `errors` attribute of the result table): Identifier not found in the database : HD 199509A [astroquery.simbad.core]\n",
      "WARNING: BlankResponseWarning: Warning: The script line number 3 raised an error (recorded in the `errors` attribute of the result table): Identifier not found in the database : HD 202206A [astroquery.simbad.core]\n",
      "WARNING: BlankResponseWarning: Warning: The script line number 3 raised an error (recorded in the `errors` attribute of the result table): Identifier not found in the database : HD 207832A [astroquery.simbad.core]\n",
      "WARNING: BlankResponseWarning: Warning: The script line number 3 raised an error (recorded in the `errors` attribute of the result table): Identifier not found in the database : HD 207832A [astroquery.simbad.core]\n",
      "WARNING: BlankResponseWarning: Warning: The script line number 3 raised an error (recorded in the `errors` attribute of the result table): Identifier not found in the database : HD 213519A [astroquery.simbad.core]\n",
      "WARNING: BlankResponseWarning: Warning: The script line number 3 raised an error (recorded in the `errors` attribute of the result table): Identifier not found in the database : HD 213519A [astroquery.simbad.core]\n",
      "WARNING: BlankResponseWarning: Warning: The script line number 3 raised an error (recorded in the `errors` attribute of the result table): Identifier not found in the database : HD 217786A [astroquery.simbad.core]\n",
      "WARNING: BlankResponseWarning: Warning: The script line number 3 raised an error (recorded in the `errors` attribute of the result table): Identifier not found in the database : HD 217786A [astroquery.simbad.core]\n",
      "WARNING: BlankResponseWarning: Warning: The script line number 3 raised an error (recorded in the `errors` attribute of the result table): Identifier not found in the database : HD 217958A [astroquery.simbad.core]\n",
      "WARNING: BlankResponseWarning: Warning: The script line number 3 raised an error (recorded in the `errors` attribute of the result table): Identifier not found in the database : HD 220842A [astroquery.simbad.core]\n",
      "WARNING: BlankResponseWarning: Warning: The script line number 3 raised an error (recorded in the `errors` attribute of the result table): Identifier not found in the database : HD  26161A [astroquery.simbad.core]\n",
      "WARNING: BlankResponseWarning: Warning: The script line number 3 raised an error (recorded in the `errors` attribute of the result table): Identifier not found in the database : HD  28192A [astroquery.simbad.core]\n",
      "WARNING: BlankResponseWarning: Warning: The script line number 3 raised an error (recorded in the `errors` attribute of the result table): Identifier not found in the database : HD  30856A [astroquery.simbad.core]\n",
      "WARNING: BlankResponseWarning: Warning: The script line number 3 raised an error (recorded in the `errors` attribute of the result table): Identifier not found in the database : HD  33632A [astroquery.simbad.core]\n",
      "WARNING: BlankResponseWarning: Warning: The script line number 3 raised an error (recorded in the `errors` attribute of the result table): Identifier not found in the database : HD   4113A [astroquery.simbad.core]\n",
      "WARNING: BlankResponseWarning: Warning: The script line number 3 raised an error (recorded in the `errors` attribute of the result table): Identifier not found in the database : HD   4113A [astroquery.simbad.core]\n",
      "WARNING: BlankResponseWarning: Warning: The script line number 3 raised an error (recorded in the `errors` attribute of the result table): Identifier not found in the database : HD  43691A [astroquery.simbad.core]\n",
      "WARNING: BlankResponseWarning: Warning: The script line number 3 raised an error (recorded in the `errors` attribute of the result table): Identifier not found in the database : HD   4732A [astroquery.simbad.core]\n",
      "WARNING: BlankResponseWarning: Warning: The script line number 3 raised an error (recorded in the `errors` attribute of the result table): Identifier not found in the database : HD   4732A [astroquery.simbad.core]\n",
      "WARNING: BlankResponseWarning: Warning: The script line number 3 raised an error (recorded in the `errors` attribute of the result table): Identifier not found in the database : HD  59686A [astroquery.simbad.core]\n",
      "WARNING: BlankResponseWarning: Warning: The script line number 3 raised an error (recorded in the `errors` attribute of the result table): Identifier not found in the database : HD  65216A [astroquery.simbad.core]\n",
      "WARNING: BlankResponseWarning: Warning: The script line number 3 raised an error (recorded in the `errors` attribute of the result table): Identifier not found in the database : HD  65216A [astroquery.simbad.core]\n",
      "WARNING: BlankResponseWarning: Warning: The script line number 3 raised an error (recorded in the `errors` attribute of the result table): Identifier not found in the database : HD  71827A [astroquery.simbad.core]\n",
      "WARNING: BlankResponseWarning: Warning: The script line number 3 raised an error (recorded in the `errors` attribute of the result table): Identifier not found in the database : HD  85628A [astroquery.simbad.core]\n",
      "WARNING: BlankResponseWarning: Warning: The script line number 3 raised an error (recorded in the `errors` attribute of the result table): Identifier not found in the database : HD  86081A [astroquery.simbad.core]\n",
      "WARNING: BlankResponseWarning: Warning: The script line number 3 raised an error (recorded in the `errors` attribute of the result table): Identifier not found in the database : HD  87646A [astroquery.simbad.core]\n",
      "WARNING: BlankResponseWarning: Warning: The script line number 3 raised an error (recorded in the `errors` attribute of the result table): Identifier not found in the database : HD  87646A [astroquery.simbad.core]\n",
      "WARNING: BlankResponseWarning: Warning: The script line number 3 raised an error (recorded in the `errors` attribute of the result table): Identifier not found in the database : HIP 65A [astroquery.simbad.core]\n",
      "WARNING: BlankResponseWarning: Warning: The script line number 3 raised an error (recorded in the `errors` attribute of the result table): Identifier not found in the database : HIP 79797A [astroquery.simbad.core]\n",
      "WARNING: BlankResponseWarning: Warning: The script line number 3 raised an error (recorded in the `errors` attribute of the result table): Identifier not found in the database : HIP 79797A [astroquery.simbad.core]\n",
      "WARNING: BlankResponseWarning: Warning: The script line number 3 raised an error (recorded in the `errors` attribute of the result table): Identifier not found in the database : HIP 8541A [astroquery.simbad.core]\n",
      "WARNING: BlankResponseWarning: Warning: The script line number 3 raised an error (recorded in the `errors` attribute of the result table): Identifier not found in the database : HIP 8541A [astroquery.simbad.core]\n",
      "WARNING: BlankResponseWarning: Warning: The script line number 3 raised an error (recorded in the `errors` attribute of the result table): 'HQ Tau A' this identifier has an incorrect format for catalog: \tHQ : Havlen + Quintana [astroquery.simbad.core]\n",
      "WARNING: BlankResponseWarning: Warning: The script line number 3 raised an error (recorded in the `errors` attribute of the result table): 'HW Vir (AB)' this identifier has an incorrect format for catalog: \tHW : Hodge-Wright [astroquery.simbad.core]\n",
      "WARNING: BlankResponseWarning: Warning: The script line number 3 raised an error (recorded in the `errors` attribute of the result table): 'HW Vir (AB)' this identifier has an incorrect format for catalog: \tHW : Hodge-Wright [astroquery.simbad.core]\n",
      "WARNING: BlankResponseWarning: Warning: The script line number 3 raised an error (recorded in the `errors` attribute of the result table): 'IC 4651 9122' this identifier has an incorrect format for catalog: \tIC : Index Catalog [astroquery.simbad.core]\n",
      "WARNING: BlankResponseWarning: Warning: The script line number 3 raised an error (recorded in the `errors` attribute of the result table): 'K2-2016-BLG-0005L' this identifier has an incorrect format for catalog: \tK2 : [astroquery.simbad.core]\n",
      "WARNING: BlankResponseWarning: Warning: The script line number 3 raised an error (recorded in the `errors` attribute of the result table): Identifier not found in the database : K2-232a [astroquery.simbad.core]\n",
      "WARNING: BlankResponseWarning: Warning: The script line number 3 raised an error (recorded in the `errors` attribute of the result table): Identifier not found in the database : K2-260a [astroquery.simbad.core]\n",
      "WARNING: BlankResponseWarning: Warning: The script line number 3 raised an error (recorded in the `errors` attribute of the result table): Identifier not found in the database : K2-265a [astroquery.simbad.core]\n",
      "WARNING: BlankResponseWarning: Warning: The script line number 3 raised an error (recorded in the `errors` attribute of the result table): Identifier not found in the database : K2-266a [astroquery.simbad.core]\n",
      "WARNING: BlankResponseWarning: Warning: The script line number 3 raised an error (recorded in the `errors` attribute of the result table): Identifier not found in the database : K2-266a [astroquery.simbad.core]\n",
      "WARNING: BlankResponseWarning: Warning: The script line number 3 raised an error (recorded in the `errors` attribute of the result table): Identifier not found in the database : K2-266a [astroquery.simbad.core]\n",
      "WARNING: BlankResponseWarning: Warning: The script line number 3 raised an error (recorded in the `errors` attribute of the result table): Identifier not found in the database : K2-266a [astroquery.simbad.core]\n",
      "WARNING: BlankResponseWarning: Warning: The script line number 3 raised an error (recorded in the `errors` attribute of the result table): Identifier not found in the database : K2-267a [astroquery.simbad.core]\n",
      "WARNING: BlankResponseWarning: Warning: The script line number 3 raised an error (recorded in the `errors` attribute of the result table): Identifier not found in the database : K2-290a [astroquery.simbad.core]\n",
      "WARNING: BlankResponseWarning: Warning: The script line number 3 raised an error (recorded in the `errors` attribute of the result table): Identifier not found in the database : K2-290a [astroquery.simbad.core]\n",
      "WARNING: BlankResponseWarning: Warning: The script line number 3 raised an error (recorded in the `errors` attribute of the result table): Identifier not found in the database : K2-29a [astroquery.simbad.core]\n",
      "WARNING: BlankResponseWarning: Warning: The script line number 3 raised an error (recorded in the `errors` attribute of the result table): Identifier not found in the database : K2-31a [astroquery.simbad.core]\n",
      "WARNING: BlankResponseWarning: Warning: The script line number 3 raised an error (recorded in the `errors` attribute of the result table): Identifier not found in the database : K2-32a [astroquery.simbad.core]\n",
      "WARNING: BlankResponseWarning: Warning: The script line number 3 raised an error (recorded in the `errors` attribute of the result table): Identifier not found in the database : K2-32a [astroquery.simbad.core]\n",
      "WARNING: BlankResponseWarning: Warning: The script line number 3 raised an error (recorded in the `errors` attribute of the result table): Identifier not found in the database : K2-32a [astroquery.simbad.core]\n",
      "WARNING: BlankResponseWarning: Warning: The script line number 3 raised an error (recorded in the `errors` attribute of the result table): Identifier not found in the database : K2-32a [astroquery.simbad.core]\n",
      "WARNING: BlankResponseWarning: Warning: The script line number 3 raised an error (recorded in the `errors` attribute of the result table): 'Kepler-1647 (AB)' this identifier has an incorrect format for catalog: \tKepler : Kepler famous astronomer [astroquery.simbad.core]\n",
      "WARNING: BlankResponseWarning: Warning: The script line number 3 raised an error (recorded in the `errors` attribute of the result table): Identifier not found in the database : Kepler-2002 [astroquery.simbad.core]\n",
      "WARNING: BlankResponseWarning: Warning: The script line number 3 raised an error (recorded in the `errors` attribute of the result table): 'Kepler-34 (AB)' this identifier has an incorrect format for catalog: \tKepler : Kepler famous astronomer [astroquery.simbad.core]\n",
      "WARNING: BlankResponseWarning: Warning: The script line number 3 raised an error (recorded in the `errors` attribute of the result table): 'Kepler-35 (AB)' this identifier has an incorrect format for catalog: \tKepler : Kepler famous astronomer [astroquery.simbad.core]\n",
      "WARNING: BlankResponseWarning: Warning: The script line number 3 raised an error (recorded in the `errors` attribute of the result table): 'Kepler-413 (AB)' this identifier has an incorrect format for catalog: \tKepler : Kepler famous astronomer [astroquery.simbad.core]\n",
      "WARNING: BlankResponseWarning: Warning: The script line number 3 raised an error (recorded in the `errors` attribute of the result table): Identifier not found in the database : Kepler-420A [astroquery.simbad.core]\n",
      "WARNING: BlankResponseWarning: Warning: The script line number 3 raised an error (recorded in the `errors` attribute of the result table): '2M 1938+46': No known catalog could be found [astroquery.simbad.core]\n",
      "WARNING: BlankResponseWarning: Warning: The script line number 3 raised an error (recorded in the `errors` attribute of the result table): '2M 1938+46': No known catalog could be found [astroquery.simbad.core]\n",
      "WARNING: BlankResponseWarning: Warning: The script line number 3 raised an error (recorded in the `errors` attribute of the result table): '2M 1938+46': No known catalog could be found [astroquery.simbad.core]\n",
      "WARNING: BlankResponseWarning: Warning: The script line number 3 raised an error (recorded in the `errors` attribute of the result table): Identifier not found in the database : Kepler-47A [astroquery.simbad.core]\n",
      "WARNING: BlankResponseWarning: Warning: The script line number 3 raised an error (recorded in the `errors` attribute of the result table): 'Kepler-64 (AB)' this identifier has an incorrect format for catalog: \tKepler : Kepler famous astronomer [astroquery.simbad.core]\n",
      "WARNING: BlankResponseWarning: Warning: The script line number 3 raised an error (recorded in the `errors` attribute of the result table): 'KIC 5621294 (AB)' this identifier has an incorrect format for catalog: \tKIC : Kepler Input Catalog [astroquery.simbad.core]\n",
      "WARNING: BlankResponseWarning: Warning: The script line number 3 raised an error (recorded in the `errors` attribute of the result table): Identifier not found in the database : KMT-2016-BLG-1836l [astroquery.simbad.core]\n",
      "WARNING: BlankResponseWarning: Warning: The script line number 3 raised an error (recorded in the `errors` attribute of the result table): 'KMTNet-2016-BLG-2321': No known catalog could be found [astroquery.simbad.core]\n",
      "WARNING: BlankResponseWarning: Warning: The script line number 3 raised an error (recorded in the `errors` attribute of the result table): Identifier not found in the database : KMT-2017-BLG-0165l [astroquery.simbad.core]\n",
      "WARNING: BlankResponseWarning: Warning: The script line number 3 raised an error (recorded in the `errors` attribute of the result table): Identifier not found in the database : KMT-2017-BLG-0673l [astroquery.simbad.core]\n",
      "WARNING: BlankResponseWarning: Warning: The script line number 3 raised an error (recorded in the `errors` attribute of the result table): Identifier not found in the database : KMT-2018-BLG-1025l [astroquery.simbad.core]\n",
      "WARNING: BlankResponseWarning: Warning: The script line number 3 raised an error (recorded in the `errors` attribute of the result table): Identifier not found in the database : KMT-2018-BLG-1292l [astroquery.simbad.core]\n",
      "WARNING: BlankResponseWarning: Warning: The script line number 3 raised an error (recorded in the `errors` attribute of the result table): Identifier not found in the database : KMT-2018-BLG-1976l [astroquery.simbad.core]\n",
      "WARNING: BlankResponseWarning: Warning: The script line number 3 raised an error (recorded in the `errors` attribute of the result table): Identifier not found in the database : KMT-2018-BLG-1988l [astroquery.simbad.core]\n",
      "WARNING: BlankResponseWarning: Warning: The script line number 3 raised an error (recorded in the `errors` attribute of the result table): Identifier not found in the database : KMT-2018-BLG-1990l [astroquery.simbad.core]\n",
      "WARNING: BlankResponseWarning: Warning: The script line number 3 raised an error (recorded in the `errors` attribute of the result table): Identifier not found in the database : KMT-2018-BLG-1996l [astroquery.simbad.core]\n",
      "WARNING: BlankResponseWarning: Warning: The script line number 3 raised an error (recorded in the `errors` attribute of the result table): Identifier not found in the database : KMT-2021-BLG-0171l [astroquery.simbad.core]\n",
      "WARNING: BlankResponseWarning: Warning: The script line number 3 raised an error (recorded in the `errors` attribute of the result table): Identifier not found in the database : KMT-2021-BLG-1077l [astroquery.simbad.core]\n",
      "WARNING: BlankResponseWarning: Warning: The script line number 3 raised an error (recorded in the `errors` attribute of the result table): Identifier not found in the database : KMT-2021-BLG-1077l [astroquery.simbad.core]\n",
      "WARNING: BlankResponseWarning: Warning: The script line number 3 raised an error (recorded in the `errors` attribute of the result table): Identifier not found in the database : KMT-2021-BLG-1150l [astroquery.simbad.core]\n",
      "WARNING: BlankResponseWarning: Warning: The script line number 3 raised an error (recorded in the `errors` attribute of the result table): Identifier not found in the database : KMT-2021-BLG-1547l [astroquery.simbad.core]\n",
      "WARNING: BlankResponseWarning: Warning: The script line number 3 raised an error (recorded in the `errors` attribute of the result table): Identifier not found in the database : KMT-2021-BLG-1689l [astroquery.simbad.core]\n",
      "WARNING: BlankResponseWarning: Warning: The script line number 3 raised an error (recorded in the `errors` attribute of the result table): Identifier not found in the database : KMT-2021-BLG-1931 [astroquery.simbad.core]\n",
      "WARNING: BlankResponseWarning: Warning: The script line number 3 raised an error (recorded in the `errors` attribute of the result table): Identifier not found in the database : KMT-2022-BLG-0440l [astroquery.simbad.core]\n",
      "WARNING: BlankResponseWarning: Warning: The script line number 3 raised an error (recorded in the `errors` attribute of the result table): Identifier not found in the database : KMT-2023-BLG-1431l [astroquery.simbad.core]\n",
      "WARNING: BlankResponseWarning: Warning: The script line number 3 raised an error (recorded in the `errors` attribute of the result table): Identifier not found in the database : KMT-2023-BLG-1866l [astroquery.simbad.core]\n",
      "WARNING: BlankResponseWarning: Warning: The script line number 3 raised an error (recorded in the `errors` attribute of the result table): 'LAMOST J0049+4236' this identifier has an incorrect format for catalog: \tLAMOST : Large Sky Area Multi-Object Fiber Spectroscopic Telescope [astroquery.simbad.core]\n",
      "WARNING: BlankResponseWarning: Warning: The script line number 3 raised an error (recorded in the `errors` attribute of the result table): 'LHS 2397a A' this identifier has an incorrect format for catalog: \tLHS : Luyten High Velocity Stars [astroquery.simbad.core]\n",
      "WARNING: BlankResponseWarning: Warning: The script line number 3 raised an error (recorded in the `errors` attribute of the result table): 'LHS-3154' this identifier has an incorrect format for catalog: \tLHS : Luyten High Velocity Stars [astroquery.simbad.core]\n",
      "WARNING: BlankResponseWarning: Warning: The script line number 3 raised an error (recorded in the `errors` attribute of the result table): 'Lupus-TR-3' this identifier has an incorrect format for catalogs: \tLupus : Lupus \tL (LDN): catalogue LDN \tL : catalogue L \tL (LBCS): LOFAR Long-Baseline Calibrator Survey [astroquery.simbad.core]\n",
      "WARNING: BlankResponseWarning: Warning: The script line number 3 raised an error (recorded in the `errors` attribute of the result table): 'M62H' this identifier has an incorrect format for catalogs: \tM : Messier Objects \tM ( [astroquery.simbad.core]\n",
      "WARNING: BlankResponseWarning: Warning: The script line number 3 raised an error (recorded in the `errors` attribute of the result table): 'MOA-2007-BLG-192L' this identifier has an incorrect format for catalog: \tMOA : Microlensing Observations in Astrophysics [astroquery.simbad.core]\n",
      "WARNING: BlankResponseWarning: Warning: The script line number 3 raised an error (recorded in the `errors` attribute of the result table): 'MOA-2007-BLG-197L' this identifier has an incorrect format for catalog: \tMOA : Microlensing Observations in Astrophysics [astroquery.simbad.core]\n",
      "WARNING: BlankResponseWarning: Warning: The script line number 3 raised an error (recorded in the `errors` attribute of the result table): 'MOA-2007-BLG-400L' this identifier has an incorrect format for catalog: \tMOA : Microlensing Observations in Astrophysics [astroquery.simbad.core]\n",
      "WARNING: BlankResponseWarning: Warning: The script line number 3 raised an error (recorded in the `errors` attribute of the result table): 'MOA-2008-BLG-310L' this identifier has an incorrect format for catalog: \tMOA : Microlensing Observations in Astrophysics [astroquery.simbad.core]\n",
      "WARNING: BlankResponseWarning: Warning: The script line number 3 raised an error (recorded in the `errors` attribute of the result table): 'MOA-2008-BLG-379L' this identifier has an incorrect format for catalog: \tMOA : Microlensing Observations in Astrophysics [astroquery.simbad.core]\n",
      "WARNING: BlankResponseWarning: Warning: The script line number 3 raised an error (recorded in the `errors` attribute of the result table): 'MOA-2009-BLG-266L' this identifier has an incorrect format for catalog: \tMOA : Microlensing Observations in Astrophysics [astroquery.simbad.core]\n",
      "WARNING: BlankResponseWarning: Warning: The script line number 3 raised an error (recorded in the `errors` attribute of the result table): 'MOA-2009-BLG-319' this identifier has an incorrect format for catalog: \tMOA : Microlensing Observations in Astrophysics [astroquery.simbad.core]\n",
      "WARNING: BlankResponseWarning: Warning: The script line number 3 raised an error (recorded in the `errors` attribute of the result table): 'MOA-2009-BLG-387L' this identifier has an incorrect format for catalog: \tMOA : Microlensing Observations in Astrophysics [astroquery.simbad.core]\n",
      "WARNING: BlankResponseWarning: Warning: The script line number 3 raised an error (recorded in the `errors` attribute of the result table): Identifier not found in the database : MOA  2009-BLG-411l [astroquery.simbad.core]\n",
      "WARNING: BlankResponseWarning: Warning: The script line number 3 raised an error (recorded in the `errors` attribute of the result table): 'MOA-2010-BLG-073L' this identifier has an incorrect format for catalog: \tMOA : Microlensing Observations in Astrophysics [astroquery.simbad.core]\n",
      "WARNING: BlankResponseWarning: Warning: The script line number 3 raised an error (recorded in the `errors` attribute of the result table): 'MOA-2010-BLG-117' this identifier has an incorrect format for catalog: \tMOA : Microlensing Observations in Astrophysics [astroquery.simbad.core]\n",
      "WARNING: BlankResponseWarning: Warning: The script line number 3 raised an error (recorded in the `errors` attribute of the result table): 'MOA-2010-BLG-328L' this identifier has an incorrect format for catalog: \tMOA : Microlensing Observations in Astrophysics [astroquery.simbad.core]\n",
      "WARNING: BlankResponseWarning: Warning: The script line number 3 raised an error (recorded in the `errors` attribute of the result table): 'MOA-2010-BLG-353L' this identifier has an incorrect format for catalog: \tMOA : Microlensing Observations in Astrophysics [astroquery.simbad.core]\n",
      "WARNING: BlankResponseWarning: Warning: The script line number 3 raised an error (recorded in the `errors` attribute of the result table): 'MOA-2010-BLG-477L' this identifier has an incorrect format for catalog: \tMOA : Microlensing Observations in Astrophysics [astroquery.simbad.core]\n",
      "WARNING: BlankResponseWarning: Warning: The script line number 3 raised an error (recorded in the `errors` attribute of the result table): 'MOA-2011-BLGL-028L' this identifier has an incorrect format for catalog: \tMOA : Microlensing Observations in Astrophysics [astroquery.simbad.core]\n",
      "WARNING: BlankResponseWarning: Warning: The script line number 3 raised an error (recorded in the `errors` attribute of the result table): 'MOA-2011-BLG-262L' this identifier has an incorrect format for catalog: \tMOA : Microlensing Observations in Astrophysics [astroquery.simbad.core]\n",
      "WARNING: BlankResponseWarning: Warning: The script line number 3 raised an error (recorded in the `errors` attribute of the result table): 'MOA-2011-BLG-291' this identifier has an incorrect format for catalog: \tMOA : Microlensing Observations in Astrophysics [astroquery.simbad.core]\n",
      "WARNING: BlankResponseWarning: Warning: The script line number 3 raised an error (recorded in the `errors` attribute of the result table): 'MOA-2011-BLG-293L' this identifier has an incorrect format for catalog: \tMOA : Microlensing Observations in Astrophysics [astroquery.simbad.core]\n",
      "WARNING: BlankResponseWarning: Warning: The script line number 3 raised an error (recorded in the `errors` attribute of the result table): 'MOA-2011-BLG-322' this identifier has an incorrect format for catalog: \tMOA : Microlensing Observations in Astrophysics [astroquery.simbad.core]\n",
      "WARNING: BlankResponseWarning: Warning: The script line number 3 raised an error (recorded in the `errors` attribute of the result table): 'MOA-2012-BLG-006' this identifier has an incorrect format for catalog: \tMOA : Microlensing Observations in Astrophysics [astroquery.simbad.core]\n",
      "WARNING: BlankResponseWarning: Warning: The script line number 3 raised an error (recorded in the `errors` attribute of the result table): 'MOA-2012-BLG-505L' this identifier has an incorrect format for catalog: \tMOA : Microlensing Observations in Astrophysics [astroquery.simbad.core]\n",
      "WARNING: BlankResponseWarning: Warning: The script line number 3 raised an error (recorded in the `errors` attribute of the result table): 'MOA-2013-BLG-220L' this identifier has an incorrect format for catalog: \tMOA : Microlensing Observations in Astrophysics [astroquery.simbad.core]\n",
      "WARNING: BlankResponseWarning: Warning: The script line number 3 raised an error (recorded in the `errors` attribute of the result table): 'MOA-2013-BLG-605L' this identifier has an incorrect format for catalog: \tMOA : Microlensing Observations in Astrophysics [astroquery.simbad.core]\n",
      "WARNING: BlankResponseWarning: Warning: The script line number 3 raised an error (recorded in the `errors` attribute of the result table): 'MOA-2014-BLG-472' this identifier has an incorrect format for catalog: \tMOA : Microlensing Observations in Astrophysics [astroquery.simbad.core]\n",
      "WARNING: BlankResponseWarning: Warning: The script line number 3 raised an error (recorded in the `errors` attribute of the result table): 'MOA-2016-BLG-227L' this identifier has an incorrect format for catalog: \tMOA : Microlensing Observations in Astrophysics [astroquery.simbad.core]\n",
      "WARNING: BlankResponseWarning: Warning: The script line number 3 raised an error (recorded in the `errors` attribute of the result table): 'MOA-2016-BLG-231' this identifier has an incorrect format for catalog: \tMOA : Microlensing Observations in Astrophysics [astroquery.simbad.core]\n",
      "WARNING: BlankResponseWarning: Warning: The script line number 3 raised an error (recorded in the `errors` attribute of the result table): 'MOA-2016-BLG-319L' this identifier has an incorrect format for catalog: \tMOA : Microlensing Observations in Astrophysics [astroquery.simbad.core]\n",
      "WARNING: BlankResponseWarning: Warning: The script line number 3 raised an error (recorded in the `errors` attribute of the result table): 'MOA-2019-BLG-421' this identifier has an incorrect format for catalog: \tMOA : Microlensing Observations in Astrophysics [astroquery.simbad.core]\n",
      "WARNING: BlankResponseWarning: Warning: The script line number 3 raised an error (recorded in the `errors` attribute of the result table): 'MOA-2020-BLG-135' this identifier has an incorrect format for catalog: \tMOA : Microlensing Observations in Astrophysics [astroquery.simbad.core]\n",
      "WARNING: BlankResponseWarning: Warning: The script line number 3 raised an error (recorded in the `errors` attribute of the result table): 'MOA-2020-BLG-208' this identifier has an incorrect format for catalog: \tMOA : Microlensing Observations in Astrophysics [astroquery.simbad.core]\n",
      "WARNING: BlankResponseWarning: Warning: The script line number 3 raised an error (recorded in the `errors` attribute of the result table): 'MOA-2022-BLG-249L' this identifier has an incorrect format for catalog: \tMOA : Microlensing Observations in Astrophysics [astroquery.simbad.core]\n",
      "WARNING: BlankResponseWarning: Warning: The script line number 3 raised an error (recorded in the `errors` attribute of the result table): 'MOA-2022-BLG-563' this identifier has an incorrect format for catalog: \tMOA : Microlensing Observations in Astrophysics [astroquery.simbad.core]\n",
      "WARNING: BlankResponseWarning: Warning: The script line number 3 raised an error (recorded in the `errors` attribute of the result table): Identifier not found in the database : MOA-bin-1l [astroquery.simbad.core]\n",
      "WARNING: BlankResponseWarning: Warning: The script line number 3 raised an error (recorded in the `errors` attribute of the result table): 'NGC 6440 X-2' this identifier has an incorrect format for catalog: \tNGC : catalogue NGC [astroquery.simbad.core]\n",
      "WARNING: BlankResponseWarning: Warning: The script line number 3 raised an error (recorded in the `errors` attribute of the result table): Identifier not found in the database : NGTS-3A [astroquery.simbad.core]\n",
      "WARNING: BlankResponseWarning: Warning: The script line number 3 raised an error (recorded in the `errors` attribute of the result table): 'NN Ser (AB)': No known catalog could be found [astroquery.simbad.core]\n",
      "WARNING: BlankResponseWarning: Warning: The script line number 3 raised an error (recorded in the `errors` attribute of the result table): 'NN Ser (AB)': No known catalog could be found [astroquery.simbad.core]\n",
      "WARNING: BlankResponseWarning: Warning: The script line number 3 raised an error (recorded in the `errors` attribute of the result table): 'NN Ser (AB)': No known catalog could be found [astroquery.simbad.core]\n",
      "WARNING: BlankResponseWarning: Warning: The script line number 3 raised an error (recorded in the `errors` attribute of the result table): 'NSC J0040-2942' this identifier has an incorrect format for catalog: \tNSC : Northern Sky Cluster survey [astroquery.simbad.core]\n",
      "WARNING: BlankResponseWarning: Warning: The script line number 3 raised an error (recorded in the `errors` attribute of the result table): 'NSC J0148-0357' this identifier has an incorrect format for catalog: \tNSC : Northern Sky Cluster survey [astroquery.simbad.core]\n",
      "WARNING: BlankResponseWarning: Warning: The script line number 3 raised an error (recorded in the `errors` attribute of the result table): 'NSC J0200-1254' this identifier has an incorrect format for catalog: \tNSC : Northern Sky Cluster survey [astroquery.simbad.core]\n",
      "WARNING: BlankResponseWarning: Warning: The script line number 3 raised an error (recorded in the `errors` attribute of the result table): 'NSC J0200-4707' this identifier has an incorrect format for catalog: \tNSC : Northern Sky Cluster survey [astroquery.simbad.core]\n",
      "WARNING: BlankResponseWarning: Warning: The script line number 3 raised an error (recorded in the `errors` attribute of the result table): 'NSC J0205+0202' this identifier has an incorrect format for catalog: \tNSC : Northern Sky Cluster survey [astroquery.simbad.core]\n",
      "WARNING: BlankResponseWarning: Warning: The script line number 3 raised an error (recorded in the `errors` attribute of the result table): 'NSC J0231-0311' this identifier has an incorrect format for catalog: \tNSC : Northern Sky Cluster survey [astroquery.simbad.core]\n",
      "WARNING: BlankResponseWarning: Warning: The script line number 3 raised an error (recorded in the `errors` attribute of the result table): 'NSC J0435-3559' this identifier has an incorrect format for catalog: \tNSC : Northern Sky Cluster survey [astroquery.simbad.core]\n",
      "WARNING: BlankResponseWarning: Warning: The script line number 3 raised an error (recorded in the `errors` attribute of the result table): 'NSC J0457-2300' this identifier has an incorrect format for catalog: \tNSC : Northern Sky Cluster survey [astroquery.simbad.core]\n",
      "WARNING: BlankResponseWarning: Warning: The script line number 3 raised an error (recorded in the `errors` attribute of the result table): 'NSC J0523-5655' this identifier has an incorrect format for catalog: \tNSC : Northern Sky Cluster survey [astroquery.simbad.core]\n",
      "WARNING: BlankResponseWarning: Warning: The script line number 3 raised an error (recorded in the `errors` attribute of the result table): 'NSC J1239-0054' this identifier has an incorrect format for catalog: \tNSC : Northern Sky Cluster survey [astroquery.simbad.core]\n",
      "WARNING: BlankResponseWarning: Warning: The script line number 3 raised an error (recorded in the `errors` attribute of the result table): 'NSVS 1425 (AB)' this identifier has an incorrect format for catalog: \tNSVS : Northern Sky Variability Survey [astroquery.simbad.core]\n",
      "WARNING: BlankResponseWarning: Warning: The script line number 3 raised an error (recorded in the `errors` attribute of the result table): 'NSVS 2502726 (AB)' this identifier has an incorrect format for catalog: \tNSVS : Northern Sky Variability Survey [astroquery.simbad.core]\n",
      "WARNING: BlankResponseWarning: Warning: The script line number 3 raised an error (recorded in the `errors` attribute of the result table): 'NSVS 7826147 (AB)' this identifier has an incorrect format for catalog: \tNSVS : Northern Sky Variability Survey [astroquery.simbad.core]\n",
      "WARNING: BlankResponseWarning: Warning: The script line number 3 raised an error (recorded in the `errors` attribute of the result table): 'NY Vir (AB)': No known catalog could be found [astroquery.simbad.core]\n",
      "WARNING: BlankResponseWarning: Warning: The script line number 3 raised an error (recorded in the `errors` attribute of the result table): 'NY Vir (AB)': No known catalog could be found [astroquery.simbad.core]\n",
      "WARNING: BlankResponseWarning: Warning: The script line number 3 raised an error (recorded in the `errors` attribute of the result table): 'OGLE-2003-BLG-235L' this identifier has an incorrect format for catalog: \tOGLE : Optical Gravitational Lensing Event [astroquery.simbad.core]\n",
      "WARNING: BlankResponseWarning: Warning: The script line number 3 raised an error (recorded in the `errors` attribute of the result table): 'OGLE-2005-BLG-071L' this identifier has an incorrect format for catalog: \tOGLE : Optical Gravitational Lensing Event [astroquery.simbad.core]\n",
      "WARNING: BlankResponseWarning: Warning: The script line number 3 raised an error (recorded in the `errors` attribute of the result table): 'OGLE-2005-BLG-169L' this identifier has an incorrect format for catalog: \tOGLE : Optical Gravitational Lensing Event [astroquery.simbad.core]\n",
      "WARNING: BlankResponseWarning: Warning: The script line number 3 raised an error (recorded in the `errors` attribute of the result table): 'OGLE-2005-BLG-390L' this identifier has an incorrect format for catalog: \tOGLE : Optical Gravitational Lensing Event [astroquery.simbad.core]\n",
      "WARNING: BlankResponseWarning: Warning: The script line number 3 raised an error (recorded in the `errors` attribute of the result table): 'OGLE-2006-BLG-109L' this identifier has an incorrect format for catalog: \tOGLE : Optical Gravitational Lensing Event [astroquery.simbad.core]\n",
      "WARNING: BlankResponseWarning: Warning: The script line number 3 raised an error (recorded in the `errors` attribute of the result table): 'OGLE-2006-BLG-109L' this identifier has an incorrect format for catalog: \tOGLE : Optical Gravitational Lensing Event [astroquery.simbad.core]\n",
      "WARNING: BlankResponseWarning: Warning: The script line number 3 raised an error (recorded in the `errors` attribute of the result table): 'OGLE-2007-BLG-349L (AB)' this identifier has an incorrect format for catalog: \tOGLE : Optical Gravitational Lensing Event [astroquery.simbad.core]\n",
      "WARNING: BlankResponseWarning: Warning: The script line number 3 raised an error (recorded in the `errors` attribute of the result table): 'OGLE-2008-BLG-092L A' this identifier has an incorrect format for catalog: \tOGLE : Optical Gravitational Lensing Event [astroquery.simbad.core]\n",
      "WARNING: BlankResponseWarning: Warning: The script line number 3 raised an error (recorded in the `errors` attribute of the result table): 'OGLE-2008-BLG-355L' this identifier has an incorrect format for catalog: \tOGLE : Optical Gravitational Lensing Event [astroquery.simbad.core]\n",
      "WARNING: BlankResponseWarning: Warning: The script line number 3 raised an error (recorded in the `errors` attribute of the result table): 'OGLE-2009-BLG-151L' this identifier has an incorrect format for catalog: \tOGLE : Optical Gravitational Lensing Event [astroquery.simbad.core]\n",
      "WARNING: BlankResponseWarning: Warning: The script line number 3 raised an error (recorded in the `errors` attribute of the result table): 'OGLE-2011-BLG-0173L' this identifier has an incorrect format for catalog: \tOGLE : Optical Gravitational Lensing Event [astroquery.simbad.core]\n",
      "WARNING: BlankResponseWarning: Warning: The script line number 3 raised an error (recorded in the `errors` attribute of the result table): 'OGLE-2011-BLG-0265L' this identifier has an incorrect format for catalog: \tOGLE : Optical Gravitational Lensing Event [astroquery.simbad.core]\n",
      "WARNING: BlankResponseWarning: Warning: The script line number 3 raised an error (recorded in the `errors` attribute of the result table): 'OGLE-2011-BLG-0420L' this identifier has an incorrect format for catalog: \tOGLE : Optical Gravitational Lensing Event [astroquery.simbad.core]\n",
      "WARNING: BlankResponseWarning: Warning: The script line number 3 raised an error (recorded in the `errors` attribute of the result table): 'OGLE-2012-BLG-0406L' this identifier has an incorrect format for catalog: \tOGLE : Optical Gravitational Lensing Event [astroquery.simbad.core]\n",
      "WARNING: BlankResponseWarning: Warning: The script line number 3 raised an error (recorded in the `errors` attribute of the result table): 'OGLE-2012-BLG-0563L' this identifier has an incorrect format for catalog: \tOGLE : Optical Gravitational Lensing Event [astroquery.simbad.core]\n",
      "WARNING: BlankResponseWarning: Warning: The script line number 3 raised an error (recorded in the `errors` attribute of the result table): 'OGLE-2012-BLG-0724L' this identifier has an incorrect format for catalog: \tOGLE : Optical Gravitational Lensing Event [astroquery.simbad.core]\n",
      "WARNING: BlankResponseWarning: Warning: The script line number 3 raised an error (recorded in the `errors` attribute of the result table): 'OGLE-2012-BLG-0950L' this identifier has an incorrect format for catalog: \tOGLE : Optical Gravitational Lensing Event [astroquery.simbad.core]\n",
      "WARNING: BlankResponseWarning: Warning: The script line number 3 raised an error (recorded in the `errors` attribute of the result table): 'OGLE-2013-BLG-0102L' this identifier has an incorrect format for catalog: \tOGLE : Optical Gravitational Lensing Event [astroquery.simbad.core]\n",
      "WARNING: BlankResponseWarning: Warning: The script line number 3 raised an error (recorded in the `errors` attribute of the result table): 'OGLE-2013-BLG-0132L' this identifier has an incorrect format for catalog: \tOGLE : Optical Gravitational Lensing Event [astroquery.simbad.core]\n",
      "WARNING: BlankResponseWarning: Warning: The script line number 3 raised an error (recorded in the `errors` attribute of the result table): 'OGLE-2013-BLG-0341L' this identifier has an incorrect format for catalog: \tOGLE : Optical Gravitational Lensing Event [astroquery.simbad.core]\n",
      "WARNING: BlankResponseWarning: Warning: The script line number 3 raised an error (recorded in the `errors` attribute of the result table): 'OGLE-2013-BLG-0578L' this identifier has an incorrect format for catalog: \tOGLE : Optical Gravitational Lensing Event [astroquery.simbad.core]\n",
      "WARNING: BlankResponseWarning: Warning: The script line number 3 raised an error (recorded in the `errors` attribute of the result table): 'OGLE-2013-BLG-0911L' this identifier has an incorrect format for catalog: \tOGLE : Optical Gravitational Lensing Event [astroquery.simbad.core]\n",
      "WARNING: BlankResponseWarning: Warning: The script line number 3 raised an error (recorded in the `errors` attribute of the result table): 'OGLE-2013-BLG-1721L' this identifier has an incorrect format for catalog: \tOGLE : Optical Gravitational Lensing Event [astroquery.simbad.core]\n",
      "WARNING: BlankResponseWarning: Warning: The script line number 3 raised an error (recorded in the `errors` attribute of the result table): 'OGLE-2013-BLG-1761L' this identifier has an incorrect format for catalog: \tOGLE : Optical Gravitational Lensing Event [astroquery.simbad.core]\n",
      "WARNING: BlankResponseWarning: Warning: The script line number 3 raised an error (recorded in the `errors` attribute of the result table): 'OGLE-2014-BLG-0124L' this identifier has an incorrect format for catalog: \tOGLE : Optical Gravitational Lensing Event [astroquery.simbad.core]\n",
      "WARNING: BlankResponseWarning: Warning: The script line number 3 raised an error (recorded in the `errors` attribute of the result table): 'OGLE-2014-BLG-0257L' this identifier has an incorrect format for catalog: \tOGLE : Optical Gravitational Lensing Event [astroquery.simbad.core]\n",
      "WARNING: BlankResponseWarning: Warning: The script line number 3 raised an error (recorded in the `errors` attribute of the result table): 'OGLE-2014-BLG-0676L' this identifier has an incorrect format for catalog: \tOGLE : Optical Gravitational Lensing Event [astroquery.simbad.core]\n",
      "WARNING: BlankResponseWarning: Warning: The script line number 3 raised an error (recorded in the `errors` attribute of the result table): 'OGLE-2014-BLG-1112L' this identifier has an incorrect format for catalog: \tOGLE : Optical Gravitational Lensing Event [astroquery.simbad.core]\n",
      "WARNING: BlankResponseWarning: Warning: The script line number 3 raised an error (recorded in the `errors` attribute of the result table): 'OGLE-2014-BLG-1722L' this identifier has an incorrect format for catalog: \tOGLE : Optical Gravitational Lensing Event [astroquery.simbad.core]\n",
      "WARNING: BlankResponseWarning: Warning: The script line number 3 raised an error (recorded in the `errors` attribute of the result table): 'OGLE-2014-BLG-1722L' this identifier has an incorrect format for catalog: \tOGLE : Optical Gravitational Lensing Event [astroquery.simbad.core]\n",
      "WARNING: BlankResponseWarning: Warning: The script line number 3 raised an error (recorded in the `errors` attribute of the result table): 'OGLE-2014-BLG-1760L' this identifier has an incorrect format for catalog: \tOGLE : Optical Gravitational Lensing Event [astroquery.simbad.core]\n",
      "WARNING: BlankResponseWarning: Warning: The script line number 3 raised an error (recorded in the `errors` attribute of the result table): 'OGLE-2015-BLG-0051L' this identifier has an incorrect format for catalog: \tOGLE : Optical Gravitational Lensing Event [astroquery.simbad.core]\n",
      "WARNING: BlankResponseWarning: Warning: The script line number 3 raised an error (recorded in the `errors` attribute of the result table): 'OGLE-2015-BLG-0954L' this identifier has an incorrect format for catalog: \tOGLE : Optical Gravitational Lensing Event [astroquery.simbad.core]\n",
      "WARNING: BlankResponseWarning: Warning: The script line number 3 raised an error (recorded in the `errors` attribute of the result table): 'OGLE-2015-BLG-0966L' this identifier has an incorrect format for catalog: \tOGLE : Optical Gravitational Lensing Event [astroquery.simbad.core]\n",
      "WARNING: BlankResponseWarning: Warning: The script line number 3 raised an error (recorded in the `errors` attribute of the result table): 'OGLE-2015-BLG-1319L' this identifier has an incorrect format for catalog: \tOGLE : Optical Gravitational Lensing Event [astroquery.simbad.core]\n",
      "WARNING: BlankResponseWarning: Warning: The script line number 3 raised an error (recorded in the `errors` attribute of the result table): 'OGLE-2015-BLG-1670L' this identifier has an incorrect format for catalog: \tOGLE : Optical Gravitational Lensing Event [astroquery.simbad.core]\n",
      "WARNING: BlankResponseWarning: Warning: The script line number 3 raised an error (recorded in the `errors` attribute of the result table): 'OGLE-2015-BLG-1771L' this identifier has an incorrect format for catalog: \tOGLE : Optical Gravitational Lensing Event [astroquery.simbad.core]\n",
      "WARNING: BlankResponseWarning: Warning: The script line number 3 raised an error (recorded in the `errors` attribute of the result table): 'OGLE-2016-BLG-0263L' this identifier has an incorrect format for catalog: \tOGLE : Optical Gravitational Lensing Event [astroquery.simbad.core]\n",
      "WARNING: BlankResponseWarning: Warning: The script line number 3 raised an error (recorded in the `errors` attribute of the result table): 'OGLE-2016-BLG-0613L (AB)' this identifier has an incorrect format for catalog: \tOGLE : Optical Gravitational Lensing Event [astroquery.simbad.core]\n",
      "WARNING: BlankResponseWarning: Warning: The script line number 3 raised an error (recorded in the `errors` attribute of the result table): 'OGLE-2016-BLG-1067L' this identifier has an incorrect format for catalog: \tOGLE : Optical Gravitational Lensing Event [astroquery.simbad.core]\n",
      "WARNING: BlankResponseWarning: Warning: The script line number 3 raised an error (recorded in the `errors` attribute of the result table): 'OGLE-2016-BLG-1093L' this identifier has an incorrect format for catalog: \tOGLE : Optical Gravitational Lensing Event [astroquery.simbad.core]\n",
      "WARNING: BlankResponseWarning: Warning: The script line number 3 raised an error (recorded in the `errors` attribute of the result table): 'OGLE-2016-BLG-1190L' this identifier has an incorrect format for catalog: \tOGLE : Optical Gravitational Lensing Event [astroquery.simbad.core]\n",
      "WARNING: BlankResponseWarning: Warning: The script line number 3 raised an error (recorded in the `errors` attribute of the result table): 'OGLE-2016-BLG-1195L' this identifier has an incorrect format for catalog: \tOGLE : Optical Gravitational Lensing Event [astroquery.simbad.core]\n",
      "WARNING: BlankResponseWarning: Warning: The script line number 3 raised an error (recorded in the `errors` attribute of the result table): 'OGLE-2016-BLG-1266L' this identifier has an incorrect format for catalog: \tOGLE : Optical Gravitational Lensing Event [astroquery.simbad.core]\n",
      "WARNING: BlankResponseWarning: Warning: The script line number 3 raised an error (recorded in the `errors` attribute of the result table): 'OGLE-2016-BLG-1469L' this identifier has an incorrect format for catalog: \tOGLE : Optical Gravitational Lensing Event [astroquery.simbad.core]\n",
      "WARNING: BlankResponseWarning: Warning: The script line number 3 raised an error (recorded in the `errors` attribute of the result table): 'OGLE-2017-BLG-0173L' this identifier has an incorrect format for catalog: \tOGLE : Optical Gravitational Lensing Event [astroquery.simbad.core]\n",
      "WARNING: BlankResponseWarning: Warning: The script line number 3 raised an error (recorded in the `errors` attribute of the result table): 'OGLE-2017-BLG-1140L' this identifier has an incorrect format for catalog: \tOGLE : Optical Gravitational Lensing Event [astroquery.simbad.core]\n",
      "WARNING: BlankResponseWarning: Warning: The script line number 3 raised an error (recorded in the `errors` attribute of the result table): 'OGLE-2017-BLG-1434L' this identifier has an incorrect format for catalog: \tOGLE : Optical Gravitational Lensing Event [astroquery.simbad.core]\n",
      "WARNING: BlankResponseWarning: Warning: The script line number 3 raised an error (recorded in the `errors` attribute of the result table): 'OGLE-2017-BLG-1522L' this identifier has an incorrect format for catalog: \tOGLE : Optical Gravitational Lensing Event [astroquery.simbad.core]\n",
      "WARNING: BlankResponseWarning: Warning: The script line number 3 raised an error (recorded in the `errors` attribute of the result table): 'OGLE-2017-BLG-1691L' this identifier has an incorrect format for catalog: \tOGLE : Optical Gravitational Lensing Event [astroquery.simbad.core]\n",
      "WARNING: BlankResponseWarning: Warning: The script line number 3 raised an error (recorded in the `errors` attribute of the result table): 'OGLE--2018-BLG-0516' this identifier has an incorrect format for catalog: \tOGLE : Optical Gravitational Lensing Event [astroquery.simbad.core]\n",
      "WARNING: BlankResponseWarning: Warning: The script line number 3 raised an error (recorded in the `errors` attribute of the result table): 'OGLE-2018-BLG-0567L' this identifier has an incorrect format for catalog: \tOGLE : Optical Gravitational Lensing Event [astroquery.simbad.core]\n",
      "WARNING: BlankResponseWarning: Warning: The script line number 3 raised an error (recorded in the `errors` attribute of the result table): 'OGLE-2018-BLG-0677L' this identifier has an incorrect format for catalog: \tOGLE : Optical Gravitational Lensing Event [astroquery.simbad.core]\n",
      "WARNING: BlankResponseWarning: Warning: The script line number 3 raised an error (recorded in the `errors` attribute of the result table): 'OGLE-2018-BLG-0740L' this identifier has an incorrect format for catalog: \tOGLE : Optical Gravitational Lensing Event [astroquery.simbad.core]\n",
      "WARNING: BlankResponseWarning: Warning: The script line number 3 raised an error (recorded in the `errors` attribute of the result table): 'OGLE-2018-BLG-0962L' this identifier has an incorrect format for catalog: \tOGLE : Optical Gravitational Lensing Event [astroquery.simbad.core]\n",
      "WARNING: BlankResponseWarning: Warning: The script line number 3 raised an error (recorded in the `errors` attribute of the result table): 'OGLE-2018BLG-1011L' this identifier has an incorrect format for catalog: \tOGLE : Optical Gravitational Lensing Event [astroquery.simbad.core]\n",
      "WARNING: BlankResponseWarning: Warning: The script line number 3 raised an error (recorded in the `errors` attribute of the result table): 'OGLE-2018BLG-1011L' this identifier has an incorrect format for catalog: \tOGLE : Optical Gravitational Lensing Event [astroquery.simbad.core]\n",
      "WARNING: BlankResponseWarning: Warning: The script line number 3 raised an error (recorded in the `errors` attribute of the result table): 'OGLE-2018-BLG-1269L' this identifier has an incorrect format for catalog: \tOGLE : Optical Gravitational Lensing Event [astroquery.simbad.core]\n",
      "WARNING: BlankResponseWarning: Warning: The script line number 3 raised an error (recorded in the `errors` attribute of the result table): 'OGLE-2018-BLG-1428L' this identifier has an incorrect format for catalog: \tOGLE : Optical Gravitational Lensing Event [astroquery.simbad.core]\n",
      "WARNING: BlankResponseWarning: Warning: The script line number 3 raised an error (recorded in the `errors` attribute of the result table): 'OGLE-2018-BLG-1700L' this identifier has an incorrect format for catalog: \tOGLE : Optical Gravitational Lensing Event [astroquery.simbad.core]\n",
      "WARNING: BlankResponseWarning: Warning: The script line number 3 raised an error (recorded in the `errors` attribute of the result table): 'OGLE-2019-BLG-0468L' this identifier has an incorrect format for catalog: \tOGLE : Optical Gravitational Lensing Event [astroquery.simbad.core]\n",
      "WARNING: BlankResponseWarning: Warning: The script line number 3 raised an error (recorded in the `errors` attribute of the result table): 'OGLE-2019-BLG-0468L' this identifier has an incorrect format for catalog: \tOGLE : Optical Gravitational Lensing Event [astroquery.simbad.core]\n",
      "WARNING: BlankResponseWarning: Warning: The script line number 3 raised an error (recorded in the `errors` attribute of the result table): 'OGLE-2019-BLG-0954L' this identifier has an incorrect format for catalog: \tOGLE : Optical Gravitational Lensing Event  Coord.toString(A;opt). incorrect option: 'o' Coord.toString(A;opt). incorrect option: 'p' [astroquery.simbad.core]\n",
      "WARNING: BlankResponseWarning: Warning: The script line number 3 raised an error (recorded in the `errors` attribute of the result table): 'OGLE-2019-BLG-1053L' this identifier has an incorrect format for catalog: \tOGLE : Optical Gravitational Lensing Event [astroquery.simbad.core]\n",
      "WARNING: BlankResponseWarning: Warning: The script line number 3 raised an error (recorded in the `errors` attribute of the result table): 'OGLE-2019-BLG-1180L' this identifier has an incorrect format for catalog: \tOGLE : Optical Gravitational Lensing Event [astroquery.simbad.core]\n",
      "WARNING: BlankResponseWarning: Warning: The script line number 3 raised an error (recorded in the `errors` attribute of the result table): 'OGLE-2019-BLG-1470L (AB)' this identifier has an incorrect format for catalog: \tOGLE : Optical Gravitational Lensing Event [astroquery.simbad.core]\n",
      "WARNING: BlankResponseWarning: Warning: The script line number 3 raised an error (recorded in the `errors` attribute of the result table): 'OGLE-2023-BLG-0836L' this identifier has an incorrect format for catalog: \tOGLE : Optical Gravitational Lensing Event [astroquery.simbad.core]\n",
      "WARNING: BlankResponseWarning: Warning: The script line number 3 raised an error (recorded in the `errors` attribute of the result table): 'ome Cen-B': No known catalog could be found [astroquery.simbad.core]\n",
      "WARNING: BlankResponseWarning: Warning: The script line number 3 raised an error (recorded in the `errors` attribute of the result table): 'ome Cen-G': No known catalog could be found [astroquery.simbad.core]\n",
      "WARNING: BlankResponseWarning: Warning: The script line number 3 raised an error (recorded in the `errors` attribute of the result table): 'ome Cen-H': No known catalog could be found [astroquery.simbad.core]\n",
      "WARNING: BlankResponseWarning: Warning: The script line number 3 raised an error (recorded in the `errors` attribute of the result table): 'ome Cen-K': No known catalog could be found [astroquery.simbad.core]\n",
      "WARNING: BlankResponseWarning: Warning: The script line number 3 raised an error (recorded in the `errors` attribute of the result table): 'ome Cen-L': No known catalog could be found [astroquery.simbad.core]\n",
      "WARNING: BlankResponseWarning: Warning: The script line number 3 raised an error (recorded in the `errors` attribute of the result table): Identifier not found in the database : * omi UMa A [astroquery.simbad.core]\n",
      "WARNING: BlankResponseWarning: Warning: The script line number 3 raised an error (recorded in the `errors` attribute of the result table): 'pi1 Cnc (AB)' this identifier has an incorrect format for catalog: \t* : star name [astroquery.simbad.core]\n",
      "WARNING: BlankResponseWarning: Warning: The script line number 3 raised an error (recorded in the `errors` attribute of the result table): 'Pr 0211': No known catalog could be found [astroquery.simbad.core]\n",
      "WARNING: BlankResponseWarning: Warning: The script line number 3 raised an error (recorded in the `errors` attribute of the result table): 'Pr 0211': No known catalog could be found [astroquery.simbad.core]\n",
      "WARNING: BlankResponseWarning: Warning: The script line number 3 raised an error (recorded in the `errors` attribute of the result table): 'Qatar-10' this identifier has an incorrect format for catalog: \tQatar : Qatar [astroquery.simbad.core]\n",
      "WARNING: BlankResponseWarning: Warning: The script line number 3 raised an error (recorded in the `errors` attribute of the result table): 'Qatar-2' this identifier has an incorrect format for catalog: \tQatar : Qatar [astroquery.simbad.core]\n",
      "WARNING: BlankResponseWarning: Warning: The script line number 3 raised an error (recorded in the `errors` attribute of the result table): 'Qatar-3' this identifier has an incorrect format for catalog: \tQatar : Qatar [astroquery.simbad.core]\n",
      "WARNING: BlankResponseWarning: Warning: The script line number 3 raised an error (recorded in the `errors` attribute of the result table): 'Qatar-4' this identifier has an incorrect format for catalog: \tQatar : Qatar [astroquery.simbad.core]\n",
      "WARNING: BlankResponseWarning: Warning: The script line number 3 raised an error (recorded in the `errors` attribute of the result table): 'Qatar-5' this identifier has an incorrect format for catalog: \tQatar : Qatar [astroquery.simbad.core]\n",
      "WARNING: BlankResponseWarning: Warning: The script line number 3 raised an error (recorded in the `errors` attribute of the result table): 'Qatar-6 A' this identifier has an incorrect format for catalog: \tQatar : Qatar [astroquery.simbad.core]\n"
     ]
    },
    {
     "name": "stdout",
     "output_type": "stream",
     "text": [
      "Warning : PSR 1719-14 b has been skipped\n",
      "Warning : PSR B0329+54 b has been skipped\n",
      "Warning : PSR B0943+10 b has been skipped\n",
      "Warning : PSR B0943+10 c has been skipped\n",
      "Warning : PSR B1257+12 b has been skipped\n",
      "Warning : PSR B1257+12 c has been skipped\n",
      "Warning : PSR B1257+12 d has been skipped\n",
      "Warning : PSR B1620-26 (AB) b has been skipped\n",
      "Warning : PSR B1802-07 b has been skipped\n",
      "Warning : PSR J0023+0923 b has been skipped\n",
      "Warning : PSR J0023-7203J b has been skipped\n",
      "Warning : PSR J0024-7204I b has been skipped\n",
      "Warning : PSR J0024-7204O b has been skipped\n",
      "Warning : PSR J0024-7204P b has been skipped\n",
      "Warning : PSR J0024-7204R b has been skipped\n",
      "Warning : PSR J0312-0921 b has been skipped\n",
      "Warning : PSR J0636+5129\tb has been skipped\n",
      "Warning : PSR J0742+4110 b has been skipped\n",
      "Warning : PSR J0952-0607 b has been skipped\n",
      "Warning : PSR J1211-0633 b has been skipped\n",
      "Warning : PSR J1301+0833 b has been skipped\n",
      "Warning : PSR J1311-3430 b has been skipped\n",
      "Warning : PSR J1317-0157 b has been skipped\n",
      "Warning : PSR J1446-4701 b has been skipped\n",
      "Warning : PSR J1502-6752 b has been skipped\n",
      "Warning : PSR J1518+0204C b has been skipped\n",
      "Warning : PSR J1518+0204G b has been skipped\n",
      "Warning : PSR J1544+4937 b has been skipped\n",
      "Warning : PSR J1555-2908 b has been skipped\n",
      "Warning : PSR J1630+3550 b has been skipped\n",
      "Warning : PSR J1641+3627E b has been skipped\n",
      "Warning : PSR J1641+8049 b has been skipped\n",
      "Warning : PSR J1653-0158 b has been skipped\n",
      "Warning : PSR J1701-3006E b has been skipped\n",
      "Warning : PSR J1701-3006F b has been skipped\n",
      "Warning : PSR J1720-0534 b has been skipped\n",
      "Warning : PSR J1737-0314A b has been skipped\n",
      "Warning : PSR J1745+1017 b has been skipped\n",
      "Warning : PSR J1748-2021H has been skipped\n",
      "Warning : PSR J1748-2446ae b has been skipped\n",
      "Warning : PSR J1748-2446O b has been skipped\n",
      "Warning : PSR J1807-2459 A b has been skipped\n",
      "Warning : PSR J1824-2452G b has been skipped\n",
      "Warning : PSR J1824-2452J b has been skipped\n",
      "Warning : PSR J1824-2452L b has been skipped\n",
      "Warning : PSR J1824-2452M b has been skipped\n",
      "Warning : PSR J1824-2452N b has been skipped\n",
      "Warning : PSR J1836-2354A b has been skipped\n",
      "Warning : PSR J1853-0842A b has been skipped\n",
      "Warning : PSR J1911+0102A b has been skipped\n",
      "Warning : PSR J1928+1245 b has been skipped\n",
      "Warning : PSR J1953+1844E b has been skipped\n",
      "Warning : PSR J1953+1846A b has been skipped\n",
      "Warning : PSR J1959+2048 b has been skipped\n",
      "Warning : PSR J2051-0827 b has been skipped\n",
      "Warning : PSR J2052+1219 b has been skipped\n",
      "Warning : PSR J2055+3829 b has been skipped\n",
      "Warning : PSR J2241-5236 b has been skipped\n",
      "Warning : PSR J2322-2650 b has been skipped\n"
     ]
    },
    {
     "name": "stderr",
     "output_type": "stream",
     "text": [
      "WARNING: BlankResponseWarning: Warning: The script line number 3 raised an error (recorded in the `errors` attribute of the result table): 'Qatar-7' this identifier has an incorrect format for catalog: \tQatar : Qatar [astroquery.simbad.core]\n",
      "WARNING: BlankResponseWarning: Warning: The script line number 3 raised an error (recorded in the `errors` attribute of the result table): 'Qatar-8' this identifier has an incorrect format for catalog: \tQatar : Qatar [astroquery.simbad.core]\n",
      "WARNING: BlankResponseWarning: Warning: The script line number 3 raised an error (recorded in the `errors` attribute of the result table): 'Qatar-9' this identifier has an incorrect format for catalog: \tQatar : Qatar [astroquery.simbad.core]\n",
      "WARNING: BlankResponseWarning: Warning: The script line number 3 raised an error (recorded in the `errors` attribute of the result table): 'Ross 458 (AB)' this identifier has an incorrect format for catalog: \tRoss : Ross [astroquery.simbad.core]\n",
      "WARNING: BlankResponseWarning: Warning: The script line number 3 raised an error (recorded in the `errors` attribute of the result table): 'ROXs 42B (AB)' this identifier has an incorrect format for catalogs: \tROXs : rho Oph, X-ray source, star \tROX : catalogue ROX [astroquery.simbad.core]\n",
      "WARNING: BlankResponseWarning: Warning: The script line number 3 raised an error (recorded in the `errors` attribute of the result table): 'RR Cae (AB)': No known catalog could be found [astroquery.simbad.core]\n",
      "WARNING: BlankResponseWarning: Warning: The script line number 3 raised an error (recorded in the `errors` attribute of the result table): Identifier not found in the database : RX J1608.9-3905A [astroquery.simbad.core]\n",
      "WARNING: BlankResponseWarning: Warning: The script line number 3 raised an error (recorded in the `errors` attribute of the result table): 'S1429': No known catalog could be found [astroquery.simbad.core]\n",
      "WARNING: BlankResponseWarning: Warning: The script line number 3 raised an error (recorded in the `errors` attribute of the result table): 'SDSS 1604+1000' this identifier has an incorrect format for catalog: \tSDSS : Sloan Digital Sky Survey [astroquery.simbad.core]\n",
      "WARNING: BlankResponseWarning: Warning: The script line number 3 raised an error (recorded in the `errors` attribute of the result table): 'SDSS J1035+0551' this identifier has an incorrect format for catalog: \tSDSS : Sloan Digital Sky Survey [astroquery.simbad.core]\n",
      "WARNING: BlankResponseWarning: Warning: The script line number 3 raised an error (recorded in the `errors` attribute of the result table): 'SDSS J1057+2759' this identifier has an incorrect format for catalog: \tSDSS : Sloan Digital Sky Survey [astroquery.simbad.core]\n",
      "WARNING: BlankResponseWarning: Warning: The script line number 3 raised an error (recorded in the `errors` attribute of the result table): 'SDSS J1205-0242' this identifier has an incorrect format for catalog: \tSDSS : Sloan Digital Sky Survey [astroquery.simbad.core]\n",
      "WARNING: BlankResponseWarning: Warning: The script line number 3 raised an error (recorded in the `errors` attribute of the result table): 'SDSS J1240-0159' this identifier has an incorrect format for catalog: \tSDSS : Sloan Digital Sky Survey [astroquery.simbad.core]\n",
      "WARNING: BlankResponseWarning: Warning: The script line number 3 raised an error (recorded in the `errors` attribute of the result table): 'SDSS J1435+3733 (AB)' this identifier has an incorrect format for catalog: \tSDSS : Sloan Digital Sky Survey [astroquery.simbad.core]\n",
      "WARNING: BlankResponseWarning: Warning: The script line number 3 raised an error (recorded in the `errors` attribute of the result table): 'SDSS J1507+5230' this identifier has an incorrect format for catalog: \tSDSS : Sloan Digital Sky Survey [astroquery.simbad.core]\n",
      "WARNING: BlankResponseWarning: Warning: The script line number 3 raised an error (recorded in the `errors` attribute of the result table): 'SDSS J22255 + 0016A' this identifier has an incorrect format for catalog: \tSDSS : Sloan Digital Sky Survey [astroquery.simbad.core]\n",
      "WARNING: BlankResponseWarning: Warning: The script line number 3 raised an error (recorded in the `errors` attribute of the result table): 'SSSJ0522-3505': No known catalog could be found [astroquery.simbad.core]\n",
      "WARNING: BlankResponseWarning: Warning: The script line number 3 raised an error (recorded in the `errors` attribute of the result table): 'SSS J1222-3115' this identifier has an incorrect format for catalog: \tSSS (CRTS): Catalina Real-time Transient Survey [astroquery.simbad.core]\n",
      "WARNING: BlankResponseWarning: Warning: The script line number 3 raised an error (recorded in the `errors` attribute of the result table): 'SWIFT J1756-2508' this identifier has an incorrect format for catalog: \tSWIFT : Swift gamma-ray burst [astroquery.simbad.core]\n",
      "WARNING: BlankResponseWarning: Warning: The script line number 3 raised an error (recorded in the `errors` attribute of the result table): 'TCP J050742+244755' this identifier has an incorrect format for catalog: \tTCP : Transient Confirmation Page [astroquery.simbad.core]\n",
      "WARNING: BlankResponseWarning: Warning: The script line number 3 raised an error (recorded in the `errors` attribute of the result table): 'Teegarden's' this identifier has an incorrect format for catalogs: \tT :   \tT ( [astroquery.simbad.core]\n",
      "WARNING: BlankResponseWarning: Warning: The script line number 3 raised an error (recorded in the `errors` attribute of the result table): 'Teegarden's' this identifier has an incorrect format for catalogs: \tT :   \tT ( [astroquery.simbad.core]\n",
      "WARNING: BlankResponseWarning: Warning: The script line number 3 raised an error (recorded in the `errors` attribute of the result table): 'Teegarden's' this identifier has an incorrect format for catalogs: \tT :   \tT ( [astroquery.simbad.core]\n",
      "WARNING: BlankResponseWarning: Warning: The script line number 3 raised an error (recorded in the `errors` attribute of the result table): 'TIC 172900988 (AB)' this identifier has an incorrect format for catalog: \tTIC : TESS Input Catalog [astroquery.simbad.core]\n",
      "WARNING: BlankResponseWarning: Warning: The script line number 3 raised an error (recorded in the `errors` attribute of the result table): Identifier not found in the database : TOI-1173a [astroquery.simbad.core]\n",
      "WARNING: BlankResponseWarning: Warning: The script line number 3 raised an error (recorded in the `errors` attribute of the result table): Identifier not found in the database : TOI-1259a [astroquery.simbad.core]\n",
      "WARNING: BlankResponseWarning: Warning: The script line number 3 raised an error (recorded in the `errors` attribute of the result table): Identifier not found in the database : TOI-1288a [astroquery.simbad.core]\n",
      "WARNING: BlankResponseWarning: Warning: The script line number 3 raised an error (recorded in the `errors` attribute of the result table): Identifier not found in the database : TOI-2583a [astroquery.simbad.core]\n",
      "WARNING: BlankResponseWarning: Warning: The script line number 3 raised an error (recorded in the `errors` attribute of the result table): Identifier not found in the database : TOI-4559 [astroquery.simbad.core]\n",
      "WARNING: BlankResponseWarning: Warning: The script line number 3 raised an error (recorded in the `errors` attribute of the result table): Identifier not found in the database : TOI-4633a [astroquery.simbad.core]\n",
      "WARNING: BlankResponseWarning: Warning: The script line number 3 raised an error (recorded in the `errors` attribute of the result table): Identifier not found in the database : TOI-5799 [astroquery.simbad.core]\n",
      "WARNING: BlankResponseWarning: Warning: The script line number 3 raised an error (recorded in the `errors` attribute of the result table): Identifier not found in the database : TOI-858b [astroquery.simbad.core]\n",
      "WARNING: BlankResponseWarning: Warning: The script line number 3 raised an error (recorded in the `errors` attribute of the result table): 'TrES-2 A' this identifier has an incorrect format for catalogs: \tTrES : Trans-atlantic Exoplanet Survey \tT :   \tT ( [astroquery.simbad.core]\n",
      "WARNING: BlankResponseWarning: Warning: The script line number 3 raised an error (recorded in the `errors` attribute of the result table): 'TWA 5 A (AB)' this identifier has an incorrect format for catalog: \tTWA : TW Hya Assoc. [astroquery.simbad.core]\n",
      "WARNING: BlankResponseWarning: Warning: The script line number 3 raised an error (recorded in the `errors` attribute of the result table): 'UKIRT-2017-BLG-001': No known catalog could be found [astroquery.simbad.core]\n",
      "WARNING: BlankResponseWarning: Warning: The script line number 3 raised an error (recorded in the `errors` attribute of the result table): 'USco 1556 A' this identifier has an incorrect format for catalogs: \tUSco : Upper Sco \tUSco ( [astroquery.simbad.core]\n",
      "WARNING: BlankResponseWarning: Warning: The script line number 3 raised an error (recorded in the `errors` attribute of the result table): 'USco 1621 A' this identifier has an incorrect format for catalogs: \tUSco : Upper Sco \tUSco ( [astroquery.simbad.core]\n",
      "WARNING: BlankResponseWarning: Warning: The script line number 3 raised an error (recorded in the `errors` attribute of the result table): 'UZ For (AB)': No known catalog could be found [astroquery.simbad.core]\n",
      "WARNING: BlankResponseWarning: Warning: The script line number 3 raised an error (recorded in the `errors` attribute of the result table): 'UZ For (AB)': No known catalog could be found [astroquery.simbad.core]\n",
      "WARNING: BlankResponseWarning: Warning: The script line number 3 raised an error (recorded in the `errors` attribute of the result table): 'VHS 1256-1257' this identifier has an incorrect format for catalog: \tVHS : VISTA Hemisphere Survey [astroquery.simbad.core]\n",
      "WARNING: BlankResponseWarning: Warning: The script line number 3 raised an error (recorded in the `errors` attribute of the result table): Identifier not found in the database : WASP-20A [astroquery.simbad.core]\n",
      "WARNING: BlankResponseWarning: Warning: The script line number 3 raised an error (recorded in the `errors` attribute of the result table): Identifier not found in the database : WASP-49A [astroquery.simbad.core]\n",
      "WARNING: BlankResponseWarning: Warning: The script line number 3 raised an error (recorded in the `errors` attribute of the result table): Identifier not found in the database : WASP-87A [astroquery.simbad.core]\n",
      "WARNING: BlankResponseWarning: Warning: The script line number 3 raised an error (recorded in the `errors` attribute of the result table): 'WD J0601-4625' this identifier has an incorrect format for catalogs: \tWD ( [astroquery.simbad.core]\n",
      "WARNING: BlankResponseWarning: Warning: The script line number 3 raised an error (recorded in the `errors` attribute of the result table): 'WD J2122+6600' this identifier has an incorrect format for catalogs: \tWD ( [astroquery.simbad.core]\n",
      "WARNING: BlankResponseWarning: Warning: The script line number 3 raised an error (recorded in the `errors` attribute of the result table): 'WISE 1711+3500' this identifier has an incorrect format for catalog: \tWISE : Wide-field Infrared Survey Explorer Final Release Source Catalog [astroquery.simbad.core]\n",
      "WARNING: BlankResponseWarning: Warning: The script line number 3 raised an error (recorded in the `errors` attribute of the result table): 'WISE 2150A' this identifier has an incorrect format for catalog: \tWISE : Wide-field Infrared Survey Explorer Final Release Source Catalog [astroquery.simbad.core]\n",
      "WARNING: BlankResponseWarning: Warning: The script line number 3 raised an error (recorded in the `errors` attribute of the result table): 'WISEA J0919-5748' this identifier has an incorrect format for catalog: \tWISEA : AllWISE Source Catalog [astroquery.simbad.core]\n",
      "WARNING: BlankResponseWarning: Warning: The script line number 3 raised an error (recorded in the `errors` attribute of the result table): 'WISEA J2318+0521' this identifier has an incorrect format for catalog: \tWISEA : AllWISE Source Catalog [astroquery.simbad.core]\n",
      "WARNING: BlankResponseWarning: Warning: The script line number 3 raised an error (recorded in the `errors` attribute of the result table): 'WISE J0336-0143' this identifier has an incorrect format for catalog: \tWISE : Wide-field Infrared Survey Explorer Final Release Source Catalog [astroquery.simbad.core]\n",
      "WARNING: BlankResponseWarning: Warning: The script line number 3 raised an error (recorded in the `errors` attribute of the result table): 'WISE J0720-0846' this identifier has an incorrect format for catalog: \tWISE : Wide-field Infrared Survey Explorer Final Release Source Catalog [astroquery.simbad.core]\n",
      "WARNING: BlankResponseWarning: Warning: The script line number 3 raised an error (recorded in the `errors` attribute of the result table): Identifier not found in the database : * zet Del A [astroquery.simbad.core]\n",
      "WARNING: BlankResponseWarning: Warning: The script line number 3 raised an error (recorded in the `errors` attribute of the result table): 'ZTF J0038+20' this identifier has an incorrect format for catalog: \tZTF : Zwicky Transient Facility [astroquery.simbad.core]\n",
      "WARNING: BlankResponseWarning: Warning: The script line number 3 raised an error (recorded in the `errors` attribute of the result table): 'ZTF J1406+1222 A' this identifier has an incorrect format for catalog: \tZTF : Zwicky Transient Facility [astroquery.simbad.core]\n"
     ]
    }
   ],
   "source": [
    "for target in data.itertuples():\n",
    "    if 'PSR' in target.pl_name :\n",
    "        print('Warning : {} has been skipped'.format(target.pl_name))\n",
    "        continue\n",
    "\n",
    "    if (\n",
    "        not np.isnan(target.semi_major_axis)\n",
    "        and (not np.isnan(target.mass) or not np.isnan(target.mass_sini))\n",
    "        and not np.isnan(target.star_mass)\n",
    "    ):\n",
    "\n",
    "        if np.isnan(target.mass):\n",
    "            planet_mass = target.mass_sini * np.sqrt(4 / 3.0)\n",
    "        else:\n",
    "            planet_mass = target.mass\n",
    "        if not np.isnan(target.eccentricity):\n",
    "            planet_distance = target.semi_major_axis * (1 - target.eccentricity)\n",
    "        else:\n",
    "            planet_distance = target.semi_major_axis\n",
    "\n",
    "        if np.isnan(target.star_age):\n",
    "            star_age = 5.2\n",
    "        else:\n",
    "            if target.star_age <= 1e-7:\n",
    "                print(\"Stellar age is too small (< 100 yr) !!!\")\n",
    "                continue\n",
    "            elif target.star_age < 0.5:\n",
    "                star_age = 0.5\n",
    "            else:\n",
    "                star_age = target.star_age\n",
    "\n",
    "        target_radius = np.nan\n",
    "        radius_data.append(target.radius) ; mass_data.append(planet_mass)\n",
    "        planet = Planet(\n",
    "            name=target.pl_name,\n",
    "            mass=planet_mass,\n",
    "            radius={\"models\": config_param.planet_radius_models, \"radius\": target_radius},\n",
    "            distance=planet_distance,\n",
    "            worb={\"star_mass\": target.star_mass, \"worb\": np.nan},\n",
    "            luminosity={\n",
    "                \"models\": config_param.planet_luminosity_models,\n",
    "                \"luminosity\": np.nan,\n",
    "                \"star_age\": star_age,\n",
    "            },\n",
    "            detection_method=target.detection_type,\n",
    "            wrot=1.0,\n",
    "        )\n",
    "        star = Star(\n",
    "            name=target.star_name,\n",
    "            mass=target.star_mass,\n",
    "            radius={\"models\": config_param.star_radius_models, \"radius\": target.star_radius},\n",
    "            age=star_age,\n",
    "            obs_dist=target.star_distance,\n",
    "            sp_type = str(target.star_sp_type)\n",
    "        )\n",
    "        star_distance.append(planet.stardist)\n",
    "        radius_estimate.append(planet.radius)\n",
    "        if np.isnan(target_radius) and config_param.radius_expansion :# and (not np.isnan(target.eccentricity)) :\n",
    "            Teq = planet.radius_expansion(luminosity=star.luminosity, eccentricity=target.eccentricity)\n",
    "            temp_eq.append(Teq)\n",
    "            #planet.radius_expansion()\n",
    "            radius_estimate_expansion.append(planet.radius)"
   ]
  },
  {
   "cell_type": "code",
   "execution_count": 7,
   "metadata": {},
   "outputs": [],
   "source": [
    "radius_data = np.array(radius_data) ; mass_data = np.array(mass_data)\n",
    "radius_estimate = np.array(radius_estimate)\n",
    "radius_estimate_expansion = np.array(radius_estimate_expansion)\n",
    "star_distance = np.array(star_distance)\n",
    "temp_eq = np.array(temp_eq)"
   ]
  },
  {
   "cell_type": "code",
   "execution_count": 8,
   "metadata": {},
   "outputs": [],
   "source": [
    "mask_plot = (~np.isnan(radius_data)) #& (star_distance <= 2.)# & (mass_data <= 1.)#& (radius_estimate_expansion <= 10.)\n",
    "\n",
    "#print(\"L'expansion moyenne est de :\",np.nanmean(radius_estimate_expansion[mask_plot]-radius_estimate[mask_plot]), \" RJ.\")"
   ]
  },
  {
   "cell_type": "code",
   "execution_count": null,
   "metadata": {},
   "outputs": [],
   "source": [
    "data_model = pd.DataFrame({'radius_m' : radius_data[mask_plot]*RJ, 'radius_pred_m' : radius_estimate[mask_plot]*RJ,'mass_kg' : mass_data[mask_plot]*MJ, 'temp_eq_K':temp_eq[mask_plot]})\n",
    "\n",
    "data_model.to_csv('/Users/emauduit/Documents/These/target_selection/Etudes/Planetary radius expansion/radius_expansion.csv', index = False)"
   ]
  },
  {
   "cell_type": "code",
   "execution_count": null,
   "metadata": {},
   "outputs": [],
   "source": [
    "plt.figure(figsize=(10,7))\n",
    "plt.plot(np.sort(radius_data[mask_plot]),radius_data[mask_plot][np.argsort(radius_data[mask_plot])], linestyle='dashed', color='tab:blue', label = 'Measured values')\n",
    "plt.scatter(radius_estimate[mask_plot],radius_data[mask_plot], marker ='x', color = 'tab:orange', label = 'Estimated values')\n",
    "plt.scatter(radius_estimate_expansion[mask_plot],radius_data[mask_plot], marker = 'x', color='tab:green', label='Estimated values with expansion')\n",
    "plt.xlabel('R_pred [RJ]')\n",
    "plt.ylabel('R_measured [RJ]')\n",
    "plt.title('Evolution of measured radius values compared to predicted values.')\n",
    "plt.legend()\n",
    "plt.grid()\n",
    "plt.savefig('/Users/emauduit/Documents/These/target_selection/Etudes/Planetary radius expansion/fit_mass_radius_with_expT.png', transparent=True, bbox_inches='tight', dpi=150)\n",
    "plt.show()"
   ]
  },
  {
   "cell_type": "markdown",
   "metadata": {},
   "source": [
    "## Correlation between predicted and measured values"
   ]
  },
  {
   "cell_type": "code",
   "execution_count": 9,
   "metadata": {},
   "outputs": [],
   "source": [
    "def correlation(a,b):\n",
    "    A = np.nanmean(a)\n",
    "    B = np.nanmean(b)\n",
    "    AB = np.nanmean(a*b)\n",
    "\n",
    "    return (AB - A*B)/(np.nanstd(a)*np.nanstd(b))"
   ]
  },
  {
   "cell_type": "code",
   "execution_count": null,
   "metadata": {},
   "outputs": [],
   "source": [
    "correl_est = correlation(radius_data[mask_plot],radius_estimate[mask_plot])\n",
    "correl_exp = correlation(radius_data[mask_plot],radius_estimate_expansion[mask_plot])\n",
    "\n",
    "print(correl_est )\n",
    "print(correl_exp )\n",
    "print(np.std(radius_data[mask_plot]))\n",
    "print(np.std(radius_estimate[mask_plot]))\n",
    "print(np.std(radius_estimate_expansion[mask_plot]))"
   ]
  },
  {
   "cell_type": "code",
   "execution_count": null,
   "metadata": {},
   "outputs": [],
   "source": [
    "print(np.min(radius_estimate[mask_plot]),np.max(radius_estimate[mask_plot]))\n",
    "print(np.min(radius_estimate_expansion[mask_plot]),np.max(radius_estimate_expansion[mask_plot]))"
   ]
  },
  {
   "cell_type": "code",
   "execution_count": null,
   "metadata": {},
   "outputs": [],
   "source": [
    "print(np.correlate(np.sort(radius_data[mask_plot]),np.sort(radius_data[mask_plot])))\n",
    "print(chi2(radius_data[mask_plot],radius_data[mask_plot]).value)\n",
    "print(correl_est)"
   ]
  },
  {
   "cell_type": "code",
   "execution_count": null,
   "metadata": {},
   "outputs": [],
   "source": [
    "plt.plot(radius_data[mask_plot]/radius_data[mask_plot],radius_estimate[mask_plot]/radius_data[mask_plot])\n",
    "plt.plot(radius_data[mask_plot]/radius_data[mask_plot],radius_estimate_expansion[mask_plot]/radius_data[mask_plot])\n",
    "plt.grid()\n",
    "plt.show()"
   ]
  },
  {
   "cell_type": "code",
   "execution_count": null,
   "metadata": {},
   "outputs": [],
   "source": [
    "print(radius_estimate_expansion[mask_plot]/radius_data[mask_plot])"
   ]
  },
  {
   "cell_type": "code",
   "execution_count": null,
   "metadata": {},
   "outputs": [],
   "source": [
    "plt.figure(figsize=(10,7))\n",
    "plt.plot(np.sort(radius_data[mask_plot]),radius_data[mask_plot][np.argsort(radius_data[mask_plot])], linestyle='dashed', color='tab:blue', label = 'Data')\n",
    "plt.scatter(radius_data[mask_plot],radius_estimate[mask_plot], marker ='o', color = 'tab:orange', label = 'Estimated values\\n correl = {:2f}'.format(correl_est))\n",
    "plt.scatter(radius_data[mask_plot],radius_estimate_expansion[mask_plot], marker = 'o', color='tab:green', label='Estimated values with expansion \\n correl = {:2f}'.format(correl_exp))\n",
    "plt.xlabel('R$_{measured}$ [RJ]')\n",
    "plt.ylabel('Planetary radius [RJ]')\n",
    "plt.title('Evolution of estimated radius values compared to known values.')\n",
    "plt.legend()\n",
    "plt.grid()\n",
    "plt.savefig('/Users/emauduit/Documents/These/target_selection/Etudes/Planetary radius expansion/fit_mass_radius_with_expT.png', transparent=True, bbox_inches='tight', dpi=150)\n",
    "plt.show()"
   ]
  },
  {
   "cell_type": "markdown",
   "metadata": {},
   "source": [
    "## Radius as a function of mass :"
   ]
  },
  {
   "cell_type": "code",
   "execution_count": 10,
   "metadata": {},
   "outputs": [],
   "source": [
    "mass = np.logspace(-2,1.4,500)\n",
    "R = np.array([Planet._calculate_radius(models = config_param.planet_radius_models, mass = mass[i]) for i in range(500)])\n"
   ]
  },
  {
   "cell_type": "code",
   "execution_count": null,
   "metadata": {},
   "outputs": [],
   "source": [
    "corr_pred = correlation(radius_data[mask_plot],radius_estimate[mask_plot])\n",
    "corr_est = correlation(radius_data[mask_plot],radius_estimate_expansion[mask_plot])"
   ]
  },
  {
   "cell_type": "code",
   "execution_count": null,
   "metadata": {},
   "outputs": [],
   "source": [
    "print(corr_est,corr_pred)"
   ]
  },
  {
   "cell_type": "code",
   "execution_count": null,
   "metadata": {},
   "outputs": [],
   "source": [
    "plt.figure(figsize=(10,7))\n",
    "#plt.plot(mass,R, linestyle = 'dashed',color = 'black',label='model')\n",
    "plt.scatter(mass_data[mask_plot],radius_data[mask_plot], marker='+', color='tab:blue',alpha = 1, label = 'Mesures')\n",
    "plt.scatter(np.sort(mass_data[mask_plot]),radius_estimate[mask_plot][np.argsort(mass_data[mask_plot])],marker='+',color='tab:green', label = '$R_{pred}$')#\\n correl = {:2f}'.format(correl_est))\n",
    "plt.scatter(mass_data[mask_plot],radius_estimate_expansion[mask_plot], marker = '+', color='tab:red', label=\"$R_{pred,corr}$\")#\\n correl = {:2f}'.format(correl_exp))\n",
    "plt.xlabel('$M_p$ [$M_J$]',fontsize=18)\n",
    "plt.ylabel('$R_p$ [$R_J$]',fontsize=18)\n",
    "plt.xticks(fontsize=14)\n",
    "plt.yticks(fontsize=14)\n",
    "#plt.title('Evolution of radius values compared to mass.')\n",
    "plt.xscale('log')\n",
    "plt.yscale('log')\n",
    "plt.legend()\n",
    "plt.grid()\n",
    "#plt.savefig('/Users/emauduit/Documents/These/target_selection/Etudes/Planetary radius expansion/Rp_vs_Mp_2.png', transparent=True, bbox_inches='tight', dpi=150)\n",
    "plt.savefig('/Users/emauduit/Documents/These/phd-manuscript/ch3/fig/plot_Rp_vs_Mp.png', transparent=True, bbox_inches='tight',dpi=150 )\n",
    "plt.show()"
   ]
  },
  {
   "cell_type": "code",
   "execution_count": null,
   "metadata": {},
   "outputs": [],
   "source": [
    "plt.figure(figsize=(10,7))\n",
    "#plt.plot(,R, linestyle = 'dashed',color = 'black',label='model')\n",
    "plt.scatter(star_distance[mask_plot],radius_data[mask_plot], marker='o', color='tab:blue', label = 'Data')\n",
    "plt.scatter(star_distance[mask_plot],radius_estimate[mask_plot], marker ='^', color = 'tab:orange', label = 'Estimated values')\n",
    "plt.scatter(star_distance[mask_plot],radius_estimate_expansion[mask_plot], marker = '+', color='tab:green', label='Estimated values with expansion\\n correl = {:2f}'.format(correl_exp))\n",
    "plt.xlabel('Star distance [UA]')\n",
    "plt.ylabel('Planetary radius [RJ]')\n",
    "plt.title('Evolution of radius values compared to mass.')\n",
    "plt.xscale('log')\n",
    "plt.legend()\n",
    "plt.grid()\n",
    "plt.show()"
   ]
  },
  {
   "cell_type": "markdown",
   "metadata": {},
   "source": [
    "## Radius as a function of temperature and semi-major axis"
   ]
  },
  {
   "cell_type": "code",
   "execution_count": null,
   "metadata": {},
   "outputs": [],
   "source": [
    "fig,ax = plt.subplots(figsize=(10,7))\n",
    "ax.scatter(star_distance[mask_plot],temp_eq[mask_plot], c=radius_data[mask_plot], cmap = 'viridis')\n",
    "plt.xscale('log')\n",
    "plt.xlabel('Star-planet distance [AU]')\n",
    "plt.ylabel('Equilibrium temperature [K]')\n",
    "plt.colorbar(label='Planetary Radius [RJ]')\n",
    "plt.grid()\n",
    "plt.show()"
   ]
  },
  {
   "cell_type": "code",
   "execution_count": null,
   "metadata": {},
   "outputs": [],
   "source": [
    "fig,ax = plt.subplots(2,2,figsize=(4 * 3, 4 * 3))\n",
    "#.title('$\\Delta$RM as a function of RM, during day/night time')\n",
    "\n",
    "sc1 = ax[0,0].scatter(star_distance[mask_plot],temp_eq[mask_plot], c=radius_data[mask_plot], cmap = 'viridis')\n",
    "ax[0,0].set_xlabel('Star-planet distance [AU]')\n",
    "ax[0,0].set_ylabel('Equilibrium temperature [K]')\n",
    "ax[0,0].set_xscale('log')\n",
    "cax1 = inset_axes(\n",
    "            ax[0,0],\n",
    "            width='3%',\n",
    "            height='100%',\n",
    "            loc='lower left',\n",
    "            bbox_to_anchor=(1.03, 0., 1, 1),\n",
    "            bbox_transform=ax[0,0].transAxes,\n",
    "            borderpad=0,\n",
    "        )\n",
    "\n",
    "cbar1 = plt.colorbar(sc1, cax=cax1)\n",
    "cbar1.set_label('Planetary Radius [RJ]')\n",
    "ax[0,0].grid()\n",
    "\n",
    "sc2 = ax[0,1].scatter(star_distance[mask_plot],radius_data[mask_plot], c=temp_eq[mask_plot], cmap = 'viridis')\n",
    "ax[0,1].set_xlabel('Star-planet distance [AU]')\n",
    "ax[0,1].set_ylabel('Planetary Radius [RJ]')\n",
    "ax[0,1].set_xscale('log')\n",
    "cax2 = inset_axes(\n",
    "            ax[0,0],\n",
    "            width='3%',\n",
    "            height='100%',\n",
    "            loc='lower left',\n",
    "            bbox_to_anchor=(1.03, 0., 1, 1),\n",
    "            bbox_transform=ax[0,1].transAxes,\n",
    "            borderpad=0,\n",
    "        )\n",
    "\n",
    "cbar2 = plt.colorbar(sc2, cax=cax2)\n",
    "cbar2.set_label('Equilibrium temperature [K]')\n",
    "ax[0,1].grid()\n",
    "\n",
    "\n",
    "sc3 = ax[1,0].scatter(temp_eq[mask_plot],radius_data[mask_plot], c=np.log10(star_distance[mask_plot]), cmap = 'viridis')\n",
    "ax[1,0].set_xlabel('Equilibrium temperature [K]')\n",
    "ax[1,0].set_ylabel('Planetary Radius [RJ]')\n",
    "ax[1,0].set_xscale('log')\n",
    "cax3 = inset_axes(\n",
    "            ax[0,0],\n",
    "            width='3%',\n",
    "            height='100%',\n",
    "            loc='lower left',\n",
    "            bbox_to_anchor=(1.03, 0., 1, 1),\n",
    "            bbox_transform=ax[1,0].transAxes,\n",
    "            borderpad=0,\n",
    "        )\n",
    "\n",
    "cbar3 = plt.colorbar(sc3, cax=cax3)\n",
    "cbar3.set_label('Star-planet distance [AU]')\n",
    "ax[1,0].grid()\n",
    "\n",
    "\n",
    "fig.subplots_adjust(wspace=0.4, hspace=0.2)"
   ]
  },
  {
   "cell_type": "markdown",
   "metadata": {},
   "source": [
    "## Updated version for radius expansion"
   ]
  },
  {
   "cell_type": "code",
   "execution_count": 11,
   "metadata": {},
   "outputs": [],
   "source": [
    "def poly_func(coeffs, x) :\n",
    "    res = 0\n",
    "    for i,c in enumerate(coeffs[::-1]):\n",
    "        res +=  c*np.power(x,i)\n",
    "    return res"
   ]
  },
  {
   "cell_type": "markdown",
   "metadata": {},
   "source": [
    "### 1 : No radius expansion : new mass-radius relation with polyfit"
   ]
  },
  {
   "cell_type": "code",
   "execution_count": null,
   "metadata": {},
   "outputs": [],
   "source": [
    "mass_sorted = np.sort(mass_data[mask_plot]) ; radius_sorted = radius_data[mask_plot][np.argsort(mass_data[mask_plot])]\n",
    "plt.figure(figsize=(10,7))\n",
    "plt.plot(mass_sorted,radius_sorted, marker='x', color='tab:blue', label = 'Data')\n",
    "for i in range(1,12):\n",
    "    coeffs = np.polyfit(np.log10(mass_sorted),np.log10(radius_sorted), deg = i)\n",
    "    if i==9 :\n",
    "        print(coeffs[::-1])\n",
    "        plt.plot(mass_sorted,10**poly_func(coeffs,np.log10(mass_sorted)), linestyle='dashed',color='tab:red',label='ordre'+str(i))\n",
    "plt.xscale('log')\n",
    "plt.yscale('log')\n",
    "plt.xlabel('Planetary mass [MJ]')\n",
    "plt.ylabel('Planetary radius [RJ]')\n",
    "plt.title('Evolution of radius with respect to mass.')\n",
    "plt.legend()\n",
    "plt.grid()\n",
    "plt.savefig('/Users/emauduit/Documents/These/target_selection/Etudes/Planetary radius expansion/fit_mass_radius.png', transparent=True, bbox_inches='tight', dpi=150)\n",
    "plt.show()"
   ]
  },
  {
   "cell_type": "markdown",
   "metadata": {},
   "source": [
    "- Test new method : polyfit order 9"
   ]
  },
  {
   "cell_type": "code",
   "execution_count": null,
   "metadata": {},
   "outputs": [],
   "source": [
    "plt.figure(figsize=(10,7))\n",
    "plt.scatter(mass_data[mask_plot],radius_data[mask_plot], marker='o', color='tab:blue', label = 'Data')\n",
    "plt.scatter(mass_data[mask_plot],radius_estimate[mask_plot], marker ='o', color = 'tab:orange', label = 'Estimated values')\n",
    "plt.xlabel('Planetary mass [MJ]')\n",
    "plt.ylabel('Planetary radius [RJ]')\n",
    "plt.title('Evolution of radius values compared to mass.')\n",
    "plt.xscale('log')\n",
    "#plt.yscale('log')\n",
    "plt.legend()\n",
    "plt.grid()\n",
    "plt.savefig('/Users/emauduit/Documents/These/target_selection/Etudes/Planetary radius expansion/polyfit_mass_radius_loglin.png', transparent=True, bbox_inches='tight', dpi=150)\n",
    "plt.show()"
   ]
  },
  {
   "cell_type": "markdown",
   "metadata": {},
   "source": [
    "### 2 : Same mass-radius relation as before, but new model for radius expansion"
   ]
  },
  {
   "cell_type": "code",
   "execution_count": 12,
   "metadata": {},
   "outputs": [],
   "source": [
    "expansion_factor = radius_data[mask_plot]/radius_estimate[mask_plot]\n",
    "\n",
    "mass_sorted = np.sort(mass_data[mask_plot]) ; expansion_sorted = expansion_factor[np.argsort(mass_data[mask_plot])]\n",
    "radius_sorted = radius_data[mask_plot][np.argsort(mass_data[mask_plot])]\n",
    "#Teq_sorted = expansion_factor[np.argsort(temp_eq[mask_plot])]"
   ]
  },
  {
   "cell_type": "markdown",
   "metadata": {},
   "source": [
    "plt.figure(figsize=(10,7))\n",
    "plt.scatter(mass_sorted,expansion_sorted, marker='o', color='tab:blue', label = 'Data')\n",
    "for i in range(1,15):\n",
    "    coeffs = np.polyfit(np.log10(mass_sorted),np.log10(expansion_sorted), deg = i)\n",
    "    correl, _ = pearsonr(expansion_sorted, 10**poly_func(coeffs,np.log10(mass_sorted)))\n",
    "    if i==9 :\n",
    "        print(coeffs[::-1])\n",
    "        plt.plot(mass_sorted,10**poly_func(coeffs,np.log10(mass_sorted)), color='tab:red',linestyle='dashed',label='Ordre {}, c={:1.3f}'.format(i,correl))\n",
    "\n",
    "plt.xlabel('Planetary mass [MJ]')\n",
    "plt.ylabel('Radius expansion [dimensionless]')\n",
    "plt.title('Evolution of radius expansion with respect to mass.')\n",
    "plt.xscale('log')\n",
    "plt.yscale('log')\n",
    "plt.legend()\n",
    "plt.grid()\n",
    "plt.savefig('/Users/emauduit/Documents/These/target_selection/Etudes/Planetary radius expansion/expansion_vs_mass.png', transparent=True, bbox_inches='tight', dpi=150)\n",
    "plt.show()"
   ]
  },
  {
   "cell_type": "code",
   "execution_count": null,
   "metadata": {},
   "outputs": [],
   "source": [
    "plt.figure(figsize=(10,7))\n",
    "plt.scatter(star_distance[mask_plot],expansion_factor, marker='o', color='tab:blue', label = 'Data')\n",
    "plt.xlabel('Star-planet distance [UA]')\n",
    "plt.ylabel('Radius expansion [dimensionless]')\n",
    "plt.title('Evolution of radius expansion with respect to star-planet distance.')\n",
    "plt.xlim(1e-3,10)\n",
    "plt.xscale('log')\n",
    "plt.yscale('log')\n",
    "plt.legend()\n",
    "plt.grid()\n",
    "plt.savefig('/Users/emauduit/Documents/These/target_selection/Etudes/Planetary radius expansion/expansion_vs_stardist.png', transparent=True, bbox_inches='tight', dpi=150)\n",
    "plt.show()"
   ]
  },
  {
   "cell_type": "markdown",
   "metadata": {},
   "source": [
    "- test polyfit of order 9 :"
   ]
  },
  {
   "cell_type": "code",
   "execution_count": null,
   "metadata": {},
   "outputs": [],
   "source": [
    "plt.figure(figsize=(10,7))\n",
    "plt.scatter(mass_sorted,radius_sorted, marker='o', color='tab:blue', label = 'Data')\n",
    "plt.scatter(mass_data[mask_plot],radius_estimate_expansion[mask_plot], marker = 'o', color='tab:red', label='Estimated with expansion')\n",
    "plt.xlabel('Planetary mass [MJ]')\n",
    "plt.ylabel('Radius [RJ]]')\n",
    "plt.title('Evolution of radius with expansion with respect to mass.')\n",
    "plt.xscale('log')\n",
    "#plt.yscale('log')\n",
    "plt.legend()\n",
    "plt.grid()\n",
    "plt.savefig('/Users/emauduit/Documents/These/target_selection/Etudes/Planetary radius expansion/radius_exp_vs_mass_loglin.png', transparent=True, bbox_inches='tight', dpi=150)\n",
    "plt.show()"
   ]
  },
  {
   "cell_type": "markdown",
   "metadata": {},
   "source": [
    "### Fit de Expansion(Teq)"
   ]
  },
  {
   "cell_type": "code",
   "execution_count": 13,
   "metadata": {},
   "outputs": [],
   "source": [
    "#expansion_factor = radius_data[mask_plot]/radius_estimate[mask_plot]\n",
    "mask_fit = (expansion_factor > 0.8) & (expansion_factor < 1.9) & (temp_eq[mask_plot] > 400)\n",
    "\n",
    "expansion_sorted = np.sort(expansion_factor[mask_fit])\n",
    "Teq_sorted = temp_eq[np.argsort(expansion_factor[mask_fit])]\n",
    "\n",
    "#coeffs = np.polyfit(np.log10(Teq_sorted),expansion_sorted, deg = 2)\n",
    "coeffs = np.polyfit(np.log10(temp_eq[mask_plot][mask_fit]),expansion_factor[mask_fit], deg = 2)\n",
    "correl, _ = pearsonr(expansion_factor[mask_fit], poly_func(coeffs,np.log10(temp_eq[mask_plot][mask_fit])))"
   ]
  },
  {
   "cell_type": "code",
   "execution_count": null,
   "metadata": {},
   "outputs": [],
   "source": [
    "print(coeffs[::-1])\n"
   ]
  },
  {
   "cell_type": "code",
   "execution_count": 14,
   "metadata": {},
   "outputs": [],
   "source": [
    "coeffs_teq = [0.93174824 ,-4.78521151 , 7.13173118]"
   ]
  },
  {
   "cell_type": "code",
   "execution_count": 15,
   "metadata": {},
   "outputs": [],
   "source": [
    "plt.figure(figsize=(10,7))\n",
    "plt.scatter(temp_eq[mask_plot],expansion_factor, marker='o', color='tab:blue', label = 'Mesures')\n",
    "#plt.scatter(Teq_sorted,expansion_sorted, color='red')\n",
    "plt.scatter(temp_eq[mask_plot][mask_fit], poly_func(coeffs_teq,np.log10(temp_eq[mask_plot][mask_fit])), marker = 'x', color='tab:red', label='Fit polynomial')\n",
    "plt.hlines(1.9, xmin = 0.2,xmax =6000,linestyles='dashed', color='black')\n",
    "plt.hlines(0.8, xmin = 0.2,xmax =6000,linestyles='dashed', color='black')\n",
    "plt.vlines(400, ymin=0,ymax=6,linestyles='dashed', color='black')\n",
    "plt.xlabel('$T_{eq}$ [K]',fontsize=18)\n",
    "plt.ylabel('$\\eta_{exp}$',fontsize=18)\n",
    "#plt.title('Evolution of expansion with respect to temperature.')\n",
    "plt.xlim(40,6000)\n",
    "plt.ylim(0,3)\n",
    "plt.xticks(fontsize=14)\n",
    "plt.yticks(fontsize=14)\n",
    "plt.xscale('log')\n",
    "#plt.yscale('log')\n",
    "plt.legend()\n",
    "plt.grid()\n",
    "#plt.savefig('/Users/emauduit/Documents/These/target_selection/Etudes/Planetary radius expansion/exp_vs_Teq.png', transparent=True, bbox_inches='tight', dpi=150)\n",
    "#plt.savefig('/Users/emauduit/Documents/These/phd-manuscript/ch3/fig/plot_exp_vsTeq.png', transparent=True, bbox_inches='tight', dpi=150 )\n",
    "plt.show()"
   ]
  },
  {
   "cell_type": "markdown",
   "metadata": {},
   "source": [
    "## Fit de R_meas(R_pred * exp)"
   ]
  },
  {
   "cell_type": "code",
   "execution_count": 16,
   "metadata": {},
   "outputs": [],
   "source": [
    "radius_estimate_expansion_old = np.copy(radius_estimate_expansion)"
   ]
  },
  {
   "cell_type": "code",
   "execution_count": 17,
   "metadata": {},
   "outputs": [
    {
     "name": "stdout",
     "output_type": "stream",
     "text": [
      "[-0.0608266   1.30433953 -1.37174372 -0.83923298  0.8522239 ]\n"
     ]
    }
   ],
   "source": [
    "mask_fit_2 = (~np.isnan(radius_data)) & (~np.isnan(radius_estimate_expansion_old))\n",
    "coeffs_2 = np.polyfit(np.log10(radius_estimate_expansion_old[mask_fit_2]),np.log10(radius_data[mask_fit_2]), deg = 4)\n",
    "correl_2, _ = pearsonr(radius_data[mask_fit_2], 10**poly_func(coeffs_2,np.log10(radius_estimate_expansion_old[mask_fit_2])))\n",
    "print(coeffs_2[::-1])"
   ]
  },
  {
   "cell_type": "code",
   "execution_count": 18,
   "metadata": {},
   "outputs": [],
   "source": [
    "coeffs_lin = [0.655981 , -0.90527977, -1.19830686, 1.39140901, -0.06070923 ]"
   ]
  },
  {
   "cell_type": "code",
   "execution_count": 30,
   "metadata": {},
   "outputs": [],
   "source": [
    "plt.figure(figsize=(10,7))\n",
    "plt.scatter(radius_estimate_expansion[mask_fit_2],radius_data[mask_fit_2], marker='o', color='tab:blue', label = '$R_{p,pred}$ x $\\eta_{exp}$')\n",
    "#plt.scatter(radius_estimate_expansion[mask_fit_2],radius_estimate_expansion[mask_fit_2]*(10**poly_func(coeffs_2,np.log10(radius_estimate_expansion[mask_fit_2]))), marker='+', color='tab:orange')\n",
    "plt.scatter(radius_estimate_expansion_old[mask_fit_2],10**poly_func(coeffs_lin,np.log10(radius_estimate_expansion_old[mask_fit_2])), marker='x', color='tab:red',label='Fit, order 4')\n",
    "plt.plot([0.08,2.5],[0.08,2.5], linestyle='dashed', color='black', label='Mesures')\n",
    "plt.xlabel('$R_{p,pred}$ x $\\eta_{exp}$ [RJ]',fontsize=18)\n",
    "plt.ylabel('$R_{mes}$ [RJ]',fontsize=18)\n",
    "#plt.title('Evolution of radius measured with respected to predicted radius with expansion')\n",
    "plt.xscale('log')\n",
    "plt.yscale('log')\n",
    "plt.xticks(fontsize=14)\n",
    "plt.yticks(fontsize=14)\n",
    "plt.legend()\n",
    "plt.grid()\n",
    "#plt.savefig('/Users/emauduit/Documents/These/target_selection/Etudes/Planetary radius expansion/Rpred_vs_Rmeas.png', transparent=True, bbox_inches='tight', dpi=150)\n",
    "plt.savefig('/Users/emauduit/Documents/These/phd-manuscript/ch3/fig/plot_Rmes_vs_Rexp.png',  transparent=True, bbox_inches='tight',dpi=150 )\n",
    "plt.show()"
   ]
  },
  {
   "cell_type": "code",
   "execution_count": 34,
   "metadata": {},
   "outputs": [],
   "source": [
    "plt.figure(figsize=(10,7))\n",
    "#plt.scatter(radius_estimate_expansion_old[mask_fit_2],radius_data[mask_fit_2], marker='x', color='tab:blue', label = '$R_{p,pred}$ x $\\eta_{exp}$')\n",
    "plt.scatter(radius_estimate[mask_fit_2],radius_data[mask_fit_2], marker='x', color='tab:blue',alpha=1, label='$R_{pred}$')\n",
    "plt.scatter(10**poly_func(coeffs_2,np.log10(radius_estimate_expansion_old[mask_fit_2])),radius_data[mask_fit_2], marker='x', color='tab:red',label='$R_{pred,corr}$')\n",
    "plt.plot([0.08,2.5],[0.08,2.5], linestyle='dashed', color='black')\n",
    "plt.xlabel('$R_p$ [RJ]',fontsize=18)\n",
    "plt.ylabel('$R_{mes}$ [RJ]',fontsize=18)\n",
    "#plt.title('Evolution of radius measured with respected to predicted radius with expansion')\n",
    "plt.xscale('log')\n",
    "plt.yscale('log')\n",
    "plt.xticks(fontsize=14)\n",
    "plt.yticks(fontsize=14)\n",
    "plt.legend()\n",
    "plt.grid()\n",
    "#plt.savefig('/Users/emauduit/Documents/These/target_selection/Etudes/Planetary radius expansion/Rpred_vs_Rmeas_2.png', transparent=True, bbox_inches='tight', dpi=150)\n",
    "plt.savefig('/Users/emauduit/Documents/These/phd-manuscript/ch3/fig/plot_Rmes_vs_Rexpcorr.png', transparent=True, bbox_inches='tight',dpi=150 )\n",
    "plt.show()"
   ]
  },
  {
   "cell_type": "code",
   "execution_count": null,
   "metadata": {},
   "outputs": [],
   "source": [
    "plt.figure(figsize=(10,7))\n",
    "plt.scatter(radius_estimate_expansion[mask_fit_2],10**poly_func(coeffs_2,np.log10(radius_estimate_expansion[mask_fit_2]))/radius_estimate_expansion[mask_fit_2], marker='o', color='tab:blue', label = 'Data')\n",
    "#plt.plot([0.08,2.5],[0.08,2.5], linestyle='dashed', color='black')\n",
    "plt.xlabel('Rp * E')\n",
    "plt.ylabel('Rp* E corrigé')\n",
    "plt.title('Evolution of radius measured with respected to predicted radius with expansion')\n",
    "plt.xscale('log')\n",
    "plt.yscale('log')\n",
    "plt.legend()\n",
    "plt.grid()\n",
    "#plt.savefig('/Users/emauduit/Documents/These/target_selection/Etudes/Planetary radius expansion/Rpred_vs_Rmeas.png', transparent=True, bbox_inches='tight', dpi=150)\n",
    "plt.show()"
   ]
  },
  {
   "cell_type": "markdown",
   "metadata": {},
   "source": [
    "## Recomputing constants for the M_p-R_p relation from Griessmeier, 2017, A&A"
   ]
  },
  {
   "cell_type": "code",
   "execution_count": null,
   "metadata": {},
   "outputs": [],
   "source": [
    "def mass_radius_relation(Mp,rho0,Mmax) :\n",
    "    RJ = 69911e3\n",
    "    res = np.power((4 / 3) * np.pi * rho0, -1.0 / 3) * np.power(Mp * 1.8986e27, 1.0 / 3) / (1 + np.power(Mp / Mmax, 2.0 / 3))\n",
    "    return res / RJ"
   ]
  },
  {
   "cell_type": "code",
   "execution_count": null,
   "metadata": {},
   "outputs": [],
   "source": [
    "mask_plot = (~np.isnan(radius_data)) #& (mass_data >= 0.01) & (mass_data <= 10.)\n",
    "mass_sorted = np.sort(mass_data[mask_plot])\n",
    "radius_sorted = radius_data[mask_plot][np.argsort(mass_data[mask_plot])]"
   ]
  },
  {
   "cell_type": "code",
   "execution_count": null,
   "metadata": {},
   "outputs": [],
   "source": [
    "from scipy.optimize import curve_fit\n",
    "\n",
    "popt, pcov = curve_fit(mass_radius_relation,mass_sorted,radius_sorted, p0=[394,3.16])"
   ]
  },
  {
   "cell_type": "code",
   "execution_count": null,
   "metadata": {},
   "outputs": [],
   "source": [
    "plt.figure(figsize=(10,7))\n",
    "plt.scatter(mass_sorted,radius_sorted, marker='o', color='tab:blue', label = 'Data')\n",
    "plt.scatter(mass_sorted,mass_radius_relation(mass_sorted,*popt), marker = 'x', color='tab:red', label='New params, p_0 = {:3f}, M_max = {:3f}'.format(*popt))\n",
    "plt.scatter(mass_sorted,mass_radius_relation(mass_sorted,394,3.16), marker = 'x', color='tab:orange', label='Old params, p_0 = {394 kg/m3}, M_max = {3.16 MJ}')\n",
    "plt.xlabel('Planetary mass [MJ]')\n",
    "plt.ylabel('Radius [RJ]]')\n",
    "plt.title('Evolution of radius with expansion with respect to mass.')\n",
    "plt.xscale('log')\n",
    "#plt.yscale('log')\n",
    "plt.legend()\n",
    "plt.grid()\n",
    "plt.savefig('/Users/emauduit/Documents/These/target_selection/Etudes/Planetary radius expansion/new_fit.png', transparent=True, bbox_inches='tight', dpi=150)\n",
    "plt.show()"
   ]
  },
  {
   "cell_type": "code",
   "execution_count": null,
   "metadata": {},
   "outputs": [],
   "source": []
  }
 ],
 "metadata": {
  "interpreter": {
   "hash": "570da124061f1229a43935d4392bd1ada54c3a2c5a88c928d628cf03c12cbe2f"
  },
  "kernelspec": {
   "display_name": "Python 3.8.8 ('python_these')",
   "language": "python",
   "name": "python3"
  },
  "language_info": {
   "codemirror_mode": {
    "name": "ipython",
    "version": 3
   },
   "file_extension": ".py",
   "mimetype": "text/x-python",
   "name": "python",
   "nbconvert_exporter": "python",
   "pygments_lexer": "ipython3",
   "version": "3.8.8"
  },
  "orig_nbformat": 4
 },
 "nbformat": 4,
 "nbformat_minor": 2
}
