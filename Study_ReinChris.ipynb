{
 "cells": [
  {
   "cell_type": "markdown",
   "metadata": {},
   "source": [
    "# Study of Reiners-Christensen model : comparison with Lynch, 2018"
   ]
  },
  {
   "cell_type": "code",
   "execution_count": 1,
   "metadata": {},
   "outputs": [],
   "source": [
    "%matplotlib qt\n",
    "\n",
    "import pandas as pd\n",
    "import numpy as np\n",
    "from star import Star\n",
    "from planet import Planet\n",
    "from dynamo_region import DynamoRegion\n",
    "from magnetic_moment import MagneticMoment,Reiners_Christensen\n",
    "from stellar_wind import StellarWind\n",
    "from target import Target\n",
    "import matplotlib.pyplot as plt"
   ]
  },
  {
   "cell_type": "code",
   "execution_count": null,
   "metadata": {},
   "outputs": [],
   "source": []
  },
  {
   "cell_type": "markdown",
   "metadata": {},
   "source": [
    "## Comparaison avec Lynch, 2018"
   ]
  },
  {
   "cell_type": "code",
   "execution_count": 3,
   "metadata": {},
   "outputs": [],
   "source": [
    "data =pd.read_csv(r'/Users/emauduit/Documents/These/Sélection des cibles/Programmes/exoplanet.eu_catalog_all.csv') \n"
   ]
  },
  {
   "cell_type": "markdown",
   "metadata": {},
   "source": [
    ",skiprows=105,names=['pl_name','star_name','default_flag','detection_type','disc_year', 'pl_refname','orbital_period','orbital_period_error_min', \n",
    "    'orbital_period_error_max', 'pl_orbperlim', 'semi_major_axis','semi_major_axis_error_min','semi_major_axis_error_max', 'pl_orbsmaxlim',\n",
    "    'radius', 'radius_error_min', 'radius_error_max', 'radius_lim', 'mass','mass_error_min','mass_error_max','pl_bmassjlim', 'mass_sini',\n",
    "    'mass_sini_error_min','mass_sini_error_max', 'pl_msinijlim','pl_bmassprov','eccentricity','eccentricity_error_min','eccentricity_error_max',\n",
    "    'pl_orbeccenlim','inclination', 'inclination_error_min', 'inclination_error_max', 'inclination_error_lim', 'ttv_flag', 'pl_imppar', \n",
    "    'pl_impparerr1', 'pl_impparerr2', 'pl_impparlim', 'st_refname', 'star_sp_type', 'star_teff', 'star_teff_error_min', 'star_teff_error_max', \n",
    "    'st_tefflim', 'star_radius', 'star_radius_error_min', 'star_radius_error_max', 'star_radius_error_lim', 'star_mass', 'star_mass_error_min', \n",
    "    'star_mass_error_max', 'star_mass_error_lim', 'star_metallicity', 'star_metallicity_error_min', 'star_metallicity_error_max', \n",
    "    'star_metallicity_error_lim', 'st_metratio', 'st_lum', 'st_lumerr1', 'st_lumerr2', 'st_lumlim', 'st_logg', 'st_loggerr1', 'st_loggerr2', \n",
    "    'st_logglim', 'star_age', 'star_age_error_min', 'star_age_error_max', 'star_age_error_lim', 'st_vsin', 'st_vsinerr1', 'st_vsinerr2',\n",
    "    'st_vsinlim', 'st_rotp', 'st_rotperr1', 'st_rotperr2', 'st_rotplim', 'sy_refname', 'rastr', 'ra', 'decstr', 'dec', 'star_distance', \n",
    "    'star_distance_error_min', 'star_distance_error_max', 'mag_v','sy_vmagerr1', 'sy_vmagerr2', 'mag_k', 'sy_kmagerr1', 'sy_kmagerr2', \n",
    "    'sy_gaiamag', 'sy_gaiamagerr1','sy_gaiamagerr2', 'rowupdate', 'pl_pubdate', 'releasedate'],header=0)"
   ]
  },
  {
   "cell_type": "code",
   "execution_count": null,
   "metadata": {},
   "outputs": [],
   "source": [
    "data.keys()"
   ]
  },
  {
   "cell_type": "code",
   "execution_count": null,
   "metadata": {},
   "outputs": [],
   "source": [
    "data1=data.reset_index()"
   ]
  },
  {
   "cell_type": "code",
   "execution_count": null,
   "metadata": {},
   "outputs": [],
   "source": [
    "list_target=['BD+20 1790 b', 'GJ 876 b','HATS-24 b', 'HD 130322 b','HD 210702 b', 'HD 5891 b', \n",
    "    'HD 73256 b', 'OGLE2-TR-L9 b', 'Pr 0211 b', 'TAP 26 b', 'tau Boo A b', 'V830 Tau b', 'WASP-14 b',\n",
    "    'WASP-140 b', 'WASP-167 b', 'WASP-18 b', 'WASP-43 b', 'WASP-77 A b']"
   ]
  },
  {
   "cell_type": "code",
   "execution_count": null,
   "metadata": {},
   "outputs": [],
   "source": [
    "i = 0\n",
    "\n",
    "for target in data1.itertuples():\n",
    "    if target.Index in list_target :\n",
    "        print(target.star_distance)\n",
    "\n",
    "data_to_save=data1[data1['# name'].isin(list_target)]\n",
    "data_to_save=data_to_save.set_index('# name')\n",
    "data_to_save.to_csv(r'/Users/emauduit/Documents/Thèse/Sélection des cibles/Programmes/exoplanet.eu_catalog2.csv', sep=\",\")\n",
    "data_to_save.keys()"
   ]
  },
  {
   "cell_type": "code",
   "execution_count": null,
   "metadata": {},
   "outputs": [],
   "source": []
  }
 ],
 "metadata": {
  "interpreter": {
   "hash": "570da124061f1229a43935d4392bd1ada54c3a2c5a88c928d628cf03c12cbe2f"
  },
  "kernelspec": {
   "display_name": "Python 3.8.8 ('python_these')",
   "language": "python",
   "name": "python3"
  },
  "language_info": {
   "codemirror_mode": {
    "name": "ipython",
    "version": 3
   },
   "file_extension": ".py",
   "mimetype": "text/x-python",
   "name": "python",
   "nbconvert_exporter": "python",
   "pygments_lexer": "ipython3",
   "version": "3.8.8"
  },
  "orig_nbformat": 4
 },
 "nbformat": 4,
 "nbformat_minor": 2
}
