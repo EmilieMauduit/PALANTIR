{
 "cells": [
  {
   "cell_type": "markdown",
   "metadata": {},
   "source": [
    "Tests concerning the parameters characterising the magnestophere of the systems."
   ]
  },
  {
   "cell_type": "code",
   "execution_count": 1,
   "metadata": {},
   "outputs": [],
   "source": [
    "import os\n",
    "import scipy.io as sio\n",
    "from scipy.io import readsav\n",
    "from scipy.optimize import curve_fit\n",
    "import numpy as np\n",
    "from math import *\n",
    "import pandas as pd\n",
    "import matplotlib.pyplot as plt\n",
    "from matplotlib.ticker import MaxNLocator\n",
    "%matplotlib widget\n",
    "import Star \n",
    "import Planet "
   ]
  },
  {
   "cell_type": "code",
   "execution_count": 2,
   "metadata": {},
   "outputs": [],
   "source": [
    "from calc_tools import *\n",
    "from DynamoRegion import *\n",
    "from magneticmoment import *\n",
    "from StellarWind import *"
   ]
  },
  {
   "cell_type": "code",
   "execution_count": 3,
   "metadata": {},
   "outputs": [
    {
     "name": "stdout",
     "output_type": "stream",
     "text": [
      "Name :  Sun\n",
      "Mass :  1.989e+30  MS\n",
      "Radius :  696342000.0  RS\n",
      "Age :  4600000000.0  yS\n",
      "SW magnetic field  1 BswS\n",
      "Luminosity :  3.826e+26 LS\n",
      "Name :  Jupiter\n",
      "Mass :  1.8986e+27  kg\n",
      "Radius :  71492000.0  m\n",
      "Rotation rate :  0.000177  s-1\n",
      "Orbital period :  0.000177 s-1\n",
      "Luminosity :  1.31e-09 W\n",
      "Distance to host star :  777908927640.0 m\n",
      "Radius of the magnetosphere :  0.5 m\n"
     ]
    }
   ],
   "source": [
    "MS=1.989e30 #kg\n",
    "RS=6.96342e8 #m\n",
    "AS=4.6e9 #yo\n",
    "BSsw= 1 #T\n",
    "LS=3.826e26 #W\n",
    "\n",
    "\n",
    "sol=Star('Sun', MS, RS, AS, BSsw,LS)\n",
    "\n",
    "MJ=1.8986e27 #kg\n",
    "#RJ=69911e3   #m\n",
    "RJ=71492e3\n",
    "wJ=1.77e-4   #s-1\n",
    "LJ_norm=1.31e-9 #Ls\n",
    "dJ=5.2*149597870700\n",
    "\n",
    "jup=Planet('Jupiter', MJ, RJ, wJ,wJ,LJ_norm,dJ)\n",
    "\n",
    "\n",
    "sol.affiche()\n",
    "jup.affiche()"
   ]
  },
  {
   "cell_type": "markdown",
   "metadata": {},
   "source": [
    "- Computing the parameters of the dynamo region and the values of the magnetic moment for different models"
   ]
  },
  {
   "cell_type": "markdown",
   "metadata": {},
   "source": [
    "- - Dynamo region"
   ]
  },
  {
   "cell_type": "code",
   "execution_count": 4,
   "metadata": {},
   "outputs": [
    {
     "name": "stdout",
     "output_type": "stream",
     "text": [
      "                        rc1       rc2     rhoc1     rhoc2\n",
      "Jupiter            0.791454  0.848782  1.000000  1.000000\n",
      "Saturn             0.615022  0.721287  0.676447  0.647143\n",
      "HD 209458b         0.000000  0.438998  0.000000  0.442728\n",
      "OGLE-TR-56b        0.672431  0.762088  0.742792  0.718751\n",
      "T-bootes (light)   0.911164  0.936492  1.957362  2.065509\n",
      "T-bootes (medium)  0.875936  0.910804  1.483899  1.536665\n",
      "T-bootes (heavy)   0.925786  0.947091  2.285726  2.433248\n"
     ]
    }
   ],
   "source": [
    "test_targets=pd.DataFrame({'star_radius' : [1.0,1.0,1.18,1.12,1.48,1.48,1.48], 'star_mass':[1.0,1.0,1.06,1.1,1.42,1.42,1.42],'star_age' : [4.6,4.6,5.5,3.0,1.0,1.0,1.0], 'planet_radius':[1.0,0.84,1.42,1.25,1.2,1.58,1.48], 'planet_mass':[1.0,0.3, 0.69,1.18,4.4,7.0,10.0], 'planet_orbital_frequency':[1.0,0.93,0.12,0.34,0.12,0.12,0.12],'planet_luminosity':[1.31e-9,1.31e-9,1.05e-9,2.06e-9,6.0e-9,6.0e-9,4.09e-7], 'planet_distance':[5.2,9.5,0.045,0.0225,0.0489,0.0489,0.0489]}, index=['Jupiter','Saturn','HD 209458b','OGLE-TR-56b','T-bootes (light)','T-bootes (medium)','T-bootes (heavy)'])\n",
    "#print(test_targets)\n",
    "#print(test_targets.loc['Jupiter'])\n",
    "\n",
    "rc1=[]\n",
    "rc2=[]\n",
    "rhoc1=[]\n",
    "rhoc2=[]\n",
    "\n",
    "rc1_norm=[]\n",
    "rc2_norm=[]\n",
    "\n",
    "radius=[]\n",
    "\n",
    "for x in test_targets.itertuples():\n",
    "    pla=Planet(x.Index,x.planet_mass, x.planet_radius, x.planet_orbital_frequency,1,1, x.planet_distance)\n",
    "    r1=LaneEmden(pla.mass*jup.mass, pla.radius*jup.radius,1000)\n",
    "    r2=LaneEmden(pla.mass*jup.mass, pla.radius*jup.radius,700)\n",
    "    rc1.append(r1)\n",
    "    rc2.append(r2)\n",
    "    rc1_norm.append(r1/(pla.radius*jup.radius))\n",
    "    rc2_norm.append(r2/(pla.radius*jup.radius))\n",
    "\n",
    "    rho1=rhodyn(pla.mass*jup.mass,pla.radius*jup.radius,r1)\n",
    "    rho2=rhodyn(pla.mass*jup.mass,pla.radius*jup.radius,r2)\n",
    "    rhoc1.append(rho1)\n",
    "    rhoc2.append(rho2)\n",
    "    radius.append(pla.radius*jup.radius)\n",
    "\n",
    "rc1_normJ=np.array(rc1)/rc1[0]\n",
    "rc2_normJ=np.array(rc2)/rc2[0]\n",
    "rhoc1_norm=np.array(rhoc1)/rhoc1[0]\n",
    "rhoc2_norm=np.array(rhoc2)/rhoc2[0]\n",
    "\n",
    "test_results_dynamo=pd.DataFrame({'rc1':rc1_norm, 'rc2':rc2_norm, 'rhoc1':rhoc1_norm, 'rhoc2':rhoc2_norm}, index=['Jupiter','Saturn','HD 209458b','OGLE-TR-56b','T-bootes (light)','T-bootes (medium)','T-bootes (heavy)'] )\n",
    "\n",
    "\n",
    "print(test_results_dynamo)"
   ]
  },
  {
   "cell_type": "code",
   "execution_count": 5,
   "metadata": {},
   "outputs": [
    {
     "data": {
      "text/plain": [
       "0.9262045573800736"
      ]
     },
     "execution_count": 5,
     "metadata": {},
     "output_type": "execute_result"
    }
   ],
   "source": [
    "9.8e7/105808160.0"
   ]
  },
  {
   "cell_type": "markdown",
   "metadata": {},
   "source": [
    "- - Magnetic moments without tidal locking"
   ]
  },
  {
   "cell_type": "code",
   "execution_count": 6,
   "metadata": {},
   "outputs": [],
   "source": [
    "table_1MJ=pd.read_csv(r'/Users/emauduit/Documents/Thèse/Sélection des cibles/Programmes/1MJ.csv', delimiter=';')\n",
    "table_5MJ=pd.read_csv(r'/Users/emauduit/Documents/Thèse/Sélection des cibles/Programmes/5MJ.csv', delimiter=';')\n",
    "table_10MJ=pd.read_csv(r'/Users/emauduit/Documents/Thèse/Sélection des cibles/Programmes/10MJ.csv', delimiter=';')\n"
   ]
  },
  {
   "cell_type": "code",
   "execution_count": 7,
   "metadata": {},
   "outputs": [
    {
     "name": "stdout",
     "output_type": "stream",
     "text": [
      "jup\n",
      "dans RC : L= 1.0\n",
      "1.31e-09\n",
      "dans RC : L= 1.0\n",
      "1.31e-09\n",
      "dans RC : L= 0.8015267175572519\n",
      "1.05e-09\n",
      "dans RC : L= 1.5725190839694656\n",
      "2.06e-09\n",
      "dans RC : L= 4.580152671755725\n",
      "6e-09\n",
      "dans RC : L= 4.580152671755725\n",
      "6e-09\n",
      "dans RC : L= 312.21374045801525\n",
      "4.09e-07\n",
      "                    M_sano1   M_sano2       M_RC  M_Busse1  M_Busse2  \\\n",
      "Jupiter            1.000000  1.000000   1.000000  1.000000  1.000000   \n",
      "Saturn             0.171872  0.229907   0.084579  0.138860  0.194244   \n",
      "HD 209458b         0.000000  0.027108   1.243191  0.000000  0.023231   \n",
      "OGLE-TR-56b        0.361721  0.431702   1.973624  0.372769  0.457345   \n",
      "T-bootes (light)   0.520294  0.460582   4.614555  0.611540  0.529971   \n",
      "T-bootes (medium)  1.033584  0.944000   8.631402  1.366777  1.229178   \n",
      "T-bootes (heavy)   1.238529  1.083367  33.940906  1.629593  1.392209   \n",
      "\n",
      "                   M_MizuM1  M_MizuM2  M_MizuS1  M_MizuS2  \n",
      "Jupiter            1.000000  1.000000  1.000000  1.000000  \n",
      "Saturn             0.175019  0.234116  0.220593  0.282173  \n",
      "HD 209458b         0.000000  0.046057  0.000000  0.091311  \n",
      "OGLE-TR-56b        0.473701  0.565346  0.601961  0.698852  \n",
      "T-bootes (light)   0.884003  0.782550  1.277857  1.155505  \n",
      "T-bootes (medium)  1.756105  1.603897  2.256334  2.092851  \n",
      "T-bootes (heavy)   2.104315  1.840689  2.717329  2.433640  \n"
     ]
    }
   ],
   "source": [
    "M_sano1=[]\n",
    "M_sano2=[]\n",
    "M_Busse1=[]\n",
    "M_Busse2=[]\n",
    "M_MizuM1=[]\n",
    "M_MizuM2=[]\n",
    "M_MizuS1=[]\n",
    "M_MizuS2=[]\n",
    "M_RC=[]\n",
    "\n",
    "\n",
    "i=0\n",
    "for x in test_targets.itertuples():\n",
    "    r1=rc1_normJ[i]\n",
    "    r2=rc2_normJ[i]\n",
    "    rho1=rhoc1_norm[i]\n",
    "    rho2=rhoc2_norm[i]\n",
    "    \n",
    "    star=Star('Name', x.star_mass, x.star_radius, x.star_age,1,1)\n",
    "    pla=Planet(x.Index,x.planet_mass, x.planet_radius,x.planet_orbital_frequency,x.planet_orbital_frequency,x.planet_luminosity,x.planet_distance)\n",
    "    \n",
    "    M_sano1.append(sano(r1,pla.rotrate,rho1))\n",
    "    M_sano2.append(sano(r2,pla.rotrate,rho2))\n",
    "    M_Busse1.append(Busse(r1,pla.rotrate,rho1))\n",
    "    M_Busse2.append(Busse(r2,pla.rotrate,rho2))\n",
    "    M_MizuM1.append(Mizu_moderate(r1,pla.rotrate,rho1,1.0))\n",
    "    M_MizuM2.append(Mizu_moderate(r2,pla.rotrate,rho2,1.0))\n",
    "    M_MizuS1.append(Mizu_slow(r1,pla.rotrate,rho1,1.0))\n",
    "    M_MizuS2.append(Mizu_slow(r2,pla.rotrate,rho2,1.0))\n",
    "\n",
    "    M_RC.append(Reiners_Christensen(pla,star, jup,sol,table_1MJ,table_5MJ,table_10MJ))\n",
    "    print(pla.luminosity)\n",
    "    i+=1\n",
    "\n",
    "\n",
    "test_results_moments=pd.DataFrame({'M_sano1': M_sano1, 'M_sano2' : M_sano2, 'M_RC' : M_RC, 'M_Busse1': M_Busse1, 'M_Busse2':M_Busse2, 'M_MizuM1':M_MizuM1, 'M_MizuM2':M_MizuM2, 'M_MizuS1':M_MizuS1,'M_MizuS2':M_MizuS2},index=['Jupiter','Saturn','HD 209458b','OGLE-TR-56b','T-bootes (light)','T-bootes (medium)','T-bootes (heavy)'])\n",
    "\n",
    "    \n",
    "#print(test_results_dynamo)\n",
    "print(test_results_moments) \n"
   ]
  },
  {
   "cell_type": "markdown",
   "metadata": {},
   "source": [
    "- - Magnetic moments with tidal locking"
   ]
  },
  {
   "cell_type": "code",
   "execution_count": 8,
   "metadata": {},
   "outputs": [
    {
     "name": "stdout",
     "output_type": "stream",
     "text": [
      "1.0 1.0\n",
      "jup\n",
      "dans RC : L= 1.0\n",
      "1.0 0.93\n",
      "dans RC : L= 1.0\n",
      "0.12 0.12\n",
      "dans RC : L= 0.8015267175572519\n",
      "0.34 0.34\n",
      "dans RC : L= 1.5725190839694656\n",
      "0.12 0.12\n",
      "dans RC : L= 4.580152671755725\n",
      "0.12 0.12\n",
      "dans RC : L= 4.580152671755725\n",
      "0.12 0.12\n",
      "dans RC : L= 312.21374045801525\n",
      "                    M_sano1   M_sano2       M_RC  M_Busse1  M_Busse2  \\\n",
      "Jupiter            1.000000  1.000000   1.000000  1.000000  1.000000   \n",
      "Saturn             0.184809  0.247212   0.084579  0.149312  0.208865   \n",
      "HD 209458b         0.000000  0.027108   1.243191  0.000000  0.023231   \n",
      "OGLE-TR-56b        0.361721  0.431702   1.973624  0.372769  0.457345   \n",
      "T-bootes (light)   0.520294  0.460582   4.614555  0.611540  0.529971   \n",
      "T-bootes (medium)  1.033584  0.944000   8.631402  1.366777  1.229178   \n",
      "T-bootes (heavy)   1.238529  1.083367  33.940906  1.629593  1.392209   \n",
      "\n",
      "                   M_MizuM1  M_MizuM2  M_MizuS1  M_MizuS2  \n",
      "Jupiter            1.000000  1.000000  1.000000  1.000000  \n",
      "Saturn             0.184809  0.247212  0.228744  0.292600  \n",
      "HD 209458b         0.000000  0.046057  0.000000  0.091311  \n",
      "OGLE-TR-56b        0.473701  0.565346  0.601961  0.698852  \n",
      "T-bootes (light)   0.884003  0.782550  1.277857  1.155505  \n",
      "T-bootes (medium)  1.756105  1.603897  2.256334  2.092851  \n",
      "T-bootes (heavy)   2.104315  1.840689  2.717329  2.433640  \n"
     ]
    }
   ],
   "source": [
    "M_sano1=[]\n",
    "M_sano2=[]\n",
    "M_Busse1=[]\n",
    "M_Busse2=[]\n",
    "M_MizuM1=[]\n",
    "M_MizuM2=[]\n",
    "M_MizuS1=[]\n",
    "M_MizuS2=[]\n",
    "M_RC=[]\n",
    "\n",
    "\n",
    "i=0\n",
    "for x in test_targets.itertuples():\n",
    "    r1=rc1_normJ[i]\n",
    "    r2=rc2_normJ[i]\n",
    "    rho1=rhoc1_norm[i]\n",
    "    rho2=rhoc2_norm[i]\n",
    "    \n",
    "    star=Star('Name', x.star_mass, x.star_radius, x.star_age,1,1)\n",
    "    pla=Planet(x.Index,x.planet_mass, x.planet_radius,x.planet_orbital_frequency, x.planet_orbital_frequency,x.planet_luminosity,x.planet_distance)\n",
    "    pla.tidal_locking(star.age,star.mass)\n",
    "    print(pla.rotrate, pla.orbitperiod)\n",
    "\n",
    "    M_sano1.append(sano(r1,pla.rotrate,rho1))\n",
    "    M_sano2.append(sano(r2,pla.rotrate,rho2))\n",
    "    M_Busse1.append(Busse(r1,pla.rotrate,rho1))\n",
    "    M_Busse2.append(Busse(r2,pla.rotrate,rho2))\n",
    "    M_MizuM1.append(Mizu_moderate(r1,pla.rotrate,rho1,1.0))\n",
    "    M_MizuM2.append(Mizu_moderate(r2,pla.rotrate,rho2,1.0))\n",
    "    M_MizuS1.append(Mizu_slow(r1,pla.rotrate,rho1,1.0))\n",
    "    M_MizuS2.append(Mizu_slow(r2,pla.rotrate,rho2,1.0))\n",
    "\n",
    "    M_RC.append(Reiners_Christensen(pla,star, jup,sol,table_1MJ,table_5MJ,table_10MJ))\n",
    "    i+=1\n",
    "\n",
    "\n",
    "test_results_moments_TL=pd.DataFrame({'M_sano1': M_sano1, 'M_sano2' : M_sano2, 'M_RC' : M_RC, 'M_Busse1': M_Busse1, 'M_Busse2':M_Busse2, 'M_MizuM1':M_MizuM1, 'M_MizuM2':M_MizuM2, 'M_MizuS1':M_MizuS1,'M_MizuS2':M_MizuS2},index=['Jupiter','Saturn','HD 209458b','OGLE-TR-56b','T-bootes (light)','T-bootes (medium)','T-bootes (heavy)'])\n",
    "\n",
    "    \n",
    "#print(test_results_dynamo)\n",
    "print(test_results_moments_TL)   "
   ]
  },
  {
   "cell_type": "markdown",
   "metadata": {},
   "source": [
    "- Solar wind parameters"
   ]
  },
  {
   "cell_type": "code",
   "execution_count": 9,
   "metadata": {},
   "outputs": [
    {
     "name": "stdout",
     "output_type": "stream",
     "text": [
      "                           V_eff      T_corona             n\n",
      "Jupiter            523793.993939  8.124286e+05  1.977061e+05\n",
      "Saturn             555223.685861  8.124286e+05  5.587309e+04\n",
      "HD 209458b         545503.128080  2.000000e+06  7.553582e+10\n",
      "OGLE-TR-56b        565728.298376  2.000000e+06  6.001124e+11\n",
      "T-bootes (light)   549943.863979  2.000000e+06  5.891486e+10\n",
      "T-bootes (medium)  549943.863979  2.000000e+06  5.891486e+10\n",
      "T-bootes (heavy)   549943.863979  2.000000e+06  5.891486e+10\n"
     ]
    }
   ],
   "source": [
    "veff_46=[]\n",
    "Tcor_46=[]\n",
    "n_46=[]\n",
    "\n",
    "dua=1.49597870700e11 #m\n",
    "\n",
    "i=0\n",
    "for x in test_targets.itertuples():\n",
    "    star=Star('Name', x.star_mass*1.989e30, x.star_radius, 4.6e9,1,1)\n",
    "    pla=Planet(x.Index,x.planet_mass, x.planet_radius,x.planet_orbital_frequency, x.planet_orbital_frequency,1,x.planet_distance*dua)\n",
    "\n",
    "    if (pla.stardist <= 0.1*dua):\n",
    "        v,veff1,n1,T1=CME(star,pla)\n",
    "    else:\n",
    "        v,veff1,n1,T1=parker(pla,star)\n",
    "    \n",
    "    veff_46.append(veff1)\n",
    "    Tcor_46.append(T1)\n",
    "    n_46.append(n1)\n",
    "\n",
    "    i+=1\n",
    "\n",
    "\n",
    "test_results_SW_46=pd.DataFrame({'V_eff': veff_46, 'T_corona' : Tcor_46, 'n' : n_46},index=['Jupiter','Saturn','HD 209458b','OGLE-TR-56b','T-bootes (light)','T-bootes (medium)','T-bootes (heavy)'])\n",
    "\n",
    "    \n",
    "#print(test_results_dynamo)\n",
    "print(test_results_SW_46)   "
   ]
  },
  {
   "cell_type": "code",
   "execution_count": 10,
   "metadata": {},
   "outputs": [
    {
     "name": "stdout",
     "output_type": "stream",
     "text": [
      "                           V_eff   T_corona             n\n",
      "Jupiter            918147.119974  2091000.0  1.973051e+06\n",
      "Saturn             964364.390346  2091000.0  5.627904e+05\n",
      "HD 209458b         545503.128080  2000000.0  7.553582e+10\n",
      "OGLE-TR-56b        565728.298376  2000000.0  6.001124e+11\n",
      "T-bootes (light)   549943.863979  2000000.0  5.891486e+10\n",
      "T-bootes (medium)  549943.863979  2000000.0  5.891486e+10\n",
      "T-bootes (heavy)   549943.863979  2000000.0  5.891486e+10\n"
     ]
    }
   ],
   "source": [
    "veff_1=[]\n",
    "Tcor_1=[]\n",
    "n_1=[]\n",
    "\n",
    "dua=1.49597870700e11 #m\n",
    "\n",
    "i=0\n",
    "for x in test_targets.itertuples():\n",
    "    star=Star('Name', x.star_mass*1.989e30, x.star_radius, 1e9,1,1)\n",
    "    pla=Planet(x.Index,x.planet_mass, x.planet_radius,x.planet_orbital_frequency, x.planet_orbital_frequency,1,x.planet_distance*dua)\n",
    "\n",
    "    if (pla.stardist <= 0.1*dua):\n",
    "        v,veff1,n1,T1=CME(star,pla)\n",
    "    else:\n",
    "        v,veff1,n1,T1=parker(pla,star)\n",
    "    \n",
    "    veff_1.append(veff1)\n",
    "    Tcor_1.append(T1)\n",
    "    n_1.append(n1)\n",
    "\n",
    "    i+=1\n",
    "\n",
    "\n",
    "test_results_SW_1=pd.DataFrame({'V_eff': veff_1, 'T_corona' : Tcor_1, 'n' : n_1},index=['Jupiter','Saturn','HD 209458b','OGLE-TR-56b','T-bootes (light)','T-bootes (medium)','T-bootes (heavy)'])\n",
    "\n",
    "    \n",
    "#print(test_results_dynamo)\n",
    "print(test_results_SW_1)  "
   ]
  },
  {
   "cell_type": "code",
   "execution_count": 11,
   "metadata": {},
   "outputs": [
    {
     "name": "stdout",
     "output_type": "stream",
     "text": [
      "                          V_eff      T_corona             n\n",
      "Jupiter            1.046462e+06  2.615882e+06  3.340799e+06\n",
      "Saturn             1.097192e+06  2.615882e+06  9.546269e+05\n",
      "HD 209458b         5.455031e+05  2.000000e+06  7.553582e+10\n",
      "OGLE-TR-56b        5.657283e+05  2.000000e+06  6.001124e+11\n",
      "T-bootes (light)   5.499439e+05  2.000000e+06  5.891486e+10\n",
      "T-bootes (medium)  5.499439e+05  2.000000e+06  5.891486e+10\n",
      "T-bootes (heavy)   5.499439e+05  2.000000e+06  5.891486e+10\n"
     ]
    }
   ],
   "source": [
    "veff_07=[]\n",
    "Tcor_07=[]\n",
    "n_07=[]\n",
    "\n",
    "dua=1.49597870700e11 #m\n",
    "\n",
    "i=0\n",
    "for x in test_targets.itertuples():\n",
    "    star=Star('Name', x.star_mass*1.989e30, x.star_radius, 0.7e9,1,1)\n",
    "    pla=Planet(x.Index,x.planet_mass, x.planet_radius,x.planet_orbital_frequency, x.planet_orbital_frequency,1,x.planet_distance*dua)\n",
    "\n",
    "    if (pla.stardist <= 0.1*dua):\n",
    "        v,veff1,n1,T1=CME(star,pla)\n",
    "    else:\n",
    "        v,veff1,n1,T1=parker(pla,star)\n",
    "    \n",
    "    veff_07.append(veff1)\n",
    "    Tcor_07.append(T1)\n",
    "    n_07.append(n1)\n",
    "\n",
    "    i+=1\n",
    "\n",
    "\n",
    "test_results_SW_07=pd.DataFrame({'V_eff': veff_07, 'T_corona' : Tcor_07, 'n' : n_07},index=['Jupiter','Saturn','HD 209458b','OGLE-TR-56b','T-bootes (light)','T-bootes (medium)','T-bootes (heavy)'])\n",
    "\n",
    "    \n",
    "#print(test_results_dynamo)\n",
    "print(test_results_SW_07)  "
   ]
  },
  {
   "cell_type": "code",
   "execution_count": 12,
   "metadata": {},
   "outputs": [
    {
     "name": "stdout",
     "output_type": "stream",
     "text": [
      "                           V_eff   T_corona             n\n",
      "Jupiter            526162.150520  2000000.0  5.133438e+04\n",
      "Saturn             526088.762265  2000000.0  8.469636e+03\n",
      "HD 209458b         545503.128080  2000000.0  7.553582e+10\n",
      "OGLE-TR-56b        565728.298376  2000000.0  6.001124e+11\n",
      "T-bootes (light)   549943.863979  2000000.0  5.891486e+10\n",
      "T-bootes (medium)  549943.863979  2000000.0  5.891486e+10\n",
      "T-bootes (heavy)   549943.863979  2000000.0  5.891486e+10\n"
     ]
    }
   ],
   "source": [
    "veff_CME=[]\n",
    "Tcor_CME=[]\n",
    "n_CME=[]\n",
    "\n",
    "dua=1.49597870700e11 #m\n",
    "\n",
    "i=0\n",
    "for x in test_targets.itertuples():\n",
    "    star=Star('Name', x.star_mass*1.989e30, x.star_radius, 1e9,1,1)\n",
    "    pla=Planet(x.Index,x.planet_mass, x.planet_radius,x.planet_orbital_frequency, x.planet_orbital_frequency,1,x.planet_distance*dua)\n",
    "\n",
    "    v,veff1,n1,T1=CME(star,pla)\n",
    "    \n",
    "    veff_CME.append(veff1)\n",
    "    Tcor_CME.append(T1)\n",
    "    n_CME.append(n1)\n",
    "\n",
    "    i+=1\n",
    "\n",
    "\n",
    "test_results_SW_CME=pd.DataFrame({'V_eff': veff_CME, 'T_corona' : Tcor_CME, 'n' : n_CME},index=['Jupiter','Saturn','HD 209458b','OGLE-TR-56b','T-bootes (light)','T-bootes (medium)','T-bootes (heavy)'])\n",
    "\n",
    "    \n",
    "#print(test_results_dynamo)\n",
    "print(test_results_SW_CME)  "
   ]
  },
  {
   "cell_type": "markdown",
   "metadata": {},
   "source": [
    "- Computing the radius of the magnetosphere for various stellar ages : 4.6, 1, 0.7 Gyr"
   ]
  },
  {
   "cell_type": "code",
   "execution_count": 13,
   "metadata": {},
   "outputs": [
    {
     "name": "stdout",
     "output_type": "stream",
     "text": [
      "                   Rs4.6_sano1  Rs4.6_sano2  Rs4.6_Busse1  Rs4.6_Busse2  \\\n",
      "Jupiter              40.055528    40.055528     40.055528     40.055528   \n",
      "Saturn               32.912859    36.264472     30.654178     34.283084   \n",
      "HD 209458b            0.000000     0.971958      0.000000      0.923223   \n",
      "OGLE-TR-56b           1.833788     1.945147      1.852270      1.982922   \n",
      "T-bootes (light)      3.201880     3.074382      3.379069      3.221608   \n",
      "T-bootes (medium)     3.056996     2.965993      3.355409      3.238803   \n",
      "T-bootes (heavy)      3.466386     3.315127      3.798406      3.604207   \n",
      "\n",
      "                   Rs4.6_MizuM1  Rs4.6_MizuM2  Rs4.6_MizuS1  Rs4.6_MizuS2  \\\n",
      "Jupiter               40.055528     40.055528     40.055528     40.055528   \n",
      "Saturn                32.912859     36.264472     35.337966     38.360373   \n",
      "HD 209458b             0.000000      1.159798      0.000000      1.456995   \n",
      "OGLE-TR-56b            2.006284      2.128119      2.173105      2.283948   \n",
      "T-bootes (light)       3.820673      3.668535      4.319991      4.177464   \n",
      "T-bootes (medium)      3.647789      3.539200      3.965647      3.867458   \n",
      "T-bootes (heavy)       4.136298      3.955807      4.504248      4.341706   \n",
      "\n",
      "                    Rs4.6_RC  \n",
      "Jupiter            40.055528  \n",
      "Saturn             25.363722  \n",
      "HD 209458b          3.479067  \n",
      "OGLE-TR-56b         3.228340  \n",
      "T-bootes (light)    6.627738  \n",
      "T-bootes (medium)   6.202118  \n",
      "T-bootes (heavy)   10.450797  \n"
     ]
    }
   ],
   "source": [
    "Rs_46_sano1=[]\n",
    "Rs_46_sano2=[]\n",
    "Rs_46_Busse1=[]\n",
    "Rs_46_Busse2=[]\n",
    "Rs_46_MizuM1=[]\n",
    "Rs_46_MizuM2=[]\n",
    "Rs_46_MizuS1=[]\n",
    "Rs_46_MizuS2=[]\n",
    "Rs_46_RC=[]\n",
    "Mj=1.56e27\n",
    "for i in range (len(veff_1)):\n",
    "    Rs_46_sano1.append(magnetosphere_radius(M_sano1[i]*Mj,n_46[i],veff_46[i],Tcor_46[i])/radius[i])\n",
    "    Rs_46_sano2.append(magnetosphere_radius(M_sano2[i]*Mj,n_46[i],veff_46[i],Tcor_46[i])/radius[i])\n",
    "    Rs_46_Busse1.append(magnetosphere_radius(M_Busse1[i]*Mj,n_46[i],veff_46[i],Tcor_46[i])/radius[i])\n",
    "    Rs_46_Busse2.append(magnetosphere_radius(M_Busse2[i]*Mj,n_46[i],veff_46[i],Tcor_46[i])/radius[i])\n",
    "    Rs_46_MizuM1.append(magnetosphere_radius(M_MizuM1[i]*Mj,n_46[i],veff_46[i],Tcor_46[i])/radius[i])\n",
    "    Rs_46_MizuM2.append(magnetosphere_radius(M_MizuM2[i]*Mj,n_46[i],veff_46[i],Tcor_46[i])/radius[i])\n",
    "    Rs_46_MizuS1.append(magnetosphere_radius(M_MizuS1[i]*Mj,n_46[i],veff_46[i],Tcor_46[i])/radius[i])\n",
    "    Rs_46_MizuS2.append(magnetosphere_radius(M_MizuS2[i]*Mj,n_46[i],veff_46[i],Tcor_46[i])/radius[i])\n",
    "    Rs_46_RC.append(magnetosphere_radius(M_RC[i]*Mj,n_46[i],veff_46[i],Tcor_46[i])/radius[i])\n",
    "\n",
    "Rs_46=pd.DataFrame({'Rs4.6_sano1': Rs_46_sano1, 'Rs4.6_sano2': Rs_46_sano2, 'Rs4.6_Busse1': Rs_46_Busse1, 'Rs4.6_Busse2': Rs_46_Busse2,'Rs4.6_MizuM1': Rs_46_MizuM1,'Rs4.6_MizuM2': Rs_46_MizuM2,'Rs4.6_MizuS1': Rs_46_MizuS1,'Rs4.6_MizuS2': Rs_46_MizuS2,'Rs4.6_RC': Rs_46_RC},index=['Jupiter','Saturn','HD 209458b','OGLE-TR-56b','T-bootes (light)','T-bootes (medium)','T-bootes (heavy)'])\n",
    "Rs_46.to_csv('Rs_46.csv', sep='\\t')\n",
    "print(Rs_46)\n",
    "\n"
   ]
  },
  {
   "cell_type": "code",
   "execution_count": 14,
   "metadata": {},
   "outputs": [
    {
     "name": "stdout",
     "output_type": "stream",
     "text": [
      "                   Rs1_sano1  Rs1_sano2  Rs1_Busse1  Rs1_Busse2  Rs1_MizuM1  \\\n",
      "Jupiter            22.669699  22.669699   22.669699   22.669699   22.669699   \n",
      "Saturn             18.650833  20.550101   17.370899   19.427303   18.650833   \n",
      "HD 209458b          0.000000   0.971958    0.000000    0.923223    0.000000   \n",
      "OGLE-TR-56b         1.833788   1.945147    1.852270    1.982922    2.006284   \n",
      "T-bootes (light)    3.201880   3.074382    3.379069    3.221608    3.820673   \n",
      "T-bootes (medium)   3.056996   2.965993    3.355409    3.238803    3.647789   \n",
      "T-bootes (heavy)    3.466386   3.315127    3.798406    3.604207    4.136298   \n",
      "\n",
      "                   Rs1_MizuM2  Rs1_MizuS1  Rs1_MizuS2     Rs1_RC  \n",
      "Jupiter             22.669699   22.669699   22.669699  22.669699  \n",
      "Saturn              20.550101   20.025076   21.737792  14.372939  \n",
      "HD 209458b           1.159798    0.000000    1.456995   3.479067  \n",
      "OGLE-TR-56b          2.128119    2.173105    2.283948   3.228340  \n",
      "T-bootes (light)     3.668535    4.319991    4.177464   6.627738  \n",
      "T-bootes (medium)    3.539200    3.965647    3.867458   6.202118  \n",
      "T-bootes (heavy)     3.955807    4.504248    4.341706  10.450797  \n"
     ]
    }
   ],
   "source": [
    "Rs_1_sano1=[]\n",
    "Rs_1_sano2=[]\n",
    "Rs_1_Busse1=[]\n",
    "Rs_1_Busse2=[]\n",
    "Rs_1_MizuM1=[]\n",
    "Rs_1_MizuM2=[]\n",
    "Rs_1_MizuS1=[]\n",
    "Rs_1_MizuS2=[]\n",
    "Rs_1_RC=[]\n",
    "Mj=1.56e27\n",
    "for i in range (len(veff_1)):\n",
    "    Rs_1_sano1.append(magnetosphere_radius(M_sano1[i]*Mj,n_1[i],veff_1[i],Tcor_1[i])/radius[i])\n",
    "    Rs_1_sano2.append(magnetosphere_radius(M_sano2[i]*Mj,n_1[i],veff_1[i],Tcor_1[i])/radius[i])\n",
    "    Rs_1_Busse1.append(magnetosphere_radius(M_Busse1[i]*Mj,n_1[i],veff_1[i],Tcor_1[i])/radius[i])\n",
    "    Rs_1_Busse2.append(magnetosphere_radius(M_Busse2[i]*Mj,n_1[i],veff_1[i],Tcor_1[i])/radius[i])\n",
    "    Rs_1_MizuM1.append(magnetosphere_radius(M_MizuM1[i]*Mj,n_1[i],veff_1[i],Tcor_1[i])/radius[i])\n",
    "    Rs_1_MizuM2.append(magnetosphere_radius(M_MizuM2[i]*Mj,n_1[i],veff_1[i],Tcor_1[i])/radius[i])\n",
    "    Rs_1_MizuS1.append(magnetosphere_radius(M_MizuS1[i]*Mj,n_1[i],veff_1[i],Tcor_1[i])/radius[i])\n",
    "    Rs_1_MizuS2.append(magnetosphere_radius(M_MizuS2[i]*Mj,n_1[i],veff_1[i],Tcor_1[i])/radius[i])\n",
    "    Rs_1_RC.append(magnetosphere_radius(M_RC[i]*Mj,n_1[i],veff_1[i],Tcor_1[i])/radius[i])\n",
    "\n",
    "Rs_1=pd.DataFrame({'Rs1_sano1': Rs_1_sano1, 'Rs1_sano2': Rs_1_sano2, 'Rs1_Busse1': Rs_1_Busse1, 'Rs1_Busse2': Rs_1_Busse2,'Rs1_MizuM1': Rs_1_MizuM1,'Rs1_MizuM2': Rs_1_MizuM2,'Rs1_MizuS1': Rs_1_MizuS1,'Rs1_MizuS2': Rs_1_MizuS2,'Rs1_RC': Rs_1_RC},index=['Jupiter','Saturn','HD 209458b','OGLE-TR-56b','T-bootes (light)','T-bootes (medium)','T-bootes (heavy)'])\n",
    "Rs_1.to_csv('Rs_1.csv', sep='\\t')\n",
    "print(Rs_1)"
   ]
  },
  {
   "cell_type": "code",
   "execution_count": 15,
   "metadata": {},
   "outputs": [
    {
     "name": "stdout",
     "output_type": "stream",
     "text": [
      "                   Rs0.7_sano1  Rs0.7_sano2  Rs0.7_Busse1  Rs0.7_Busse2  \\\n",
      "Jupiter              19.883649    19.883649     19.883649     19.883649   \n",
      "Saturn               16.362794    18.029066     15.239880     17.044009   \n",
      "HD 209458b            0.000000     0.971958      0.000000      0.923223   \n",
      "OGLE-TR-56b           1.833788     1.945147      1.852270      1.982922   \n",
      "T-bootes (light)      3.201880     3.074382      3.379069      3.221608   \n",
      "T-bootes (medium)     3.056996     2.965993      3.355409      3.238803   \n",
      "T-bootes (heavy)      3.466386     3.315127      3.798406      3.604207   \n",
      "\n",
      "                   Rs0.7_MizuM1  Rs0.7_MizuM2  Rs0.7_MizuS1  Rs0.7_MizuS2  \\\n",
      "Jupiter               19.883649     19.883649     19.883649     19.883649   \n",
      "Saturn                16.362794     18.029066     17.568449     19.071054   \n",
      "HD 209458b             0.000000      1.159798      0.000000      1.456995   \n",
      "OGLE-TR-56b            2.006284      2.128119      2.173105      2.283948   \n",
      "T-bootes (light)       3.820673      3.668535      4.319991      4.177464   \n",
      "T-bootes (medium)      3.647789      3.539200      3.965647      3.867458   \n",
      "T-bootes (heavy)       4.136298      3.955807      4.504248      4.341706   \n",
      "\n",
      "                    Rs0.7_RC  \n",
      "Jupiter            19.883649  \n",
      "Saturn             12.609703  \n",
      "HD 209458b          3.479067  \n",
      "OGLE-TR-56b         3.228340  \n",
      "T-bootes (light)    6.627738  \n",
      "T-bootes (medium)   6.202118  \n",
      "T-bootes (heavy)   10.450797  \n"
     ]
    }
   ],
   "source": [
    "Rs_07_sano1=[]\n",
    "Rs_07_sano2=[]\n",
    "Rs_07_Busse1=[]\n",
    "Rs_07_Busse2=[]\n",
    "Rs_07_MizuM1=[]\n",
    "Rs_07_MizuM2=[]\n",
    "Rs_07_MizuS1=[]\n",
    "Rs_07_MizuS2=[]\n",
    "Rs_07_RC=[]\n",
    "Mj=1.56e27\n",
    "for i in range (len(veff_1)):\n",
    "    Rs_07_sano1.append(magnetosphere_radius(M_sano1[i]*Mj,n_07[i],veff_07[i],Tcor_07[i])/radius[i])\n",
    "    Rs_07_sano2.append(magnetosphere_radius(M_sano2[i]*Mj,n_07[i],veff_07[i],Tcor_07[i])/radius[i])\n",
    "    Rs_07_Busse1.append(magnetosphere_radius(M_Busse1[i]*Mj,n_07[i],veff_07[i],Tcor_07[i])/radius[i])\n",
    "    Rs_07_Busse2.append(magnetosphere_radius(M_Busse2[i]*Mj,n_07[i],veff_07[i],Tcor_07[i])/radius[i])\n",
    "    Rs_07_MizuM1.append(magnetosphere_radius(M_MizuM1[i]*Mj,n_07[i],veff_07[i],Tcor_07[i])/radius[i])\n",
    "    Rs_07_MizuM2.append(magnetosphere_radius(M_MizuM2[i]*Mj,n_07[i],veff_07[i],Tcor_07[i])/radius[i])\n",
    "    Rs_07_MizuS1.append(magnetosphere_radius(M_MizuS1[i]*Mj,n_07[i],veff_07[i],Tcor_07[i])/radius[i])\n",
    "    Rs_07_MizuS2.append(magnetosphere_radius(M_MizuS2[i]*Mj,n_07[i],veff_07[i],Tcor_07[i])/radius[i])\n",
    "    Rs_07_RC.append(magnetosphere_radius(M_RC[i]*Mj,n_07[i],veff_07[i],Tcor_07[i])/radius[i])\n",
    "\n",
    "Rs_07=pd.DataFrame({'Rs0.7_sano1': Rs_07_sano1, 'Rs0.7_sano2': Rs_07_sano2, 'Rs0.7_Busse1': Rs_07_Busse1, 'Rs0.7_Busse2': Rs_07_Busse2,'Rs0.7_MizuM1': Rs_07_MizuM1,'Rs0.7_MizuM2': Rs_07_MizuM2,'Rs0.7_MizuS1': Rs_07_MizuS1,'Rs0.7_MizuS2': Rs_07_MizuS2,'Rs0.7_RC': Rs_07_RC},index=['Jupiter','Saturn','HD 209458b','OGLE-TR-56b','T-bootes (light)','T-bootes (medium)','T-bootes (heavy)'])\n",
    "Rs_07.to_csv('Rs_07.csv', sep='\\t')\n",
    "print(Rs_07)"
   ]
  },
  {
   "cell_type": "code",
   "execution_count": 16,
   "metadata": {},
   "outputs": [
    {
     "name": "stdout",
     "output_type": "stream",
     "text": [
      "                   RsCME_sano1  RsCME_sano2  RsCME_Busse1  RsCME_Busse2  \\\n",
      "Jupiter              49.531228    49.531228     49.531228     49.531228   \n",
      "Saturn               45.354023    49.972556     42.241553     47.242198   \n",
      "HD 209458b            0.000000     0.971958      0.000000      0.923223   \n",
      "OGLE-TR-56b           1.833788     1.945147      1.852270      1.982922   \n",
      "T-bootes (light)      3.201880     3.074382      3.379069      3.221608   \n",
      "T-bootes (medium)     3.056996     2.965993      3.355409      3.238803   \n",
      "T-bootes (heavy)      3.466386     3.315127      3.798406      3.604207   \n",
      "\n",
      "                   RsCME_MizuM1  RsCME_MizuM2  RsCME_MizuS1  RsCME_MizuS2  \\\n",
      "Jupiter               49.531228     49.531228     49.531228     49.531228   \n",
      "Saturn                45.354023     49.972556     48.695828     52.860714   \n",
      "HD 209458b             0.000000      1.159798      0.000000      1.456995   \n",
      "OGLE-TR-56b            2.006284      2.128119      2.173105      2.283948   \n",
      "T-bootes (light)       3.820673      3.668535      4.319991      4.177464   \n",
      "T-bootes (medium)      3.647789      3.539200      3.965647      3.867458   \n",
      "T-bootes (heavy)       4.136298      3.955807      4.504248      4.341706   \n",
      "\n",
      "                    RsCME_RC  \n",
      "Jupiter            49.531228  \n",
      "Saturn             34.951288  \n",
      "HD 209458b          3.479067  \n",
      "OGLE-TR-56b         3.228340  \n",
      "T-bootes (light)    6.627738  \n",
      "T-bootes (medium)   6.202118  \n",
      "T-bootes (heavy)   10.450797  \n"
     ]
    }
   ],
   "source": [
    "Rs_CME_sano1=[]\n",
    "Rs_CME_sano2=[]\n",
    "Rs_CME_Busse1=[]\n",
    "Rs_CME_Busse2=[]\n",
    "Rs_CME_MizuM1=[]\n",
    "Rs_CME_MizuM2=[]\n",
    "Rs_CME_MizuS1=[]\n",
    "Rs_CME_MizuS2=[]\n",
    "Rs_CME_RC=[]\n",
    "Mj=1.56e27\n",
    "for i in range (len(veff_1)):\n",
    "    Rs_CME_sano1.append(magnetosphere_radius(M_sano1[i]*Mj,n_CME[i],veff_CME[i],Tcor_CME[i])/radius[i])\n",
    "    Rs_CME_sano2.append(magnetosphere_radius(M_sano2[i]*Mj,n_CME[i],veff_CME[i],Tcor_CME[i])/radius[i])\n",
    "    Rs_CME_Busse1.append(magnetosphere_radius(M_Busse1[i]*Mj,n_CME[i],veff_CME[i],Tcor_CME[i])/radius[i])\n",
    "    Rs_CME_Busse2.append(magnetosphere_radius(M_Busse2[i]*Mj,n_CME[i],veff_CME[i],Tcor_CME[i])/radius[i])\n",
    "    Rs_CME_MizuM1.append(magnetosphere_radius(M_MizuM1[i]*Mj,n_CME[i],veff_CME[i],Tcor_CME[i])/radius[i])\n",
    "    Rs_CME_MizuM2.append(magnetosphere_radius(M_MizuM2[i]*Mj,n_CME[i],veff_CME[i],Tcor_CME[i])/radius[i])\n",
    "    Rs_CME_MizuS1.append(magnetosphere_radius(M_MizuS1[i]*Mj,n_CME[i],veff_CME[i],Tcor_CME[i])/radius[i])\n",
    "    Rs_CME_MizuS2.append(magnetosphere_radius(M_MizuS2[i]*Mj,n_CME[i],veff_CME[i],Tcor_CME[i])/radius[i])\n",
    "    Rs_CME_RC.append(magnetosphere_radius(M_RC[i]*Mj,n_CME[i],veff_CME[i],Tcor_CME[i])/radius[i])\n",
    "\n",
    "Rs_CME=pd.DataFrame({'RsCME_sano1': Rs_CME_sano1, 'RsCME_sano2': Rs_CME_sano2, 'RsCME_Busse1': Rs_CME_Busse1, 'RsCME_Busse2': Rs_CME_Busse2,'RsCME_MizuM1': Rs_CME_MizuM1,'RsCME_MizuM2': Rs_CME_MizuM2,'RsCME_MizuS1': Rs_CME_MizuS1,'RsCME_MizuS2': Rs_CME_MizuS2,'RsCME_RC': Rs_CME_RC},index=['Jupiter','Saturn','HD 209458b','OGLE-TR-56b','T-bootes (light)','T-bootes (medium)','T-bootes (heavy)'])\n",
    "Rs_CME.to_csv('Rs_CME.csv', sep='\\t')\n",
    "print(Rs_CME)"
   ]
  }
 ],
 "metadata": {
  "interpreter": {
   "hash": "570da124061f1229a43935d4392bd1ada54c3a2c5a88c928d628cf03c12cbe2f"
  },
  "kernelspec": {
   "display_name": "Python 3.8.8 ('python_these')",
   "language": "python",
   "name": "python3"
  },
  "language_info": {
   "codemirror_mode": {
    "name": "ipython",
    "version": 3
   },
   "file_extension": ".py",
   "mimetype": "text/x-python",
   "name": "python",
   "nbconvert_exporter": "python",
   "pygments_lexer": "ipython3",
   "version": "3.8.8"
  },
  "orig_nbformat": 4
 },
 "nbformat": 4,
 "nbformat_minor": 2
}
