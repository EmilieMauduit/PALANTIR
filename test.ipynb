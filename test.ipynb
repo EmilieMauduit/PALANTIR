{
 "cells": [
  {
   "cell_type": "code",
   "execution_count": 1,
   "metadata": {},
   "outputs": [
    {
     "name": "stdout",
     "output_type": "stream",
     "text": [
      "Using matplotlib backend: MacOSX\n"
     ]
    }
   ],
   "source": [
    "import os\n",
    "import scipy.io as sio\n",
    "from scipy.io import readsav\n",
    "from scipy.optimize import curve_fit\n",
    "import numpy as np\n",
    "from math import *\n",
    "import pandas as pd\n",
    "import matplotlib.pyplot as plt\n",
    "from matplotlib.ticker import MaxNLocator\n",
    "%matplotlib \n",
    "import classStar \n",
    "import classPlanet \n",
    "\n"
   ]
  },
  {
   "cell_type": "markdown",
   "metadata": {},
   "source": [
    "Importation des modules de modélisation"
   ]
  },
  {
   "cell_type": "code",
   "execution_count": 2,
   "metadata": {},
   "outputs": [],
   "source": [
    "from calc_tools import *\n",
    "from dynamo import *\n",
    "from magneticmoment import *\n",
    "from solarwindmodel import *"
   ]
  },
  {
   "cell_type": "markdown",
   "metadata": {},
   "source": [
    "Constantes de normalisations : Jupiter et le Soleil"
   ]
  },
  {
   "cell_type": "code",
   "execution_count": 3,
   "metadata": {},
   "outputs": [
    {
     "name": "stdout",
     "output_type": "stream",
     "text": [
      "Name :  Sun\n",
      "Mass :  1.989e+30  kg\n",
      "Radius :  696342000.0  m\n",
      "Age :  4600000000.0  y\n",
      "SW magnetic field :  1 T\n",
      "Luminosity :  3.826e+26 W\n",
      "Name :  Jupiter\n",
      "Mass :  1.8986e+27  kg\n",
      "Radius :  71492000.0  m\n",
      "Rotation rate :  0.000177  s-1\n",
      "Orbital period :  0.000177 s-1\n",
      "Luminosity :  1.31e-09 W\n",
      "Distance to host star :  777908927640.0 m\n"
     ]
    }
   ],
   "source": [
    "MS=1.989e30 #kg\n",
    "RS=6.96342e8 #m\n",
    "AS=4.6e9 #yo\n",
    "BSsw= 1 #T\n",
    "LS=3.826e26 #W\n",
    "\n",
    "\n",
    "sol=Star('Sun', MS, RS, AS, BSsw,LS)\n",
    "\n",
    "MJ=1.8986e27 #kg\n",
    "#RJ=69911e3   #m\n",
    "RJ=71492e3\n",
    "wJ=1.77e-4   #s-1\n",
    "LJ_norm=1.31e-9\n",
    "dJ=5.2*149597870700\n",
    "\n",
    "jup=Planet('Jupiter', MJ, RJ, wJ,wJ,LJ_norm,dJ)\n",
    "\n",
    "\n",
    "sol.affiche()\n",
    "jup.affiche()"
   ]
  },
  {
   "cell_type": "markdown",
   "metadata": {},
   "source": [
    "Fichier de configuration"
   ]
  },
  {
   "cell_type": "code",
   "execution_count": 4,
   "metadata": {},
   "outputs": [],
   "source": [
    "config=pd.read_csv(r\"/Users/emauduit/Documents/Thèse/Sélection des cibles/Programmes/parametres.csv\", delimiter=';')"
   ]
  },
  {
   "cell_type": "markdown",
   "metadata": {},
   "source": [
    "Fichier de données"
   ]
  },
  {
   "cell_type": "code",
   "execution_count": 5,
   "metadata": {},
   "outputs": [],
   "source": [
    "targets=pd.read_csv(r\"/Users/emauduit/Documents/Thèse/Sélection des cibles/Programmes/exoplanet.eu_catalog.csv\", delimiter=',')"
   ]
  },
  {
   "cell_type": "code",
   "execution_count": 6,
   "metadata": {},
   "outputs": [
    {
     "name": "stdout",
     "output_type": "stream",
     "text": [
      "<class 'pandas.core.frame.DataFrame'>\n",
      "RangeIndex: 7 entries, 0 to 6\n",
      "Data columns (total 2 columns):\n",
      " #   Column   Non-Null Count  Dtype \n",
      "---  ------   --------------  ----- \n",
      " 0   Setting  7 non-null      object\n",
      " 1   Value    7 non-null      int64 \n",
      "dtypes: int64(1), object(1)\n",
      "memory usage: 240.0+ bytes\n",
      "<class 'pandas.core.frame.DataFrame'>\n",
      "RangeIndex: 4929 entries, 0 to 4928\n",
      "Data columns (total 98 columns):\n",
      " #   Column                      Non-Null Count  Dtype  \n",
      "---  ------                      --------------  -----  \n",
      " 0   # name                      4929 non-null   object \n",
      " 1   planet_status               4929 non-null   object \n",
      " 2   mass                        1563 non-null   float64\n",
      " 3   mass_error_min              1443 non-null   float64\n",
      " 4   mass_error_max              1430 non-null   float64\n",
      " 5   mass_sini                   1097 non-null   float64\n",
      " 6   mass_sini_error_min         943 non-null    float64\n",
      " 7   mass_sini_error_max         942 non-null    float64\n",
      " 8   radius                      3614 non-null   float64\n",
      " 9   radius_error_min            3468 non-null   float64\n",
      " 10  radius_error_max            3468 non-null   float64\n",
      " 11  orbital_period              4602 non-null   float64\n",
      " 12  orbital_period_error_min    4379 non-null   float64\n",
      " 13  orbital_period_error_max    4379 non-null   float64\n",
      " 14  semi_major_axis             3280 non-null   float64\n",
      " 15  semi_major_axis_error_min   2228 non-null   float64\n",
      " 16  semi_major_axis_error_max   2228 non-null   float64\n",
      " 17  eccentricity                1994 non-null   float64\n",
      " 18  eccentricity_error_min      1576 non-null   float64\n",
      " 19  eccentricity_error_max      1569 non-null   float64\n",
      " 20  inclination                 1309 non-null   float64\n",
      " 21  inclination_error_min       1203 non-null   float64\n",
      " 22  inclination_error_max       1203 non-null   float64\n",
      " 23  angular_distance            665 non-null    float64\n",
      " 24  discovered                  4923 non-null   float64\n",
      " 25  updated                     4929 non-null   object \n",
      " 26  omega                       1255 non-null   float64\n",
      " 27  omega_error_min             1169 non-null   float64\n",
      " 28  omega_error_max             1169 non-null   float64\n",
      " 29  tperi                       768 non-null    float64\n",
      " 30  tperi_error_min             713 non-null    float64\n",
      " 31  tperi_error_max             713 non-null    float64\n",
      " 32  tconj                       2663 non-null   float64\n",
      " 33  tconj_error_min             2595 non-null   float64\n",
      " 34  tconj_error_max             2595 non-null   float64\n",
      " 35  tzero_tr                    1080 non-null   float64\n",
      " 36  tzero_tr_error_min          1021 non-null   float64\n",
      " 37  tzero_tr_error_max          1021 non-null   float64\n",
      " 38  tzero_tr_sec                39 non-null     float64\n",
      " 39  tzero_tr_sec_error_min      37 non-null     float64\n",
      " 40  tzero_tr_sec_error_max      37 non-null     float64\n",
      " 41  lambda_angle                84 non-null     float64\n",
      " 42  lambda_angle_error_min      85 non-null     float64\n",
      " 43  lambda_angle_error_max      85 non-null     float64\n",
      " 44  impact_parameter            1646 non-null   float64\n",
      " 45  impact_parameter_error_min  1632 non-null   float64\n",
      " 46  impact_parameter_error_max  1632 non-null   float64\n",
      " 47  tzero_vr                    40 non-null     float64\n",
      " 48  tzero_vr_error_min          38 non-null     float64\n",
      " 49  tzero_vr_error_max          38 non-null     float64\n",
      " 50  k                           1184 non-null   float64\n",
      " 51  k_error_min                 1169 non-null   float64\n",
      " 52  k_error_max                 1169 non-null   float64\n",
      " 53  temp_calculated             938 non-null    float64\n",
      " 54  temp_calculated_error_min   655 non-null    float64\n",
      " 55  temp_calculated_error_max   655 non-null    float64\n",
      " 56  temp_measured               53 non-null     float64\n",
      " 57  hot_point_lon               3 non-null      float64\n",
      " 58  geometric_albedo            13 non-null     float64\n",
      " 59  geometric_albedo_error_min  11 non-null     float64\n",
      " 60  geometric_albedo_error_max  11 non-null     float64\n",
      " 61  log_g                       35 non-null     float64\n",
      " 62  publication                 4929 non-null   object \n",
      " 63  detection_type              4929 non-null   object \n",
      " 64  mass_detection_type         1513 non-null   object \n",
      " 65  radius_detection_type       944 non-null    object \n",
      " 66  alternate_names             3167 non-null   object \n",
      " 67  molecules                   84 non-null     object \n",
      " 68  star_name                   4859 non-null   object \n",
      " 69  ra                          4929 non-null   float64\n",
      " 70  dec                         4929 non-null   float64\n",
      " 71  mag_v                       2120 non-null   float64\n",
      " 72  mag_i                       156 non-null    float64\n",
      " 73  mag_j                       2889 non-null   float64\n",
      " 74  mag_h                       2877 non-null   float64\n",
      " 75  mag_k                       2191 non-null   float64\n",
      " 76  star_distance               4683 non-null   float64\n",
      " 77  star_distance_error_min     3092 non-null   float64\n",
      " 78  star_distance_error_max     3093 non-null   float64\n",
      " 79  star_metallicity            4102 non-null   float64\n",
      " 80  star_metallicity_error_min  3223 non-null   float64\n",
      " 81  star_metallicity_error_max  3223 non-null   float64\n",
      " 82  star_mass                   4435 non-null   float64\n",
      " 83  star_mass_error_min         3670 non-null   float64\n",
      " 84  star_mass_error_max         3670 non-null   float64\n",
      " 85  star_radius                 4180 non-null   float64\n",
      " 86  star_radius_error_min       4017 non-null   float64\n",
      " 87  star_radius_error_max       4017 non-null   float64\n",
      " 88  star_sp_type                1922 non-null   object \n",
      " 89  star_age                    2753 non-null   float64\n",
      " 90  star_age_error_min          2463 non-null   float64\n",
      " 91  star_age_error_max          2466 non-null   float64\n",
      " 92  star_teff                   4389 non-null   float64\n",
      " 93  star_teff_error_min         4189 non-null   float64\n",
      " 94  star_teff_error_max         4189 non-null   float64\n",
      " 95  star_detected_disc          89 non-null     object \n",
      " 96  star_magnetic_field         4 non-null      object \n",
      " 97  star_alternate_names        3177 non-null   object \n",
      "dtypes: float64(84), object(14)\n",
      "memory usage: 3.7+ MB\n"
     ]
    }
   ],
   "source": [
    "config.info()\n",
    "targets.info()\n"
   ]
  },
  {
   "cell_type": "markdown",
   "metadata": {},
   "source": [
    "Tests with a short list of planets in order to compare with the results in JMG thesis."
   ]
  },
  {
   "cell_type": "code",
   "execution_count": 7,
   "metadata": {},
   "outputs": [
    {
     "name": "stdout",
     "output_type": "stream",
     "text": [
      "                        rc1       rc2     rhoc1     rhoc2\n",
      "Jupiter            0.791454  0.848782  1.000000  1.000000\n",
      "Saturn             0.615022  0.721287  0.676447  0.647143\n",
      "HD 209458b         0.000000  0.438998  0.000000  0.442728\n",
      "OGLE-TR-56b        0.672431  0.762088  0.742792  0.718751\n",
      "T-bootes (light)   0.911164  0.936492  1.957362  2.065509\n",
      "T-bootes (medium)  0.875936  0.910804  1.483899  1.536665\n",
      "T-bootes (heavy)   0.000000  0.947091  0.000000  2.433248\n"
     ]
    }
   ],
   "source": [
    "test_targets=pd.DataFrame({'star_radius' : [1.0,1.0,1.18,1.12,1.48,1.48,1.48], 'star_mass':[1.0,1.0,1.06,1.1,1.42,1.42,1.42],'star_age' : [4.6,4.6,5.5,3.0,1.0,1.0,1.0], 'planet_radius':[1.0,0.84,1.42,1.25,1.2,1.58,1.48], 'planet_mass':[1.0,0.3, 0.69,1.18,4.4,7.0,10.0], 'planet_orbital_frequency':[1.0,0.93,0.12,0.34,0.12,0.12,0.12], 'planet_distance':[5.2,9.5,0.045,0.0225,0.0489,0.0489,0.0489]}, index=['Jupiter','Saturn','HD 209458b','OGLE-TR-56b','T-bootes (light)','T-bootes (medium)','T-bootes (heavy)'])\n",
    "#print(test_targets)\n",
    "#print(test_targets.loc['Jupiter'])\n",
    "\n",
    "rc1=[]\n",
    "rc2=[]\n",
    "rhoc1=[]\n",
    "rhoc2=[]\n",
    "\n",
    "rc1_norm=[]\n",
    "rc2_norm=[]\n",
    "\n",
    "for x in test_targets.itertuples():\n",
    "    pla=Planet(x.Index,x.planet_mass, x.planet_radius, x.planet_orbital_frequency,1,1, x.planet_distance)\n",
    "    r1=LaneEmden(pla.mass*jup.mass, pla.radius*jup.radius,1000)\n",
    "    r2=LaneEmden(pla.mass*jup.mass, pla.radius*jup.radius,700)\n",
    "    rc1.append(r1)\n",
    "    rc2.append(r2)\n",
    "    rc1_norm.append(r1/(pla.radius*jup.radius))\n",
    "    rc2_norm.append(r2/(pla.radius*jup.radius))\n",
    "\n",
    "    rho1=rhodyn(pla.mass*jup.mass,pla.radius*jup.radius,r1)\n",
    "    rho2=rhodyn(pla.mass*jup.mass,pla.radius*jup.radius,r2)\n",
    "    rhoc1.append(rho1)\n",
    "    rhoc2.append(rho2)\n",
    "\n",
    "rc1_normJ=np.array(rc1)/rc1[0]\n",
    "rc2_normJ=np.array(rc2)/rc2[0]\n",
    "rhoc1_norm=np.array(rhoc1)/rhoc1[0]\n",
    "rhoc2_norm=np.array(rhoc2)/rhoc2[0]\n",
    "\n",
    "test_results_dynamo=pd.DataFrame({'rc1':rc1_norm, 'rc2':rc2_norm, 'rhoc1':rhoc1_norm, 'rhoc2':rhoc2_norm}, index=['Jupiter','Saturn','HD 209458b','OGLE-TR-56b','T-bootes (light)','T-bootes (medium)','T-bootes (heavy)'] )\n",
    "\n",
    "\n",
    "print(test_results_dynamo)\n"
   ]
  },
  {
   "cell_type": "markdown",
   "metadata": {},
   "source": [
    "Calculations and plots of rho, rho' and Rc for a given planet."
   ]
  },
  {
   "cell_type": "code",
   "execution_count": 8,
   "metadata": {},
   "outputs": [
    {
     "name": "stdout",
     "output_type": "stream",
     "text": [
      "0.9364921580425362\n",
      "2.0655085458566993\n"
     ]
    },
    {
     "name": "stderr",
     "output_type": "stream",
     "text": [
      "/Users/emauduit/Documents/Thèse/Sélection des cibles/Programmes/dynamo.py:25: RuntimeWarning: invalid value encountered in double_scalars\n",
      "  res=a*np.sin(b)/b\n",
      "/Users/emauduit/Documents/Thèse/Sélection des cibles/Programmes/dynamo.py:30: RuntimeWarning: divide by zero encountered in double_scalars\n",
      "  res=a*((np.cos(np.pi*r/Rp)/r)-(np.sin(np.pi*r/Rp)*Rp/(np.pi*pow(r,2))))\n",
      "/Users/emauduit/Documents/Thèse/Sélection des cibles/Programmes/dynamo.py:30: RuntimeWarning: invalid value encountered in double_scalars\n",
      "  res=a*((np.cos(np.pi*r/Rp)/r)-(np.sin(np.pi*r/Rp)*Rp/(np.pi*pow(r,2))))\n"
     ]
    }
   ],
   "source": [
    "R=np.linspace(0.0,1.2,150)*jup.radius\n",
    "Mp=4.4*jup.mass\n",
    "Rp=1.2*jup.radius\n",
    "rho=[]\n",
    "rhop=[]\n",
    "rhott=700\n",
    "\n",
    "a=-np.pi*Mp/(4*pow(Rp,4))\n",
    "rcJ=LaneEmden(MJ,RJ,rhott)\n",
    "rctt=LaneEmden(Mp,Rp,rhott)\n",
    "rhoctt=rhodyn(Mp,Rp,rctt)\n",
    "\n",
    "rhocJ=rhodyn(MJ,RJ,rcJ)\n",
    "print(rctt/Rp)\n",
    "print(rhoctt/rhocJ)\n",
    "for i in range(len(R)):\n",
    "    rho.append(rhoLE(R[i],Mp,Rp,rhott)+rhott)\n",
    "    rhop.append(rhoLEp(R[i],Mp,Rp,rhott))\n",
    "\n",
    "plt.figure()\n",
    "plt.plot(R/Rp,rho, label='rho (r)')\n",
    "plt.plot(R/Rp,np.full(150,rhott), 'g--', label='rho transition')\n",
    "plt.plot(np.full(150,rctt/Rp),rho, 'r--', label='Rc')\n",
    "plt.scatter(rctt/Rp,rhott,color='red', label='Rc')\n",
    "plt.yscale('log')\n",
    "plt.legend()\n",
    "plt.twinx()\n",
    "plt.plot(R/Rp,rhop, color='orange',label=\"rho'(r)\")\n",
    "#plt.scatter(Rp,a,marker='x',color='green')\n",
    "plt.xlabel('Rayon en m')\n",
    "plt.title(\"Evolution de rho et rho' en fonction de r pour HD 209458b\")\n",
    "plt.legend()\n",
    "plt.grid()\n",
    "plt.show()"
   ]
  },
  {
   "cell_type": "markdown",
   "metadata": {},
   "source": [
    "Test for luminosity computing with tables from Burrows, 1997, data retreived in logarithmic scale converted into linear scale."
   ]
  },
  {
   "cell_type": "code",
   "execution_count": 9,
   "metadata": {},
   "outputs": [
    {
     "name": "stdout",
     "output_type": "stream",
     "text": [
      "<class 'pandas.core.frame.DataFrame'>\n",
      "RangeIndex: 20 entries, 0 to 19\n",
      "Data columns (total 4 columns):\n",
      " #   Column      Non-Null Count  Dtype  \n",
      "---  ------      --------------  -----  \n",
      " 0   Unnamed: 0  20 non-null     int64  \n",
      " 1   t_Gyr       20 non-null     float64\n",
      " 2   L_Ls        20 non-null     float64\n",
      " 3   R_m         20 non-null     float64\n",
      "dtypes: float64(3), int64(1)\n",
      "memory usage: 768.0 bytes\n"
     ]
    }
   ],
   "source": [
    "table_1MJ=pd.read_csv(r'/Users/emauduit/Documents/Thèse/Sélection des cibles/Programmes/1MJ.csv', delimiter=';')\n",
    "table_5MJ=pd.read_csv(r'/Users/emauduit/Documents/Thèse/Sélection des cibles/Programmes/5MJ.csv', delimiter=';')\n",
    "table_10MJ=pd.read_csv(r'/Users/emauduit/Documents/Thèse/Sélection des cibles/Programmes/10MJ.csv', delimiter=';')\n",
    "\n",
    "table_10MJ.info()\n",
    "#t=np.array(10**table_10MJ['log(t) (Gyr)'])\n",
    "#L=np.array(10**table_10MJ['log(L/Ls)'])\n",
    "#R=np.array(table_10MJ['R(10^9 cm)']*1e7)\n",
    "\n",
    "#table_10MJ_lin=pd.DataFrame({'t_Gyr' : t, 'L_Ls' : L, 'R_m' : R})\n",
    "\n",
    "#table_10MJ_lin.to_csv('10MJ.csv', sep=';')\n"
   ]
  },
  {
   "cell_type": "markdown",
   "metadata": {},
   "source": [
    "Curvefit of L/Ls(t) and R(t), to better estimate the value of L. --> not working"
   ]
  },
  {
   "cell_type": "code",
   "execution_count": 10,
   "metadata": {},
   "outputs": [
    {
     "name": "stdout",
     "output_type": "stream",
     "text": [
      "[ 1.56579856e-08 -9.88726548e-01]\n",
      "[[5.37442862e-19 5.18632637e-12]\n",
      " [5.18632637e-12 5.03233776e-05]]\n"
     ]
    }
   ],
   "source": [
    "def fit_luminosity(x,a,b):\n",
    "    return(a*np.power(x,b))\n",
    "\n",
    "popt1, pcov1 = curve_fit(fit_luminosity,table_1MJ['t_Gyr'], table_1MJ['L_Ls'],p0=[95,-1.12])\n",
    "popt5, pcov5 = curve_fit(fit_luminosity,table_5MJ['t_Gyr'], table_5MJ['L_Ls'],p0=[5200,-1.19])\n",
    "popt10, pcov10 = curve_fit(fit_luminosity,table_10MJ['t_Gyr'], table_10MJ['L_Ls'],p0=[34500,-1.2])\n",
    "\n",
    "print(popt1)\n",
    "print(pcov1)"
   ]
  },
  {
   "cell_type": "code",
   "execution_count": 11,
   "metadata": {},
   "outputs": [],
   "source": [
    "plt.figure()\n",
    "plt.plot(table_1MJ['t_Gyr'],table_1MJ['L_Ls'],'+', label='1MJ')\n",
    "plt.plot(table_5MJ['t_Gyr'],table_1MJ['L_Ls'], '+', label='5MJ')\n",
    "plt.plot(table_10MJ['t_Gyr'],table_10MJ['L_Ls'], '+', label='10MJ')\n",
    "plt.plot(table_1MJ['t_Gyr'],fit_luminosity(table_1MJ['t_Gyr'],*popt1),'--')\n",
    "plt.plot(table_5MJ['t_Gyr'],fit_luminosity(table_5MJ['t_Gyr'],*popt5),'--')\n",
    "plt.plot(table_10MJ['t_Gyr'],fit_luminosity(table_10MJ['t_Gyr'],*popt10),'--')\n",
    "plt.xlabel('t [Gyr]')\n",
    "plt.ylabel('L/L_s')\n",
    "plt.xscale('log')\n",
    "plt.yscale('log')\n",
    "plt.title(\"Evolution de la luminosité en fonction de l'âge de la planète\")\n",
    "plt.grid()\n",
    "plt.legend()\n",
    "plt.show()\n",
    "\n",
    "plt.figure()\n",
    "plt.plot(table_1MJ['t_Gyr'],table_1MJ['R_m'],'+', label='1MJ')\n",
    "plt.plot(table_5MJ['t_Gyr'],table_1MJ['R_m'],'+', label='5MJ')\n",
    "plt.plot(table_10MJ['t_Gyr'],table_10MJ['R_m'],'+', label='10MJ')\n",
    "plt.xlabel('t [Gyr]')\n",
    "plt.ylabel('R [m]')\n",
    "#plt.xscale('log')\n",
    "#plt.yscale('log')\n",
    "plt.title(\"Evolution du rayon en fonction de l'âge de la planète\")\n",
    "plt.grid()\n",
    "plt.legend()\n",
    "plt.show()\n"
   ]
  },
  {
   "cell_type": "code",
   "execution_count": 12,
   "metadata": {},
   "outputs": [
    {
     "name": "stdout",
     "output_type": "stream",
     "text": [
      "Name :  Jupiter\n",
      "Mass :  1.8986e+27  kg\n",
      "Radius :  71492000.0  m\n",
      "Rotation rate :  0.000177  s-1\n",
      "Orbital period :  0.000177 s-1\n",
      "Luminosity :  5.395106225151267e-10 W\n",
      "Distance to host star :  777908927640.0 m\n"
     ]
    }
   ],
   "source": [
    "LJ_norm=jup.calculate_luminosity(sol.age,table_1MJ,table_5MJ, table_10MJ)\n",
    "jup.affiche()"
   ]
  },
  {
   "cell_type": "markdown",
   "metadata": {},
   "source": [
    "Test plot of B(t) from Reiners&Christensen's paper"
   ]
  },
  {
   "cell_type": "code",
   "execution_count": 13,
   "metadata": {},
   "outputs": [
    {
     "data": {
      "text/plain": [
       "<matplotlib.legend.Legend at 0x7f8f81986e80>"
      ]
     },
     "execution_count": 13,
     "metadata": {},
     "output_type": "execute_result"
    }
   ],
   "source": [
    "B_1=[]\n",
    "\n",
    "for i in range(20):\n",
    "    L=table_1MJ['L_Ls'][i]\n",
    "    R=table_1MJ['R_m'][i]/sol.radius\n",
    "    Mp=1*jup.mass/sol.mass\n",
    "    a=Mp*pow(L,2)*pow(R,-7)\n",
    "    b=pow(1-(0.17/(1.0)),3)\n",
    "    res=4.8*b*pow(a,1/6)/(2*np.sqrt(2))\n",
    "    B_1.append(2*res*1e3)\n",
    "\n",
    "B_5=[]\n",
    "\n",
    "for i in range(20):\n",
    "    L=table_5MJ['L_Ls'][i]\n",
    "    R=table_5MJ['R_m'][i]/sol.radius\n",
    "    Mp=5*jup.mass/sol.mass\n",
    "    a=Mp*(L**2)*pow(R,-7)\n",
    "    b=pow(1-(0.17/(5.0)),3)\n",
    "    res=4.8*b*pow(a,1/6)/(2*sqrt(2))\n",
    "    B_5.append(2*res*1e3)\n",
    "\n",
    "B_10=[]\n",
    "\n",
    "for i in range(20):\n",
    "    L=table_10MJ['L_Ls'][i]\n",
    "    R=table_10MJ['R_m'][i]/sol.radius\n",
    "    Mp=10*jup.mass/sol.mass\n",
    "    a=Mp*(L**2)*pow(R,-7)\n",
    "    b=pow(1-(0.17/(10.0)),3)\n",
    "    res=4.8*b*pow(a,1/6)/(2*sqrt(2))\n",
    "    B_10.append(2*res*1e3)\n",
    "\n",
    "plt.figure()\n",
    "plt.plot(table_1MJ['t_Gyr']*1e9,B_1,'+', label='1 $M_J$')\n",
    "plt.plot(table_5MJ['t_Gyr']*1e9,B_5,'+', label='5 $M_J$')\n",
    "plt.plot(table_10MJ['t_Gyr']*1e9,B_10,'+', label='10 $M_J$')\n",
    "plt.xlabel('Age [Gyr]')\n",
    "plt.ylabel('B [G]')\n",
    "plt.title(\"Evolution de B en fonction de l'âge\")\n",
    "plt.xscale('log')\n",
    "plt.yscale('log')\n",
    "plt.grid()\n",
    "plt.legend()"
   ]
  },
  {
   "cell_type": "markdown",
   "metadata": {},
   "source": [
    "We add this table of luminosities in the model of Reiners&Christensen for the estimation of the dipolar magnetic moment.\n",
    "The table gives values of L and Rp with respect to the age of the planet. \n",
    "\n",
    "Suggestion/idea : we can estimate the age of the planet by saying it is t*-0,5 en Gyr ? --> we then retreive the value of R and L associated. If we know the radius of the planet, we simply take the value of L associated to the closest value of Rp in the table.\n",
    "\n",
    "Nota : For the two model of Mizutani we suppose that the electric conductivity in the dynamo region is the same as Jupiter, so normalized to Jupiter this value is 1."
   ]
  },
  {
   "cell_type": "code",
   "execution_count": 14,
   "metadata": {},
   "outputs": [
    {
     "name": "stdout",
     "output_type": "stream",
     "text": [
      "                    M_sano1   M_sano2       M_RC  M_Busse1  M_Busse2  \\\n",
      "Jupiter            1.000000  1.000000   1.450998  1.000000  1.000000   \n",
      "Saturn             0.171872  0.229907   0.122724  0.138860  0.194244   \n",
      "HD 209458b         0.000000  0.027108   1.618945  0.000000  0.023231   \n",
      "OGLE-TR-56b        0.361721  0.431702   2.965281  0.372769  0.457345   \n",
      "T-bootes (light)   0.520294  0.460582   6.910400  0.611540  0.529971   \n",
      "T-bootes (medium)  1.033584  0.944000  12.925719  1.366777  1.229178   \n",
      "T-bootes (heavy)   0.000000  1.083367  12.442455  0.000000  1.392209   \n",
      "\n",
      "                   M_MizuM1  M_MizuM2  M_MizuS1  M_MizuS2  \n",
      "Jupiter            1.000000  1.000000  1.000000  1.000000  \n",
      "Saturn             0.175019  0.234116  0.220593  0.282173  \n",
      "HD 209458b         0.000000  0.046057  0.000000  0.091311  \n",
      "OGLE-TR-56b        0.473701  0.565346  0.601961  0.698852  \n",
      "T-bootes (light)   0.884003  0.782550  1.277857  1.155505  \n",
      "T-bootes (medium)  1.756105  1.603897  2.256334  2.092851  \n",
      "T-bootes (heavy)   0.000000  1.840689  0.000000  2.433640  \n"
     ]
    }
   ],
   "source": [
    "M_sano1=[]\n",
    "M_sano2=[]\n",
    "M_Busse1=[]\n",
    "M_Busse2=[]\n",
    "M_MizuM1=[]\n",
    "M_MizuM2=[]\n",
    "M_MizuS1=[]\n",
    "M_MizuS2=[]\n",
    "M_RC=[]\n",
    "\n",
    "\n",
    "i=0\n",
    "for x in test_targets.itertuples():\n",
    "    r1=rc1_normJ[i]\n",
    "    r2=rc2_normJ[i]\n",
    "    rho1=rhoc1_norm[i]\n",
    "    rho2=rhoc2_norm[i]\n",
    "    \n",
    "    star=Star('Name', x.star_mass, x.star_radius, x.star_age,1,1)\n",
    "    pla=Planet(x.Index,x.planet_mass, x.planet_radius,x.planet_orbital_frequency,x.planet_orbital_frequency,1,x.planet_distance)\n",
    "    \n",
    "    M_sano1.append(sano(r1,pla.rotrate,rho1))\n",
    "    M_sano2.append(sano(r2,pla.rotrate,rho2))\n",
    "    M_Busse1.append(Busse(r1,pla.rotrate,rho1))\n",
    "    M_Busse2.append(Busse(r2,pla.rotrate,rho2))\n",
    "    M_MizuM1.append(Mizu_moderate(r1,pla.rotrate,rho1,1.0))\n",
    "    M_MizuM2.append(Mizu_moderate(r2,pla.rotrate,rho2,1.0))\n",
    "    M_MizuS1.append(Mizu_slow(r1,pla.rotrate,rho1,1.0))\n",
    "    M_MizuS2.append(Mizu_slow(r2,pla.rotrate,rho2,1.0))\n",
    "\n",
    "    M_RC.append(Reiners_Christensen(pla,star, jup,sol,table_1MJ,table_5MJ,table_10MJ))\n",
    "    i+=1\n",
    "\n",
    "M_sano1_norm=np.array(M_sano1)/M_sano1[0]\n",
    "M_sano2_norm=np.array(M_sano2)/M_sano2[0]\n",
    "M_RC_norm=np.array(M_RC)/M_RC[0]\n",
    "\n",
    "test_results_moments=pd.DataFrame({'M_sano1': M_sano1, 'M_sano2' : M_sano2, 'M_RC' : M_RC, 'M_Busse1': M_Busse1, 'M_Busse2':M_Busse2, 'M_MizuM1':M_MizuM1, 'M_MizuM2':M_MizuM2, 'M_MizuS1':M_MizuS1,'M_MizuS2':M_MizuS2},index=['Jupiter','Saturn','HD 209458b','OGLE-TR-56b','T-bootes (light)','T-bootes (medium)','T-bootes (heavy)'])\n",
    "\n",
    "    \n",
    "#print(test_results_dynamo)\n",
    "print(test_results_moments) \n"
   ]
  },
  {
   "cell_type": "markdown",
   "metadata": {},
   "source": [
    "Taking tidal locking into account : we compute the orbital period of the planet, if necessary, we read the targets file. If for the current target the rotation rate is not defined, we compute it by taking into accout the tidal locking effect. \n",
    "\n"
   ]
  },
  {
   "cell_type": "code",
   "execution_count": 15,
   "metadata": {},
   "outputs": [
    {
     "name": "stdout",
     "output_type": "stream",
     "text": [
      "1.0 1.0\n",
      "1.0 0.93\n",
      "0.12 0.12\n",
      "0.34 0.34\n",
      "0.12 0.12\n",
      "0.12 0.12\n",
      "0.12 0.12\n",
      "                    M_sano1   M_sano2       M_RC  M_Busse1  M_Busse2  \\\n",
      "Jupiter            1.000000  1.000000   1.450998  1.000000  1.000000   \n",
      "Saturn             0.184809  0.247212   0.122724  0.149312  0.208865   \n",
      "HD 209458b         0.000000  0.027108   1.618945  0.000000  0.023231   \n",
      "OGLE-TR-56b        0.361721  0.431702   2.965281  0.372769  0.457345   \n",
      "T-bootes (light)   0.520294  0.460582   6.910400  0.611540  0.529971   \n",
      "T-bootes (medium)  1.033584  0.944000  12.925719  1.366777  1.229178   \n",
      "T-bootes (heavy)   0.000000  1.083367  12.442455  0.000000  1.392209   \n",
      "\n",
      "                   M_MizuM1  M_MizuM2  M_MizuS1  M_MizuS2  \n",
      "Jupiter            1.000000  1.000000  1.000000  1.000000  \n",
      "Saturn             0.184809  0.247212  0.228744  0.292600  \n",
      "HD 209458b         0.000000  0.046057  0.000000  0.091311  \n",
      "OGLE-TR-56b        0.473701  0.565346  0.601961  0.698852  \n",
      "T-bootes (light)   0.884003  0.782550  1.277857  1.155505  \n",
      "T-bootes (medium)  1.756105  1.603897  2.256334  2.092851  \n",
      "T-bootes (heavy)   0.000000  1.840689  0.000000  2.433640  \n"
     ]
    }
   ],
   "source": [
    "M_sano1=[]\n",
    "M_sano2=[]\n",
    "M_Busse1=[]\n",
    "M_Busse2=[]\n",
    "M_MizuM1=[]\n",
    "M_MizuM2=[]\n",
    "M_MizuS1=[]\n",
    "M_MizuS2=[]\n",
    "M_RC=[]\n",
    "\n",
    "\n",
    "i=0\n",
    "for x in test_targets.itertuples():\n",
    "    r1=rc1_normJ[i]\n",
    "    r2=rc2_normJ[i]\n",
    "    rho1=rhoc1_norm[i]\n",
    "    rho2=rhoc2_norm[i]\n",
    "    \n",
    "    star=Star('Name', x.star_mass, x.star_radius, x.star_age,1,1)\n",
    "    pla=Planet(x.Index,x.planet_mass, x.planet_radius,x.planet_orbital_frequency, x.planet_orbital_frequency,1,x.planet_distance)\n",
    "    pla.tidal_locking(star.age,star.mass)\n",
    "    print(pla.rotrate, pla.orbitperiod)\n",
    "\n",
    "    M_sano1.append(sano(r1,pla.rotrate,rho1))\n",
    "    M_sano2.append(sano(r2,pla.rotrate,rho2))\n",
    "    M_Busse1.append(Busse(r1,pla.rotrate,rho1))\n",
    "    M_Busse2.append(Busse(r2,pla.rotrate,rho2))\n",
    "    M_MizuM1.append(Mizu_moderate(r1,pla.rotrate,rho1,1.0))\n",
    "    M_MizuM2.append(Mizu_moderate(r2,pla.rotrate,rho2,1.0))\n",
    "    M_MizuS1.append(Mizu_slow(r1,pla.rotrate,rho1,1.0))\n",
    "    M_MizuS2.append(Mizu_slow(r2,pla.rotrate,rho2,1.0))\n",
    "\n",
    "    M_RC.append(Reiners_Christensen(pla,star, jup,sol,table_1MJ,table_5MJ,table_10MJ))\n",
    "    i+=1\n",
    "\n",
    "M_sano1_norm=np.array(M_sano1)/M_sano1[0]\n",
    "M_sano2_norm=np.array(M_sano2)/M_sano2[0]\n",
    "M_RC_norm=np.array(M_RC)/M_RC[0]\n",
    "\n",
    "test_results_moments_TL=pd.DataFrame({'M_sano1': M_sano1, 'M_sano2' : M_sano2, 'M_RC' : M_RC, 'M_Busse1': M_Busse1, 'M_Busse2':M_Busse2, 'M_MizuM1':M_MizuM1, 'M_MizuM2':M_MizuM2, 'M_MizuS1':M_MizuS1,'M_MizuS2':M_MizuS2},index=['Jupiter','Saturn','HD 209458b','OGLE-TR-56b','T-bootes (light)','T-bootes (medium)','T-bootes (heavy)'])\n",
    "\n",
    "    \n",
    "#print(test_results_dynamo)\n",
    "print(test_results_moments_TL)    "
   ]
  },
  {
   "cell_type": "markdown",
   "metadata": {},
   "source": [
    "Plot of magnetic moments values computed with (+) and without (x) taking the tidal locking into account. If planets are tidally locked, their rotation rate is taken equal to their orbital period, and if not it is taken equal to Jupiter's rotation rate."
   ]
  },
  {
   "cell_type": "code",
   "execution_count": 16,
   "metadata": {},
   "outputs": [],
   "source": [
    "fig, ax = plt.subplots()\n",
    "xs=range(7)\n",
    "labels = test_results_moments.index\n",
    "def format_fn(tick_val, tick_pos):\n",
    "    if int(tick_val) in xs:\n",
    "        return labels[int(tick_val)]\n",
    "    else:\n",
    "        return ''\n",
    "\n",
    "ax.xaxis.set_major_formatter(format_fn)\n",
    "ax.xaxis.set_major_locator(MaxNLocator(integer=True))\n",
    "ax.plot(xs,test_results_moments['M_sano1'], '+', color='blue', label='Sano_1')\n",
    "ax.plot(xs,test_results_moments['M_sano2'], '+', color='deepskyblue', label='Sano_2')\n",
    "ax.plot(xs,test_results_moments['M_Busse1'], '+', color='green', label='Busse_1')\n",
    "ax.plot(xs,test_results_moments['M_Busse2'], '+', color='limegreen', label='Busse_2')\n",
    "ax.plot(xs,test_results_moments['M_MizuM1'], '+', color='red', label='MizuM_1')\n",
    "ax.plot(xs,test_results_moments['M_MizuM2'], '+', color='maroon', label='MizuM_2')\n",
    "ax.plot(xs,test_results_moments['M_MizuS1'], '+', color='indigo', label='MizuS_1')\n",
    "ax.plot(xs,test_results_moments['M_MizuS2'], '+', color='darkviolet', label='MizuS_2')\n",
    "plt.legend()\n",
    "ax.plot(xs,test_results_moments_TL['M_sano1'], 'x', color='blue', label='Sano_1')\n",
    "ax.plot(xs,test_results_moments_TL['M_sano2'], 'x', color='deepskyblue', label='Sano_2')\n",
    "ax.plot(xs,test_results_moments_TL['M_Busse1'], 'x', color='green', label='Busse_1')\n",
    "ax.plot(xs,test_results_moments_TL['M_Busse2'], 'x', color='limegreen', label='Busse_2')\n",
    "ax.plot(xs,test_results_moments_TL['M_MizuM1'], 'x', color='red', label='MizuM_1')\n",
    "ax.plot(xs,test_results_moments_TL['M_MizuM2'], 'x', color='maroon', label='MizuM_2')\n",
    "ax.plot(xs,test_results_moments_TL['M_MizuS1'], 'x', color='indigo', label='MizuS_1')\n",
    "ax.plot(xs,test_results_moments_TL['M_MizuS2'], 'x', color='darkviolet', label='MizuS_2')\n",
    "plt.xlabel('Object')\n",
    "plt.ylabel('Magnetic moment [Mj]')\n",
    "plt.show()"
   ]
  },
  {
   "cell_type": "markdown",
   "metadata": {},
   "source": [
    "ADDING STELLAR WIND MODEL : In order to estimate the power of the emissions, we need to estimate the velocity and th edensity of stellar wind at the planet, then derive the intensity of the magnetic field carried by the SW."
   ]
  },
  {
   "cell_type": "code",
   "execution_count": 20,
   "metadata": {},
   "outputs": [],
   "source": [
    "vo=3397e3 #m/s \n",
    "no=1.6e10 #m-3\n",
    "dua=1.49597870700e11 #m\n",
    "list_dist=np.linspace(0.01,1,100)\n",
    "v=np.zeros(100) ; n=np.zeros(100)\n",
    "\n",
    "for i in range(0,len(list_dist)):\n",
    "    test_planet=Planet('planet_test',1.0,1.0,1.0,1.0,1.0,list_dist[i]*dua)\n",
    "    star_test=Star('star_test', 1.989e30,1.0,4.6e9,1.0,1.0)\n",
    "    v[i],n[i]=parker(test_planet,star_test,0.81e6,vo,0.04*dua)\n",
    "\n",
    "plt.figure()\n",
    "plt.plot(list_dist,v/1e3)\n",
    "plt.title(\"v(d)\")\n",
    "plt.xlabel('d [ua]')\n",
    "plt.ylabel(\"v [km/s]\")\n",
    "plt.grid()\n",
    "\n",
    "\n",
    "\n"
   ]
  },
  {
   "cell_type": "code",
   "execution_count": 21,
   "metadata": {},
   "outputs": [],
   "source": [
    "plt.figure()\n",
    "plt.plot(list_dist,n)\n",
    "plt.title('n(d)')\n",
    "plt.xlabel('d [ua]')\n",
    "plt.ylabel('n [/m3]')\n",
    "plt.xscale('log')\n",
    "plt.yscale('log')\n",
    "plt.grid()\n"
   ]
  }
 ],
 "metadata": {
  "interpreter": {
   "hash": "4d7f4a5fbf8bd24a6c718c449a1c3b6025da7f338f35b3fa4aeb56c7c1bd5cb2"
  },
  "kernelspec": {
   "display_name": "Python 3.8.8 64-bit ('base': conda)",
   "language": "python",
   "name": "python3"
  },
  "language_info": {
   "codemirror_mode": {
    "name": "ipython",
    "version": 3
   },
   "file_extension": ".py",
   "mimetype": "text/x-python",
   "name": "python",
   "nbconvert_exporter": "python",
   "pygments_lexer": "ipython3",
   "version": "3.8.8"
  },
  "orig_nbformat": 4
 },
 "nbformat": 4,
 "nbformat_minor": 2
}
