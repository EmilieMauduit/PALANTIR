{
 "cells": [
  {
   "cell_type": "markdown",
   "metadata": {},
   "source": [
    "# Various plots for output data"
   ]
  },
  {
   "cell_type": "code",
   "execution_count": 1,
   "metadata": {},
   "outputs": [],
   "source": [
    "import numpy as np\n",
    "import pandas as pd\n",
    "import matplotlib.pyplot as plt\n",
    "\n",
    "%matplotlib qt \n",
    "\n",
    "import astropy.units as u"
   ]
  },
  {
   "cell_type": "markdown",
   "metadata": {},
   "source": [
    "### NenuFAR sensitivity"
   ]
  },
  {
   "cell_type": "code",
   "execution_count": 2,
   "metadata": {},
   "outputs": [],
   "source": [
    "from nenupy.instru.interferometer import ObservingMode\n",
    "from nenupy.instru import NenuFAR\n",
    "import astropy.units as u\n",
    "\n",
    "NenuFAR_sensitivity = []\n",
    "frequencies = np.linspace(10,80,100)\n",
    "nenufar = NenuFAR()\n",
    "\n",
    "\n",
    "NenuFAR_sensitivity = nenufar.sensitivity( \n",
    "    frequency=frequencies*u.MHz,\n",
    "    mode=ObservingMode.BEAMFORMING,\n",
    "    dt=2*3600*u.s,\n",
    "    df=37*u.MHz,\n",
    "    elevation=60*u.deg,\n",
    "    efficiency=1.,\n",
    "    decoherence=1.,\n",
    "    lna_filter=0)\n"
   ]
  },
  {
   "cell_type": "code",
   "execution_count": null,
   "metadata": {},
   "outputs": [],
   "source": [
    "plt.figure()\n",
    "plt.plot(frequencies,NenuFAR_sensitivity)\n",
    "plt.xlabel('Frequencies [MHz]')\n",
    "plt.ylabel('Sensitivity [Jy]')\n",
    "plt.title('NenuFAR sensitivity with frequencies')\n",
    "plt.grid()\n",
    "plt.show()"
   ]
  },
  {
   "cell_type": "markdown",
   "metadata": {},
   "source": [
    "## Loading output data"
   ]
  },
  {
   "cell_type": "code",
   "execution_count": 3,
   "metadata": {},
   "outputs": [],
   "source": [
    "data = pd.read_csv(r'/Users/emauduit/Documents/These/target_selection/Runs/2024-03-13T15h08/main_output.csv',delimiter=';')"
   ]
  },
  {
   "cell_type": "code",
   "execution_count": null,
   "metadata": {},
   "outputs": [],
   "source": [
    "data.keys()"
   ]
  },
  {
   "cell_type": "code",
   "execution_count": 11,
   "metadata": {},
   "outputs": [],
   "source": [
    "Pkin = np.array(data['pow_received_kinetic'][1:],dtype='float')\n",
    "Pmag = np.array(data['pow_received_magnetic'][1:],dtype='float')\n",
    "Pspi = np.array(data['pow_received_spi'][1:],dtype='float')\n",
    "\n",
    "fmax_planet = np.array(data['freq_max_planet'][1:],dtype='float')\n",
    "fmax_star = np.array(data['freq_max_star'][1:],dtype='float')\n",
    "\n",
    "star_age = np.array(data['star_age'][1:], dtype='float')\n",
    "\n",
    "mask_age = star_age != 5.2e9"
   ]
  },
  {
   "cell_type": "markdown",
   "metadata": {},
   "source": [
    "- Pkin"
   ]
  },
  {
   "cell_type": "code",
   "execution_count": null,
   "metadata": {},
   "outputs": [],
   "source": [
    "plt.figure(figsize=(10,7))\n",
    "plt.scatter(fmax_planet[~np.isnan(Pkin)],Pkin[~np.isnan(Pkin)], marker='+', color ='tab:blue', label='P_kin')\n",
    "plt.plot([10,10],[np.min(Pkin[~np.isnan(Pkin)]),np.max(Pkin[~np.isnan(Pkin)])],linestyle='dashed', color='black')\n",
    "plt.xlabel('Maximum frequency emission [MHz]')\n",
    "plt.ylabel('Expected kinetic flux at Earth [mJy]')\n",
    "plt.title('Predicted radio flux with respect to maximum frequency.')\n",
    "plt.xscale('log')\n",
    "plt.yscale('log')\n",
    "plt.grid()\n",
    "plt.legend()\n",
    "plt.savefig('/Users/emauduit/Documents/These/target_selection/Etudes/emission/Pkin_vs_fmax.png', transparent=True, bbox_inches='tight', dpi=150)\n",
    "plt.show()"
   ]
  },
  {
   "cell_type": "markdown",
   "metadata": {},
   "source": [
    "- Pmag"
   ]
  },
  {
   "cell_type": "code",
   "execution_count": null,
   "metadata": {},
   "outputs": [],
   "source": [
    "plt.figure(figsize=(10,7))\n",
    "plt.scatter(fmax_planet[~np.isnan(Pmag)], Pmag[~np.isnan(Pmag)], marker='+', color='tab:red',label='P_mag')\n",
    "plt.plot([10,10],[np.min(Pmag[~np.isnan(Pmag)]),np.max(Pmag[~np.isnan(Pmag)])],linestyle='dashed', color='black')\n",
    "plt.xlabel('Maximum frequency emission [MHz]')\n",
    "plt.ylabel('Expected magnetic flux at Earth [mJy]')\n",
    "plt.title('Predicted radio flux with respect to maximum frequency.')\n",
    "plt.xscale('log')\n",
    "plt.yscale('log')\n",
    "plt.grid()\n",
    "plt.legend()\n",
    "plt.savefig('/Users/emauduit/Documents/These/target_selection/Etudes/emission/Pmag_vs_fmax.png', transparent=True, bbox_inches='tight', dpi=150)\n",
    "plt.show()"
   ]
  },
  {
   "cell_type": "markdown",
   "metadata": {},
   "source": [
    "- Pspi"
   ]
  },
  {
   "cell_type": "code",
   "execution_count": 12,
   "metadata": {},
   "outputs": [],
   "source": [
    "plt.figure(figsize=(10,7))\n",
    "plt.scatter(fmax_star[~np.isnan(Pspi) & mask_age],Pspi[~np.isnan(Pspi) & mask_age ],marker='+', color='tab:green', label='P_spi')\n",
    "plt.plot([10,10],[np.min(Pspi[~np.isnan(Pspi) & mask_age ]),np.max(Pspi[~np.isnan(Pspi) & mask_age])],linestyle='dashed', color='black')\n",
    "plt.xlabel('Maximum frequency emission [MHz]')\n",
    "plt.ylabel('Expected SPI flux at Earth [mJy]')\n",
    "plt.title('Predicted radio flux with respect to maximum frequency.')\n",
    "plt.xscale('log')\n",
    "plt.yscale('log')\n",
    "plt.grid()\n",
    "plt.legend()\n",
    "plt.savefig('/Users/emauduit/Documents/These/target_selection/Etudes/emission/Pspi_vs_fmax.png', transparent=True, bbox_inches='tight', dpi=150)\n",
    "plt.show()"
   ]
  },
  {
   "cell_type": "markdown",
   "metadata": {},
   "source": [
    "- all"
   ]
  },
  {
   "cell_type": "code",
   "execution_count": 20,
   "metadata": {},
   "outputs": [],
   "source": [
    "plt.figure(figsize=(10,7))\n",
    "#plt.scatter(fmax_planet[~np.isnan(Pkin)],Pkin[~np.isnan(Pkin)], marker='+', color ='tab:blue', label='P_kin')\n",
    "plt.scatter(fmax_planet[~np.isnan(Pmag)], Pmag[~np.isnan(Pmag)], marker='x', color='tab:blue',label='P_mag')\n",
    "plt.scatter(fmax_star[~np.isnan(Pspi) & mask_age],Pspi[~np.isnan(Pspi) & mask_age],marker='x', color='tab:orange', label='P_spi')\n",
    "plt.plot(frequencies,NenuFAR_sensitivity*1e3, linestyle='dashed', color='black', label='NenuFAR sensitivity')\n",
    "plt.plot([10,10],[np.min(Pmag[~np.isnan(Pmag)]),np.max(Pmag[~np.isnan(Pmag)])], color='black', label='Ionospheric cut off')\n",
    "plt.xlabel('Maximum frequency emission [MHz]')\n",
    "plt.ylabel('Expected flux at Earth [mJy]')\n",
    "plt.title('Predicted radio flux with respect to maximum frequency.')\n",
    "plt.xscale('log')\n",
    "plt.yscale('log')\n",
    "plt.grid()\n",
    "plt.legend()\n",
    "plt.savefig('/Users/emauduit/Documents/These/target_selection/Etudes/emission/P_vs_fmax.png', transparent=True, bbox_inches='tight', dpi=150)\n",
    "plt.show()"
   ]
  },
  {
   "cell_type": "markdown",
   "metadata": {},
   "source": [
    "Pic à 3.6 MHz en SPI :\n",
    "Vient du forçage de t*=5.2 Gyr si on ne connait pas l'âge de l'étoile"
   ]
  },
  {
   "cell_type": "code",
   "execution_count": null,
   "metadata": {},
   "outputs": [],
   "source": [
    "tau = 2.56e7  # yr\n",
    "K = 0.6709505359255223\n",
    "rotperiod = K * pow(1 + (5.2e9 / tau), 0.7)\n",
    "print(rotperiod)\n",
    "Psun = 25.5  # days\n",
    "Bsun = 1.435e-4  # T\n",
    "magfield = Bsun * Psun / rotperiod\n",
    "\n",
    "me = 9.1093897e-31  # kg\n",
    "e = 1.60217733e-19  # C\n",
    "freq = e * magfield / (2 * np.pi * me)\n",
    "print(freq/1e6)"
   ]
  },
  {
   "cell_type": "code",
   "execution_count": 2,
   "metadata": {},
   "outputs": [],
   "source": [
    "data_input = pd.read_csv(r'/Users/emauduit/Documents/These/target_selection/Runs/2024-03-13T15h08/catalog_input.csv',delimiter=';')"
   ]
  },
  {
   "cell_type": "code",
   "execution_count": 8,
   "metadata": {},
   "outputs": [],
   "source": [
    "star_names = data_input['star_name']"
   ]
  },
  {
   "cell_type": "code",
   "execution_count": 4,
   "metadata": {},
   "outputs": [],
   "source": [
    "star_names = np.concatenate([['Star_names_PALANTIR'],star_names])"
   ]
  },
  {
   "cell_type": "code",
   "execution_count": 5,
   "metadata": {},
   "outputs": [
    {
     "data": {
      "text/plain": [
       "array(['Star_names_PALANTIR', '11 Com', '11 Oph', ..., 'ups And',\n",
       "       'ups Leo', 'zet Del A'], dtype='<U53')"
      ]
     },
     "execution_count": 5,
     "metadata": {},
     "output_type": "execute_result"
    }
   ],
   "source": [
    "star_names"
   ]
  },
  {
   "cell_type": "code",
   "execution_count": 7,
   "metadata": {},
   "outputs": [
    {
     "ename": "TypeError",
     "evalue": "Mismatch between array dtype ('<U53') and format specifier ('%.18e')",
     "output_type": "error",
     "traceback": [
      "\u001b[0;31m---------------------------------------------------------------------------\u001b[0m",
      "\u001b[0;31mTypeError\u001b[0m                                 Traceback (most recent call last)",
      "File \u001b[0;32m~/python_these/lib/python3.8/site-packages/numpy/lib/npyio.py:1435\u001b[0m, in \u001b[0;36msavetxt\u001b[0;34m(fname, X, fmt, delimiter, newline, header, footer, comments, encoding)\u001b[0m\n\u001b[1;32m   1434\u001b[0m \u001b[38;5;28;01mtry\u001b[39;00m:\n\u001b[0;32m-> 1435\u001b[0m     v \u001b[38;5;241m=\u001b[39m \u001b[38;5;28;43mformat\u001b[39;49m\u001b[43m \u001b[49m\u001b[38;5;241;43m%\u001b[39;49m\u001b[43m \u001b[49m\u001b[38;5;28;43mtuple\u001b[39;49m\u001b[43m(\u001b[49m\u001b[43mrow\u001b[49m\u001b[43m)\u001b[49m \u001b[38;5;241m+\u001b[39m newline\n\u001b[1;32m   1436\u001b[0m \u001b[38;5;28;01mexcept\u001b[39;00m \u001b[38;5;167;01mTypeError\u001b[39;00m \u001b[38;5;28;01mas\u001b[39;00m e:\n",
      "\u001b[0;31mTypeError\u001b[0m: must be real number, not numpy.str_",
      "\nThe above exception was the direct cause of the following exception:\n",
      "\u001b[0;31mTypeError\u001b[0m                                 Traceback (most recent call last)",
      "Input \u001b[0;32mIn [7]\u001b[0m, in \u001b[0;36m<module>\u001b[0;34m\u001b[0m\n\u001b[0;32m----> 1\u001b[0m \u001b[43mnp\u001b[49m\u001b[38;5;241;43m.\u001b[39;49m\u001b[43msavetxt\u001b[49m\u001b[43m(\u001b[49m\u001b[38;5;124;43mr\u001b[39;49m\u001b[38;5;124;43m'\u001b[39;49m\u001b[38;5;124;43m/Users/emauduit/Documents/These/target_selection/Etudes/B_star/star_names.txt\u001b[39;49m\u001b[38;5;124;43m'\u001b[39;49m\u001b[43m,\u001b[49m\u001b[43mstar_names\u001b[49m\u001b[43m,\u001b[49m\u001b[43mdelimiter\u001b[49m\u001b[38;5;241;43m=\u001b[39;49m\u001b[38;5;124;43m'\u001b[39;49m\u001b[38;5;124;43m;\u001b[39;49m\u001b[38;5;124;43m'\u001b[39;49m\u001b[43m)\u001b[49m\n",
      "File \u001b[0;32m<__array_function__ internals>:5\u001b[0m, in \u001b[0;36msavetxt\u001b[0;34m(*args, **kwargs)\u001b[0m\n",
      "File \u001b[0;32m~/python_these/lib/python3.8/site-packages/numpy/lib/npyio.py:1437\u001b[0m, in \u001b[0;36msavetxt\u001b[0;34m(fname, X, fmt, delimiter, newline, header, footer, comments, encoding)\u001b[0m\n\u001b[1;32m   1435\u001b[0m             v \u001b[38;5;241m=\u001b[39m \u001b[38;5;28mformat\u001b[39m \u001b[38;5;241m%\u001b[39m \u001b[38;5;28mtuple\u001b[39m(row) \u001b[38;5;241m+\u001b[39m newline\n\u001b[1;32m   1436\u001b[0m         \u001b[38;5;28;01mexcept\u001b[39;00m \u001b[38;5;167;01mTypeError\u001b[39;00m \u001b[38;5;28;01mas\u001b[39;00m e:\n\u001b[0;32m-> 1437\u001b[0m             \u001b[38;5;28;01mraise\u001b[39;00m \u001b[38;5;167;01mTypeError\u001b[39;00m(\u001b[38;5;124m\"\u001b[39m\u001b[38;5;124mMismatch between array dtype (\u001b[39m\u001b[38;5;124m'\u001b[39m\u001b[38;5;132;01m%s\u001b[39;00m\u001b[38;5;124m'\u001b[39m\u001b[38;5;124m) and \u001b[39m\u001b[38;5;124m\"\u001b[39m\n\u001b[1;32m   1438\u001b[0m                             \u001b[38;5;124m\"\u001b[39m\u001b[38;5;124mformat specifier (\u001b[39m\u001b[38;5;124m'\u001b[39m\u001b[38;5;132;01m%s\u001b[39;00m\u001b[38;5;124m'\u001b[39m\u001b[38;5;124m)\u001b[39m\u001b[38;5;124m\"\u001b[39m\n\u001b[1;32m   1439\u001b[0m                             \u001b[38;5;241m%\u001b[39m (\u001b[38;5;28mstr\u001b[39m(X\u001b[38;5;241m.\u001b[39mdtype), \u001b[38;5;28mformat\u001b[39m)) \u001b[38;5;28;01mfrom\u001b[39;00m \u001b[38;5;21;01me\u001b[39;00m\n\u001b[1;32m   1440\u001b[0m         fh\u001b[38;5;241m.\u001b[39mwrite(v)\n\u001b[1;32m   1442\u001b[0m \u001b[38;5;28;01mif\u001b[39;00m \u001b[38;5;28mlen\u001b[39m(footer) \u001b[38;5;241m>\u001b[39m \u001b[38;5;241m0\u001b[39m:\n",
      "\u001b[0;31mTypeError\u001b[0m: Mismatch between array dtype ('<U53') and format specifier ('%.18e')"
     ]
    }
   ],
   "source": [
    "np.savetxt(r'/Users/emauduit/Documents/These/target_selection/Etudes/B_star/star_names.txt',star_names,delimiter=';')"
   ]
  },
  {
   "cell_type": "code",
   "execution_count": null,
   "metadata": {},
   "outputs": [],
   "source": []
  }
 ],
 "metadata": {
  "interpreter": {
   "hash": "570da124061f1229a43935d4392bd1ada54c3a2c5a88c928d628cf03c12cbe2f"
  },
  "kernelspec": {
   "display_name": "Python 3.8.8 ('python_these')",
   "language": "python",
   "name": "python3"
  },
  "language_info": {
   "codemirror_mode": {
    "name": "ipython",
    "version": 3
   },
   "file_extension": ".py",
   "mimetype": "text/x-python",
   "name": "python",
   "nbconvert_exporter": "python",
   "pygments_lexer": "ipython3",
   "version": "3.8.8"
  },
  "orig_nbformat": 4
 },
 "nbformat": 4,
 "nbformat_minor": 2
}
